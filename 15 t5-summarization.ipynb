{
 "cells": [
  {
   "cell_type": "markdown",
   "id": "54f02fa1",
   "metadata": {
    "id": "lhqFW_p_5GVY",
    "papermill": {
     "duration": 0.007582,
     "end_time": "2022-06-05T22:10:17.059079",
     "exception": false,
     "start_time": "2022-06-05T22:10:17.051497",
     "status": "completed"
    },
    "tags": []
   },
   "source": [
    "# Finetuning Summarization on a T model\n",
    "## This notebook outlines the Finetuning of a News Summarization dataset on a T5 model"
   ]
  },
  {
   "cell_type": "markdown",
   "id": "2553647b",
   "metadata": {
    "id": "_Gc1GpEw5rv5",
    "papermill": {
     "duration": 0.006133,
     "end_time": "2022-06-05T22:10:17.071815",
     "exception": false,
     "start_time": "2022-06-05T22:10:17.065682",
     "status": "completed"
    },
    "tags": []
   },
   "source": [
    "### Install the necessary libraries"
   ]
  },
  {
   "cell_type": "code",
   "execution_count": 1,
   "id": "0f2b9c41",
   "metadata": {
    "execution": {
     "iopub.execute_input": "2022-06-05T22:10:17.086980Z",
     "iopub.status.busy": "2022-06-05T22:10:17.085942Z",
     "iopub.status.idle": "2022-06-05T22:10:28.069534Z",
     "shell.execute_reply": "2022-06-05T22:10:28.068285Z"
    },
    "id": "X0SH8UrJ3MIB",
    "outputId": "a58b1fc7-711a-4148-fa9d-1a035f20ade6",
    "papermill": {
     "duration": 10.993871,
     "end_time": "2022-06-05T22:10:28.072116",
     "exception": false,
     "start_time": "2022-06-05T22:10:17.078245",
     "status": "completed"
    },
    "tags": []
   },
   "outputs": [
    {
     "name": "stdout",
     "output_type": "stream",
     "text": [
      "\u001b[33mWARNING: Running pip as the 'root' user can result in broken permissions and conflicting behaviour with the system package manager. It is recommended to use a virtual environment instead: https://pip.pypa.io/warnings/venv\u001b[0m\u001b[33m\n",
      "\u001b[0m"
     ]
    }
   ],
   "source": [
    "!pip install -q sentencepiece transformers torch rich[jupyter]"
   ]
  },
  {
   "cell_type": "markdown",
   "id": "9cc350d2",
   "metadata": {
    "id": "CZZpD11q5xtf",
    "papermill": {
     "duration": 0.006433,
     "end_time": "2022-06-05T22:10:28.085567",
     "exception": false,
     "start_time": "2022-06-05T22:10:28.079134",
     "status": "completed"
    },
    "tags": []
   },
   "source": [
    "### Import the libraries"
   ]
  },
  {
   "cell_type": "code",
   "execution_count": 2,
   "id": "d2c40e7e",
   "metadata": {
    "execution": {
     "iopub.execute_input": "2022-06-05T22:10:28.100476Z",
     "iopub.status.busy": "2022-06-05T22:10:28.100105Z",
     "iopub.status.idle": "2022-06-05T22:10:29.665168Z",
     "shell.execute_reply": "2022-06-05T22:10:29.662966Z"
    },
    "id": "K5tLIjxx3dOV",
    "papermill": {
     "duration": 1.57562,
     "end_time": "2022-06-05T22:10:29.667739",
     "exception": false,
     "start_time": "2022-06-05T22:10:28.092119",
     "status": "completed"
    },
    "tags": []
   },
   "outputs": [],
   "source": [
    "import os\n",
    "import numpy as np\n",
    "import pandas as pd\n",
    "import torch\n",
    "import torch.nn.functional as F\n",
    "from torch.utils.data import Dataset, DataLoader, RandomSampler, SequentialSampler\n",
    "import os"
   ]
  },
  {
   "cell_type": "code",
   "execution_count": 3,
   "id": "44663471",
   "metadata": {
    "execution": {
     "iopub.execute_input": "2022-06-05T22:10:29.683383Z",
     "iopub.status.busy": "2022-06-05T22:10:29.682439Z",
     "iopub.status.idle": "2022-06-05T22:10:34.411445Z",
     "shell.execute_reply": "2022-06-05T22:10:34.410642Z"
    },
    "id": "S9fnSXLM3kn3",
    "papermill": {
     "duration": 4.738544,
     "end_time": "2022-06-05T22:10:34.413446",
     "exception": false,
     "start_time": "2022-06-05T22:10:29.674902",
     "status": "completed"
    },
    "tags": []
   },
   "outputs": [],
   "source": [
    "from transformers import T5Tokenizer, T5ForConditionalGeneration\n",
    "\n",
    "# rich: for a better display on terminal\n",
    "from rich.table import Column, Table\n",
    "from rich import box\n",
    "from rich.console import Console\n"
   ]
  },
  {
   "cell_type": "markdown",
   "id": "ba3241d5",
   "metadata": {
    "id": "MULGR4Um6YBD",
    "papermill": {
     "duration": 0.006374,
     "end_time": "2022-06-05T22:10:34.426624",
     "exception": false,
     "start_time": "2022-06-05T22:10:34.420250",
     "status": "completed"
    },
    "tags": []
   },
   "source": [
    "### Define a rich console logger"
   ]
  },
  {
   "cell_type": "code",
   "execution_count": 4,
   "id": "bd9631d0",
   "metadata": {
    "execution": {
     "iopub.execute_input": "2022-06-05T22:10:34.440783Z",
     "iopub.status.busy": "2022-06-05T22:10:34.440458Z",
     "iopub.status.idle": "2022-06-05T22:10:34.444477Z",
     "shell.execute_reply": "2022-06-05T22:10:34.443648Z"
    },
    "id": "nxcEU2N13oXM",
    "papermill": {
     "duration": 0.013325,
     "end_time": "2022-06-05T22:10:34.446368",
     "exception": false,
     "start_time": "2022-06-05T22:10:34.433043",
     "status": "completed"
    },
    "tags": []
   },
   "outputs": [],
   "source": [
    "console = Console(record=True)"
   ]
  },
  {
   "cell_type": "markdown",
   "id": "dbe8f5b6",
   "metadata": {
    "id": "CU9Zm9UM6b_b",
    "papermill": {
     "duration": 0.006274,
     "end_time": "2022-06-05T22:10:34.459492",
     "exception": false,
     "start_time": "2022-06-05T22:10:34.453218",
     "status": "completed"
    },
    "tags": []
   },
   "source": [
    "### To display dataframe in ASCII format"
   ]
  },
  {
   "cell_type": "code",
   "execution_count": 5,
   "id": "bf23a757",
   "metadata": {
    "execution": {
     "iopub.execute_input": "2022-06-05T22:10:34.473332Z",
     "iopub.status.busy": "2022-06-05T22:10:34.473069Z",
     "iopub.status.idle": "2022-06-05T22:10:34.478945Z",
     "shell.execute_reply": "2022-06-05T22:10:34.478253Z"
    },
    "id": "NgjRMx_g3rr_",
    "papermill": {
     "duration": 0.014597,
     "end_time": "2022-06-05T22:10:34.480502",
     "exception": false,
     "start_time": "2022-06-05T22:10:34.465905",
     "status": "completed"
    },
    "tags": []
   },
   "outputs": [],
   "source": [
    "def display_df(df):\n",
    "    \"\"\"display dataframe in ASCII format\"\"\"\n",
    "\n",
    "    console = Console()\n",
    "    table = Table(\n",
    "        Column(\"source_text\", justify=\"center\"),\n",
    "        Column(\"target_text\", justify=\"center\"),\n",
    "        title=\"Sample Data\",\n",
    "        pad_edge=False,\n",
    "        box=box.ASCII,\n",
    "    )\n",
    "\n",
    "    for i, row in enumerate(df.values.tolist()):\n",
    "        table.add_row(row[0], row[1])\n",
    "\n",
    "    console.print(table)"
   ]
  },
  {
   "cell_type": "markdown",
   "id": "25990c68",
   "metadata": {
    "id": "fFOWkCY_6fcS",
    "papermill": {
     "duration": 0.006298,
     "end_time": "2022-06-05T22:10:34.493183",
     "exception": false,
     "start_time": "2022-06-05T22:10:34.486885",
     "status": "completed"
    },
    "tags": []
   },
   "source": [
    "### Training logger to log training progress"
   ]
  },
  {
   "cell_type": "code",
   "execution_count": 6,
   "id": "b335028a",
   "metadata": {
    "execution": {
     "iopub.execute_input": "2022-06-05T22:10:34.507144Z",
     "iopub.status.busy": "2022-06-05T22:10:34.506897Z",
     "iopub.status.idle": "2022-06-05T22:10:34.511002Z",
     "shell.execute_reply": "2022-06-05T22:10:34.510307Z"
    },
    "id": "aU4giiXw3wC_",
    "papermill": {
     "duration": 0.012958,
     "end_time": "2022-06-05T22:10:34.512759",
     "exception": false,
     "start_time": "2022-06-05T22:10:34.499801",
     "status": "completed"
    },
    "tags": []
   },
   "outputs": [],
   "source": [
    "training_logger = Table(\n",
    "    Column(\"Epoch\", justify=\"center\"),\n",
    "    Column(\"Steps\", justify=\"center\"),\n",
    "    Column(\"Loss\", justify=\"center\"),\n",
    "    title=\"Training Status\",\n",
    "    pad_edge=False,\n",
    "    box=box.ASCII,\n",
    ")"
   ]
  },
  {
   "cell_type": "markdown",
   "id": "c13f54c6",
   "metadata": {
    "id": "DlE3YDK46EwA",
    "papermill": {
     "duration": 0.006286,
     "end_time": "2022-06-05T22:10:34.525395",
     "exception": false,
     "start_time": "2022-06-05T22:10:34.519109",
     "status": "completed"
    },
    "tags": []
   },
   "source": [
    "### Read the data"
   ]
  },
  {
   "cell_type": "code",
   "execution_count": 7,
   "id": "f5dde6b3",
   "metadata": {
    "execution": {
     "iopub.execute_input": "2022-06-05T22:10:34.539272Z",
     "iopub.status.busy": "2022-06-05T22:10:34.539031Z",
     "iopub.status.idle": "2022-06-05T22:10:39.575178Z",
     "shell.execute_reply": "2022-06-05T22:10:39.574435Z"
    },
    "id": "yUWCAshf3AEU",
    "outputId": "8c5ddca2-e1db-49c1-8ffe-37ca32e57d96",
    "papermill": {
     "duration": 5.04544,
     "end_time": "2022-06-05T22:10:39.577211",
     "exception": false,
     "start_time": "2022-06-05T22:10:34.531771",
     "status": "completed"
    },
    "tags": []
   },
   "outputs": [
    {
     "data": {
      "text/html": [
       "<div>\n",
       "<style scoped>\n",
       "    .dataframe tbody tr th:only-of-type {\n",
       "        vertical-align: middle;\n",
       "    }\n",
       "\n",
       "    .dataframe tbody tr th {\n",
       "        vertical-align: top;\n",
       "    }\n",
       "\n",
       "    .dataframe thead th {\n",
       "        text-align: right;\n",
       "    }\n",
       "</style>\n",
       "<table border=\"1\" class=\"dataframe\">\n",
       "  <thead>\n",
       "    <tr style=\"text-align: right;\">\n",
       "      <th></th>\n",
       "      <th>headlines</th>\n",
       "      <th>text</th>\n",
       "    </tr>\n",
       "  </thead>\n",
       "  <tbody>\n",
       "    <tr>\n",
       "      <th>0</th>\n",
       "      <td>upGrad learner switches to career in ML &amp; Al w...</td>\n",
       "      <td>Saurav Kant, an alumnus of upGrad and IIIT-B's...</td>\n",
       "    </tr>\n",
       "    <tr>\n",
       "      <th>1</th>\n",
       "      <td>Delhi techie wins free food from Swiggy for on...</td>\n",
       "      <td>Kunal Shah's credit card bill payment platform...</td>\n",
       "    </tr>\n",
       "    <tr>\n",
       "      <th>2</th>\n",
       "      <td>New Zealand end Rohit Sharma-led India's 12-ma...</td>\n",
       "      <td>New Zealand defeated India by 8 wickets in the...</td>\n",
       "    </tr>\n",
       "    <tr>\n",
       "      <th>3</th>\n",
       "      <td>Aegon life iTerm insurance plan helps customer...</td>\n",
       "      <td>With Aegon Life iTerm Insurance plan, customer...</td>\n",
       "    </tr>\n",
       "    <tr>\n",
       "      <th>4</th>\n",
       "      <td>Have known Hirani for yrs, what if MeToo claim...</td>\n",
       "      <td>Speaking about the sexual harassment allegatio...</td>\n",
       "    </tr>\n",
       "  </tbody>\n",
       "</table>\n",
       "</div>"
      ],
      "text/plain": [
       "                                           headlines  \\\n",
       "0  upGrad learner switches to career in ML & Al w...   \n",
       "1  Delhi techie wins free food from Swiggy for on...   \n",
       "2  New Zealand end Rohit Sharma-led India's 12-ma...   \n",
       "3  Aegon life iTerm insurance plan helps customer...   \n",
       "4  Have known Hirani for yrs, what if MeToo claim...   \n",
       "\n",
       "                                                text  \n",
       "0  Saurav Kant, an alumnus of upGrad and IIIT-B's...  \n",
       "1  Kunal Shah's credit card bill payment platform...  \n",
       "2  New Zealand defeated India by 8 wickets in the...  \n",
       "3  With Aegon Life iTerm Insurance plan, customer...  \n",
       "4  Speaking about the sexual harassment allegatio...  "
      ]
     },
     "execution_count": 7,
     "metadata": {},
     "output_type": "execute_result"
    }
   ],
   "source": [
    "path = \"https://raw.githubusercontent.com/Shivanandroy/T5-Finetuning-PyTorch/main/data/news_summary.csv\"\n",
    "df = pd.read_csv(path)\n",
    "\n",
    "df.head()"
   ]
  },
  {
   "cell_type": "code",
   "execution_count": 8,
   "id": "b9dd3e0b",
   "metadata": {
    "execution": {
     "iopub.execute_input": "2022-06-05T22:10:39.597112Z",
     "iopub.status.busy": "2022-06-05T22:10:39.596712Z",
     "iopub.status.idle": "2022-06-05T22:10:39.611184Z",
     "shell.execute_reply": "2022-06-05T22:10:39.610476Z"
    },
    "id": "eS9AXq8k3Zbp",
    "outputId": "21edb2dc-348a-4f81-b34e-f4424d08fed8",
    "papermill": {
     "duration": 0.027803,
     "end_time": "2022-06-05T22:10:39.612852",
     "exception": false,
     "start_time": "2022-06-05T22:10:39.585049",
     "status": "completed"
    },
    "tags": []
   },
   "outputs": [
    {
     "data": {
      "text/html": [
       "<div>\n",
       "<style scoped>\n",
       "    .dataframe tbody tr th:only-of-type {\n",
       "        vertical-align: middle;\n",
       "    }\n",
       "\n",
       "    .dataframe tbody tr th {\n",
       "        vertical-align: top;\n",
       "    }\n",
       "\n",
       "    .dataframe thead th {\n",
       "        text-align: right;\n",
       "    }\n",
       "</style>\n",
       "<table border=\"1\" class=\"dataframe\">\n",
       "  <thead>\n",
       "    <tr style=\"text-align: right;\">\n",
       "      <th></th>\n",
       "      <th>headlines</th>\n",
       "      <th>text</th>\n",
       "    </tr>\n",
       "  </thead>\n",
       "  <tbody>\n",
       "    <tr>\n",
       "      <th>0</th>\n",
       "      <td>upGrad learner switches to career in ML &amp; Al w...</td>\n",
       "      <td>Saurav Kant, an alumnus of upGrad and IIIT-B's...</td>\n",
       "    </tr>\n",
       "    <tr>\n",
       "      <th>1</th>\n",
       "      <td>Delhi techie wins free food from Swiggy for on...</td>\n",
       "      <td>Kunal Shah's credit card bill payment platform...</td>\n",
       "    </tr>\n",
       "    <tr>\n",
       "      <th>2</th>\n",
       "      <td>New Zealand end Rohit Sharma-led India's 12-ma...</td>\n",
       "      <td>New Zealand defeated India by 8 wickets in the...</td>\n",
       "    </tr>\n",
       "    <tr>\n",
       "      <th>3</th>\n",
       "      <td>Aegon life iTerm insurance plan helps customer...</td>\n",
       "      <td>With Aegon Life iTerm Insurance plan, customer...</td>\n",
       "    </tr>\n",
       "    <tr>\n",
       "      <th>4</th>\n",
       "      <td>Have known Hirani for yrs, what if MeToo claim...</td>\n",
       "      <td>Speaking about the sexual harassment allegatio...</td>\n",
       "    </tr>\n",
       "    <tr>\n",
       "      <th>...</th>\n",
       "      <td>...</td>\n",
       "      <td>...</td>\n",
       "    </tr>\n",
       "    <tr>\n",
       "      <th>98396</th>\n",
       "      <td>CRPF jawan axed to death by Maoists in Chhatti...</td>\n",
       "      <td>A CRPF jawan was on Tuesday axed to death with...</td>\n",
       "    </tr>\n",
       "    <tr>\n",
       "      <th>98397</th>\n",
       "      <td>First song from Sonakshi Sinha's 'Noor' titled...</td>\n",
       "      <td>'Uff Yeh', the first song from the Sonakshi Si...</td>\n",
       "    </tr>\n",
       "    <tr>\n",
       "      <th>98398</th>\n",
       "      <td>'The Matrix' film to get a reboot: Reports</td>\n",
       "      <td>According to reports, a new version of the 199...</td>\n",
       "    </tr>\n",
       "    <tr>\n",
       "      <th>98399</th>\n",
       "      <td>Snoop Dogg aims gun at clown dressed as Trump ...</td>\n",
       "      <td>A new music video shows rapper Snoop Dogg aimi...</td>\n",
       "    </tr>\n",
       "    <tr>\n",
       "      <th>98400</th>\n",
       "      <td>Madhesi Morcha withdraws support to Nepalese g...</td>\n",
       "      <td>Madhesi Morcha, an alliance of seven political...</td>\n",
       "    </tr>\n",
       "  </tbody>\n",
       "</table>\n",
       "<p>98401 rows × 2 columns</p>\n",
       "</div>"
      ],
      "text/plain": [
       "                                               headlines  \\\n",
       "0      upGrad learner switches to career in ML & Al w...   \n",
       "1      Delhi techie wins free food from Swiggy for on...   \n",
       "2      New Zealand end Rohit Sharma-led India's 12-ma...   \n",
       "3      Aegon life iTerm insurance plan helps customer...   \n",
       "4      Have known Hirani for yrs, what if MeToo claim...   \n",
       "...                                                  ...   \n",
       "98396  CRPF jawan axed to death by Maoists in Chhatti...   \n",
       "98397  First song from Sonakshi Sinha's 'Noor' titled...   \n",
       "98398         'The Matrix' film to get a reboot: Reports   \n",
       "98399  Snoop Dogg aims gun at clown dressed as Trump ...   \n",
       "98400  Madhesi Morcha withdraws support to Nepalese g...   \n",
       "\n",
       "                                                    text  \n",
       "0      Saurav Kant, an alumnus of upGrad and IIIT-B's...  \n",
       "1      Kunal Shah's credit card bill payment platform...  \n",
       "2      New Zealand defeated India by 8 wickets in the...  \n",
       "3      With Aegon Life iTerm Insurance plan, customer...  \n",
       "4      Speaking about the sexual harassment allegatio...  \n",
       "...                                                  ...  \n",
       "98396  A CRPF jawan was on Tuesday axed to death with...  \n",
       "98397  'Uff Yeh', the first song from the Sonakshi Si...  \n",
       "98398  According to reports, a new version of the 199...  \n",
       "98399  A new music video shows rapper Snoop Dogg aimi...  \n",
       "98400  Madhesi Morcha, an alliance of seven political...  \n",
       "\n",
       "[98401 rows x 2 columns]"
      ]
     },
     "execution_count": 8,
     "metadata": {},
     "output_type": "execute_result"
    }
   ],
   "source": [
    "df"
   ]
  },
  {
   "cell_type": "code",
   "execution_count": 9,
   "id": "d4faca9c",
   "metadata": {
    "execution": {
     "iopub.execute_input": "2022-06-05T22:10:39.628167Z",
     "iopub.status.busy": "2022-06-05T22:10:39.627513Z",
     "iopub.status.idle": "2022-06-05T22:10:39.638078Z",
     "shell.execute_reply": "2022-06-05T22:10:39.637328Z"
    },
    "id": "VI4sfaGaAhJ0",
    "outputId": "0946a206-ce35-448f-eccd-a14c61f81f8d",
    "papermill": {
     "duration": 0.019708,
     "end_time": "2022-06-05T22:10:39.639700",
     "exception": false,
     "start_time": "2022-06-05T22:10:39.619992",
     "status": "completed"
    },
    "tags": []
   },
   "outputs": [
    {
     "data": {
      "text/html": [
       "<div>\n",
       "<style scoped>\n",
       "    .dataframe tbody tr th:only-of-type {\n",
       "        vertical-align: middle;\n",
       "    }\n",
       "\n",
       "    .dataframe tbody tr th {\n",
       "        vertical-align: top;\n",
       "    }\n",
       "\n",
       "    .dataframe thead th {\n",
       "        text-align: right;\n",
       "    }\n",
       "</style>\n",
       "<table border=\"1\" class=\"dataframe\">\n",
       "  <thead>\n",
       "    <tr style=\"text-align: right;\">\n",
       "      <th></th>\n",
       "      <th>headlines</th>\n",
       "      <th>text</th>\n",
       "    </tr>\n",
       "  </thead>\n",
       "  <tbody>\n",
       "    <tr>\n",
       "      <th>0</th>\n",
       "      <td>upGrad learner switches to career in ML &amp; Al w...</td>\n",
       "      <td>Saurav Kant, an alumnus of upGrad and IIIT-B's...</td>\n",
       "    </tr>\n",
       "    <tr>\n",
       "      <th>1</th>\n",
       "      <td>Delhi techie wins free food from Swiggy for on...</td>\n",
       "      <td>Kunal Shah's credit card bill payment platform...</td>\n",
       "    </tr>\n",
       "    <tr>\n",
       "      <th>2</th>\n",
       "      <td>New Zealand end Rohit Sharma-led India's 12-ma...</td>\n",
       "      <td>New Zealand defeated India by 8 wickets in the...</td>\n",
       "    </tr>\n",
       "    <tr>\n",
       "      <th>3</th>\n",
       "      <td>Aegon life iTerm insurance plan helps customer...</td>\n",
       "      <td>With Aegon Life iTerm Insurance plan, customer...</td>\n",
       "    </tr>\n",
       "    <tr>\n",
       "      <th>4</th>\n",
       "      <td>Have known Hirani for yrs, what if MeToo claim...</td>\n",
       "      <td>Speaking about the sexual harassment allegatio...</td>\n",
       "    </tr>\n",
       "    <tr>\n",
       "      <th>...</th>\n",
       "      <td>...</td>\n",
       "      <td>...</td>\n",
       "    </tr>\n",
       "    <tr>\n",
       "      <th>995</th>\n",
       "      <td>Aamir's 'Rubaru Roshni' screened for Sri Sri R...</td>\n",
       "      <td>Aamir Khan screened his upcoming short film 'R...</td>\n",
       "    </tr>\n",
       "    <tr>\n",
       "      <th>996</th>\n",
       "      <td>Playing Meena Thackeray was an honour: Amrita ...</td>\n",
       "      <td>Amrita Rao, who plays Bal Thackeray's wife Mee...</td>\n",
       "    </tr>\n",
       "    <tr>\n",
       "      <th>997</th>\n",
       "      <td>Won't apologise: Kangana on Karni Sena's threa...</td>\n",
       "      <td>Kangana Ranaut, who was threatened by the Karn...</td>\n",
       "    </tr>\n",
       "    <tr>\n",
       "      <th>998</th>\n",
       "      <td>Wonderful, humbling feeling: Anupam on meeting...</td>\n",
       "      <td>Sharing a picture with US talk show host Jimmy...</td>\n",
       "    </tr>\n",
       "    <tr>\n",
       "      <th>999</th>\n",
       "      <td>Erotic drawing by late rapper Tupac sold for $...</td>\n",
       "      <td>An erotic drawing by late rapper Tupac Shakur ...</td>\n",
       "    </tr>\n",
       "  </tbody>\n",
       "</table>\n",
       "<p>1000 rows × 2 columns</p>\n",
       "</div>"
      ],
      "text/plain": [
       "                                             headlines  \\\n",
       "0    upGrad learner switches to career in ML & Al w...   \n",
       "1    Delhi techie wins free food from Swiggy for on...   \n",
       "2    New Zealand end Rohit Sharma-led India's 12-ma...   \n",
       "3    Aegon life iTerm insurance plan helps customer...   \n",
       "4    Have known Hirani for yrs, what if MeToo claim...   \n",
       "..                                                 ...   \n",
       "995  Aamir's 'Rubaru Roshni' screened for Sri Sri R...   \n",
       "996  Playing Meena Thackeray was an honour: Amrita ...   \n",
       "997  Won't apologise: Kangana on Karni Sena's threa...   \n",
       "998  Wonderful, humbling feeling: Anupam on meeting...   \n",
       "999  Erotic drawing by late rapper Tupac sold for $...   \n",
       "\n",
       "                                                  text  \n",
       "0    Saurav Kant, an alumnus of upGrad and IIIT-B's...  \n",
       "1    Kunal Shah's credit card bill payment platform...  \n",
       "2    New Zealand defeated India by 8 wickets in the...  \n",
       "3    With Aegon Life iTerm Insurance plan, customer...  \n",
       "4    Speaking about the sexual harassment allegatio...  \n",
       "..                                                 ...  \n",
       "995  Aamir Khan screened his upcoming short film 'R...  \n",
       "996  Amrita Rao, who plays Bal Thackeray's wife Mee...  \n",
       "997  Kangana Ranaut, who was threatened by the Karn...  \n",
       "998  Sharing a picture with US talk show host Jimmy...  \n",
       "999  An erotic drawing by late rapper Tupac Shakur ...  \n",
       "\n",
       "[1000 rows x 2 columns]"
      ]
     },
     "execution_count": 9,
     "metadata": {},
     "output_type": "execute_result"
    }
   ],
   "source": [
    "df = df[:1000]\n",
    "df"
   ]
  },
  {
   "cell_type": "markdown",
   "id": "cb125b5f",
   "metadata": {
    "id": "JWYvvDT56QOd",
    "papermill": {
     "duration": 0.00687,
     "end_time": "2022-06-05T22:10:39.653770",
     "exception": false,
     "start_time": "2022-06-05T22:10:39.646900",
     "status": "completed"
    },
    "tags": []
   },
   "source": [
    "### Setting up the device for GPU usage"
   ]
  },
  {
   "cell_type": "code",
   "execution_count": 10,
   "id": "0c7d6302",
   "metadata": {
    "execution": {
     "iopub.execute_input": "2022-06-05T22:10:39.669054Z",
     "iopub.status.busy": "2022-06-05T22:10:39.668505Z",
     "iopub.status.idle": "2022-06-05T22:10:39.720185Z",
     "shell.execute_reply": "2022-06-05T22:10:39.719412Z"
    },
    "id": "nE0hH71S3zgu",
    "outputId": "8a597afe-d4ca-4352-f68a-2e5f4afdd039",
    "papermill": {
     "duration": 0.060947,
     "end_time": "2022-06-05T22:10:39.721777",
     "exception": false,
     "start_time": "2022-06-05T22:10:39.660830",
     "status": "completed"
    },
    "tags": []
   },
   "outputs": [
    {
     "data": {
      "text/plain": [
       "'cuda'"
      ]
     },
     "execution_count": 10,
     "metadata": {},
     "output_type": "execute_result"
    }
   ],
   "source": [
    "from torch import cuda\n",
    "device = 'cuda' if cuda.is_available() else 'cpu'\n",
    "device"
   ]
  },
  {
   "cell_type": "markdown",
   "id": "0e7e5e73",
   "metadata": {
    "id": "bcif3De268qx",
    "papermill": {
     "duration": 0.007109,
     "end_time": "2022-06-05T22:10:39.736216",
     "exception": false,
     "start_time": "2022-06-05T22:10:39.729107",
     "status": "completed"
    },
    "tags": []
   },
   "source": [
    "### Creating a CustomDataset\n",
    "\n",
    "This class will take 6 arguments as input:\n",
    "\n",
    "- dataframe (pandas.DataFrame): Input dataframe\n",
    "- tokenizer (transformers.tokenizer): T5 tokenizer\n",
    "- source_len (int): Max length of source text\n",
    "- target_len (int): Max length of target text\n",
    "- source_text (str): column name of source text\n",
    "- target_text (str) : column name of target text\n",
    "\n",
    "This class will have 2 methods:\n",
    "\n",
    "- __len__: returns the length of the dataframe\n",
    "- __getitem__: return the input ids, attention masks and target ids"
   ]
  },
  {
   "cell_type": "code",
   "execution_count": 11,
   "id": "7e812062",
   "metadata": {
    "execution": {
     "iopub.execute_input": "2022-06-05T22:10:39.751901Z",
     "iopub.status.busy": "2022-06-05T22:10:39.751635Z",
     "iopub.status.idle": "2022-06-05T22:10:39.762616Z",
     "shell.execute_reply": "2022-06-05T22:10:39.761808Z"
    },
    "id": "K-NO58gz32w-",
    "papermill": {
     "duration": 0.021329,
     "end_time": "2022-06-05T22:10:39.764679",
     "exception": false,
     "start_time": "2022-06-05T22:10:39.743350",
     "status": "completed"
    },
    "tags": []
   },
   "outputs": [],
   "source": [
    "class CustomDataset(Dataset):\n",
    "    \"\"\"\n",
    "    Creating a custom dataset for reading the dataset and\n",
    "    loading it into the dataloader to pass it to the\n",
    "    neural network for finetuning the model\n",
    "\n",
    "    \"\"\"\n",
    "\n",
    "    def __init__(\n",
    "        self, dataframe, tokenizer, source_len, target_len, source_text, target_text\n",
    "    ):\n",
    "        \"\"\"\n",
    "        Initializes a Dataset class\n",
    "\n",
    "        Args:\n",
    "            dataframe (pandas.DataFrame): Input dataframe\n",
    "            tokenizer (transformers.tokenizer): Transformers tokenizer\n",
    "            source_len (int): Max length of source text\n",
    "            target_len (int): Max length of target text\n",
    "            source_text (str): column name of source text\n",
    "            target_text (str): column name of target text\n",
    "        \"\"\"\n",
    "        self.tokenizer = tokenizer\n",
    "        self.data = dataframe\n",
    "        self.source_len = source_len\n",
    "        self.summ_len = target_len\n",
    "        self.target_text = self.data[target_text]\n",
    "        self.source_text = self.data[source_text]\n",
    "\n",
    "    def __len__(self):\n",
    "        \"\"\"returns the length of dataframe\"\"\"\n",
    "\n",
    "        return len(self.target_text)\n",
    "\n",
    "    def __getitem__(self, index):\n",
    "        \"\"\"return the input ids, attention masks and target ids\"\"\"\n",
    "\n",
    "        source_text = str(self.source_text[index])\n",
    "        target_text = str(self.target_text[index])\n",
    "\n",
    "        # cleaning data so as to ensure data is in string type\n",
    "        source_text = \" \".join(source_text.split())\n",
    "        target_text = \" \".join(target_text.split())\n",
    "\n",
    "        source = self.tokenizer.batch_encode_plus(\n",
    "            [source_text],\n",
    "            max_length=self.source_len,\n",
    "            pad_to_max_length=True,\n",
    "            truncation=True,\n",
    "            padding=\"max_length\",\n",
    "            return_tensors=\"pt\",\n",
    "        )\n",
    "        target = self.tokenizer.batch_encode_plus(\n",
    "            [target_text],\n",
    "            max_length=self.summ_len,\n",
    "            pad_to_max_length=True,\n",
    "            truncation=True,\n",
    "            padding=\"max_length\",\n",
    "            return_tensors=\"pt\",\n",
    "        )\n",
    "\n",
    "        source_ids = source[\"input_ids\"].squeeze()\n",
    "        source_mask = source[\"attention_mask\"].squeeze()\n",
    "        target_ids = target[\"input_ids\"].squeeze()\n",
    "        target_mask = target[\"attention_mask\"].squeeze()\n",
    "\n",
    "        return {\n",
    "            \"source_ids\": source_ids.to(dtype=torch.long),\n",
    "            \"source_mask\": source_mask.to(dtype=torch.long),\n",
    "            \"target_ids\": target_ids.to(dtype=torch.long),\n",
    "            \"target_ids_y\": target_ids.to(dtype=torch.long),\n",
    "        }"
   ]
  },
  {
   "cell_type": "markdown",
   "id": "6a254e45",
   "metadata": {
    "id": "Ae0vg54_7Gug",
    "papermill": {
     "duration": 0.007514,
     "end_time": "2022-06-05T22:10:39.779484",
     "exception": false,
     "start_time": "2022-06-05T22:10:39.771970",
     "status": "completed"
    },
    "tags": []
   },
   "source": [
    "### Train function\n",
    "This will take 6 arguments as input:\n",
    "\n",
    "- epoch: epoch\n",
    "- tokenizer: T5 tokenizer\n",
    "- model: T5 model\n",
    "- loader: Train Dataloader\n",
    "- optimizer: Optimizer\n",
    "- device: Device (CUDA / CPU)"
   ]
  },
  {
   "cell_type": "code",
   "execution_count": 12,
   "id": "e2619b21",
   "metadata": {
    "execution": {
     "iopub.execute_input": "2022-06-05T22:10:39.795100Z",
     "iopub.status.busy": "2022-06-05T22:10:39.794839Z",
     "iopub.status.idle": "2022-06-05T22:10:39.803006Z",
     "shell.execute_reply": "2022-06-05T22:10:39.802321Z"
    },
    "id": "HGlR-0uK4BB4",
    "papermill": {
     "duration": 0.017949,
     "end_time": "2022-06-05T22:10:39.804580",
     "exception": false,
     "start_time": "2022-06-05T22:10:39.786631",
     "status": "completed"
    },
    "tags": []
   },
   "outputs": [],
   "source": [
    "def train(epoch, tokenizer, model, device, loader, optimizer):\n",
    "\n",
    "    \"\"\"\n",
    "    Function to be called for training with the parameters passed from main function\n",
    "\n",
    "    \"\"\"\n",
    "\n",
    "    model.train()\n",
    "    for _, data in enumerate(loader, 0):\n",
    "        y = data[\"target_ids\"].to(device, dtype=torch.long)\n",
    "        y_ids = y[:, :-1].contiguous()\n",
    "        lm_labels = y[:, 1:].clone().detach()\n",
    "        lm_labels[y[:, 1:] == tokenizer.pad_token_id] = -100\n",
    "        ids = data[\"source_ids\"].to(device, dtype=torch.long)\n",
    "        mask = data[\"source_mask\"].to(device, dtype=torch.long)\n",
    "\n",
    "        outputs = model(\n",
    "            input_ids=ids,\n",
    "            attention_mask=mask,\n",
    "            decoder_input_ids=y_ids,\n",
    "            labels=lm_labels,\n",
    "        )\n",
    "        loss = outputs[0]\n",
    "\n",
    "        if _ % 10 == 0:\n",
    "            training_logger.add_row(str(epoch), str(_), str(loss))\n",
    "            console.print(training_logger)\n",
    "\n",
    "        optimizer.zero_grad()\n",
    "        loss.backward()\n",
    "        optimizer.step()"
   ]
  },
  {
   "cell_type": "code",
   "execution_count": 13,
   "id": "3431386f",
   "metadata": {
    "execution": {
     "iopub.execute_input": "2022-06-05T22:10:39.819920Z",
     "iopub.status.busy": "2022-06-05T22:10:39.819671Z",
     "iopub.status.idle": "2022-06-05T22:10:39.827921Z",
     "shell.execute_reply": "2022-06-05T22:10:39.827238Z"
    },
    "id": "UUCPKFxC4F5i",
    "papermill": {
     "duration": 0.017723,
     "end_time": "2022-06-05T22:10:39.829535",
     "exception": false,
     "start_time": "2022-06-05T22:10:39.811812",
     "status": "completed"
    },
    "tags": []
   },
   "outputs": [],
   "source": [
    "def validate(epoch, tokenizer, model, device, loader):\n",
    "    model.eval()\n",
    "    predictions = []\n",
    "    actuals = []\n",
    "    with torch.no_grad():\n",
    "        for _, data in enumerate(loader, 0):\n",
    "            y = data['target_ids'].to(device, dtype = torch.long)\n",
    "            ids = data['source_ids'].to(device, dtype = torch.long)\n",
    "            mask = data['source_mask'].to(device, dtype = torch.long)\n",
    "\n",
    "            generated_ids = model.generate(\n",
    "              input_ids = ids,\n",
    "              attention_mask = mask, \n",
    "              max_length=150, \n",
    "              num_beams=2,\n",
    "              repetition_penalty=2.5, \n",
    "              length_penalty=1.0, \n",
    "              early_stopping=True\n",
    "              )\n",
    "            preds = [tokenizer.decode(g, skip_special_tokens=True, clean_up_tokenization_spaces=True) for g in generated_ids]\n",
    "            target = [tokenizer.decode(t, skip_special_tokens=True, clean_up_tokenization_spaces=True)for t in y]\n",
    "            if _%10==0:\n",
    "              console.print(f'Completed {_}')\n",
    "\n",
    "            predictions.extend(preds)\n",
    "            actuals.extend(target)\n",
    "    return predictions, actuals"
   ]
  },
  {
   "cell_type": "markdown",
   "id": "0195c67f",
   "metadata": {
    "id": "OYYAmtSp7uzh",
    "papermill": {
     "duration": 0.007253,
     "end_time": "2022-06-05T22:10:39.844526",
     "exception": false,
     "start_time": "2022-06-05T22:10:39.837273",
     "status": "completed"
    },
    "tags": []
   },
   "source": [
    "### T5 Trainer\n",
    "\n",
    "T5Trainer will have 5 arguments:\n",
    "\n",
    "- dataframe: Input dataframe\n",
    "- source_text: Column name of the input text i.e. article content\n",
    "- target_text: Column name of the taregt text i.e. one line summary\n",
    "- model_params: T5 model parameters\n",
    "- output_dir: Output directory to save fine tuned T5 model."
   ]
  },
  {
   "cell_type": "code",
   "execution_count": 14,
   "id": "cbb0abd4",
   "metadata": {
    "execution": {
     "iopub.execute_input": "2022-06-05T22:10:39.860465Z",
     "iopub.status.busy": "2022-06-05T22:10:39.860214Z",
     "iopub.status.idle": "2022-06-05T22:10:39.876804Z",
     "shell.execute_reply": "2022-06-05T22:10:39.876003Z"
    },
    "id": "ZQCxDQgr4JBm",
    "papermill": {
     "duration": 0.0268,
     "end_time": "2022-06-05T22:10:39.878713",
     "exception": false,
     "start_time": "2022-06-05T22:10:39.851913",
     "status": "completed"
    },
    "tags": []
   },
   "outputs": [],
   "source": [
    "def T5Trainer(\n",
    "    dataframe, source_text, target_text, model_params, output_dir=\"./outputs/\"\n",
    "):\n",
    "\n",
    "    \"\"\"\n",
    "    T5 trainer\n",
    "\n",
    "    \"\"\"\n",
    "\n",
    "    # Set random seeds and deterministic pytorch for reproducibility\n",
    "    torch.manual_seed(model_params[\"SEED\"])  # pytorch random seed\n",
    "    np.random.seed(model_params[\"SEED\"])  # numpy random seed\n",
    "    torch.backends.cudnn.deterministic = True\n",
    "\n",
    "    # logging\n",
    "    console.log(f\"\"\"[Model]: Loading {model_params[\"MODEL\"]}...\\n\"\"\")\n",
    "\n",
    "    # tokenzier for encoding the text\n",
    "    tokenizer = T5Tokenizer.from_pretrained(model_params[\"MODEL\"])\n",
    "\n",
    "    # Defining the model. We are using t5-base model and added a Language model layer on top for generation of Summary.\n",
    "    # Further this model is sent to device (GPU/TPU) for using the hardware.\n",
    "    model = T5ForConditionalGeneration.from_pretrained(model_params[\"MODEL\"])\n",
    "    model = model.to(device)\n",
    "\n",
    "    # logging\n",
    "    console.log(f\"[Data]: Reading data...\\n\")\n",
    "\n",
    "    # Importing the raw dataset\n",
    "    dataframe = dataframe[[source_text, target_text]]\n",
    "    display_df(dataframe.head(2))\n",
    "\n",
    "    # Creation of Dataset and Dataloader\n",
    "    # Defining the train size. So 80% of the data will be used for training and the rest for validation.\n",
    "    train_size = 0.8\n",
    "    train_dataset = dataframe.sample(frac=train_size, random_state=model_params[\"SEED\"])\n",
    "    val_dataset = dataframe.drop(train_dataset.index).reset_index(drop=True)\n",
    "    train_dataset = train_dataset.reset_index(drop=True)\n",
    "\n",
    "    console.print(f\"FULL Dataset: {dataframe.shape}\")\n",
    "    console.print(f\"TRAIN Dataset: {train_dataset.shape}\")\n",
    "    console.print(f\"TEST Dataset: {val_dataset.shape}\\n\")\n",
    "\n",
    "    # Creating the Training and Validation dataset for further creation of Dataloader\n",
    "    training_set = CustomDataset(\n",
    "        train_dataset,\n",
    "        tokenizer,\n",
    "        model_params[\"MAX_SOURCE_TEXT_LENGTH\"],\n",
    "        model_params[\"MAX_TARGET_TEXT_LENGTH\"],\n",
    "        source_text,\n",
    "        target_text,\n",
    "    )\n",
    "    val_set = CustomDataset(\n",
    "        val_dataset,\n",
    "        tokenizer,\n",
    "        model_params[\"MAX_SOURCE_TEXT_LENGTH\"],\n",
    "        model_params[\"MAX_TARGET_TEXT_LENGTH\"],\n",
    "        source_text,\n",
    "        target_text,\n",
    "    )\n",
    "\n",
    "    # Defining the parameters for creation of dataloaders\n",
    "    train_params = {\n",
    "        \"batch_size\": model_params[\"TRAIN_BATCH_SIZE\"],\n",
    "        \"shuffle\": True,\n",
    "        \"num_workers\": 0,\n",
    "    }\n",
    "\n",
    "    val_params = {\n",
    "        \"batch_size\": model_params[\"VALID_BATCH_SIZE\"],\n",
    "        \"shuffle\": False,\n",
    "        \"num_workers\": 0,\n",
    "    }\n",
    "\n",
    "    # Creation of Dataloaders for testing and validation. This will be used down for training and validation stage for the model.\n",
    "    training_loader = DataLoader(training_set, **train_params)\n",
    "    val_loader = DataLoader(val_set, **val_params)\n",
    "\n",
    "    # Defining the optimizer that will be used to tune the weights of the network in the training session.\n",
    "    optimizer = torch.optim.Adam(\n",
    "        params=model.parameters(), lr=model_params[\"LEARNING_RATE\"]\n",
    "    )\n",
    "\n",
    "    # Training loop\n",
    "    console.log(f\"[Initiating Fine Tuning]...\\n\")\n",
    "\n",
    "    for epoch in range(model_params[\"TRAIN_EPOCHS\"]):\n",
    "        train(epoch, tokenizer, model, device, training_loader, optimizer)\n",
    "\n",
    "    console.log(f\"[Saving Model]...\\n\")\n",
    "    # Saving the model after training\n",
    "    path = os.path.join(output_dir, \"model_files\")\n",
    "    model.save_pretrained(path)\n",
    "    tokenizer.save_pretrained(path)\n",
    "\n",
    "    # evaluating test dataset\n",
    "    console.log(f\"[Initiating Validation]...\\n\")\n",
    "    for epoch in range(model_params[\"VAL_EPOCHS\"]):\n",
    "        predictions, actuals = validate(epoch, tokenizer, model, device, val_loader)\n",
    "        final_df = pd.DataFrame({\"Generated Text\": predictions, \"Actual Text\": actuals})\n",
    "        final_df.to_csv(os.path.join(output_dir, \"predictions.csv\"))\n",
    "\n",
    "    console.save_text(os.path.join(output_dir, \"logs.txt\"))\n",
    "\n",
    "    console.log(f\"[Validation Completed.]\\n\")\n",
    "    console.print(\n",
    "        f\"\"\"[Model] Model saved @ {os.path.join(output_dir, \"model_files\")}\\n\"\"\"\n",
    "    )\n",
    "    console.print(\n",
    "        f\"\"\"[Validation] Generation on Validation data saved @ {os.path.join(output_dir,'predictions.csv')}\\n\"\"\"\n",
    "    )\n",
    "    console.print(f\"\"\"[Logs] Logs saved @ {os.path.join(output_dir,'logs.txt')}\\n\"\"\")"
   ]
  },
  {
   "cell_type": "markdown",
   "id": "01094b67",
   "metadata": {
    "id": "6EV7GxTV78Fn",
    "papermill": {
     "duration": 0.006967,
     "end_time": "2022-06-05T22:10:39.893021",
     "exception": false,
     "start_time": "2022-06-05T22:10:39.886054",
     "status": "completed"
    },
    "tags": []
   },
   "source": [
    "### Model Parameters"
   ]
  },
  {
   "cell_type": "code",
   "execution_count": 15,
   "id": "c35e8295",
   "metadata": {
    "execution": {
     "iopub.execute_input": "2022-06-05T22:10:39.908783Z",
     "iopub.status.busy": "2022-06-05T22:10:39.908051Z",
     "iopub.status.idle": "2022-06-05T22:10:39.913406Z",
     "shell.execute_reply": "2022-06-05T22:10:39.912776Z"
    },
    "id": "J-YI6UtV4OUW",
    "papermill": {
     "duration": 0.014731,
     "end_time": "2022-06-05T22:10:39.914985",
     "exception": false,
     "start_time": "2022-06-05T22:10:39.900254",
     "status": "completed"
    },
    "tags": []
   },
   "outputs": [],
   "source": [
    "# let's define model parameters specific to T5\n",
    "model_params = {\n",
    "    \"MODEL\": \"t5-base\",  # model_type: t5-base/t5-large\n",
    "    \"TRAIN_BATCH_SIZE\": 8,  # training batch size\n",
    "    \"VALID_BATCH_SIZE\": 8,  # validation batch size\n",
    "    \"TRAIN_EPOCHS\": 3,  # number of training epochs\n",
    "    \"VAL_EPOCHS\": 1,  # number of validation epochs\n",
    "    \"LEARNING_RATE\": 1e-4,  # learning rate\n",
    "    \"MAX_SOURCE_TEXT_LENGTH\": 512,  # max length of source text\n",
    "    \"MAX_TARGET_TEXT_LENGTH\": 50,  # max length of target text\n",
    "    \"SEED\": 42,  # set seed for reproducibility\n",
    "}"
   ]
  },
  {
   "cell_type": "code",
   "execution_count": 16,
   "id": "c034b9d0",
   "metadata": {
    "execution": {
     "iopub.execute_input": "2022-06-05T22:10:39.930229Z",
     "iopub.status.busy": "2022-06-05T22:10:39.929976Z",
     "iopub.status.idle": "2022-06-05T22:15:54.105928Z",
     "shell.execute_reply": "2022-06-05T22:15:54.105202Z"
    },
    "id": "1BtV8Jad4Rxf",
    "outputId": "6c0c5480-4bba-4f7c-ae37-8c7a2738c9a2",
    "papermill": {
     "duration": 314.185748,
     "end_time": "2022-06-05T22:15:54.107870",
     "exception": false,
     "start_time": "2022-06-05T22:10:39.922122",
     "status": "completed"
    },
    "tags": []
   },
   "outputs": [
    {
     "name": "stderr",
     "output_type": "stream",
     "text": [
      "/opt/conda/lib/python3.7/site-packages/ipykernel_launcher.py:3: SettingWithCopyWarning: \n",
      "A value is trying to be set on a copy of a slice from a DataFrame.\n",
      "Try using .loc[row_indexer,col_indexer] = value instead\n",
      "\n",
      "See the caveats in the documentation: https://pandas.pydata.org/pandas-docs/stable/user_guide/indexing.html#returning-a-view-versus-a-copy\n",
      "  This is separate from the ipykernel package so we can avoid doing imports until\n"
     ]
    },
    {
     "data": {
      "text/html": [
       "<pre style=\"white-space:pre;overflow-x:auto;line-height:normal;font-family:Menlo,'DejaVu Sans Mono',consolas,'Courier New',monospace\"><span style=\"color: #7fbfbf; text-decoration-color: #7fbfbf\">[22:10:39] </span><span style=\"font-weight: bold\">[</span>Model<span style=\"font-weight: bold\">]</span>: Loading t5-base<span style=\"color: #808000; text-decoration-color: #808000\">...</span>                                         <a href=\"file:///tmp/ipykernel_18/51270473.py\" target=\"_blank\"><span style=\"color: #7f7f7f; text-decoration-color: #7f7f7f\">51270473.py</span></a><span style=\"color: #7f7f7f; text-decoration-color: #7f7f7f\">:</span><a href=\"file:///tmp/ipykernel_18/51270473.py#16\" target=\"_blank\"><span style=\"color: #7f7f7f; text-decoration-color: #7f7f7f\">16</span></a>\n",
       "<span style=\"color: #7fbfbf; text-decoration-color: #7fbfbf\">           </span>                                                                    <span style=\"color: #7f7f7f; text-decoration-color: #7f7f7f\">              </span>\n",
       "</pre>\n"
      ],
      "text/plain": [
       "\u001b[2;36m[22:10:39]\u001b[0m\u001b[2;36m \u001b[0m\u001b[1m[\u001b[0mModel\u001b[1m]\u001b[0m: Loading t5-base\u001b[33m...\u001b[0m                                         \u001b]8;id=340746;file:///tmp/ipykernel_18/51270473.py\u001b\\\u001b[2m51270473.py\u001b[0m\u001b]8;;\u001b\\\u001b[2m:\u001b[0m\u001b]8;id=453825;file:///tmp/ipykernel_18/51270473.py#16\u001b\\\u001b[2m16\u001b[0m\u001b]8;;\u001b\\\n",
       "\u001b[2;36m           \u001b[0m                                                                    \u001b[2m              \u001b[0m\n"
      ]
     },
     "metadata": {},
     "output_type": "display_data"
    },
    {
     "data": {
      "application/vnd.jupyter.widget-view+json": {
       "model_id": "c1a6dba2bb3e4aeaa022a9c9ac09c1b3",
       "version_major": 2,
       "version_minor": 0
      },
      "text/plain": [
       "Downloading:   0%|          | 0.00/773k [00:00<?, ?B/s]"
      ]
     },
     "metadata": {},
     "output_type": "display_data"
    },
    {
     "data": {
      "application/vnd.jupyter.widget-view+json": {
       "model_id": "03a4aab41f44422896dd418fdf6c2a2c",
       "version_major": 2,
       "version_minor": 0
      },
      "text/plain": [
       "Downloading:   0%|          | 0.00/1.17k [00:00<?, ?B/s]"
      ]
     },
     "metadata": {},
     "output_type": "display_data"
    },
    {
     "data": {
      "application/vnd.jupyter.widget-view+json": {
       "model_id": "a60d7359168648db825a58a725cd22fd",
       "version_major": 2,
       "version_minor": 0
      },
      "text/plain": [
       "Downloading:   0%|          | 0.00/850M [00:00<?, ?B/s]"
      ]
     },
     "metadata": {},
     "output_type": "display_data"
    },
    {
     "data": {
      "text/html": [
       "<pre style=\"white-space:pre;overflow-x:auto;line-height:normal;font-family:Menlo,'DejaVu Sans Mono',consolas,'Courier New',monospace\"><span style=\"color: #7fbfbf; text-decoration-color: #7fbfbf\">[22:12:19] </span><span style=\"font-weight: bold\">[</span>Data<span style=\"font-weight: bold\">]</span>: Reading data<span style=\"color: #808000; text-decoration-color: #808000\">...</span>                                             <a href=\"file:///tmp/ipykernel_18/51270473.py\" target=\"_blank\"><span style=\"color: #7f7f7f; text-decoration-color: #7f7f7f\">51270473.py</span></a><span style=\"color: #7f7f7f; text-decoration-color: #7f7f7f\">:</span><a href=\"file:///tmp/ipykernel_18/51270473.py#27\" target=\"_blank\"><span style=\"color: #7f7f7f; text-decoration-color: #7f7f7f\">27</span></a>\n",
       "<span style=\"color: #7fbfbf; text-decoration-color: #7fbfbf\">           </span>                                                                    <span style=\"color: #7f7f7f; text-decoration-color: #7f7f7f\">              </span>\n",
       "</pre>\n"
      ],
      "text/plain": [
       "\u001b[2;36m[22:12:19]\u001b[0m\u001b[2;36m \u001b[0m\u001b[1m[\u001b[0mData\u001b[1m]\u001b[0m: Reading data\u001b[33m...\u001b[0m                                             \u001b]8;id=346554;file:///tmp/ipykernel_18/51270473.py\u001b\\\u001b[2m51270473.py\u001b[0m\u001b]8;;\u001b\\\u001b[2m:\u001b[0m\u001b]8;id=605415;file:///tmp/ipykernel_18/51270473.py#27\u001b\\\u001b[2m27\u001b[0m\u001b]8;;\u001b\\\n",
       "\u001b[2;36m           \u001b[0m                                                                    \u001b[2m              \u001b[0m\n"
      ]
     },
     "metadata": {},
     "output_type": "display_data"
    },
    {
     "data": {
      "text/html": [
       "<pre style=\"white-space:pre;overflow-x:auto;line-height:normal;font-family:Menlo,'DejaVu Sans Mono',consolas,'Courier New',monospace\"><span style=\"font-style: italic\">                                         Sample Data                                         </span>\n",
       "+-------------------------------------------------------------------------------------------+\n",
       "|<span style=\"font-weight: bold\">                source_text                  </span>|<span style=\"font-weight: bold\">                 target_text                 </span>|\n",
       "|---------------------------------------------+---------------------------------------------|\n",
       "|summarize: Saurav Kant, an alumnus of upGrad | upGrad learner switches to career in ML &amp; Al|\n",
       "|and IIIT-B's PG Program in Machine learning  |             with 90% salary hike            |\n",
       "|   and Artificial Intelligence, was a Sr     |                                             |\n",
       "| Systems Engineer at Infosys with almost 5   |                                             |\n",
       "| years of work experience. The program and   |                                             |\n",
       "| upGrad's 360-degree career support helped   |                                             |\n",
       "| him transition to a Data Scientist at Tech  |                                             |\n",
       "|  Mahindra with 90% salary hike. upGrad's    |                                             |\n",
       "| Online Power Learning has powered 3 lakh+   |                                             |\n",
       "|                  careers.                   |                                             |\n",
       "|  summarize: Kunal Shah's credit card bill   | Delhi techie wins free food from Swiggy for |\n",
       "|payment platform, CRED, gave users a chance  |               one year on CRED              |\n",
       "| to win free food from Swiggy for one year.  |                                             |\n",
       "|Pranav Kaushik, a Delhi techie, bagged this  |                                             |\n",
       "|reward after spending 2000 CRED coins. Users |                                             |\n",
       "| get one CRED coin per rupee of bill paid,   |                                             |\n",
       "|  which can be used to avail rewards from    |                                             |\n",
       "|  brands like Ixigo, BookMyShow, UberEats,   |                                             |\n",
       "|             Cult.Fit and more.              |                                             |\n",
       "+-------------------------------------------------------------------------------------------+\n",
       "</pre>\n"
      ],
      "text/plain": [
       "\u001b[3m                                         Sample Data                                         \u001b[0m\n",
       "+-------------------------------------------------------------------------------------------+\n",
       "|\u001b[1m                source_text                 \u001b[0m\u001b[1m \u001b[0m|\u001b[1m \u001b[0m\u001b[1m                target_text                 \u001b[0m|\n",
       "|---------------------------------------------+---------------------------------------------|\n",
       "|summarize: Saurav Kant, an alumnus of upGrad | upGrad learner switches to career in ML & Al|\n",
       "|and IIIT-B's PG Program in Machine learning  |             with 90% salary hike            |\n",
       "|   and Artificial Intelligence, was a Sr     |                                             |\n",
       "| Systems Engineer at Infosys with almost 5   |                                             |\n",
       "| years of work experience. The program and   |                                             |\n",
       "| upGrad's 360-degree career support helped   |                                             |\n",
       "| him transition to a Data Scientist at Tech  |                                             |\n",
       "|  Mahindra with 90% salary hike. upGrad's    |                                             |\n",
       "| Online Power Learning has powered 3 lakh+   |                                             |\n",
       "|                  careers.                   |                                             |\n",
       "|  summarize: Kunal Shah's credit card bill   | Delhi techie wins free food from Swiggy for |\n",
       "|payment platform, CRED, gave users a chance  |               one year on CRED              |\n",
       "| to win free food from Swiggy for one year.  |                                             |\n",
       "|Pranav Kaushik, a Delhi techie, bagged this  |                                             |\n",
       "|reward after spending 2000 CRED coins. Users |                                             |\n",
       "| get one CRED coin per rupee of bill paid,   |                                             |\n",
       "|  which can be used to avail rewards from    |                                             |\n",
       "|  brands like Ixigo, BookMyShow, UberEats,   |                                             |\n",
       "|             Cult.Fit and more.              |                                             |\n",
       "+-------------------------------------------------------------------------------------------+\n"
      ]
     },
     "metadata": {},
     "output_type": "display_data"
    },
    {
     "data": {
      "text/html": [
       "<pre style=\"white-space:pre;overflow-x:auto;line-height:normal;font-family:Menlo,'DejaVu Sans Mono',consolas,'Courier New',monospace\">FULL Dataset: <span style=\"font-weight: bold\">(</span><span style=\"color: #008080; text-decoration-color: #008080; font-weight: bold\">1000</span>, <span style=\"color: #008080; text-decoration-color: #008080; font-weight: bold\">2</span><span style=\"font-weight: bold\">)</span>\n",
       "</pre>\n"
      ],
      "text/plain": [
       "FULL Dataset: \u001b[1m(\u001b[0m\u001b[1;36m1000\u001b[0m, \u001b[1;36m2\u001b[0m\u001b[1m)\u001b[0m\n"
      ]
     },
     "metadata": {},
     "output_type": "display_data"
    },
    {
     "data": {
      "text/html": [
       "<pre style=\"white-space:pre;overflow-x:auto;line-height:normal;font-family:Menlo,'DejaVu Sans Mono',consolas,'Courier New',monospace\">TRAIN Dataset: <span style=\"font-weight: bold\">(</span><span style=\"color: #008080; text-decoration-color: #008080; font-weight: bold\">800</span>, <span style=\"color: #008080; text-decoration-color: #008080; font-weight: bold\">2</span><span style=\"font-weight: bold\">)</span>\n",
       "</pre>\n"
      ],
      "text/plain": [
       "TRAIN Dataset: \u001b[1m(\u001b[0m\u001b[1;36m800\u001b[0m, \u001b[1;36m2\u001b[0m\u001b[1m)\u001b[0m\n"
      ]
     },
     "metadata": {},
     "output_type": "display_data"
    },
    {
     "data": {
      "text/html": [
       "<pre style=\"white-space:pre;overflow-x:auto;line-height:normal;font-family:Menlo,'DejaVu Sans Mono',consolas,'Courier New',monospace\">TEST Dataset: <span style=\"font-weight: bold\">(</span><span style=\"color: #008080; text-decoration-color: #008080; font-weight: bold\">200</span>, <span style=\"color: #008080; text-decoration-color: #008080; font-weight: bold\">2</span><span style=\"font-weight: bold\">)</span>\n",
       "\n",
       "</pre>\n"
      ],
      "text/plain": [
       "TEST Dataset: \u001b[1m(\u001b[0m\u001b[1;36m200\u001b[0m, \u001b[1;36m2\u001b[0m\u001b[1m)\u001b[0m\n",
       "\n"
      ]
     },
     "metadata": {},
     "output_type": "display_data"
    },
    {
     "data": {
      "text/html": [
       "<pre style=\"white-space:pre;overflow-x:auto;line-height:normal;font-family:Menlo,'DejaVu Sans Mono',consolas,'Courier New',monospace\"><span style=\"color: #7fbfbf; text-decoration-color: #7fbfbf\">           </span><span style=\"font-weight: bold\">[</span>Initiating Fine Tuning<span style=\"font-weight: bold\">]</span><span style=\"color: #808000; text-decoration-color: #808000\">...</span>                                         <a href=\"file:///tmp/ipykernel_18/51270473.py\" target=\"_blank\"><span style=\"color: #7f7f7f; text-decoration-color: #7f7f7f\">51270473.py</span></a><span style=\"color: #7f7f7f; text-decoration-color: #7f7f7f\">:</span><a href=\"file:///tmp/ipykernel_18/51270473.py#85\" target=\"_blank\"><span style=\"color: #7f7f7f; text-decoration-color: #7f7f7f\">85</span></a>\n",
       "<span style=\"color: #7fbfbf; text-decoration-color: #7fbfbf\">           </span>                                                                    <span style=\"color: #7f7f7f; text-decoration-color: #7f7f7f\">              </span>\n",
       "</pre>\n"
      ],
      "text/plain": [
       "\u001b[2;36m          \u001b[0m\u001b[2;36m \u001b[0m\u001b[1m[\u001b[0mInitiating Fine Tuning\u001b[1m]\u001b[0m\u001b[33m...\u001b[0m                                         \u001b]8;id=406243;file:///tmp/ipykernel_18/51270473.py\u001b\\\u001b[2m51270473.py\u001b[0m\u001b]8;;\u001b\\\u001b[2m:\u001b[0m\u001b]8;id=503474;file:///tmp/ipykernel_18/51270473.py#85\u001b\\\u001b[2m85\u001b[0m\u001b]8;;\u001b\\\n",
       "\u001b[2;36m           \u001b[0m                                                                    \u001b[2m              \u001b[0m\n"
      ]
     },
     "metadata": {},
     "output_type": "display_data"
    },
    {
     "data": {
      "text/html": [
       "<pre style=\"white-space:pre;overflow-x:auto;line-height:normal;font-family:Menlo,'DejaVu Sans Mono',consolas,'Courier New',monospace\"><span style=\"font-style: italic\">                               Training Status                               </span>\n",
       "+---------------------------------------------------------------------------+\n",
       "|<span style=\"font-weight: bold\">Epoch </span>|<span style=\"font-weight: bold\"> Steps </span>|<span style=\"font-weight: bold\">                            Loss                            </span>|\n",
       "|------+-------+------------------------------------------------------------|\n",
       "|  0   |   0   | tensor(7.5742, device='cuda:0', grad_fn=&lt;NllLossBackward0&gt;)|\n",
       "+---------------------------------------------------------------------------+\n",
       "</pre>\n"
      ],
      "text/plain": [
       "\u001b[3m                               Training Status                               \u001b[0m\n",
       "+---------------------------------------------------------------------------+\n",
       "|\u001b[1mEpoch\u001b[0m\u001b[1m \u001b[0m|\u001b[1m \u001b[0m\u001b[1mSteps\u001b[0m\u001b[1m \u001b[0m|\u001b[1m \u001b[0m\u001b[1m                           Loss                            \u001b[0m|\n",
       "|------+-------+------------------------------------------------------------|\n",
       "|  0   |   0   | tensor(7.5742, device='cuda:0', grad_fn=<NllLossBackward0>)|\n",
       "+---------------------------------------------------------------------------+\n"
      ]
     },
     "metadata": {},
     "output_type": "display_data"
    },
    {
     "data": {
      "text/html": [
       "<pre style=\"white-space:pre;overflow-x:auto;line-height:normal;font-family:Menlo,'DejaVu Sans Mono',consolas,'Courier New',monospace\"><span style=\"font-style: italic\">                               Training Status                               </span>\n",
       "+---------------------------------------------------------------------------+\n",
       "|<span style=\"font-weight: bold\">Epoch </span>|<span style=\"font-weight: bold\"> Steps </span>|<span style=\"font-weight: bold\">                            Loss                            </span>|\n",
       "|------+-------+------------------------------------------------------------|\n",
       "|  0   |   0   | tensor(7.5742, device='cuda:0', grad_fn=&lt;NllLossBackward0&gt;)|\n",
       "|  0   |  10   | tensor(3.6975, device='cuda:0', grad_fn=&lt;NllLossBackward0&gt;)|\n",
       "+---------------------------------------------------------------------------+\n",
       "</pre>\n"
      ],
      "text/plain": [
       "\u001b[3m                               Training Status                               \u001b[0m\n",
       "+---------------------------------------------------------------------------+\n",
       "|\u001b[1mEpoch\u001b[0m\u001b[1m \u001b[0m|\u001b[1m \u001b[0m\u001b[1mSteps\u001b[0m\u001b[1m \u001b[0m|\u001b[1m \u001b[0m\u001b[1m                           Loss                            \u001b[0m|\n",
       "|------+-------+------------------------------------------------------------|\n",
       "|  0   |   0   | tensor(7.5742, device='cuda:0', grad_fn=<NllLossBackward0>)|\n",
       "|  0   |  10   | tensor(3.6975, device='cuda:0', grad_fn=<NllLossBackward0>)|\n",
       "+---------------------------------------------------------------------------+\n"
      ]
     },
     "metadata": {},
     "output_type": "display_data"
    },
    {
     "data": {
      "text/html": [
       "<pre style=\"white-space:pre;overflow-x:auto;line-height:normal;font-family:Menlo,'DejaVu Sans Mono',consolas,'Courier New',monospace\"><span style=\"font-style: italic\">                               Training Status                               </span>\n",
       "+---------------------------------------------------------------------------+\n",
       "|<span style=\"font-weight: bold\">Epoch </span>|<span style=\"font-weight: bold\"> Steps </span>|<span style=\"font-weight: bold\">                            Loss                            </span>|\n",
       "|------+-------+------------------------------------------------------------|\n",
       "|  0   |   0   | tensor(7.5742, device='cuda:0', grad_fn=&lt;NllLossBackward0&gt;)|\n",
       "|  0   |  10   | tensor(3.6975, device='cuda:0', grad_fn=&lt;NllLossBackward0&gt;)|\n",
       "|  0   |  20   | tensor(3.5060, device='cuda:0', grad_fn=&lt;NllLossBackward0&gt;)|\n",
       "+---------------------------------------------------------------------------+\n",
       "</pre>\n"
      ],
      "text/plain": [
       "\u001b[3m                               Training Status                               \u001b[0m\n",
       "+---------------------------------------------------------------------------+\n",
       "|\u001b[1mEpoch\u001b[0m\u001b[1m \u001b[0m|\u001b[1m \u001b[0m\u001b[1mSteps\u001b[0m\u001b[1m \u001b[0m|\u001b[1m \u001b[0m\u001b[1m                           Loss                            \u001b[0m|\n",
       "|------+-------+------------------------------------------------------------|\n",
       "|  0   |   0   | tensor(7.5742, device='cuda:0', grad_fn=<NllLossBackward0>)|\n",
       "|  0   |  10   | tensor(3.6975, device='cuda:0', grad_fn=<NllLossBackward0>)|\n",
       "|  0   |  20   | tensor(3.5060, device='cuda:0', grad_fn=<NllLossBackward0>)|\n",
       "+---------------------------------------------------------------------------+\n"
      ]
     },
     "metadata": {},
     "output_type": "display_data"
    },
    {
     "data": {
      "text/html": [
       "<pre style=\"white-space:pre;overflow-x:auto;line-height:normal;font-family:Menlo,'DejaVu Sans Mono',consolas,'Courier New',monospace\"><span style=\"font-style: italic\">                               Training Status                               </span>\n",
       "+---------------------------------------------------------------------------+\n",
       "|<span style=\"font-weight: bold\">Epoch </span>|<span style=\"font-weight: bold\"> Steps </span>|<span style=\"font-weight: bold\">                            Loss                            </span>|\n",
       "|------+-------+------------------------------------------------------------|\n",
       "|  0   |   0   | tensor(7.5742, device='cuda:0', grad_fn=&lt;NllLossBackward0&gt;)|\n",
       "|  0   |  10   | tensor(3.6975, device='cuda:0', grad_fn=&lt;NllLossBackward0&gt;)|\n",
       "|  0   |  20   | tensor(3.5060, device='cuda:0', grad_fn=&lt;NllLossBackward0&gt;)|\n",
       "|  0   |  30   | tensor(3.0824, device='cuda:0', grad_fn=&lt;NllLossBackward0&gt;)|\n",
       "+---------------------------------------------------------------------------+\n",
       "</pre>\n"
      ],
      "text/plain": [
       "\u001b[3m                               Training Status                               \u001b[0m\n",
       "+---------------------------------------------------------------------------+\n",
       "|\u001b[1mEpoch\u001b[0m\u001b[1m \u001b[0m|\u001b[1m \u001b[0m\u001b[1mSteps\u001b[0m\u001b[1m \u001b[0m|\u001b[1m \u001b[0m\u001b[1m                           Loss                            \u001b[0m|\n",
       "|------+-------+------------------------------------------------------------|\n",
       "|  0   |   0   | tensor(7.5742, device='cuda:0', grad_fn=<NllLossBackward0>)|\n",
       "|  0   |  10   | tensor(3.6975, device='cuda:0', grad_fn=<NllLossBackward0>)|\n",
       "|  0   |  20   | tensor(3.5060, device='cuda:0', grad_fn=<NllLossBackward0>)|\n",
       "|  0   |  30   | tensor(3.0824, device='cuda:0', grad_fn=<NllLossBackward0>)|\n",
       "+---------------------------------------------------------------------------+\n"
      ]
     },
     "metadata": {},
     "output_type": "display_data"
    },
    {
     "data": {
      "text/html": [
       "<pre style=\"white-space:pre;overflow-x:auto;line-height:normal;font-family:Menlo,'DejaVu Sans Mono',consolas,'Courier New',monospace\"><span style=\"font-style: italic\">                               Training Status                               </span>\n",
       "+---------------------------------------------------------------------------+\n",
       "|<span style=\"font-weight: bold\">Epoch </span>|<span style=\"font-weight: bold\"> Steps </span>|<span style=\"font-weight: bold\">                            Loss                            </span>|\n",
       "|------+-------+------------------------------------------------------------|\n",
       "|  0   |   0   | tensor(7.5742, device='cuda:0', grad_fn=&lt;NllLossBackward0&gt;)|\n",
       "|  0   |  10   | tensor(3.6975, device='cuda:0', grad_fn=&lt;NllLossBackward0&gt;)|\n",
       "|  0   |  20   | tensor(3.5060, device='cuda:0', grad_fn=&lt;NllLossBackward0&gt;)|\n",
       "|  0   |  30   | tensor(3.0824, device='cuda:0', grad_fn=&lt;NllLossBackward0&gt;)|\n",
       "|  0   |  40   | tensor(2.2840, device='cuda:0', grad_fn=&lt;NllLossBackward0&gt;)|\n",
       "+---------------------------------------------------------------------------+\n",
       "</pre>\n"
      ],
      "text/plain": [
       "\u001b[3m                               Training Status                               \u001b[0m\n",
       "+---------------------------------------------------------------------------+\n",
       "|\u001b[1mEpoch\u001b[0m\u001b[1m \u001b[0m|\u001b[1m \u001b[0m\u001b[1mSteps\u001b[0m\u001b[1m \u001b[0m|\u001b[1m \u001b[0m\u001b[1m                           Loss                            \u001b[0m|\n",
       "|------+-------+------------------------------------------------------------|\n",
       "|  0   |   0   | tensor(7.5742, device='cuda:0', grad_fn=<NllLossBackward0>)|\n",
       "|  0   |  10   | tensor(3.6975, device='cuda:0', grad_fn=<NllLossBackward0>)|\n",
       "|  0   |  20   | tensor(3.5060, device='cuda:0', grad_fn=<NllLossBackward0>)|\n",
       "|  0   |  30   | tensor(3.0824, device='cuda:0', grad_fn=<NllLossBackward0>)|\n",
       "|  0   |  40   | tensor(2.2840, device='cuda:0', grad_fn=<NllLossBackward0>)|\n",
       "+---------------------------------------------------------------------------+\n"
      ]
     },
     "metadata": {},
     "output_type": "display_data"
    },
    {
     "data": {
      "text/html": [
       "<pre style=\"white-space:pre;overflow-x:auto;line-height:normal;font-family:Menlo,'DejaVu Sans Mono',consolas,'Courier New',monospace\"><span style=\"font-style: italic\">                               Training Status                               </span>\n",
       "+---------------------------------------------------------------------------+\n",
       "|<span style=\"font-weight: bold\">Epoch </span>|<span style=\"font-weight: bold\"> Steps </span>|<span style=\"font-weight: bold\">                            Loss                            </span>|\n",
       "|------+-------+------------------------------------------------------------|\n",
       "|  0   |   0   | tensor(7.5742, device='cuda:0', grad_fn=&lt;NllLossBackward0&gt;)|\n",
       "|  0   |  10   | tensor(3.6975, device='cuda:0', grad_fn=&lt;NllLossBackward0&gt;)|\n",
       "|  0   |  20   | tensor(3.5060, device='cuda:0', grad_fn=&lt;NllLossBackward0&gt;)|\n",
       "|  0   |  30   | tensor(3.0824, device='cuda:0', grad_fn=&lt;NllLossBackward0&gt;)|\n",
       "|  0   |  40   | tensor(2.2840, device='cuda:0', grad_fn=&lt;NllLossBackward0&gt;)|\n",
       "|  0   |  50   | tensor(2.8537, device='cuda:0', grad_fn=&lt;NllLossBackward0&gt;)|\n",
       "+---------------------------------------------------------------------------+\n",
       "</pre>\n"
      ],
      "text/plain": [
       "\u001b[3m                               Training Status                               \u001b[0m\n",
       "+---------------------------------------------------------------------------+\n",
       "|\u001b[1mEpoch\u001b[0m\u001b[1m \u001b[0m|\u001b[1m \u001b[0m\u001b[1mSteps\u001b[0m\u001b[1m \u001b[0m|\u001b[1m \u001b[0m\u001b[1m                           Loss                            \u001b[0m|\n",
       "|------+-------+------------------------------------------------------------|\n",
       "|  0   |   0   | tensor(7.5742, device='cuda:0', grad_fn=<NllLossBackward0>)|\n",
       "|  0   |  10   | tensor(3.6975, device='cuda:0', grad_fn=<NllLossBackward0>)|\n",
       "|  0   |  20   | tensor(3.5060, device='cuda:0', grad_fn=<NllLossBackward0>)|\n",
       "|  0   |  30   | tensor(3.0824, device='cuda:0', grad_fn=<NllLossBackward0>)|\n",
       "|  0   |  40   | tensor(2.2840, device='cuda:0', grad_fn=<NllLossBackward0>)|\n",
       "|  0   |  50   | tensor(2.8537, device='cuda:0', grad_fn=<NllLossBackward0>)|\n",
       "+---------------------------------------------------------------------------+\n"
      ]
     },
     "metadata": {},
     "output_type": "display_data"
    },
    {
     "data": {
      "text/html": [
       "<pre style=\"white-space:pre;overflow-x:auto;line-height:normal;font-family:Menlo,'DejaVu Sans Mono',consolas,'Courier New',monospace\"><span style=\"font-style: italic\">                               Training Status                               </span>\n",
       "+---------------------------------------------------------------------------+\n",
       "|<span style=\"font-weight: bold\">Epoch </span>|<span style=\"font-weight: bold\"> Steps </span>|<span style=\"font-weight: bold\">                            Loss                            </span>|\n",
       "|------+-------+------------------------------------------------------------|\n",
       "|  0   |   0   | tensor(7.5742, device='cuda:0', grad_fn=&lt;NllLossBackward0&gt;)|\n",
       "|  0   |  10   | tensor(3.6975, device='cuda:0', grad_fn=&lt;NllLossBackward0&gt;)|\n",
       "|  0   |  20   | tensor(3.5060, device='cuda:0', grad_fn=&lt;NllLossBackward0&gt;)|\n",
       "|  0   |  30   | tensor(3.0824, device='cuda:0', grad_fn=&lt;NllLossBackward0&gt;)|\n",
       "|  0   |  40   | tensor(2.2840, device='cuda:0', grad_fn=&lt;NllLossBackward0&gt;)|\n",
       "|  0   |  50   | tensor(2.8537, device='cuda:0', grad_fn=&lt;NllLossBackward0&gt;)|\n",
       "|  0   |  60   | tensor(3.2243, device='cuda:0', grad_fn=&lt;NllLossBackward0&gt;)|\n",
       "+---------------------------------------------------------------------------+\n",
       "</pre>\n"
      ],
      "text/plain": [
       "\u001b[3m                               Training Status                               \u001b[0m\n",
       "+---------------------------------------------------------------------------+\n",
       "|\u001b[1mEpoch\u001b[0m\u001b[1m \u001b[0m|\u001b[1m \u001b[0m\u001b[1mSteps\u001b[0m\u001b[1m \u001b[0m|\u001b[1m \u001b[0m\u001b[1m                           Loss                            \u001b[0m|\n",
       "|------+-------+------------------------------------------------------------|\n",
       "|  0   |   0   | tensor(7.5742, device='cuda:0', grad_fn=<NllLossBackward0>)|\n",
       "|  0   |  10   | tensor(3.6975, device='cuda:0', grad_fn=<NllLossBackward0>)|\n",
       "|  0   |  20   | tensor(3.5060, device='cuda:0', grad_fn=<NllLossBackward0>)|\n",
       "|  0   |  30   | tensor(3.0824, device='cuda:0', grad_fn=<NllLossBackward0>)|\n",
       "|  0   |  40   | tensor(2.2840, device='cuda:0', grad_fn=<NllLossBackward0>)|\n",
       "|  0   |  50   | tensor(2.8537, device='cuda:0', grad_fn=<NllLossBackward0>)|\n",
       "|  0   |  60   | tensor(3.2243, device='cuda:0', grad_fn=<NllLossBackward0>)|\n",
       "+---------------------------------------------------------------------------+\n"
      ]
     },
     "metadata": {},
     "output_type": "display_data"
    },
    {
     "data": {
      "text/html": [
       "<pre style=\"white-space:pre;overflow-x:auto;line-height:normal;font-family:Menlo,'DejaVu Sans Mono',consolas,'Courier New',monospace\"><span style=\"font-style: italic\">                               Training Status                               </span>\n",
       "+---------------------------------------------------------------------------+\n",
       "|<span style=\"font-weight: bold\">Epoch </span>|<span style=\"font-weight: bold\"> Steps </span>|<span style=\"font-weight: bold\">                            Loss                            </span>|\n",
       "|------+-------+------------------------------------------------------------|\n",
       "|  0   |   0   | tensor(7.5742, device='cuda:0', grad_fn=&lt;NllLossBackward0&gt;)|\n",
       "|  0   |  10   | tensor(3.6975, device='cuda:0', grad_fn=&lt;NllLossBackward0&gt;)|\n",
       "|  0   |  20   | tensor(3.5060, device='cuda:0', grad_fn=&lt;NllLossBackward0&gt;)|\n",
       "|  0   |  30   | tensor(3.0824, device='cuda:0', grad_fn=&lt;NllLossBackward0&gt;)|\n",
       "|  0   |  40   | tensor(2.2840, device='cuda:0', grad_fn=&lt;NllLossBackward0&gt;)|\n",
       "|  0   |  50   | tensor(2.8537, device='cuda:0', grad_fn=&lt;NllLossBackward0&gt;)|\n",
       "|  0   |  60   | tensor(3.2243, device='cuda:0', grad_fn=&lt;NllLossBackward0&gt;)|\n",
       "|  0   |  70   | tensor(2.2970, device='cuda:0', grad_fn=&lt;NllLossBackward0&gt;)|\n",
       "+---------------------------------------------------------------------------+\n",
       "</pre>\n"
      ],
      "text/plain": [
       "\u001b[3m                               Training Status                               \u001b[0m\n",
       "+---------------------------------------------------------------------------+\n",
       "|\u001b[1mEpoch\u001b[0m\u001b[1m \u001b[0m|\u001b[1m \u001b[0m\u001b[1mSteps\u001b[0m\u001b[1m \u001b[0m|\u001b[1m \u001b[0m\u001b[1m                           Loss                            \u001b[0m|\n",
       "|------+-------+------------------------------------------------------------|\n",
       "|  0   |   0   | tensor(7.5742, device='cuda:0', grad_fn=<NllLossBackward0>)|\n",
       "|  0   |  10   | tensor(3.6975, device='cuda:0', grad_fn=<NllLossBackward0>)|\n",
       "|  0   |  20   | tensor(3.5060, device='cuda:0', grad_fn=<NllLossBackward0>)|\n",
       "|  0   |  30   | tensor(3.0824, device='cuda:0', grad_fn=<NllLossBackward0>)|\n",
       "|  0   |  40   | tensor(2.2840, device='cuda:0', grad_fn=<NllLossBackward0>)|\n",
       "|  0   |  50   | tensor(2.8537, device='cuda:0', grad_fn=<NllLossBackward0>)|\n",
       "|  0   |  60   | tensor(3.2243, device='cuda:0', grad_fn=<NllLossBackward0>)|\n",
       "|  0   |  70   | tensor(2.2970, device='cuda:0', grad_fn=<NllLossBackward0>)|\n",
       "+---------------------------------------------------------------------------+\n"
      ]
     },
     "metadata": {},
     "output_type": "display_data"
    },
    {
     "data": {
      "text/html": [
       "<pre style=\"white-space:pre;overflow-x:auto;line-height:normal;font-family:Menlo,'DejaVu Sans Mono',consolas,'Courier New',monospace\"><span style=\"font-style: italic\">                               Training Status                               </span>\n",
       "+---------------------------------------------------------------------------+\n",
       "|<span style=\"font-weight: bold\">Epoch </span>|<span style=\"font-weight: bold\"> Steps </span>|<span style=\"font-weight: bold\">                            Loss                            </span>|\n",
       "|------+-------+------------------------------------------------------------|\n",
       "|  0   |   0   | tensor(7.5742, device='cuda:0', grad_fn=&lt;NllLossBackward0&gt;)|\n",
       "|  0   |  10   | tensor(3.6975, device='cuda:0', grad_fn=&lt;NllLossBackward0&gt;)|\n",
       "|  0   |  20   | tensor(3.5060, device='cuda:0', grad_fn=&lt;NllLossBackward0&gt;)|\n",
       "|  0   |  30   | tensor(3.0824, device='cuda:0', grad_fn=&lt;NllLossBackward0&gt;)|\n",
       "|  0   |  40   | tensor(2.2840, device='cuda:0', grad_fn=&lt;NllLossBackward0&gt;)|\n",
       "|  0   |  50   | tensor(2.8537, device='cuda:0', grad_fn=&lt;NllLossBackward0&gt;)|\n",
       "|  0   |  60   | tensor(3.2243, device='cuda:0', grad_fn=&lt;NllLossBackward0&gt;)|\n",
       "|  0   |  70   | tensor(2.2970, device='cuda:0', grad_fn=&lt;NllLossBackward0&gt;)|\n",
       "|  0   |  80   | tensor(1.8747, device='cuda:0', grad_fn=&lt;NllLossBackward0&gt;)|\n",
       "+---------------------------------------------------------------------------+\n",
       "</pre>\n"
      ],
      "text/plain": [
       "\u001b[3m                               Training Status                               \u001b[0m\n",
       "+---------------------------------------------------------------------------+\n",
       "|\u001b[1mEpoch\u001b[0m\u001b[1m \u001b[0m|\u001b[1m \u001b[0m\u001b[1mSteps\u001b[0m\u001b[1m \u001b[0m|\u001b[1m \u001b[0m\u001b[1m                           Loss                            \u001b[0m|\n",
       "|------+-------+------------------------------------------------------------|\n",
       "|  0   |   0   | tensor(7.5742, device='cuda:0', grad_fn=<NllLossBackward0>)|\n",
       "|  0   |  10   | tensor(3.6975, device='cuda:0', grad_fn=<NllLossBackward0>)|\n",
       "|  0   |  20   | tensor(3.5060, device='cuda:0', grad_fn=<NllLossBackward0>)|\n",
       "|  0   |  30   | tensor(3.0824, device='cuda:0', grad_fn=<NllLossBackward0>)|\n",
       "|  0   |  40   | tensor(2.2840, device='cuda:0', grad_fn=<NllLossBackward0>)|\n",
       "|  0   |  50   | tensor(2.8537, device='cuda:0', grad_fn=<NllLossBackward0>)|\n",
       "|  0   |  60   | tensor(3.2243, device='cuda:0', grad_fn=<NllLossBackward0>)|\n",
       "|  0   |  70   | tensor(2.2970, device='cuda:0', grad_fn=<NllLossBackward0>)|\n",
       "|  0   |  80   | tensor(1.8747, device='cuda:0', grad_fn=<NllLossBackward0>)|\n",
       "+---------------------------------------------------------------------------+\n"
      ]
     },
     "metadata": {},
     "output_type": "display_data"
    },
    {
     "data": {
      "text/html": [
       "<pre style=\"white-space:pre;overflow-x:auto;line-height:normal;font-family:Menlo,'DejaVu Sans Mono',consolas,'Courier New',monospace\"><span style=\"font-style: italic\">                               Training Status                               </span>\n",
       "+---------------------------------------------------------------------------+\n",
       "|<span style=\"font-weight: bold\">Epoch </span>|<span style=\"font-weight: bold\"> Steps </span>|<span style=\"font-weight: bold\">                            Loss                            </span>|\n",
       "|------+-------+------------------------------------------------------------|\n",
       "|  0   |   0   | tensor(7.5742, device='cuda:0', grad_fn=&lt;NllLossBackward0&gt;)|\n",
       "|  0   |  10   | tensor(3.6975, device='cuda:0', grad_fn=&lt;NllLossBackward0&gt;)|\n",
       "|  0   |  20   | tensor(3.5060, device='cuda:0', grad_fn=&lt;NllLossBackward0&gt;)|\n",
       "|  0   |  30   | tensor(3.0824, device='cuda:0', grad_fn=&lt;NllLossBackward0&gt;)|\n",
       "|  0   |  40   | tensor(2.2840, device='cuda:0', grad_fn=&lt;NllLossBackward0&gt;)|\n",
       "|  0   |  50   | tensor(2.8537, device='cuda:0', grad_fn=&lt;NllLossBackward0&gt;)|\n",
       "|  0   |  60   | tensor(3.2243, device='cuda:0', grad_fn=&lt;NllLossBackward0&gt;)|\n",
       "|  0   |  70   | tensor(2.2970, device='cuda:0', grad_fn=&lt;NllLossBackward0&gt;)|\n",
       "|  0   |  80   | tensor(1.8747, device='cuda:0', grad_fn=&lt;NllLossBackward0&gt;)|\n",
       "|  0   |  90   | tensor(1.7005, device='cuda:0', grad_fn=&lt;NllLossBackward0&gt;)|\n",
       "+---------------------------------------------------------------------------+\n",
       "</pre>\n"
      ],
      "text/plain": [
       "\u001b[3m                               Training Status                               \u001b[0m\n",
       "+---------------------------------------------------------------------------+\n",
       "|\u001b[1mEpoch\u001b[0m\u001b[1m \u001b[0m|\u001b[1m \u001b[0m\u001b[1mSteps\u001b[0m\u001b[1m \u001b[0m|\u001b[1m \u001b[0m\u001b[1m                           Loss                            \u001b[0m|\n",
       "|------+-------+------------------------------------------------------------|\n",
       "|  0   |   0   | tensor(7.5742, device='cuda:0', grad_fn=<NllLossBackward0>)|\n",
       "|  0   |  10   | tensor(3.6975, device='cuda:0', grad_fn=<NllLossBackward0>)|\n",
       "|  0   |  20   | tensor(3.5060, device='cuda:0', grad_fn=<NllLossBackward0>)|\n",
       "|  0   |  30   | tensor(3.0824, device='cuda:0', grad_fn=<NllLossBackward0>)|\n",
       "|  0   |  40   | tensor(2.2840, device='cuda:0', grad_fn=<NllLossBackward0>)|\n",
       "|  0   |  50   | tensor(2.8537, device='cuda:0', grad_fn=<NllLossBackward0>)|\n",
       "|  0   |  60   | tensor(3.2243, device='cuda:0', grad_fn=<NllLossBackward0>)|\n",
       "|  0   |  70   | tensor(2.2970, device='cuda:0', grad_fn=<NllLossBackward0>)|\n",
       "|  0   |  80   | tensor(1.8747, device='cuda:0', grad_fn=<NllLossBackward0>)|\n",
       "|  0   |  90   | tensor(1.7005, device='cuda:0', grad_fn=<NllLossBackward0>)|\n",
       "+---------------------------------------------------------------------------+\n"
      ]
     },
     "metadata": {},
     "output_type": "display_data"
    },
    {
     "data": {
      "text/html": [
       "<pre style=\"white-space:pre;overflow-x:auto;line-height:normal;font-family:Menlo,'DejaVu Sans Mono',consolas,'Courier New',monospace\"><span style=\"font-style: italic\">                               Training Status                               </span>\n",
       "+---------------------------------------------------------------------------+\n",
       "|<span style=\"font-weight: bold\">Epoch </span>|<span style=\"font-weight: bold\"> Steps </span>|<span style=\"font-weight: bold\">                            Loss                            </span>|\n",
       "|------+-------+------------------------------------------------------------|\n",
       "|  0   |   0   | tensor(7.5742, device='cuda:0', grad_fn=&lt;NllLossBackward0&gt;)|\n",
       "|  0   |  10   | tensor(3.6975, device='cuda:0', grad_fn=&lt;NllLossBackward0&gt;)|\n",
       "|  0   |  20   | tensor(3.5060, device='cuda:0', grad_fn=&lt;NllLossBackward0&gt;)|\n",
       "|  0   |  30   | tensor(3.0824, device='cuda:0', grad_fn=&lt;NllLossBackward0&gt;)|\n",
       "|  0   |  40   | tensor(2.2840, device='cuda:0', grad_fn=&lt;NllLossBackward0&gt;)|\n",
       "|  0   |  50   | tensor(2.8537, device='cuda:0', grad_fn=&lt;NllLossBackward0&gt;)|\n",
       "|  0   |  60   | tensor(3.2243, device='cuda:0', grad_fn=&lt;NllLossBackward0&gt;)|\n",
       "|  0   |  70   | tensor(2.2970, device='cuda:0', grad_fn=&lt;NllLossBackward0&gt;)|\n",
       "|  0   |  80   | tensor(1.8747, device='cuda:0', grad_fn=&lt;NllLossBackward0&gt;)|\n",
       "|  0   |  90   | tensor(1.7005, device='cuda:0', grad_fn=&lt;NllLossBackward0&gt;)|\n",
       "|  1   |   0   | tensor(1.9897, device='cuda:0', grad_fn=&lt;NllLossBackward0&gt;)|\n",
       "+---------------------------------------------------------------------------+\n",
       "</pre>\n"
      ],
      "text/plain": [
       "\u001b[3m                               Training Status                               \u001b[0m\n",
       "+---------------------------------------------------------------------------+\n",
       "|\u001b[1mEpoch\u001b[0m\u001b[1m \u001b[0m|\u001b[1m \u001b[0m\u001b[1mSteps\u001b[0m\u001b[1m \u001b[0m|\u001b[1m \u001b[0m\u001b[1m                           Loss                            \u001b[0m|\n",
       "|------+-------+------------------------------------------------------------|\n",
       "|  0   |   0   | tensor(7.5742, device='cuda:0', grad_fn=<NllLossBackward0>)|\n",
       "|  0   |  10   | tensor(3.6975, device='cuda:0', grad_fn=<NllLossBackward0>)|\n",
       "|  0   |  20   | tensor(3.5060, device='cuda:0', grad_fn=<NllLossBackward0>)|\n",
       "|  0   |  30   | tensor(3.0824, device='cuda:0', grad_fn=<NllLossBackward0>)|\n",
       "|  0   |  40   | tensor(2.2840, device='cuda:0', grad_fn=<NllLossBackward0>)|\n",
       "|  0   |  50   | tensor(2.8537, device='cuda:0', grad_fn=<NllLossBackward0>)|\n",
       "|  0   |  60   | tensor(3.2243, device='cuda:0', grad_fn=<NllLossBackward0>)|\n",
       "|  0   |  70   | tensor(2.2970, device='cuda:0', grad_fn=<NllLossBackward0>)|\n",
       "|  0   |  80   | tensor(1.8747, device='cuda:0', grad_fn=<NllLossBackward0>)|\n",
       "|  0   |  90   | tensor(1.7005, device='cuda:0', grad_fn=<NllLossBackward0>)|\n",
       "|  1   |   0   | tensor(1.9897, device='cuda:0', grad_fn=<NllLossBackward0>)|\n",
       "+---------------------------------------------------------------------------+\n"
      ]
     },
     "metadata": {},
     "output_type": "display_data"
    },
    {
     "data": {
      "text/html": [
       "<pre style=\"white-space:pre;overflow-x:auto;line-height:normal;font-family:Menlo,'DejaVu Sans Mono',consolas,'Courier New',monospace\"><span style=\"font-style: italic\">                               Training Status                               </span>\n",
       "+---------------------------------------------------------------------------+\n",
       "|<span style=\"font-weight: bold\">Epoch </span>|<span style=\"font-weight: bold\"> Steps </span>|<span style=\"font-weight: bold\">                            Loss                            </span>|\n",
       "|------+-------+------------------------------------------------------------|\n",
       "|  0   |   0   | tensor(7.5742, device='cuda:0', grad_fn=&lt;NllLossBackward0&gt;)|\n",
       "|  0   |  10   | tensor(3.6975, device='cuda:0', grad_fn=&lt;NllLossBackward0&gt;)|\n",
       "|  0   |  20   | tensor(3.5060, device='cuda:0', grad_fn=&lt;NllLossBackward0&gt;)|\n",
       "|  0   |  30   | tensor(3.0824, device='cuda:0', grad_fn=&lt;NllLossBackward0&gt;)|\n",
       "|  0   |  40   | tensor(2.2840, device='cuda:0', grad_fn=&lt;NllLossBackward0&gt;)|\n",
       "|  0   |  50   | tensor(2.8537, device='cuda:0', grad_fn=&lt;NllLossBackward0&gt;)|\n",
       "|  0   |  60   | tensor(3.2243, device='cuda:0', grad_fn=&lt;NllLossBackward0&gt;)|\n",
       "|  0   |  70   | tensor(2.2970, device='cuda:0', grad_fn=&lt;NllLossBackward0&gt;)|\n",
       "|  0   |  80   | tensor(1.8747, device='cuda:0', grad_fn=&lt;NllLossBackward0&gt;)|\n",
       "|  0   |  90   | tensor(1.7005, device='cuda:0', grad_fn=&lt;NllLossBackward0&gt;)|\n",
       "|  1   |   0   | tensor(1.9897, device='cuda:0', grad_fn=&lt;NllLossBackward0&gt;)|\n",
       "|  1   |  10   | tensor(1.8219, device='cuda:0', grad_fn=&lt;NllLossBackward0&gt;)|\n",
       "+---------------------------------------------------------------------------+\n",
       "</pre>\n"
      ],
      "text/plain": [
       "\u001b[3m                               Training Status                               \u001b[0m\n",
       "+---------------------------------------------------------------------------+\n",
       "|\u001b[1mEpoch\u001b[0m\u001b[1m \u001b[0m|\u001b[1m \u001b[0m\u001b[1mSteps\u001b[0m\u001b[1m \u001b[0m|\u001b[1m \u001b[0m\u001b[1m                           Loss                            \u001b[0m|\n",
       "|------+-------+------------------------------------------------------------|\n",
       "|  0   |   0   | tensor(7.5742, device='cuda:0', grad_fn=<NllLossBackward0>)|\n",
       "|  0   |  10   | tensor(3.6975, device='cuda:0', grad_fn=<NllLossBackward0>)|\n",
       "|  0   |  20   | tensor(3.5060, device='cuda:0', grad_fn=<NllLossBackward0>)|\n",
       "|  0   |  30   | tensor(3.0824, device='cuda:0', grad_fn=<NllLossBackward0>)|\n",
       "|  0   |  40   | tensor(2.2840, device='cuda:0', grad_fn=<NllLossBackward0>)|\n",
       "|  0   |  50   | tensor(2.8537, device='cuda:0', grad_fn=<NllLossBackward0>)|\n",
       "|  0   |  60   | tensor(3.2243, device='cuda:0', grad_fn=<NllLossBackward0>)|\n",
       "|  0   |  70   | tensor(2.2970, device='cuda:0', grad_fn=<NllLossBackward0>)|\n",
       "|  0   |  80   | tensor(1.8747, device='cuda:0', grad_fn=<NllLossBackward0>)|\n",
       "|  0   |  90   | tensor(1.7005, device='cuda:0', grad_fn=<NllLossBackward0>)|\n",
       "|  1   |   0   | tensor(1.9897, device='cuda:0', grad_fn=<NllLossBackward0>)|\n",
       "|  1   |  10   | tensor(1.8219, device='cuda:0', grad_fn=<NllLossBackward0>)|\n",
       "+---------------------------------------------------------------------------+\n"
      ]
     },
     "metadata": {},
     "output_type": "display_data"
    },
    {
     "data": {
      "text/html": [
       "<pre style=\"white-space:pre;overflow-x:auto;line-height:normal;font-family:Menlo,'DejaVu Sans Mono',consolas,'Courier New',monospace\"><span style=\"font-style: italic\">                               Training Status                               </span>\n",
       "+---------------------------------------------------------------------------+\n",
       "|<span style=\"font-weight: bold\">Epoch </span>|<span style=\"font-weight: bold\"> Steps </span>|<span style=\"font-weight: bold\">                            Loss                            </span>|\n",
       "|------+-------+------------------------------------------------------------|\n",
       "|  0   |   0   | tensor(7.5742, device='cuda:0', grad_fn=&lt;NllLossBackward0&gt;)|\n",
       "|  0   |  10   | tensor(3.6975, device='cuda:0', grad_fn=&lt;NllLossBackward0&gt;)|\n",
       "|  0   |  20   | tensor(3.5060, device='cuda:0', grad_fn=&lt;NllLossBackward0&gt;)|\n",
       "|  0   |  30   | tensor(3.0824, device='cuda:0', grad_fn=&lt;NllLossBackward0&gt;)|\n",
       "|  0   |  40   | tensor(2.2840, device='cuda:0', grad_fn=&lt;NllLossBackward0&gt;)|\n",
       "|  0   |  50   | tensor(2.8537, device='cuda:0', grad_fn=&lt;NllLossBackward0&gt;)|\n",
       "|  0   |  60   | tensor(3.2243, device='cuda:0', grad_fn=&lt;NllLossBackward0&gt;)|\n",
       "|  0   |  70   | tensor(2.2970, device='cuda:0', grad_fn=&lt;NllLossBackward0&gt;)|\n",
       "|  0   |  80   | tensor(1.8747, device='cuda:0', grad_fn=&lt;NllLossBackward0&gt;)|\n",
       "|  0   |  90   | tensor(1.7005, device='cuda:0', grad_fn=&lt;NllLossBackward0&gt;)|\n",
       "|  1   |   0   | tensor(1.9897, device='cuda:0', grad_fn=&lt;NllLossBackward0&gt;)|\n",
       "|  1   |  10   | tensor(1.8219, device='cuda:0', grad_fn=&lt;NllLossBackward0&gt;)|\n",
       "|  1   |  20   | tensor(1.4629, device='cuda:0', grad_fn=&lt;NllLossBackward0&gt;)|\n",
       "+---------------------------------------------------------------------------+\n",
       "</pre>\n"
      ],
      "text/plain": [
       "\u001b[3m                               Training Status                               \u001b[0m\n",
       "+---------------------------------------------------------------------------+\n",
       "|\u001b[1mEpoch\u001b[0m\u001b[1m \u001b[0m|\u001b[1m \u001b[0m\u001b[1mSteps\u001b[0m\u001b[1m \u001b[0m|\u001b[1m \u001b[0m\u001b[1m                           Loss                            \u001b[0m|\n",
       "|------+-------+------------------------------------------------------------|\n",
       "|  0   |   0   | tensor(7.5742, device='cuda:0', grad_fn=<NllLossBackward0>)|\n",
       "|  0   |  10   | tensor(3.6975, device='cuda:0', grad_fn=<NllLossBackward0>)|\n",
       "|  0   |  20   | tensor(3.5060, device='cuda:0', grad_fn=<NllLossBackward0>)|\n",
       "|  0   |  30   | tensor(3.0824, device='cuda:0', grad_fn=<NllLossBackward0>)|\n",
       "|  0   |  40   | tensor(2.2840, device='cuda:0', grad_fn=<NllLossBackward0>)|\n",
       "|  0   |  50   | tensor(2.8537, device='cuda:0', grad_fn=<NllLossBackward0>)|\n",
       "|  0   |  60   | tensor(3.2243, device='cuda:0', grad_fn=<NllLossBackward0>)|\n",
       "|  0   |  70   | tensor(2.2970, device='cuda:0', grad_fn=<NllLossBackward0>)|\n",
       "|  0   |  80   | tensor(1.8747, device='cuda:0', grad_fn=<NllLossBackward0>)|\n",
       "|  0   |  90   | tensor(1.7005, device='cuda:0', grad_fn=<NllLossBackward0>)|\n",
       "|  1   |   0   | tensor(1.9897, device='cuda:0', grad_fn=<NllLossBackward0>)|\n",
       "|  1   |  10   | tensor(1.8219, device='cuda:0', grad_fn=<NllLossBackward0>)|\n",
       "|  1   |  20   | tensor(1.4629, device='cuda:0', grad_fn=<NllLossBackward0>)|\n",
       "+---------------------------------------------------------------------------+\n"
      ]
     },
     "metadata": {},
     "output_type": "display_data"
    },
    {
     "data": {
      "text/html": [
       "<pre style=\"white-space:pre;overflow-x:auto;line-height:normal;font-family:Menlo,'DejaVu Sans Mono',consolas,'Courier New',monospace\"><span style=\"font-style: italic\">                               Training Status                               </span>\n",
       "+---------------------------------------------------------------------------+\n",
       "|<span style=\"font-weight: bold\">Epoch </span>|<span style=\"font-weight: bold\"> Steps </span>|<span style=\"font-weight: bold\">                            Loss                            </span>|\n",
       "|------+-------+------------------------------------------------------------|\n",
       "|  0   |   0   | tensor(7.5742, device='cuda:0', grad_fn=&lt;NllLossBackward0&gt;)|\n",
       "|  0   |  10   | tensor(3.6975, device='cuda:0', grad_fn=&lt;NllLossBackward0&gt;)|\n",
       "|  0   |  20   | tensor(3.5060, device='cuda:0', grad_fn=&lt;NllLossBackward0&gt;)|\n",
       "|  0   |  30   | tensor(3.0824, device='cuda:0', grad_fn=&lt;NllLossBackward0&gt;)|\n",
       "|  0   |  40   | tensor(2.2840, device='cuda:0', grad_fn=&lt;NllLossBackward0&gt;)|\n",
       "|  0   |  50   | tensor(2.8537, device='cuda:0', grad_fn=&lt;NllLossBackward0&gt;)|\n",
       "|  0   |  60   | tensor(3.2243, device='cuda:0', grad_fn=&lt;NllLossBackward0&gt;)|\n",
       "|  0   |  70   | tensor(2.2970, device='cuda:0', grad_fn=&lt;NllLossBackward0&gt;)|\n",
       "|  0   |  80   | tensor(1.8747, device='cuda:0', grad_fn=&lt;NllLossBackward0&gt;)|\n",
       "|  0   |  90   | tensor(1.7005, device='cuda:0', grad_fn=&lt;NllLossBackward0&gt;)|\n",
       "|  1   |   0   | tensor(1.9897, device='cuda:0', grad_fn=&lt;NllLossBackward0&gt;)|\n",
       "|  1   |  10   | tensor(1.8219, device='cuda:0', grad_fn=&lt;NllLossBackward0&gt;)|\n",
       "|  1   |  20   | tensor(1.4629, device='cuda:0', grad_fn=&lt;NllLossBackward0&gt;)|\n",
       "|  1   |  30   | tensor(1.7484, device='cuda:0', grad_fn=&lt;NllLossBackward0&gt;)|\n",
       "+---------------------------------------------------------------------------+\n",
       "</pre>\n"
      ],
      "text/plain": [
       "\u001b[3m                               Training Status                               \u001b[0m\n",
       "+---------------------------------------------------------------------------+\n",
       "|\u001b[1mEpoch\u001b[0m\u001b[1m \u001b[0m|\u001b[1m \u001b[0m\u001b[1mSteps\u001b[0m\u001b[1m \u001b[0m|\u001b[1m \u001b[0m\u001b[1m                           Loss                            \u001b[0m|\n",
       "|------+-------+------------------------------------------------------------|\n",
       "|  0   |   0   | tensor(7.5742, device='cuda:0', grad_fn=<NllLossBackward0>)|\n",
       "|  0   |  10   | tensor(3.6975, device='cuda:0', grad_fn=<NllLossBackward0>)|\n",
       "|  0   |  20   | tensor(3.5060, device='cuda:0', grad_fn=<NllLossBackward0>)|\n",
       "|  0   |  30   | tensor(3.0824, device='cuda:0', grad_fn=<NllLossBackward0>)|\n",
       "|  0   |  40   | tensor(2.2840, device='cuda:0', grad_fn=<NllLossBackward0>)|\n",
       "|  0   |  50   | tensor(2.8537, device='cuda:0', grad_fn=<NllLossBackward0>)|\n",
       "|  0   |  60   | tensor(3.2243, device='cuda:0', grad_fn=<NllLossBackward0>)|\n",
       "|  0   |  70   | tensor(2.2970, device='cuda:0', grad_fn=<NllLossBackward0>)|\n",
       "|  0   |  80   | tensor(1.8747, device='cuda:0', grad_fn=<NllLossBackward0>)|\n",
       "|  0   |  90   | tensor(1.7005, device='cuda:0', grad_fn=<NllLossBackward0>)|\n",
       "|  1   |   0   | tensor(1.9897, device='cuda:0', grad_fn=<NllLossBackward0>)|\n",
       "|  1   |  10   | tensor(1.8219, device='cuda:0', grad_fn=<NllLossBackward0>)|\n",
       "|  1   |  20   | tensor(1.4629, device='cuda:0', grad_fn=<NllLossBackward0>)|\n",
       "|  1   |  30   | tensor(1.7484, device='cuda:0', grad_fn=<NllLossBackward0>)|\n",
       "+---------------------------------------------------------------------------+\n"
      ]
     },
     "metadata": {},
     "output_type": "display_data"
    },
    {
     "data": {
      "text/html": [
       "<pre style=\"white-space:pre;overflow-x:auto;line-height:normal;font-family:Menlo,'DejaVu Sans Mono',consolas,'Courier New',monospace\"><span style=\"font-style: italic\">                               Training Status                               </span>\n",
       "+---------------------------------------------------------------------------+\n",
       "|<span style=\"font-weight: bold\">Epoch </span>|<span style=\"font-weight: bold\"> Steps </span>|<span style=\"font-weight: bold\">                            Loss                            </span>|\n",
       "|------+-------+------------------------------------------------------------|\n",
       "|  0   |   0   | tensor(7.5742, device='cuda:0', grad_fn=&lt;NllLossBackward0&gt;)|\n",
       "|  0   |  10   | tensor(3.6975, device='cuda:0', grad_fn=&lt;NllLossBackward0&gt;)|\n",
       "|  0   |  20   | tensor(3.5060, device='cuda:0', grad_fn=&lt;NllLossBackward0&gt;)|\n",
       "|  0   |  30   | tensor(3.0824, device='cuda:0', grad_fn=&lt;NllLossBackward0&gt;)|\n",
       "|  0   |  40   | tensor(2.2840, device='cuda:0', grad_fn=&lt;NllLossBackward0&gt;)|\n",
       "|  0   |  50   | tensor(2.8537, device='cuda:0', grad_fn=&lt;NllLossBackward0&gt;)|\n",
       "|  0   |  60   | tensor(3.2243, device='cuda:0', grad_fn=&lt;NllLossBackward0&gt;)|\n",
       "|  0   |  70   | tensor(2.2970, device='cuda:0', grad_fn=&lt;NllLossBackward0&gt;)|\n",
       "|  0   |  80   | tensor(1.8747, device='cuda:0', grad_fn=&lt;NllLossBackward0&gt;)|\n",
       "|  0   |  90   | tensor(1.7005, device='cuda:0', grad_fn=&lt;NllLossBackward0&gt;)|\n",
       "|  1   |   0   | tensor(1.9897, device='cuda:0', grad_fn=&lt;NllLossBackward0&gt;)|\n",
       "|  1   |  10   | tensor(1.8219, device='cuda:0', grad_fn=&lt;NllLossBackward0&gt;)|\n",
       "|  1   |  20   | tensor(1.4629, device='cuda:0', grad_fn=&lt;NllLossBackward0&gt;)|\n",
       "|  1   |  30   | tensor(1.7484, device='cuda:0', grad_fn=&lt;NllLossBackward0&gt;)|\n",
       "|  1   |  40   | tensor(1.7815, device='cuda:0', grad_fn=&lt;NllLossBackward0&gt;)|\n",
       "+---------------------------------------------------------------------------+\n",
       "</pre>\n"
      ],
      "text/plain": [
       "\u001b[3m                               Training Status                               \u001b[0m\n",
       "+---------------------------------------------------------------------------+\n",
       "|\u001b[1mEpoch\u001b[0m\u001b[1m \u001b[0m|\u001b[1m \u001b[0m\u001b[1mSteps\u001b[0m\u001b[1m \u001b[0m|\u001b[1m \u001b[0m\u001b[1m                           Loss                            \u001b[0m|\n",
       "|------+-------+------------------------------------------------------------|\n",
       "|  0   |   0   | tensor(7.5742, device='cuda:0', grad_fn=<NllLossBackward0>)|\n",
       "|  0   |  10   | tensor(3.6975, device='cuda:0', grad_fn=<NllLossBackward0>)|\n",
       "|  0   |  20   | tensor(3.5060, device='cuda:0', grad_fn=<NllLossBackward0>)|\n",
       "|  0   |  30   | tensor(3.0824, device='cuda:0', grad_fn=<NllLossBackward0>)|\n",
       "|  0   |  40   | tensor(2.2840, device='cuda:0', grad_fn=<NllLossBackward0>)|\n",
       "|  0   |  50   | tensor(2.8537, device='cuda:0', grad_fn=<NllLossBackward0>)|\n",
       "|  0   |  60   | tensor(3.2243, device='cuda:0', grad_fn=<NllLossBackward0>)|\n",
       "|  0   |  70   | tensor(2.2970, device='cuda:0', grad_fn=<NllLossBackward0>)|\n",
       "|  0   |  80   | tensor(1.8747, device='cuda:0', grad_fn=<NllLossBackward0>)|\n",
       "|  0   |  90   | tensor(1.7005, device='cuda:0', grad_fn=<NllLossBackward0>)|\n",
       "|  1   |   0   | tensor(1.9897, device='cuda:0', grad_fn=<NllLossBackward0>)|\n",
       "|  1   |  10   | tensor(1.8219, device='cuda:0', grad_fn=<NllLossBackward0>)|\n",
       "|  1   |  20   | tensor(1.4629, device='cuda:0', grad_fn=<NllLossBackward0>)|\n",
       "|  1   |  30   | tensor(1.7484, device='cuda:0', grad_fn=<NllLossBackward0>)|\n",
       "|  1   |  40   | tensor(1.7815, device='cuda:0', grad_fn=<NllLossBackward0>)|\n",
       "+---------------------------------------------------------------------------+\n"
      ]
     },
     "metadata": {},
     "output_type": "display_data"
    },
    {
     "data": {
      "text/html": [
       "<pre style=\"white-space:pre;overflow-x:auto;line-height:normal;font-family:Menlo,'DejaVu Sans Mono',consolas,'Courier New',monospace\"><span style=\"font-style: italic\">                               Training Status                               </span>\n",
       "+---------------------------------------------------------------------------+\n",
       "|<span style=\"font-weight: bold\">Epoch </span>|<span style=\"font-weight: bold\"> Steps </span>|<span style=\"font-weight: bold\">                            Loss                            </span>|\n",
       "|------+-------+------------------------------------------------------------|\n",
       "|  0   |   0   | tensor(7.5742, device='cuda:0', grad_fn=&lt;NllLossBackward0&gt;)|\n",
       "|  0   |  10   | tensor(3.6975, device='cuda:0', grad_fn=&lt;NllLossBackward0&gt;)|\n",
       "|  0   |  20   | tensor(3.5060, device='cuda:0', grad_fn=&lt;NllLossBackward0&gt;)|\n",
       "|  0   |  30   | tensor(3.0824, device='cuda:0', grad_fn=&lt;NllLossBackward0&gt;)|\n",
       "|  0   |  40   | tensor(2.2840, device='cuda:0', grad_fn=&lt;NllLossBackward0&gt;)|\n",
       "|  0   |  50   | tensor(2.8537, device='cuda:0', grad_fn=&lt;NllLossBackward0&gt;)|\n",
       "|  0   |  60   | tensor(3.2243, device='cuda:0', grad_fn=&lt;NllLossBackward0&gt;)|\n",
       "|  0   |  70   | tensor(2.2970, device='cuda:0', grad_fn=&lt;NllLossBackward0&gt;)|\n",
       "|  0   |  80   | tensor(1.8747, device='cuda:0', grad_fn=&lt;NllLossBackward0&gt;)|\n",
       "|  0   |  90   | tensor(1.7005, device='cuda:0', grad_fn=&lt;NllLossBackward0&gt;)|\n",
       "|  1   |   0   | tensor(1.9897, device='cuda:0', grad_fn=&lt;NllLossBackward0&gt;)|\n",
       "|  1   |  10   | tensor(1.8219, device='cuda:0', grad_fn=&lt;NllLossBackward0&gt;)|\n",
       "|  1   |  20   | tensor(1.4629, device='cuda:0', grad_fn=&lt;NllLossBackward0&gt;)|\n",
       "|  1   |  30   | tensor(1.7484, device='cuda:0', grad_fn=&lt;NllLossBackward0&gt;)|\n",
       "|  1   |  40   | tensor(1.7815, device='cuda:0', grad_fn=&lt;NllLossBackward0&gt;)|\n",
       "|  1   |  50   | tensor(1.8314, device='cuda:0', grad_fn=&lt;NllLossBackward0&gt;)|\n",
       "+---------------------------------------------------------------------------+\n",
       "</pre>\n"
      ],
      "text/plain": [
       "\u001b[3m                               Training Status                               \u001b[0m\n",
       "+---------------------------------------------------------------------------+\n",
       "|\u001b[1mEpoch\u001b[0m\u001b[1m \u001b[0m|\u001b[1m \u001b[0m\u001b[1mSteps\u001b[0m\u001b[1m \u001b[0m|\u001b[1m \u001b[0m\u001b[1m                           Loss                            \u001b[0m|\n",
       "|------+-------+------------------------------------------------------------|\n",
       "|  0   |   0   | tensor(7.5742, device='cuda:0', grad_fn=<NllLossBackward0>)|\n",
       "|  0   |  10   | tensor(3.6975, device='cuda:0', grad_fn=<NllLossBackward0>)|\n",
       "|  0   |  20   | tensor(3.5060, device='cuda:0', grad_fn=<NllLossBackward0>)|\n",
       "|  0   |  30   | tensor(3.0824, device='cuda:0', grad_fn=<NllLossBackward0>)|\n",
       "|  0   |  40   | tensor(2.2840, device='cuda:0', grad_fn=<NllLossBackward0>)|\n",
       "|  0   |  50   | tensor(2.8537, device='cuda:0', grad_fn=<NllLossBackward0>)|\n",
       "|  0   |  60   | tensor(3.2243, device='cuda:0', grad_fn=<NllLossBackward0>)|\n",
       "|  0   |  70   | tensor(2.2970, device='cuda:0', grad_fn=<NllLossBackward0>)|\n",
       "|  0   |  80   | tensor(1.8747, device='cuda:0', grad_fn=<NllLossBackward0>)|\n",
       "|  0   |  90   | tensor(1.7005, device='cuda:0', grad_fn=<NllLossBackward0>)|\n",
       "|  1   |   0   | tensor(1.9897, device='cuda:0', grad_fn=<NllLossBackward0>)|\n",
       "|  1   |  10   | tensor(1.8219, device='cuda:0', grad_fn=<NllLossBackward0>)|\n",
       "|  1   |  20   | tensor(1.4629, device='cuda:0', grad_fn=<NllLossBackward0>)|\n",
       "|  1   |  30   | tensor(1.7484, device='cuda:0', grad_fn=<NllLossBackward0>)|\n",
       "|  1   |  40   | tensor(1.7815, device='cuda:0', grad_fn=<NllLossBackward0>)|\n",
       "|  1   |  50   | tensor(1.8314, device='cuda:0', grad_fn=<NllLossBackward0>)|\n",
       "+---------------------------------------------------------------------------+\n"
      ]
     },
     "metadata": {},
     "output_type": "display_data"
    },
    {
     "data": {
      "text/html": [
       "<pre style=\"white-space:pre;overflow-x:auto;line-height:normal;font-family:Menlo,'DejaVu Sans Mono',consolas,'Courier New',monospace\"><span style=\"font-style: italic\">                               Training Status                               </span>\n",
       "+---------------------------------------------------------------------------+\n",
       "|<span style=\"font-weight: bold\">Epoch </span>|<span style=\"font-weight: bold\"> Steps </span>|<span style=\"font-weight: bold\">                            Loss                            </span>|\n",
       "|------+-------+------------------------------------------------------------|\n",
       "|  0   |   0   | tensor(7.5742, device='cuda:0', grad_fn=&lt;NllLossBackward0&gt;)|\n",
       "|  0   |  10   | tensor(3.6975, device='cuda:0', grad_fn=&lt;NllLossBackward0&gt;)|\n",
       "|  0   |  20   | tensor(3.5060, device='cuda:0', grad_fn=&lt;NllLossBackward0&gt;)|\n",
       "|  0   |  30   | tensor(3.0824, device='cuda:0', grad_fn=&lt;NllLossBackward0&gt;)|\n",
       "|  0   |  40   | tensor(2.2840, device='cuda:0', grad_fn=&lt;NllLossBackward0&gt;)|\n",
       "|  0   |  50   | tensor(2.8537, device='cuda:0', grad_fn=&lt;NllLossBackward0&gt;)|\n",
       "|  0   |  60   | tensor(3.2243, device='cuda:0', grad_fn=&lt;NllLossBackward0&gt;)|\n",
       "|  0   |  70   | tensor(2.2970, device='cuda:0', grad_fn=&lt;NllLossBackward0&gt;)|\n",
       "|  0   |  80   | tensor(1.8747, device='cuda:0', grad_fn=&lt;NllLossBackward0&gt;)|\n",
       "|  0   |  90   | tensor(1.7005, device='cuda:0', grad_fn=&lt;NllLossBackward0&gt;)|\n",
       "|  1   |   0   | tensor(1.9897, device='cuda:0', grad_fn=&lt;NllLossBackward0&gt;)|\n",
       "|  1   |  10   | tensor(1.8219, device='cuda:0', grad_fn=&lt;NllLossBackward0&gt;)|\n",
       "|  1   |  20   | tensor(1.4629, device='cuda:0', grad_fn=&lt;NllLossBackward0&gt;)|\n",
       "|  1   |  30   | tensor(1.7484, device='cuda:0', grad_fn=&lt;NllLossBackward0&gt;)|\n",
       "|  1   |  40   | tensor(1.7815, device='cuda:0', grad_fn=&lt;NllLossBackward0&gt;)|\n",
       "|  1   |  50   | tensor(1.8314, device='cuda:0', grad_fn=&lt;NllLossBackward0&gt;)|\n",
       "|  1   |  60   | tensor(1.9199, device='cuda:0', grad_fn=&lt;NllLossBackward0&gt;)|\n",
       "+---------------------------------------------------------------------------+\n",
       "</pre>\n"
      ],
      "text/plain": [
       "\u001b[3m                               Training Status                               \u001b[0m\n",
       "+---------------------------------------------------------------------------+\n",
       "|\u001b[1mEpoch\u001b[0m\u001b[1m \u001b[0m|\u001b[1m \u001b[0m\u001b[1mSteps\u001b[0m\u001b[1m \u001b[0m|\u001b[1m \u001b[0m\u001b[1m                           Loss                            \u001b[0m|\n",
       "|------+-------+------------------------------------------------------------|\n",
       "|  0   |   0   | tensor(7.5742, device='cuda:0', grad_fn=<NllLossBackward0>)|\n",
       "|  0   |  10   | tensor(3.6975, device='cuda:0', grad_fn=<NllLossBackward0>)|\n",
       "|  0   |  20   | tensor(3.5060, device='cuda:0', grad_fn=<NllLossBackward0>)|\n",
       "|  0   |  30   | tensor(3.0824, device='cuda:0', grad_fn=<NllLossBackward0>)|\n",
       "|  0   |  40   | tensor(2.2840, device='cuda:0', grad_fn=<NllLossBackward0>)|\n",
       "|  0   |  50   | tensor(2.8537, device='cuda:0', grad_fn=<NllLossBackward0>)|\n",
       "|  0   |  60   | tensor(3.2243, device='cuda:0', grad_fn=<NllLossBackward0>)|\n",
       "|  0   |  70   | tensor(2.2970, device='cuda:0', grad_fn=<NllLossBackward0>)|\n",
       "|  0   |  80   | tensor(1.8747, device='cuda:0', grad_fn=<NllLossBackward0>)|\n",
       "|  0   |  90   | tensor(1.7005, device='cuda:0', grad_fn=<NllLossBackward0>)|\n",
       "|  1   |   0   | tensor(1.9897, device='cuda:0', grad_fn=<NllLossBackward0>)|\n",
       "|  1   |  10   | tensor(1.8219, device='cuda:0', grad_fn=<NllLossBackward0>)|\n",
       "|  1   |  20   | tensor(1.4629, device='cuda:0', grad_fn=<NllLossBackward0>)|\n",
       "|  1   |  30   | tensor(1.7484, device='cuda:0', grad_fn=<NllLossBackward0>)|\n",
       "|  1   |  40   | tensor(1.7815, device='cuda:0', grad_fn=<NllLossBackward0>)|\n",
       "|  1   |  50   | tensor(1.8314, device='cuda:0', grad_fn=<NllLossBackward0>)|\n",
       "|  1   |  60   | tensor(1.9199, device='cuda:0', grad_fn=<NllLossBackward0>)|\n",
       "+---------------------------------------------------------------------------+\n"
      ]
     },
     "metadata": {},
     "output_type": "display_data"
    },
    {
     "data": {
      "text/html": [
       "<pre style=\"white-space:pre;overflow-x:auto;line-height:normal;font-family:Menlo,'DejaVu Sans Mono',consolas,'Courier New',monospace\"><span style=\"font-style: italic\">                               Training Status                               </span>\n",
       "+---------------------------------------------------------------------------+\n",
       "|<span style=\"font-weight: bold\">Epoch </span>|<span style=\"font-weight: bold\"> Steps </span>|<span style=\"font-weight: bold\">                            Loss                            </span>|\n",
       "|------+-------+------------------------------------------------------------|\n",
       "|  0   |   0   | tensor(7.5742, device='cuda:0', grad_fn=&lt;NllLossBackward0&gt;)|\n",
       "|  0   |  10   | tensor(3.6975, device='cuda:0', grad_fn=&lt;NllLossBackward0&gt;)|\n",
       "|  0   |  20   | tensor(3.5060, device='cuda:0', grad_fn=&lt;NllLossBackward0&gt;)|\n",
       "|  0   |  30   | tensor(3.0824, device='cuda:0', grad_fn=&lt;NllLossBackward0&gt;)|\n",
       "|  0   |  40   | tensor(2.2840, device='cuda:0', grad_fn=&lt;NllLossBackward0&gt;)|\n",
       "|  0   |  50   | tensor(2.8537, device='cuda:0', grad_fn=&lt;NllLossBackward0&gt;)|\n",
       "|  0   |  60   | tensor(3.2243, device='cuda:0', grad_fn=&lt;NllLossBackward0&gt;)|\n",
       "|  0   |  70   | tensor(2.2970, device='cuda:0', grad_fn=&lt;NllLossBackward0&gt;)|\n",
       "|  0   |  80   | tensor(1.8747, device='cuda:0', grad_fn=&lt;NllLossBackward0&gt;)|\n",
       "|  0   |  90   | tensor(1.7005, device='cuda:0', grad_fn=&lt;NllLossBackward0&gt;)|\n",
       "|  1   |   0   | tensor(1.9897, device='cuda:0', grad_fn=&lt;NllLossBackward0&gt;)|\n",
       "|  1   |  10   | tensor(1.8219, device='cuda:0', grad_fn=&lt;NllLossBackward0&gt;)|\n",
       "|  1   |  20   | tensor(1.4629, device='cuda:0', grad_fn=&lt;NllLossBackward0&gt;)|\n",
       "|  1   |  30   | tensor(1.7484, device='cuda:0', grad_fn=&lt;NllLossBackward0&gt;)|\n",
       "|  1   |  40   | tensor(1.7815, device='cuda:0', grad_fn=&lt;NllLossBackward0&gt;)|\n",
       "|  1   |  50   | tensor(1.8314, device='cuda:0', grad_fn=&lt;NllLossBackward0&gt;)|\n",
       "|  1   |  60   | tensor(1.9199, device='cuda:0', grad_fn=&lt;NllLossBackward0&gt;)|\n",
       "|  1   |  70   | tensor(1.5015, device='cuda:0', grad_fn=&lt;NllLossBackward0&gt;)|\n",
       "+---------------------------------------------------------------------------+\n",
       "</pre>\n"
      ],
      "text/plain": [
       "\u001b[3m                               Training Status                               \u001b[0m\n",
       "+---------------------------------------------------------------------------+\n",
       "|\u001b[1mEpoch\u001b[0m\u001b[1m \u001b[0m|\u001b[1m \u001b[0m\u001b[1mSteps\u001b[0m\u001b[1m \u001b[0m|\u001b[1m \u001b[0m\u001b[1m                           Loss                            \u001b[0m|\n",
       "|------+-------+------------------------------------------------------------|\n",
       "|  0   |   0   | tensor(7.5742, device='cuda:0', grad_fn=<NllLossBackward0>)|\n",
       "|  0   |  10   | tensor(3.6975, device='cuda:0', grad_fn=<NllLossBackward0>)|\n",
       "|  0   |  20   | tensor(3.5060, device='cuda:0', grad_fn=<NllLossBackward0>)|\n",
       "|  0   |  30   | tensor(3.0824, device='cuda:0', grad_fn=<NllLossBackward0>)|\n",
       "|  0   |  40   | tensor(2.2840, device='cuda:0', grad_fn=<NllLossBackward0>)|\n",
       "|  0   |  50   | tensor(2.8537, device='cuda:0', grad_fn=<NllLossBackward0>)|\n",
       "|  0   |  60   | tensor(3.2243, device='cuda:0', grad_fn=<NllLossBackward0>)|\n",
       "|  0   |  70   | tensor(2.2970, device='cuda:0', grad_fn=<NllLossBackward0>)|\n",
       "|  0   |  80   | tensor(1.8747, device='cuda:0', grad_fn=<NllLossBackward0>)|\n",
       "|  0   |  90   | tensor(1.7005, device='cuda:0', grad_fn=<NllLossBackward0>)|\n",
       "|  1   |   0   | tensor(1.9897, device='cuda:0', grad_fn=<NllLossBackward0>)|\n",
       "|  1   |  10   | tensor(1.8219, device='cuda:0', grad_fn=<NllLossBackward0>)|\n",
       "|  1   |  20   | tensor(1.4629, device='cuda:0', grad_fn=<NllLossBackward0>)|\n",
       "|  1   |  30   | tensor(1.7484, device='cuda:0', grad_fn=<NllLossBackward0>)|\n",
       "|  1   |  40   | tensor(1.7815, device='cuda:0', grad_fn=<NllLossBackward0>)|\n",
       "|  1   |  50   | tensor(1.8314, device='cuda:0', grad_fn=<NllLossBackward0>)|\n",
       "|  1   |  60   | tensor(1.9199, device='cuda:0', grad_fn=<NllLossBackward0>)|\n",
       "|  1   |  70   | tensor(1.5015, device='cuda:0', grad_fn=<NllLossBackward0>)|\n",
       "+---------------------------------------------------------------------------+\n"
      ]
     },
     "metadata": {},
     "output_type": "display_data"
    },
    {
     "data": {
      "text/html": [
       "<pre style=\"white-space:pre;overflow-x:auto;line-height:normal;font-family:Menlo,'DejaVu Sans Mono',consolas,'Courier New',monospace\"><span style=\"font-style: italic\">                               Training Status                               </span>\n",
       "+---------------------------------------------------------------------------+\n",
       "|<span style=\"font-weight: bold\">Epoch </span>|<span style=\"font-weight: bold\"> Steps </span>|<span style=\"font-weight: bold\">                            Loss                            </span>|\n",
       "|------+-------+------------------------------------------------------------|\n",
       "|  0   |   0   | tensor(7.5742, device='cuda:0', grad_fn=&lt;NllLossBackward0&gt;)|\n",
       "|  0   |  10   | tensor(3.6975, device='cuda:0', grad_fn=&lt;NllLossBackward0&gt;)|\n",
       "|  0   |  20   | tensor(3.5060, device='cuda:0', grad_fn=&lt;NllLossBackward0&gt;)|\n",
       "|  0   |  30   | tensor(3.0824, device='cuda:0', grad_fn=&lt;NllLossBackward0&gt;)|\n",
       "|  0   |  40   | tensor(2.2840, device='cuda:0', grad_fn=&lt;NllLossBackward0&gt;)|\n",
       "|  0   |  50   | tensor(2.8537, device='cuda:0', grad_fn=&lt;NllLossBackward0&gt;)|\n",
       "|  0   |  60   | tensor(3.2243, device='cuda:0', grad_fn=&lt;NllLossBackward0&gt;)|\n",
       "|  0   |  70   | tensor(2.2970, device='cuda:0', grad_fn=&lt;NllLossBackward0&gt;)|\n",
       "|  0   |  80   | tensor(1.8747, device='cuda:0', grad_fn=&lt;NllLossBackward0&gt;)|\n",
       "|  0   |  90   | tensor(1.7005, device='cuda:0', grad_fn=&lt;NllLossBackward0&gt;)|\n",
       "|  1   |   0   | tensor(1.9897, device='cuda:0', grad_fn=&lt;NllLossBackward0&gt;)|\n",
       "|  1   |  10   | tensor(1.8219, device='cuda:0', grad_fn=&lt;NllLossBackward0&gt;)|\n",
       "|  1   |  20   | tensor(1.4629, device='cuda:0', grad_fn=&lt;NllLossBackward0&gt;)|\n",
       "|  1   |  30   | tensor(1.7484, device='cuda:0', grad_fn=&lt;NllLossBackward0&gt;)|\n",
       "|  1   |  40   | tensor(1.7815, device='cuda:0', grad_fn=&lt;NllLossBackward0&gt;)|\n",
       "|  1   |  50   | tensor(1.8314, device='cuda:0', grad_fn=&lt;NllLossBackward0&gt;)|\n",
       "|  1   |  60   | tensor(1.9199, device='cuda:0', grad_fn=&lt;NllLossBackward0&gt;)|\n",
       "|  1   |  70   | tensor(1.5015, device='cuda:0', grad_fn=&lt;NllLossBackward0&gt;)|\n",
       "|  1   |  80   | tensor(1.8751, device='cuda:0', grad_fn=&lt;NllLossBackward0&gt;)|\n",
       "+---------------------------------------------------------------------------+\n",
       "</pre>\n"
      ],
      "text/plain": [
       "\u001b[3m                               Training Status                               \u001b[0m\n",
       "+---------------------------------------------------------------------------+\n",
       "|\u001b[1mEpoch\u001b[0m\u001b[1m \u001b[0m|\u001b[1m \u001b[0m\u001b[1mSteps\u001b[0m\u001b[1m \u001b[0m|\u001b[1m \u001b[0m\u001b[1m                           Loss                            \u001b[0m|\n",
       "|------+-------+------------------------------------------------------------|\n",
       "|  0   |   0   | tensor(7.5742, device='cuda:0', grad_fn=<NllLossBackward0>)|\n",
       "|  0   |  10   | tensor(3.6975, device='cuda:0', grad_fn=<NllLossBackward0>)|\n",
       "|  0   |  20   | tensor(3.5060, device='cuda:0', grad_fn=<NllLossBackward0>)|\n",
       "|  0   |  30   | tensor(3.0824, device='cuda:0', grad_fn=<NllLossBackward0>)|\n",
       "|  0   |  40   | tensor(2.2840, device='cuda:0', grad_fn=<NllLossBackward0>)|\n",
       "|  0   |  50   | tensor(2.8537, device='cuda:0', grad_fn=<NllLossBackward0>)|\n",
       "|  0   |  60   | tensor(3.2243, device='cuda:0', grad_fn=<NllLossBackward0>)|\n",
       "|  0   |  70   | tensor(2.2970, device='cuda:0', grad_fn=<NllLossBackward0>)|\n",
       "|  0   |  80   | tensor(1.8747, device='cuda:0', grad_fn=<NllLossBackward0>)|\n",
       "|  0   |  90   | tensor(1.7005, device='cuda:0', grad_fn=<NllLossBackward0>)|\n",
       "|  1   |   0   | tensor(1.9897, device='cuda:0', grad_fn=<NllLossBackward0>)|\n",
       "|  1   |  10   | tensor(1.8219, device='cuda:0', grad_fn=<NllLossBackward0>)|\n",
       "|  1   |  20   | tensor(1.4629, device='cuda:0', grad_fn=<NllLossBackward0>)|\n",
       "|  1   |  30   | tensor(1.7484, device='cuda:0', grad_fn=<NllLossBackward0>)|\n",
       "|  1   |  40   | tensor(1.7815, device='cuda:0', grad_fn=<NllLossBackward0>)|\n",
       "|  1   |  50   | tensor(1.8314, device='cuda:0', grad_fn=<NllLossBackward0>)|\n",
       "|  1   |  60   | tensor(1.9199, device='cuda:0', grad_fn=<NllLossBackward0>)|\n",
       "|  1   |  70   | tensor(1.5015, device='cuda:0', grad_fn=<NllLossBackward0>)|\n",
       "|  1   |  80   | tensor(1.8751, device='cuda:0', grad_fn=<NllLossBackward0>)|\n",
       "+---------------------------------------------------------------------------+\n"
      ]
     },
     "metadata": {},
     "output_type": "display_data"
    },
    {
     "data": {
      "text/html": [
       "<pre style=\"white-space:pre;overflow-x:auto;line-height:normal;font-family:Menlo,'DejaVu Sans Mono',consolas,'Courier New',monospace\"><span style=\"font-style: italic\">                               Training Status                               </span>\n",
       "+---------------------------------------------------------------------------+\n",
       "|<span style=\"font-weight: bold\">Epoch </span>|<span style=\"font-weight: bold\"> Steps </span>|<span style=\"font-weight: bold\">                            Loss                            </span>|\n",
       "|------+-------+------------------------------------------------------------|\n",
       "|  0   |   0   | tensor(7.5742, device='cuda:0', grad_fn=&lt;NllLossBackward0&gt;)|\n",
       "|  0   |  10   | tensor(3.6975, device='cuda:0', grad_fn=&lt;NllLossBackward0&gt;)|\n",
       "|  0   |  20   | tensor(3.5060, device='cuda:0', grad_fn=&lt;NllLossBackward0&gt;)|\n",
       "|  0   |  30   | tensor(3.0824, device='cuda:0', grad_fn=&lt;NllLossBackward0&gt;)|\n",
       "|  0   |  40   | tensor(2.2840, device='cuda:0', grad_fn=&lt;NllLossBackward0&gt;)|\n",
       "|  0   |  50   | tensor(2.8537, device='cuda:0', grad_fn=&lt;NllLossBackward0&gt;)|\n",
       "|  0   |  60   | tensor(3.2243, device='cuda:0', grad_fn=&lt;NllLossBackward0&gt;)|\n",
       "|  0   |  70   | tensor(2.2970, device='cuda:0', grad_fn=&lt;NllLossBackward0&gt;)|\n",
       "|  0   |  80   | tensor(1.8747, device='cuda:0', grad_fn=&lt;NllLossBackward0&gt;)|\n",
       "|  0   |  90   | tensor(1.7005, device='cuda:0', grad_fn=&lt;NllLossBackward0&gt;)|\n",
       "|  1   |   0   | tensor(1.9897, device='cuda:0', grad_fn=&lt;NllLossBackward0&gt;)|\n",
       "|  1   |  10   | tensor(1.8219, device='cuda:0', grad_fn=&lt;NllLossBackward0&gt;)|\n",
       "|  1   |  20   | tensor(1.4629, device='cuda:0', grad_fn=&lt;NllLossBackward0&gt;)|\n",
       "|  1   |  30   | tensor(1.7484, device='cuda:0', grad_fn=&lt;NllLossBackward0&gt;)|\n",
       "|  1   |  40   | tensor(1.7815, device='cuda:0', grad_fn=&lt;NllLossBackward0&gt;)|\n",
       "|  1   |  50   | tensor(1.8314, device='cuda:0', grad_fn=&lt;NllLossBackward0&gt;)|\n",
       "|  1   |  60   | tensor(1.9199, device='cuda:0', grad_fn=&lt;NllLossBackward0&gt;)|\n",
       "|  1   |  70   | tensor(1.5015, device='cuda:0', grad_fn=&lt;NllLossBackward0&gt;)|\n",
       "|  1   |  80   | tensor(1.8751, device='cuda:0', grad_fn=&lt;NllLossBackward0&gt;)|\n",
       "|  1   |  90   | tensor(1.3935, device='cuda:0', grad_fn=&lt;NllLossBackward0&gt;)|\n",
       "+---------------------------------------------------------------------------+\n",
       "</pre>\n"
      ],
      "text/plain": [
       "\u001b[3m                               Training Status                               \u001b[0m\n",
       "+---------------------------------------------------------------------------+\n",
       "|\u001b[1mEpoch\u001b[0m\u001b[1m \u001b[0m|\u001b[1m \u001b[0m\u001b[1mSteps\u001b[0m\u001b[1m \u001b[0m|\u001b[1m \u001b[0m\u001b[1m                           Loss                            \u001b[0m|\n",
       "|------+-------+------------------------------------------------------------|\n",
       "|  0   |   0   | tensor(7.5742, device='cuda:0', grad_fn=<NllLossBackward0>)|\n",
       "|  0   |  10   | tensor(3.6975, device='cuda:0', grad_fn=<NllLossBackward0>)|\n",
       "|  0   |  20   | tensor(3.5060, device='cuda:0', grad_fn=<NllLossBackward0>)|\n",
       "|  0   |  30   | tensor(3.0824, device='cuda:0', grad_fn=<NllLossBackward0>)|\n",
       "|  0   |  40   | tensor(2.2840, device='cuda:0', grad_fn=<NllLossBackward0>)|\n",
       "|  0   |  50   | tensor(2.8537, device='cuda:0', grad_fn=<NllLossBackward0>)|\n",
       "|  0   |  60   | tensor(3.2243, device='cuda:0', grad_fn=<NllLossBackward0>)|\n",
       "|  0   |  70   | tensor(2.2970, device='cuda:0', grad_fn=<NllLossBackward0>)|\n",
       "|  0   |  80   | tensor(1.8747, device='cuda:0', grad_fn=<NllLossBackward0>)|\n",
       "|  0   |  90   | tensor(1.7005, device='cuda:0', grad_fn=<NllLossBackward0>)|\n",
       "|  1   |   0   | tensor(1.9897, device='cuda:0', grad_fn=<NllLossBackward0>)|\n",
       "|  1   |  10   | tensor(1.8219, device='cuda:0', grad_fn=<NllLossBackward0>)|\n",
       "|  1   |  20   | tensor(1.4629, device='cuda:0', grad_fn=<NllLossBackward0>)|\n",
       "|  1   |  30   | tensor(1.7484, device='cuda:0', grad_fn=<NllLossBackward0>)|\n",
       "|  1   |  40   | tensor(1.7815, device='cuda:0', grad_fn=<NllLossBackward0>)|\n",
       "|  1   |  50   | tensor(1.8314, device='cuda:0', grad_fn=<NllLossBackward0>)|\n",
       "|  1   |  60   | tensor(1.9199, device='cuda:0', grad_fn=<NllLossBackward0>)|\n",
       "|  1   |  70   | tensor(1.5015, device='cuda:0', grad_fn=<NllLossBackward0>)|\n",
       "|  1   |  80   | tensor(1.8751, device='cuda:0', grad_fn=<NllLossBackward0>)|\n",
       "|  1   |  90   | tensor(1.3935, device='cuda:0', grad_fn=<NllLossBackward0>)|\n",
       "+---------------------------------------------------------------------------+\n"
      ]
     },
     "metadata": {},
     "output_type": "display_data"
    },
    {
     "data": {
      "text/html": [
       "<pre style=\"white-space:pre;overflow-x:auto;line-height:normal;font-family:Menlo,'DejaVu Sans Mono',consolas,'Courier New',monospace\"><span style=\"font-style: italic\">                               Training Status                               </span>\n",
       "+---------------------------------------------------------------------------+\n",
       "|<span style=\"font-weight: bold\">Epoch </span>|<span style=\"font-weight: bold\"> Steps </span>|<span style=\"font-weight: bold\">                            Loss                            </span>|\n",
       "|------+-------+------------------------------------------------------------|\n",
       "|  0   |   0   | tensor(7.5742, device='cuda:0', grad_fn=&lt;NllLossBackward0&gt;)|\n",
       "|  0   |  10   | tensor(3.6975, device='cuda:0', grad_fn=&lt;NllLossBackward0&gt;)|\n",
       "|  0   |  20   | tensor(3.5060, device='cuda:0', grad_fn=&lt;NllLossBackward0&gt;)|\n",
       "|  0   |  30   | tensor(3.0824, device='cuda:0', grad_fn=&lt;NllLossBackward0&gt;)|\n",
       "|  0   |  40   | tensor(2.2840, device='cuda:0', grad_fn=&lt;NllLossBackward0&gt;)|\n",
       "|  0   |  50   | tensor(2.8537, device='cuda:0', grad_fn=&lt;NllLossBackward0&gt;)|\n",
       "|  0   |  60   | tensor(3.2243, device='cuda:0', grad_fn=&lt;NllLossBackward0&gt;)|\n",
       "|  0   |  70   | tensor(2.2970, device='cuda:0', grad_fn=&lt;NllLossBackward0&gt;)|\n",
       "|  0   |  80   | tensor(1.8747, device='cuda:0', grad_fn=&lt;NllLossBackward0&gt;)|\n",
       "|  0   |  90   | tensor(1.7005, device='cuda:0', grad_fn=&lt;NllLossBackward0&gt;)|\n",
       "|  1   |   0   | tensor(1.9897, device='cuda:0', grad_fn=&lt;NllLossBackward0&gt;)|\n",
       "|  1   |  10   | tensor(1.8219, device='cuda:0', grad_fn=&lt;NllLossBackward0&gt;)|\n",
       "|  1   |  20   | tensor(1.4629, device='cuda:0', grad_fn=&lt;NllLossBackward0&gt;)|\n",
       "|  1   |  30   | tensor(1.7484, device='cuda:0', grad_fn=&lt;NllLossBackward0&gt;)|\n",
       "|  1   |  40   | tensor(1.7815, device='cuda:0', grad_fn=&lt;NllLossBackward0&gt;)|\n",
       "|  1   |  50   | tensor(1.8314, device='cuda:0', grad_fn=&lt;NllLossBackward0&gt;)|\n",
       "|  1   |  60   | tensor(1.9199, device='cuda:0', grad_fn=&lt;NllLossBackward0&gt;)|\n",
       "|  1   |  70   | tensor(1.5015, device='cuda:0', grad_fn=&lt;NllLossBackward0&gt;)|\n",
       "|  1   |  80   | tensor(1.8751, device='cuda:0', grad_fn=&lt;NllLossBackward0&gt;)|\n",
       "|  1   |  90   | tensor(1.3935, device='cuda:0', grad_fn=&lt;NllLossBackward0&gt;)|\n",
       "|  2   |   0   | tensor(1.7660, device='cuda:0', grad_fn=&lt;NllLossBackward0&gt;)|\n",
       "+---------------------------------------------------------------------------+\n",
       "</pre>\n"
      ],
      "text/plain": [
       "\u001b[3m                               Training Status                               \u001b[0m\n",
       "+---------------------------------------------------------------------------+\n",
       "|\u001b[1mEpoch\u001b[0m\u001b[1m \u001b[0m|\u001b[1m \u001b[0m\u001b[1mSteps\u001b[0m\u001b[1m \u001b[0m|\u001b[1m \u001b[0m\u001b[1m                           Loss                            \u001b[0m|\n",
       "|------+-------+------------------------------------------------------------|\n",
       "|  0   |   0   | tensor(7.5742, device='cuda:0', grad_fn=<NllLossBackward0>)|\n",
       "|  0   |  10   | tensor(3.6975, device='cuda:0', grad_fn=<NllLossBackward0>)|\n",
       "|  0   |  20   | tensor(3.5060, device='cuda:0', grad_fn=<NllLossBackward0>)|\n",
       "|  0   |  30   | tensor(3.0824, device='cuda:0', grad_fn=<NllLossBackward0>)|\n",
       "|  0   |  40   | tensor(2.2840, device='cuda:0', grad_fn=<NllLossBackward0>)|\n",
       "|  0   |  50   | tensor(2.8537, device='cuda:0', grad_fn=<NllLossBackward0>)|\n",
       "|  0   |  60   | tensor(3.2243, device='cuda:0', grad_fn=<NllLossBackward0>)|\n",
       "|  0   |  70   | tensor(2.2970, device='cuda:0', grad_fn=<NllLossBackward0>)|\n",
       "|  0   |  80   | tensor(1.8747, device='cuda:0', grad_fn=<NllLossBackward0>)|\n",
       "|  0   |  90   | tensor(1.7005, device='cuda:0', grad_fn=<NllLossBackward0>)|\n",
       "|  1   |   0   | tensor(1.9897, device='cuda:0', grad_fn=<NllLossBackward0>)|\n",
       "|  1   |  10   | tensor(1.8219, device='cuda:0', grad_fn=<NllLossBackward0>)|\n",
       "|  1   |  20   | tensor(1.4629, device='cuda:0', grad_fn=<NllLossBackward0>)|\n",
       "|  1   |  30   | tensor(1.7484, device='cuda:0', grad_fn=<NllLossBackward0>)|\n",
       "|  1   |  40   | tensor(1.7815, device='cuda:0', grad_fn=<NllLossBackward0>)|\n",
       "|  1   |  50   | tensor(1.8314, device='cuda:0', grad_fn=<NllLossBackward0>)|\n",
       "|  1   |  60   | tensor(1.9199, device='cuda:0', grad_fn=<NllLossBackward0>)|\n",
       "|  1   |  70   | tensor(1.5015, device='cuda:0', grad_fn=<NllLossBackward0>)|\n",
       "|  1   |  80   | tensor(1.8751, device='cuda:0', grad_fn=<NllLossBackward0>)|\n",
       "|  1   |  90   | tensor(1.3935, device='cuda:0', grad_fn=<NllLossBackward0>)|\n",
       "|  2   |   0   | tensor(1.7660, device='cuda:0', grad_fn=<NllLossBackward0>)|\n",
       "+---------------------------------------------------------------------------+\n"
      ]
     },
     "metadata": {},
     "output_type": "display_data"
    },
    {
     "data": {
      "text/html": [
       "<pre style=\"white-space:pre;overflow-x:auto;line-height:normal;font-family:Menlo,'DejaVu Sans Mono',consolas,'Courier New',monospace\"><span style=\"font-style: italic\">                               Training Status                               </span>\n",
       "+---------------------------------------------------------------------------+\n",
       "|<span style=\"font-weight: bold\">Epoch </span>|<span style=\"font-weight: bold\"> Steps </span>|<span style=\"font-weight: bold\">                            Loss                            </span>|\n",
       "|------+-------+------------------------------------------------------------|\n",
       "|  0   |   0   | tensor(7.5742, device='cuda:0', grad_fn=&lt;NllLossBackward0&gt;)|\n",
       "|  0   |  10   | tensor(3.6975, device='cuda:0', grad_fn=&lt;NllLossBackward0&gt;)|\n",
       "|  0   |  20   | tensor(3.5060, device='cuda:0', grad_fn=&lt;NllLossBackward0&gt;)|\n",
       "|  0   |  30   | tensor(3.0824, device='cuda:0', grad_fn=&lt;NllLossBackward0&gt;)|\n",
       "|  0   |  40   | tensor(2.2840, device='cuda:0', grad_fn=&lt;NllLossBackward0&gt;)|\n",
       "|  0   |  50   | tensor(2.8537, device='cuda:0', grad_fn=&lt;NllLossBackward0&gt;)|\n",
       "|  0   |  60   | tensor(3.2243, device='cuda:0', grad_fn=&lt;NllLossBackward0&gt;)|\n",
       "|  0   |  70   | tensor(2.2970, device='cuda:0', grad_fn=&lt;NllLossBackward0&gt;)|\n",
       "|  0   |  80   | tensor(1.8747, device='cuda:0', grad_fn=&lt;NllLossBackward0&gt;)|\n",
       "|  0   |  90   | tensor(1.7005, device='cuda:0', grad_fn=&lt;NllLossBackward0&gt;)|\n",
       "|  1   |   0   | tensor(1.9897, device='cuda:0', grad_fn=&lt;NllLossBackward0&gt;)|\n",
       "|  1   |  10   | tensor(1.8219, device='cuda:0', grad_fn=&lt;NllLossBackward0&gt;)|\n",
       "|  1   |  20   | tensor(1.4629, device='cuda:0', grad_fn=&lt;NllLossBackward0&gt;)|\n",
       "|  1   |  30   | tensor(1.7484, device='cuda:0', grad_fn=&lt;NllLossBackward0&gt;)|\n",
       "|  1   |  40   | tensor(1.7815, device='cuda:0', grad_fn=&lt;NllLossBackward0&gt;)|\n",
       "|  1   |  50   | tensor(1.8314, device='cuda:0', grad_fn=&lt;NllLossBackward0&gt;)|\n",
       "|  1   |  60   | tensor(1.9199, device='cuda:0', grad_fn=&lt;NllLossBackward0&gt;)|\n",
       "|  1   |  70   | tensor(1.5015, device='cuda:0', grad_fn=&lt;NllLossBackward0&gt;)|\n",
       "|  1   |  80   | tensor(1.8751, device='cuda:0', grad_fn=&lt;NllLossBackward0&gt;)|\n",
       "|  1   |  90   | tensor(1.3935, device='cuda:0', grad_fn=&lt;NllLossBackward0&gt;)|\n",
       "|  2   |   0   | tensor(1.7660, device='cuda:0', grad_fn=&lt;NllLossBackward0&gt;)|\n",
       "|  2   |  10   | tensor(0.9537, device='cuda:0', grad_fn=&lt;NllLossBackward0&gt;)|\n",
       "+---------------------------------------------------------------------------+\n",
       "</pre>\n"
      ],
      "text/plain": [
       "\u001b[3m                               Training Status                               \u001b[0m\n",
       "+---------------------------------------------------------------------------+\n",
       "|\u001b[1mEpoch\u001b[0m\u001b[1m \u001b[0m|\u001b[1m \u001b[0m\u001b[1mSteps\u001b[0m\u001b[1m \u001b[0m|\u001b[1m \u001b[0m\u001b[1m                           Loss                            \u001b[0m|\n",
       "|------+-------+------------------------------------------------------------|\n",
       "|  0   |   0   | tensor(7.5742, device='cuda:0', grad_fn=<NllLossBackward0>)|\n",
       "|  0   |  10   | tensor(3.6975, device='cuda:0', grad_fn=<NllLossBackward0>)|\n",
       "|  0   |  20   | tensor(3.5060, device='cuda:0', grad_fn=<NllLossBackward0>)|\n",
       "|  0   |  30   | tensor(3.0824, device='cuda:0', grad_fn=<NllLossBackward0>)|\n",
       "|  0   |  40   | tensor(2.2840, device='cuda:0', grad_fn=<NllLossBackward0>)|\n",
       "|  0   |  50   | tensor(2.8537, device='cuda:0', grad_fn=<NllLossBackward0>)|\n",
       "|  0   |  60   | tensor(3.2243, device='cuda:0', grad_fn=<NllLossBackward0>)|\n",
       "|  0   |  70   | tensor(2.2970, device='cuda:0', grad_fn=<NllLossBackward0>)|\n",
       "|  0   |  80   | tensor(1.8747, device='cuda:0', grad_fn=<NllLossBackward0>)|\n",
       "|  0   |  90   | tensor(1.7005, device='cuda:0', grad_fn=<NllLossBackward0>)|\n",
       "|  1   |   0   | tensor(1.9897, device='cuda:0', grad_fn=<NllLossBackward0>)|\n",
       "|  1   |  10   | tensor(1.8219, device='cuda:0', grad_fn=<NllLossBackward0>)|\n",
       "|  1   |  20   | tensor(1.4629, device='cuda:0', grad_fn=<NllLossBackward0>)|\n",
       "|  1   |  30   | tensor(1.7484, device='cuda:0', grad_fn=<NllLossBackward0>)|\n",
       "|  1   |  40   | tensor(1.7815, device='cuda:0', grad_fn=<NllLossBackward0>)|\n",
       "|  1   |  50   | tensor(1.8314, device='cuda:0', grad_fn=<NllLossBackward0>)|\n",
       "|  1   |  60   | tensor(1.9199, device='cuda:0', grad_fn=<NllLossBackward0>)|\n",
       "|  1   |  70   | tensor(1.5015, device='cuda:0', grad_fn=<NllLossBackward0>)|\n",
       "|  1   |  80   | tensor(1.8751, device='cuda:0', grad_fn=<NllLossBackward0>)|\n",
       "|  1   |  90   | tensor(1.3935, device='cuda:0', grad_fn=<NllLossBackward0>)|\n",
       "|  2   |   0   | tensor(1.7660, device='cuda:0', grad_fn=<NllLossBackward0>)|\n",
       "|  2   |  10   | tensor(0.9537, device='cuda:0', grad_fn=<NllLossBackward0>)|\n",
       "+---------------------------------------------------------------------------+\n"
      ]
     },
     "metadata": {},
     "output_type": "display_data"
    },
    {
     "data": {
      "text/html": [
       "<pre style=\"white-space:pre;overflow-x:auto;line-height:normal;font-family:Menlo,'DejaVu Sans Mono',consolas,'Courier New',monospace\"><span style=\"font-style: italic\">                               Training Status                               </span>\n",
       "+---------------------------------------------------------------------------+\n",
       "|<span style=\"font-weight: bold\">Epoch </span>|<span style=\"font-weight: bold\"> Steps </span>|<span style=\"font-weight: bold\">                            Loss                            </span>|\n",
       "|------+-------+------------------------------------------------------------|\n",
       "|  0   |   0   | tensor(7.5742, device='cuda:0', grad_fn=&lt;NllLossBackward0&gt;)|\n",
       "|  0   |  10   | tensor(3.6975, device='cuda:0', grad_fn=&lt;NllLossBackward0&gt;)|\n",
       "|  0   |  20   | tensor(3.5060, device='cuda:0', grad_fn=&lt;NllLossBackward0&gt;)|\n",
       "|  0   |  30   | tensor(3.0824, device='cuda:0', grad_fn=&lt;NllLossBackward0&gt;)|\n",
       "|  0   |  40   | tensor(2.2840, device='cuda:0', grad_fn=&lt;NllLossBackward0&gt;)|\n",
       "|  0   |  50   | tensor(2.8537, device='cuda:0', grad_fn=&lt;NllLossBackward0&gt;)|\n",
       "|  0   |  60   | tensor(3.2243, device='cuda:0', grad_fn=&lt;NllLossBackward0&gt;)|\n",
       "|  0   |  70   | tensor(2.2970, device='cuda:0', grad_fn=&lt;NllLossBackward0&gt;)|\n",
       "|  0   |  80   | tensor(1.8747, device='cuda:0', grad_fn=&lt;NllLossBackward0&gt;)|\n",
       "|  0   |  90   | tensor(1.7005, device='cuda:0', grad_fn=&lt;NllLossBackward0&gt;)|\n",
       "|  1   |   0   | tensor(1.9897, device='cuda:0', grad_fn=&lt;NllLossBackward0&gt;)|\n",
       "|  1   |  10   | tensor(1.8219, device='cuda:0', grad_fn=&lt;NllLossBackward0&gt;)|\n",
       "|  1   |  20   | tensor(1.4629, device='cuda:0', grad_fn=&lt;NllLossBackward0&gt;)|\n",
       "|  1   |  30   | tensor(1.7484, device='cuda:0', grad_fn=&lt;NllLossBackward0&gt;)|\n",
       "|  1   |  40   | tensor(1.7815, device='cuda:0', grad_fn=&lt;NllLossBackward0&gt;)|\n",
       "|  1   |  50   | tensor(1.8314, device='cuda:0', grad_fn=&lt;NllLossBackward0&gt;)|\n",
       "|  1   |  60   | tensor(1.9199, device='cuda:0', grad_fn=&lt;NllLossBackward0&gt;)|\n",
       "|  1   |  70   | tensor(1.5015, device='cuda:0', grad_fn=&lt;NllLossBackward0&gt;)|\n",
       "|  1   |  80   | tensor(1.8751, device='cuda:0', grad_fn=&lt;NllLossBackward0&gt;)|\n",
       "|  1   |  90   | tensor(1.3935, device='cuda:0', grad_fn=&lt;NllLossBackward0&gt;)|\n",
       "|  2   |   0   | tensor(1.7660, device='cuda:0', grad_fn=&lt;NllLossBackward0&gt;)|\n",
       "|  2   |  10   | tensor(0.9537, device='cuda:0', grad_fn=&lt;NllLossBackward0&gt;)|\n",
       "|  2   |  20   | tensor(1.6908, device='cuda:0', grad_fn=&lt;NllLossBackward0&gt;)|\n",
       "+---------------------------------------------------------------------------+\n",
       "</pre>\n"
      ],
      "text/plain": [
       "\u001b[3m                               Training Status                               \u001b[0m\n",
       "+---------------------------------------------------------------------------+\n",
       "|\u001b[1mEpoch\u001b[0m\u001b[1m \u001b[0m|\u001b[1m \u001b[0m\u001b[1mSteps\u001b[0m\u001b[1m \u001b[0m|\u001b[1m \u001b[0m\u001b[1m                           Loss                            \u001b[0m|\n",
       "|------+-------+------------------------------------------------------------|\n",
       "|  0   |   0   | tensor(7.5742, device='cuda:0', grad_fn=<NllLossBackward0>)|\n",
       "|  0   |  10   | tensor(3.6975, device='cuda:0', grad_fn=<NllLossBackward0>)|\n",
       "|  0   |  20   | tensor(3.5060, device='cuda:0', grad_fn=<NllLossBackward0>)|\n",
       "|  0   |  30   | tensor(3.0824, device='cuda:0', grad_fn=<NllLossBackward0>)|\n",
       "|  0   |  40   | tensor(2.2840, device='cuda:0', grad_fn=<NllLossBackward0>)|\n",
       "|  0   |  50   | tensor(2.8537, device='cuda:0', grad_fn=<NllLossBackward0>)|\n",
       "|  0   |  60   | tensor(3.2243, device='cuda:0', grad_fn=<NllLossBackward0>)|\n",
       "|  0   |  70   | tensor(2.2970, device='cuda:0', grad_fn=<NllLossBackward0>)|\n",
       "|  0   |  80   | tensor(1.8747, device='cuda:0', grad_fn=<NllLossBackward0>)|\n",
       "|  0   |  90   | tensor(1.7005, device='cuda:0', grad_fn=<NllLossBackward0>)|\n",
       "|  1   |   0   | tensor(1.9897, device='cuda:0', grad_fn=<NllLossBackward0>)|\n",
       "|  1   |  10   | tensor(1.8219, device='cuda:0', grad_fn=<NllLossBackward0>)|\n",
       "|  1   |  20   | tensor(1.4629, device='cuda:0', grad_fn=<NllLossBackward0>)|\n",
       "|  1   |  30   | tensor(1.7484, device='cuda:0', grad_fn=<NllLossBackward0>)|\n",
       "|  1   |  40   | tensor(1.7815, device='cuda:0', grad_fn=<NllLossBackward0>)|\n",
       "|  1   |  50   | tensor(1.8314, device='cuda:0', grad_fn=<NllLossBackward0>)|\n",
       "|  1   |  60   | tensor(1.9199, device='cuda:0', grad_fn=<NllLossBackward0>)|\n",
       "|  1   |  70   | tensor(1.5015, device='cuda:0', grad_fn=<NllLossBackward0>)|\n",
       "|  1   |  80   | tensor(1.8751, device='cuda:0', grad_fn=<NllLossBackward0>)|\n",
       "|  1   |  90   | tensor(1.3935, device='cuda:0', grad_fn=<NllLossBackward0>)|\n",
       "|  2   |   0   | tensor(1.7660, device='cuda:0', grad_fn=<NllLossBackward0>)|\n",
       "|  2   |  10   | tensor(0.9537, device='cuda:0', grad_fn=<NllLossBackward0>)|\n",
       "|  2   |  20   | tensor(1.6908, device='cuda:0', grad_fn=<NllLossBackward0>)|\n",
       "+---------------------------------------------------------------------------+\n"
      ]
     },
     "metadata": {},
     "output_type": "display_data"
    },
    {
     "data": {
      "text/html": [
       "<pre style=\"white-space:pre;overflow-x:auto;line-height:normal;font-family:Menlo,'DejaVu Sans Mono',consolas,'Courier New',monospace\"><span style=\"font-style: italic\">                               Training Status                               </span>\n",
       "+---------------------------------------------------------------------------+\n",
       "|<span style=\"font-weight: bold\">Epoch </span>|<span style=\"font-weight: bold\"> Steps </span>|<span style=\"font-weight: bold\">                            Loss                            </span>|\n",
       "|------+-------+------------------------------------------------------------|\n",
       "|  0   |   0   | tensor(7.5742, device='cuda:0', grad_fn=&lt;NllLossBackward0&gt;)|\n",
       "|  0   |  10   | tensor(3.6975, device='cuda:0', grad_fn=&lt;NllLossBackward0&gt;)|\n",
       "|  0   |  20   | tensor(3.5060, device='cuda:0', grad_fn=&lt;NllLossBackward0&gt;)|\n",
       "|  0   |  30   | tensor(3.0824, device='cuda:0', grad_fn=&lt;NllLossBackward0&gt;)|\n",
       "|  0   |  40   | tensor(2.2840, device='cuda:0', grad_fn=&lt;NllLossBackward0&gt;)|\n",
       "|  0   |  50   | tensor(2.8537, device='cuda:0', grad_fn=&lt;NllLossBackward0&gt;)|\n",
       "|  0   |  60   | tensor(3.2243, device='cuda:0', grad_fn=&lt;NllLossBackward0&gt;)|\n",
       "|  0   |  70   | tensor(2.2970, device='cuda:0', grad_fn=&lt;NllLossBackward0&gt;)|\n",
       "|  0   |  80   | tensor(1.8747, device='cuda:0', grad_fn=&lt;NllLossBackward0&gt;)|\n",
       "|  0   |  90   | tensor(1.7005, device='cuda:0', grad_fn=&lt;NllLossBackward0&gt;)|\n",
       "|  1   |   0   | tensor(1.9897, device='cuda:0', grad_fn=&lt;NllLossBackward0&gt;)|\n",
       "|  1   |  10   | tensor(1.8219, device='cuda:0', grad_fn=&lt;NllLossBackward0&gt;)|\n",
       "|  1   |  20   | tensor(1.4629, device='cuda:0', grad_fn=&lt;NllLossBackward0&gt;)|\n",
       "|  1   |  30   | tensor(1.7484, device='cuda:0', grad_fn=&lt;NllLossBackward0&gt;)|\n",
       "|  1   |  40   | tensor(1.7815, device='cuda:0', grad_fn=&lt;NllLossBackward0&gt;)|\n",
       "|  1   |  50   | tensor(1.8314, device='cuda:0', grad_fn=&lt;NllLossBackward0&gt;)|\n",
       "|  1   |  60   | tensor(1.9199, device='cuda:0', grad_fn=&lt;NllLossBackward0&gt;)|\n",
       "|  1   |  70   | tensor(1.5015, device='cuda:0', grad_fn=&lt;NllLossBackward0&gt;)|\n",
       "|  1   |  80   | tensor(1.8751, device='cuda:0', grad_fn=&lt;NllLossBackward0&gt;)|\n",
       "|  1   |  90   | tensor(1.3935, device='cuda:0', grad_fn=&lt;NllLossBackward0&gt;)|\n",
       "|  2   |   0   | tensor(1.7660, device='cuda:0', grad_fn=&lt;NllLossBackward0&gt;)|\n",
       "|  2   |  10   | tensor(0.9537, device='cuda:0', grad_fn=&lt;NllLossBackward0&gt;)|\n",
       "|  2   |  20   | tensor(1.6908, device='cuda:0', grad_fn=&lt;NllLossBackward0&gt;)|\n",
       "|  2   |  30   | tensor(1.5331, device='cuda:0', grad_fn=&lt;NllLossBackward0&gt;)|\n",
       "+---------------------------------------------------------------------------+\n",
       "</pre>\n"
      ],
      "text/plain": [
       "\u001b[3m                               Training Status                               \u001b[0m\n",
       "+---------------------------------------------------------------------------+\n",
       "|\u001b[1mEpoch\u001b[0m\u001b[1m \u001b[0m|\u001b[1m \u001b[0m\u001b[1mSteps\u001b[0m\u001b[1m \u001b[0m|\u001b[1m \u001b[0m\u001b[1m                           Loss                            \u001b[0m|\n",
       "|------+-------+------------------------------------------------------------|\n",
       "|  0   |   0   | tensor(7.5742, device='cuda:0', grad_fn=<NllLossBackward0>)|\n",
       "|  0   |  10   | tensor(3.6975, device='cuda:0', grad_fn=<NllLossBackward0>)|\n",
       "|  0   |  20   | tensor(3.5060, device='cuda:0', grad_fn=<NllLossBackward0>)|\n",
       "|  0   |  30   | tensor(3.0824, device='cuda:0', grad_fn=<NllLossBackward0>)|\n",
       "|  0   |  40   | tensor(2.2840, device='cuda:0', grad_fn=<NllLossBackward0>)|\n",
       "|  0   |  50   | tensor(2.8537, device='cuda:0', grad_fn=<NllLossBackward0>)|\n",
       "|  0   |  60   | tensor(3.2243, device='cuda:0', grad_fn=<NllLossBackward0>)|\n",
       "|  0   |  70   | tensor(2.2970, device='cuda:0', grad_fn=<NllLossBackward0>)|\n",
       "|  0   |  80   | tensor(1.8747, device='cuda:0', grad_fn=<NllLossBackward0>)|\n",
       "|  0   |  90   | tensor(1.7005, device='cuda:0', grad_fn=<NllLossBackward0>)|\n",
       "|  1   |   0   | tensor(1.9897, device='cuda:0', grad_fn=<NllLossBackward0>)|\n",
       "|  1   |  10   | tensor(1.8219, device='cuda:0', grad_fn=<NllLossBackward0>)|\n",
       "|  1   |  20   | tensor(1.4629, device='cuda:0', grad_fn=<NllLossBackward0>)|\n",
       "|  1   |  30   | tensor(1.7484, device='cuda:0', grad_fn=<NllLossBackward0>)|\n",
       "|  1   |  40   | tensor(1.7815, device='cuda:0', grad_fn=<NllLossBackward0>)|\n",
       "|  1   |  50   | tensor(1.8314, device='cuda:0', grad_fn=<NllLossBackward0>)|\n",
       "|  1   |  60   | tensor(1.9199, device='cuda:0', grad_fn=<NllLossBackward0>)|\n",
       "|  1   |  70   | tensor(1.5015, device='cuda:0', grad_fn=<NllLossBackward0>)|\n",
       "|  1   |  80   | tensor(1.8751, device='cuda:0', grad_fn=<NllLossBackward0>)|\n",
       "|  1   |  90   | tensor(1.3935, device='cuda:0', grad_fn=<NllLossBackward0>)|\n",
       "|  2   |   0   | tensor(1.7660, device='cuda:0', grad_fn=<NllLossBackward0>)|\n",
       "|  2   |  10   | tensor(0.9537, device='cuda:0', grad_fn=<NllLossBackward0>)|\n",
       "|  2   |  20   | tensor(1.6908, device='cuda:0', grad_fn=<NllLossBackward0>)|\n",
       "|  2   |  30   | tensor(1.5331, device='cuda:0', grad_fn=<NllLossBackward0>)|\n",
       "+---------------------------------------------------------------------------+\n"
      ]
     },
     "metadata": {},
     "output_type": "display_data"
    },
    {
     "data": {
      "text/html": [
       "<pre style=\"white-space:pre;overflow-x:auto;line-height:normal;font-family:Menlo,'DejaVu Sans Mono',consolas,'Courier New',monospace\"><span style=\"font-style: italic\">                               Training Status                               </span>\n",
       "+---------------------------------------------------------------------------+\n",
       "|<span style=\"font-weight: bold\">Epoch </span>|<span style=\"font-weight: bold\"> Steps </span>|<span style=\"font-weight: bold\">                            Loss                            </span>|\n",
       "|------+-------+------------------------------------------------------------|\n",
       "|  0   |   0   | tensor(7.5742, device='cuda:0', grad_fn=&lt;NllLossBackward0&gt;)|\n",
       "|  0   |  10   | tensor(3.6975, device='cuda:0', grad_fn=&lt;NllLossBackward0&gt;)|\n",
       "|  0   |  20   | tensor(3.5060, device='cuda:0', grad_fn=&lt;NllLossBackward0&gt;)|\n",
       "|  0   |  30   | tensor(3.0824, device='cuda:0', grad_fn=&lt;NllLossBackward0&gt;)|\n",
       "|  0   |  40   | tensor(2.2840, device='cuda:0', grad_fn=&lt;NllLossBackward0&gt;)|\n",
       "|  0   |  50   | tensor(2.8537, device='cuda:0', grad_fn=&lt;NllLossBackward0&gt;)|\n",
       "|  0   |  60   | tensor(3.2243, device='cuda:0', grad_fn=&lt;NllLossBackward0&gt;)|\n",
       "|  0   |  70   | tensor(2.2970, device='cuda:0', grad_fn=&lt;NllLossBackward0&gt;)|\n",
       "|  0   |  80   | tensor(1.8747, device='cuda:0', grad_fn=&lt;NllLossBackward0&gt;)|\n",
       "|  0   |  90   | tensor(1.7005, device='cuda:0', grad_fn=&lt;NllLossBackward0&gt;)|\n",
       "|  1   |   0   | tensor(1.9897, device='cuda:0', grad_fn=&lt;NllLossBackward0&gt;)|\n",
       "|  1   |  10   | tensor(1.8219, device='cuda:0', grad_fn=&lt;NllLossBackward0&gt;)|\n",
       "|  1   |  20   | tensor(1.4629, device='cuda:0', grad_fn=&lt;NllLossBackward0&gt;)|\n",
       "|  1   |  30   | tensor(1.7484, device='cuda:0', grad_fn=&lt;NllLossBackward0&gt;)|\n",
       "|  1   |  40   | tensor(1.7815, device='cuda:0', grad_fn=&lt;NllLossBackward0&gt;)|\n",
       "|  1   |  50   | tensor(1.8314, device='cuda:0', grad_fn=&lt;NllLossBackward0&gt;)|\n",
       "|  1   |  60   | tensor(1.9199, device='cuda:0', grad_fn=&lt;NllLossBackward0&gt;)|\n",
       "|  1   |  70   | tensor(1.5015, device='cuda:0', grad_fn=&lt;NllLossBackward0&gt;)|\n",
       "|  1   |  80   | tensor(1.8751, device='cuda:0', grad_fn=&lt;NllLossBackward0&gt;)|\n",
       "|  1   |  90   | tensor(1.3935, device='cuda:0', grad_fn=&lt;NllLossBackward0&gt;)|\n",
       "|  2   |   0   | tensor(1.7660, device='cuda:0', grad_fn=&lt;NllLossBackward0&gt;)|\n",
       "|  2   |  10   | tensor(0.9537, device='cuda:0', grad_fn=&lt;NllLossBackward0&gt;)|\n",
       "|  2   |  20   | tensor(1.6908, device='cuda:0', grad_fn=&lt;NllLossBackward0&gt;)|\n",
       "|  2   |  30   | tensor(1.5331, device='cuda:0', grad_fn=&lt;NllLossBackward0&gt;)|\n",
       "|  2   |  40   | tensor(1.2615, device='cuda:0', grad_fn=&lt;NllLossBackward0&gt;)|\n",
       "+---------------------------------------------------------------------------+\n",
       "</pre>\n"
      ],
      "text/plain": [
       "\u001b[3m                               Training Status                               \u001b[0m\n",
       "+---------------------------------------------------------------------------+\n",
       "|\u001b[1mEpoch\u001b[0m\u001b[1m \u001b[0m|\u001b[1m \u001b[0m\u001b[1mSteps\u001b[0m\u001b[1m \u001b[0m|\u001b[1m \u001b[0m\u001b[1m                           Loss                            \u001b[0m|\n",
       "|------+-------+------------------------------------------------------------|\n",
       "|  0   |   0   | tensor(7.5742, device='cuda:0', grad_fn=<NllLossBackward0>)|\n",
       "|  0   |  10   | tensor(3.6975, device='cuda:0', grad_fn=<NllLossBackward0>)|\n",
       "|  0   |  20   | tensor(3.5060, device='cuda:0', grad_fn=<NllLossBackward0>)|\n",
       "|  0   |  30   | tensor(3.0824, device='cuda:0', grad_fn=<NllLossBackward0>)|\n",
       "|  0   |  40   | tensor(2.2840, device='cuda:0', grad_fn=<NllLossBackward0>)|\n",
       "|  0   |  50   | tensor(2.8537, device='cuda:0', grad_fn=<NllLossBackward0>)|\n",
       "|  0   |  60   | tensor(3.2243, device='cuda:0', grad_fn=<NllLossBackward0>)|\n",
       "|  0   |  70   | tensor(2.2970, device='cuda:0', grad_fn=<NllLossBackward0>)|\n",
       "|  0   |  80   | tensor(1.8747, device='cuda:0', grad_fn=<NllLossBackward0>)|\n",
       "|  0   |  90   | tensor(1.7005, device='cuda:0', grad_fn=<NllLossBackward0>)|\n",
       "|  1   |   0   | tensor(1.9897, device='cuda:0', grad_fn=<NllLossBackward0>)|\n",
       "|  1   |  10   | tensor(1.8219, device='cuda:0', grad_fn=<NllLossBackward0>)|\n",
       "|  1   |  20   | tensor(1.4629, device='cuda:0', grad_fn=<NllLossBackward0>)|\n",
       "|  1   |  30   | tensor(1.7484, device='cuda:0', grad_fn=<NllLossBackward0>)|\n",
       "|  1   |  40   | tensor(1.7815, device='cuda:0', grad_fn=<NllLossBackward0>)|\n",
       "|  1   |  50   | tensor(1.8314, device='cuda:0', grad_fn=<NllLossBackward0>)|\n",
       "|  1   |  60   | tensor(1.9199, device='cuda:0', grad_fn=<NllLossBackward0>)|\n",
       "|  1   |  70   | tensor(1.5015, device='cuda:0', grad_fn=<NllLossBackward0>)|\n",
       "|  1   |  80   | tensor(1.8751, device='cuda:0', grad_fn=<NllLossBackward0>)|\n",
       "|  1   |  90   | tensor(1.3935, device='cuda:0', grad_fn=<NllLossBackward0>)|\n",
       "|  2   |   0   | tensor(1.7660, device='cuda:0', grad_fn=<NllLossBackward0>)|\n",
       "|  2   |  10   | tensor(0.9537, device='cuda:0', grad_fn=<NllLossBackward0>)|\n",
       "|  2   |  20   | tensor(1.6908, device='cuda:0', grad_fn=<NllLossBackward0>)|\n",
       "|  2   |  30   | tensor(1.5331, device='cuda:0', grad_fn=<NllLossBackward0>)|\n",
       "|  2   |  40   | tensor(1.2615, device='cuda:0', grad_fn=<NllLossBackward0>)|\n",
       "+---------------------------------------------------------------------------+\n"
      ]
     },
     "metadata": {},
     "output_type": "display_data"
    },
    {
     "data": {
      "text/html": [
       "<pre style=\"white-space:pre;overflow-x:auto;line-height:normal;font-family:Menlo,'DejaVu Sans Mono',consolas,'Courier New',monospace\"><span style=\"font-style: italic\">                               Training Status                               </span>\n",
       "+---------------------------------------------------------------------------+\n",
       "|<span style=\"font-weight: bold\">Epoch </span>|<span style=\"font-weight: bold\"> Steps </span>|<span style=\"font-weight: bold\">                            Loss                            </span>|\n",
       "|------+-------+------------------------------------------------------------|\n",
       "|  0   |   0   | tensor(7.5742, device='cuda:0', grad_fn=&lt;NllLossBackward0&gt;)|\n",
       "|  0   |  10   | tensor(3.6975, device='cuda:0', grad_fn=&lt;NllLossBackward0&gt;)|\n",
       "|  0   |  20   | tensor(3.5060, device='cuda:0', grad_fn=&lt;NllLossBackward0&gt;)|\n",
       "|  0   |  30   | tensor(3.0824, device='cuda:0', grad_fn=&lt;NllLossBackward0&gt;)|\n",
       "|  0   |  40   | tensor(2.2840, device='cuda:0', grad_fn=&lt;NllLossBackward0&gt;)|\n",
       "|  0   |  50   | tensor(2.8537, device='cuda:0', grad_fn=&lt;NllLossBackward0&gt;)|\n",
       "|  0   |  60   | tensor(3.2243, device='cuda:0', grad_fn=&lt;NllLossBackward0&gt;)|\n",
       "|  0   |  70   | tensor(2.2970, device='cuda:0', grad_fn=&lt;NllLossBackward0&gt;)|\n",
       "|  0   |  80   | tensor(1.8747, device='cuda:0', grad_fn=&lt;NllLossBackward0&gt;)|\n",
       "|  0   |  90   | tensor(1.7005, device='cuda:0', grad_fn=&lt;NllLossBackward0&gt;)|\n",
       "|  1   |   0   | tensor(1.9897, device='cuda:0', grad_fn=&lt;NllLossBackward0&gt;)|\n",
       "|  1   |  10   | tensor(1.8219, device='cuda:0', grad_fn=&lt;NllLossBackward0&gt;)|\n",
       "|  1   |  20   | tensor(1.4629, device='cuda:0', grad_fn=&lt;NllLossBackward0&gt;)|\n",
       "|  1   |  30   | tensor(1.7484, device='cuda:0', grad_fn=&lt;NllLossBackward0&gt;)|\n",
       "|  1   |  40   | tensor(1.7815, device='cuda:0', grad_fn=&lt;NllLossBackward0&gt;)|\n",
       "|  1   |  50   | tensor(1.8314, device='cuda:0', grad_fn=&lt;NllLossBackward0&gt;)|\n",
       "|  1   |  60   | tensor(1.9199, device='cuda:0', grad_fn=&lt;NllLossBackward0&gt;)|\n",
       "|  1   |  70   | tensor(1.5015, device='cuda:0', grad_fn=&lt;NllLossBackward0&gt;)|\n",
       "|  1   |  80   | tensor(1.8751, device='cuda:0', grad_fn=&lt;NllLossBackward0&gt;)|\n",
       "|  1   |  90   | tensor(1.3935, device='cuda:0', grad_fn=&lt;NllLossBackward0&gt;)|\n",
       "|  2   |   0   | tensor(1.7660, device='cuda:0', grad_fn=&lt;NllLossBackward0&gt;)|\n",
       "|  2   |  10   | tensor(0.9537, device='cuda:0', grad_fn=&lt;NllLossBackward0&gt;)|\n",
       "|  2   |  20   | tensor(1.6908, device='cuda:0', grad_fn=&lt;NllLossBackward0&gt;)|\n",
       "|  2   |  30   | tensor(1.5331, device='cuda:0', grad_fn=&lt;NllLossBackward0&gt;)|\n",
       "|  2   |  40   | tensor(1.2615, device='cuda:0', grad_fn=&lt;NllLossBackward0&gt;)|\n",
       "|  2   |  50   | tensor(1.3764, device='cuda:0', grad_fn=&lt;NllLossBackward0&gt;)|\n",
       "+---------------------------------------------------------------------------+\n",
       "</pre>\n"
      ],
      "text/plain": [
       "\u001b[3m                               Training Status                               \u001b[0m\n",
       "+---------------------------------------------------------------------------+\n",
       "|\u001b[1mEpoch\u001b[0m\u001b[1m \u001b[0m|\u001b[1m \u001b[0m\u001b[1mSteps\u001b[0m\u001b[1m \u001b[0m|\u001b[1m \u001b[0m\u001b[1m                           Loss                            \u001b[0m|\n",
       "|------+-------+------------------------------------------------------------|\n",
       "|  0   |   0   | tensor(7.5742, device='cuda:0', grad_fn=<NllLossBackward0>)|\n",
       "|  0   |  10   | tensor(3.6975, device='cuda:0', grad_fn=<NllLossBackward0>)|\n",
       "|  0   |  20   | tensor(3.5060, device='cuda:0', grad_fn=<NllLossBackward0>)|\n",
       "|  0   |  30   | tensor(3.0824, device='cuda:0', grad_fn=<NllLossBackward0>)|\n",
       "|  0   |  40   | tensor(2.2840, device='cuda:0', grad_fn=<NllLossBackward0>)|\n",
       "|  0   |  50   | tensor(2.8537, device='cuda:0', grad_fn=<NllLossBackward0>)|\n",
       "|  0   |  60   | tensor(3.2243, device='cuda:0', grad_fn=<NllLossBackward0>)|\n",
       "|  0   |  70   | tensor(2.2970, device='cuda:0', grad_fn=<NllLossBackward0>)|\n",
       "|  0   |  80   | tensor(1.8747, device='cuda:0', grad_fn=<NllLossBackward0>)|\n",
       "|  0   |  90   | tensor(1.7005, device='cuda:0', grad_fn=<NllLossBackward0>)|\n",
       "|  1   |   0   | tensor(1.9897, device='cuda:0', grad_fn=<NllLossBackward0>)|\n",
       "|  1   |  10   | tensor(1.8219, device='cuda:0', grad_fn=<NllLossBackward0>)|\n",
       "|  1   |  20   | tensor(1.4629, device='cuda:0', grad_fn=<NllLossBackward0>)|\n",
       "|  1   |  30   | tensor(1.7484, device='cuda:0', grad_fn=<NllLossBackward0>)|\n",
       "|  1   |  40   | tensor(1.7815, device='cuda:0', grad_fn=<NllLossBackward0>)|\n",
       "|  1   |  50   | tensor(1.8314, device='cuda:0', grad_fn=<NllLossBackward0>)|\n",
       "|  1   |  60   | tensor(1.9199, device='cuda:0', grad_fn=<NllLossBackward0>)|\n",
       "|  1   |  70   | tensor(1.5015, device='cuda:0', grad_fn=<NllLossBackward0>)|\n",
       "|  1   |  80   | tensor(1.8751, device='cuda:0', grad_fn=<NllLossBackward0>)|\n",
       "|  1   |  90   | tensor(1.3935, device='cuda:0', grad_fn=<NllLossBackward0>)|\n",
       "|  2   |   0   | tensor(1.7660, device='cuda:0', grad_fn=<NllLossBackward0>)|\n",
       "|  2   |  10   | tensor(0.9537, device='cuda:0', grad_fn=<NllLossBackward0>)|\n",
       "|  2   |  20   | tensor(1.6908, device='cuda:0', grad_fn=<NllLossBackward0>)|\n",
       "|  2   |  30   | tensor(1.5331, device='cuda:0', grad_fn=<NllLossBackward0>)|\n",
       "|  2   |  40   | tensor(1.2615, device='cuda:0', grad_fn=<NllLossBackward0>)|\n",
       "|  2   |  50   | tensor(1.3764, device='cuda:0', grad_fn=<NllLossBackward0>)|\n",
       "+---------------------------------------------------------------------------+\n"
      ]
     },
     "metadata": {},
     "output_type": "display_data"
    },
    {
     "data": {
      "text/html": [
       "<pre style=\"white-space:pre;overflow-x:auto;line-height:normal;font-family:Menlo,'DejaVu Sans Mono',consolas,'Courier New',monospace\"><span style=\"font-style: italic\">                               Training Status                               </span>\n",
       "+---------------------------------------------------------------------------+\n",
       "|<span style=\"font-weight: bold\">Epoch </span>|<span style=\"font-weight: bold\"> Steps </span>|<span style=\"font-weight: bold\">                            Loss                            </span>|\n",
       "|------+-------+------------------------------------------------------------|\n",
       "|  0   |   0   | tensor(7.5742, device='cuda:0', grad_fn=&lt;NllLossBackward0&gt;)|\n",
       "|  0   |  10   | tensor(3.6975, device='cuda:0', grad_fn=&lt;NllLossBackward0&gt;)|\n",
       "|  0   |  20   | tensor(3.5060, device='cuda:0', grad_fn=&lt;NllLossBackward0&gt;)|\n",
       "|  0   |  30   | tensor(3.0824, device='cuda:0', grad_fn=&lt;NllLossBackward0&gt;)|\n",
       "|  0   |  40   | tensor(2.2840, device='cuda:0', grad_fn=&lt;NllLossBackward0&gt;)|\n",
       "|  0   |  50   | tensor(2.8537, device='cuda:0', grad_fn=&lt;NllLossBackward0&gt;)|\n",
       "|  0   |  60   | tensor(3.2243, device='cuda:0', grad_fn=&lt;NllLossBackward0&gt;)|\n",
       "|  0   |  70   | tensor(2.2970, device='cuda:0', grad_fn=&lt;NllLossBackward0&gt;)|\n",
       "|  0   |  80   | tensor(1.8747, device='cuda:0', grad_fn=&lt;NllLossBackward0&gt;)|\n",
       "|  0   |  90   | tensor(1.7005, device='cuda:0', grad_fn=&lt;NllLossBackward0&gt;)|\n",
       "|  1   |   0   | tensor(1.9897, device='cuda:0', grad_fn=&lt;NllLossBackward0&gt;)|\n",
       "|  1   |  10   | tensor(1.8219, device='cuda:0', grad_fn=&lt;NllLossBackward0&gt;)|\n",
       "|  1   |  20   | tensor(1.4629, device='cuda:0', grad_fn=&lt;NllLossBackward0&gt;)|\n",
       "|  1   |  30   | tensor(1.7484, device='cuda:0', grad_fn=&lt;NllLossBackward0&gt;)|\n",
       "|  1   |  40   | tensor(1.7815, device='cuda:0', grad_fn=&lt;NllLossBackward0&gt;)|\n",
       "|  1   |  50   | tensor(1.8314, device='cuda:0', grad_fn=&lt;NllLossBackward0&gt;)|\n",
       "|  1   |  60   | tensor(1.9199, device='cuda:0', grad_fn=&lt;NllLossBackward0&gt;)|\n",
       "|  1   |  70   | tensor(1.5015, device='cuda:0', grad_fn=&lt;NllLossBackward0&gt;)|\n",
       "|  1   |  80   | tensor(1.8751, device='cuda:0', grad_fn=&lt;NllLossBackward0&gt;)|\n",
       "|  1   |  90   | tensor(1.3935, device='cuda:0', grad_fn=&lt;NllLossBackward0&gt;)|\n",
       "|  2   |   0   | tensor(1.7660, device='cuda:0', grad_fn=&lt;NllLossBackward0&gt;)|\n",
       "|  2   |  10   | tensor(0.9537, device='cuda:0', grad_fn=&lt;NllLossBackward0&gt;)|\n",
       "|  2   |  20   | tensor(1.6908, device='cuda:0', grad_fn=&lt;NllLossBackward0&gt;)|\n",
       "|  2   |  30   | tensor(1.5331, device='cuda:0', grad_fn=&lt;NllLossBackward0&gt;)|\n",
       "|  2   |  40   | tensor(1.2615, device='cuda:0', grad_fn=&lt;NllLossBackward0&gt;)|\n",
       "|  2   |  50   | tensor(1.3764, device='cuda:0', grad_fn=&lt;NllLossBackward0&gt;)|\n",
       "|  2   |  60   | tensor(1.3337, device='cuda:0', grad_fn=&lt;NllLossBackward0&gt;)|\n",
       "+---------------------------------------------------------------------------+\n",
       "</pre>\n"
      ],
      "text/plain": [
       "\u001b[3m                               Training Status                               \u001b[0m\n",
       "+---------------------------------------------------------------------------+\n",
       "|\u001b[1mEpoch\u001b[0m\u001b[1m \u001b[0m|\u001b[1m \u001b[0m\u001b[1mSteps\u001b[0m\u001b[1m \u001b[0m|\u001b[1m \u001b[0m\u001b[1m                           Loss                            \u001b[0m|\n",
       "|------+-------+------------------------------------------------------------|\n",
       "|  0   |   0   | tensor(7.5742, device='cuda:0', grad_fn=<NllLossBackward0>)|\n",
       "|  0   |  10   | tensor(3.6975, device='cuda:0', grad_fn=<NllLossBackward0>)|\n",
       "|  0   |  20   | tensor(3.5060, device='cuda:0', grad_fn=<NllLossBackward0>)|\n",
       "|  0   |  30   | tensor(3.0824, device='cuda:0', grad_fn=<NllLossBackward0>)|\n",
       "|  0   |  40   | tensor(2.2840, device='cuda:0', grad_fn=<NllLossBackward0>)|\n",
       "|  0   |  50   | tensor(2.8537, device='cuda:0', grad_fn=<NllLossBackward0>)|\n",
       "|  0   |  60   | tensor(3.2243, device='cuda:0', grad_fn=<NllLossBackward0>)|\n",
       "|  0   |  70   | tensor(2.2970, device='cuda:0', grad_fn=<NllLossBackward0>)|\n",
       "|  0   |  80   | tensor(1.8747, device='cuda:0', grad_fn=<NllLossBackward0>)|\n",
       "|  0   |  90   | tensor(1.7005, device='cuda:0', grad_fn=<NllLossBackward0>)|\n",
       "|  1   |   0   | tensor(1.9897, device='cuda:0', grad_fn=<NllLossBackward0>)|\n",
       "|  1   |  10   | tensor(1.8219, device='cuda:0', grad_fn=<NllLossBackward0>)|\n",
       "|  1   |  20   | tensor(1.4629, device='cuda:0', grad_fn=<NllLossBackward0>)|\n",
       "|  1   |  30   | tensor(1.7484, device='cuda:0', grad_fn=<NllLossBackward0>)|\n",
       "|  1   |  40   | tensor(1.7815, device='cuda:0', grad_fn=<NllLossBackward0>)|\n",
       "|  1   |  50   | tensor(1.8314, device='cuda:0', grad_fn=<NllLossBackward0>)|\n",
       "|  1   |  60   | tensor(1.9199, device='cuda:0', grad_fn=<NllLossBackward0>)|\n",
       "|  1   |  70   | tensor(1.5015, device='cuda:0', grad_fn=<NllLossBackward0>)|\n",
       "|  1   |  80   | tensor(1.8751, device='cuda:0', grad_fn=<NllLossBackward0>)|\n",
       "|  1   |  90   | tensor(1.3935, device='cuda:0', grad_fn=<NllLossBackward0>)|\n",
       "|  2   |   0   | tensor(1.7660, device='cuda:0', grad_fn=<NllLossBackward0>)|\n",
       "|  2   |  10   | tensor(0.9537, device='cuda:0', grad_fn=<NllLossBackward0>)|\n",
       "|  2   |  20   | tensor(1.6908, device='cuda:0', grad_fn=<NllLossBackward0>)|\n",
       "|  2   |  30   | tensor(1.5331, device='cuda:0', grad_fn=<NllLossBackward0>)|\n",
       "|  2   |  40   | tensor(1.2615, device='cuda:0', grad_fn=<NllLossBackward0>)|\n",
       "|  2   |  50   | tensor(1.3764, device='cuda:0', grad_fn=<NllLossBackward0>)|\n",
       "|  2   |  60   | tensor(1.3337, device='cuda:0', grad_fn=<NllLossBackward0>)|\n",
       "+---------------------------------------------------------------------------+\n"
      ]
     },
     "metadata": {},
     "output_type": "display_data"
    },
    {
     "data": {
      "text/html": [
       "<pre style=\"white-space:pre;overflow-x:auto;line-height:normal;font-family:Menlo,'DejaVu Sans Mono',consolas,'Courier New',monospace\"><span style=\"font-style: italic\">                               Training Status                               </span>\n",
       "+---------------------------------------------------------------------------+\n",
       "|<span style=\"font-weight: bold\">Epoch </span>|<span style=\"font-weight: bold\"> Steps </span>|<span style=\"font-weight: bold\">                            Loss                            </span>|\n",
       "|------+-------+------------------------------------------------------------|\n",
       "|  0   |   0   | tensor(7.5742, device='cuda:0', grad_fn=&lt;NllLossBackward0&gt;)|\n",
       "|  0   |  10   | tensor(3.6975, device='cuda:0', grad_fn=&lt;NllLossBackward0&gt;)|\n",
       "|  0   |  20   | tensor(3.5060, device='cuda:0', grad_fn=&lt;NllLossBackward0&gt;)|\n",
       "|  0   |  30   | tensor(3.0824, device='cuda:0', grad_fn=&lt;NllLossBackward0&gt;)|\n",
       "|  0   |  40   | tensor(2.2840, device='cuda:0', grad_fn=&lt;NllLossBackward0&gt;)|\n",
       "|  0   |  50   | tensor(2.8537, device='cuda:0', grad_fn=&lt;NllLossBackward0&gt;)|\n",
       "|  0   |  60   | tensor(3.2243, device='cuda:0', grad_fn=&lt;NllLossBackward0&gt;)|\n",
       "|  0   |  70   | tensor(2.2970, device='cuda:0', grad_fn=&lt;NllLossBackward0&gt;)|\n",
       "|  0   |  80   | tensor(1.8747, device='cuda:0', grad_fn=&lt;NllLossBackward0&gt;)|\n",
       "|  0   |  90   | tensor(1.7005, device='cuda:0', grad_fn=&lt;NllLossBackward0&gt;)|\n",
       "|  1   |   0   | tensor(1.9897, device='cuda:0', grad_fn=&lt;NllLossBackward0&gt;)|\n",
       "|  1   |  10   | tensor(1.8219, device='cuda:0', grad_fn=&lt;NllLossBackward0&gt;)|\n",
       "|  1   |  20   | tensor(1.4629, device='cuda:0', grad_fn=&lt;NllLossBackward0&gt;)|\n",
       "|  1   |  30   | tensor(1.7484, device='cuda:0', grad_fn=&lt;NllLossBackward0&gt;)|\n",
       "|  1   |  40   | tensor(1.7815, device='cuda:0', grad_fn=&lt;NllLossBackward0&gt;)|\n",
       "|  1   |  50   | tensor(1.8314, device='cuda:0', grad_fn=&lt;NllLossBackward0&gt;)|\n",
       "|  1   |  60   | tensor(1.9199, device='cuda:0', grad_fn=&lt;NllLossBackward0&gt;)|\n",
       "|  1   |  70   | tensor(1.5015, device='cuda:0', grad_fn=&lt;NllLossBackward0&gt;)|\n",
       "|  1   |  80   | tensor(1.8751, device='cuda:0', grad_fn=&lt;NllLossBackward0&gt;)|\n",
       "|  1   |  90   | tensor(1.3935, device='cuda:0', grad_fn=&lt;NllLossBackward0&gt;)|\n",
       "|  2   |   0   | tensor(1.7660, device='cuda:0', grad_fn=&lt;NllLossBackward0&gt;)|\n",
       "|  2   |  10   | tensor(0.9537, device='cuda:0', grad_fn=&lt;NllLossBackward0&gt;)|\n",
       "|  2   |  20   | tensor(1.6908, device='cuda:0', grad_fn=&lt;NllLossBackward0&gt;)|\n",
       "|  2   |  30   | tensor(1.5331, device='cuda:0', grad_fn=&lt;NllLossBackward0&gt;)|\n",
       "|  2   |  40   | tensor(1.2615, device='cuda:0', grad_fn=&lt;NllLossBackward0&gt;)|\n",
       "|  2   |  50   | tensor(1.3764, device='cuda:0', grad_fn=&lt;NllLossBackward0&gt;)|\n",
       "|  2   |  60   | tensor(1.3337, device='cuda:0', grad_fn=&lt;NllLossBackward0&gt;)|\n",
       "|  2   |  70   | tensor(1.0561, device='cuda:0', grad_fn=&lt;NllLossBackward0&gt;)|\n",
       "+---------------------------------------------------------------------------+\n",
       "</pre>\n"
      ],
      "text/plain": [
       "\u001b[3m                               Training Status                               \u001b[0m\n",
       "+---------------------------------------------------------------------------+\n",
       "|\u001b[1mEpoch\u001b[0m\u001b[1m \u001b[0m|\u001b[1m \u001b[0m\u001b[1mSteps\u001b[0m\u001b[1m \u001b[0m|\u001b[1m \u001b[0m\u001b[1m                           Loss                            \u001b[0m|\n",
       "|------+-------+------------------------------------------------------------|\n",
       "|  0   |   0   | tensor(7.5742, device='cuda:0', grad_fn=<NllLossBackward0>)|\n",
       "|  0   |  10   | tensor(3.6975, device='cuda:0', grad_fn=<NllLossBackward0>)|\n",
       "|  0   |  20   | tensor(3.5060, device='cuda:0', grad_fn=<NllLossBackward0>)|\n",
       "|  0   |  30   | tensor(3.0824, device='cuda:0', grad_fn=<NllLossBackward0>)|\n",
       "|  0   |  40   | tensor(2.2840, device='cuda:0', grad_fn=<NllLossBackward0>)|\n",
       "|  0   |  50   | tensor(2.8537, device='cuda:0', grad_fn=<NllLossBackward0>)|\n",
       "|  0   |  60   | tensor(3.2243, device='cuda:0', grad_fn=<NllLossBackward0>)|\n",
       "|  0   |  70   | tensor(2.2970, device='cuda:0', grad_fn=<NllLossBackward0>)|\n",
       "|  0   |  80   | tensor(1.8747, device='cuda:0', grad_fn=<NllLossBackward0>)|\n",
       "|  0   |  90   | tensor(1.7005, device='cuda:0', grad_fn=<NllLossBackward0>)|\n",
       "|  1   |   0   | tensor(1.9897, device='cuda:0', grad_fn=<NllLossBackward0>)|\n",
       "|  1   |  10   | tensor(1.8219, device='cuda:0', grad_fn=<NllLossBackward0>)|\n",
       "|  1   |  20   | tensor(1.4629, device='cuda:0', grad_fn=<NllLossBackward0>)|\n",
       "|  1   |  30   | tensor(1.7484, device='cuda:0', grad_fn=<NllLossBackward0>)|\n",
       "|  1   |  40   | tensor(1.7815, device='cuda:0', grad_fn=<NllLossBackward0>)|\n",
       "|  1   |  50   | tensor(1.8314, device='cuda:0', grad_fn=<NllLossBackward0>)|\n",
       "|  1   |  60   | tensor(1.9199, device='cuda:0', grad_fn=<NllLossBackward0>)|\n",
       "|  1   |  70   | tensor(1.5015, device='cuda:0', grad_fn=<NllLossBackward0>)|\n",
       "|  1   |  80   | tensor(1.8751, device='cuda:0', grad_fn=<NllLossBackward0>)|\n",
       "|  1   |  90   | tensor(1.3935, device='cuda:0', grad_fn=<NllLossBackward0>)|\n",
       "|  2   |   0   | tensor(1.7660, device='cuda:0', grad_fn=<NllLossBackward0>)|\n",
       "|  2   |  10   | tensor(0.9537, device='cuda:0', grad_fn=<NllLossBackward0>)|\n",
       "|  2   |  20   | tensor(1.6908, device='cuda:0', grad_fn=<NllLossBackward0>)|\n",
       "|  2   |  30   | tensor(1.5331, device='cuda:0', grad_fn=<NllLossBackward0>)|\n",
       "|  2   |  40   | tensor(1.2615, device='cuda:0', grad_fn=<NllLossBackward0>)|\n",
       "|  2   |  50   | tensor(1.3764, device='cuda:0', grad_fn=<NllLossBackward0>)|\n",
       "|  2   |  60   | tensor(1.3337, device='cuda:0', grad_fn=<NllLossBackward0>)|\n",
       "|  2   |  70   | tensor(1.0561, device='cuda:0', grad_fn=<NllLossBackward0>)|\n",
       "+---------------------------------------------------------------------------+\n"
      ]
     },
     "metadata": {},
     "output_type": "display_data"
    },
    {
     "data": {
      "text/html": [
       "<pre style=\"white-space:pre;overflow-x:auto;line-height:normal;font-family:Menlo,'DejaVu Sans Mono',consolas,'Courier New',monospace\"><span style=\"font-style: italic\">                               Training Status                               </span>\n",
       "+---------------------------------------------------------------------------+\n",
       "|<span style=\"font-weight: bold\">Epoch </span>|<span style=\"font-weight: bold\"> Steps </span>|<span style=\"font-weight: bold\">                            Loss                            </span>|\n",
       "|------+-------+------------------------------------------------------------|\n",
       "|  0   |   0   | tensor(7.5742, device='cuda:0', grad_fn=&lt;NllLossBackward0&gt;)|\n",
       "|  0   |  10   | tensor(3.6975, device='cuda:0', grad_fn=&lt;NllLossBackward0&gt;)|\n",
       "|  0   |  20   | tensor(3.5060, device='cuda:0', grad_fn=&lt;NllLossBackward0&gt;)|\n",
       "|  0   |  30   | tensor(3.0824, device='cuda:0', grad_fn=&lt;NllLossBackward0&gt;)|\n",
       "|  0   |  40   | tensor(2.2840, device='cuda:0', grad_fn=&lt;NllLossBackward0&gt;)|\n",
       "|  0   |  50   | tensor(2.8537, device='cuda:0', grad_fn=&lt;NllLossBackward0&gt;)|\n",
       "|  0   |  60   | tensor(3.2243, device='cuda:0', grad_fn=&lt;NllLossBackward0&gt;)|\n",
       "|  0   |  70   | tensor(2.2970, device='cuda:0', grad_fn=&lt;NllLossBackward0&gt;)|\n",
       "|  0   |  80   | tensor(1.8747, device='cuda:0', grad_fn=&lt;NllLossBackward0&gt;)|\n",
       "|  0   |  90   | tensor(1.7005, device='cuda:0', grad_fn=&lt;NllLossBackward0&gt;)|\n",
       "|  1   |   0   | tensor(1.9897, device='cuda:0', grad_fn=&lt;NllLossBackward0&gt;)|\n",
       "|  1   |  10   | tensor(1.8219, device='cuda:0', grad_fn=&lt;NllLossBackward0&gt;)|\n",
       "|  1   |  20   | tensor(1.4629, device='cuda:0', grad_fn=&lt;NllLossBackward0&gt;)|\n",
       "|  1   |  30   | tensor(1.7484, device='cuda:0', grad_fn=&lt;NllLossBackward0&gt;)|\n",
       "|  1   |  40   | tensor(1.7815, device='cuda:0', grad_fn=&lt;NllLossBackward0&gt;)|\n",
       "|  1   |  50   | tensor(1.8314, device='cuda:0', grad_fn=&lt;NllLossBackward0&gt;)|\n",
       "|  1   |  60   | tensor(1.9199, device='cuda:0', grad_fn=&lt;NllLossBackward0&gt;)|\n",
       "|  1   |  70   | tensor(1.5015, device='cuda:0', grad_fn=&lt;NllLossBackward0&gt;)|\n",
       "|  1   |  80   | tensor(1.8751, device='cuda:0', grad_fn=&lt;NllLossBackward0&gt;)|\n",
       "|  1   |  90   | tensor(1.3935, device='cuda:0', grad_fn=&lt;NllLossBackward0&gt;)|\n",
       "|  2   |   0   | tensor(1.7660, device='cuda:0', grad_fn=&lt;NllLossBackward0&gt;)|\n",
       "|  2   |  10   | tensor(0.9537, device='cuda:0', grad_fn=&lt;NllLossBackward0&gt;)|\n",
       "|  2   |  20   | tensor(1.6908, device='cuda:0', grad_fn=&lt;NllLossBackward0&gt;)|\n",
       "|  2   |  30   | tensor(1.5331, device='cuda:0', grad_fn=&lt;NllLossBackward0&gt;)|\n",
       "|  2   |  40   | tensor(1.2615, device='cuda:0', grad_fn=&lt;NllLossBackward0&gt;)|\n",
       "|  2   |  50   | tensor(1.3764, device='cuda:0', grad_fn=&lt;NllLossBackward0&gt;)|\n",
       "|  2   |  60   | tensor(1.3337, device='cuda:0', grad_fn=&lt;NllLossBackward0&gt;)|\n",
       "|  2   |  70   | tensor(1.0561, device='cuda:0', grad_fn=&lt;NllLossBackward0&gt;)|\n",
       "|  2   |  80   | tensor(1.4198, device='cuda:0', grad_fn=&lt;NllLossBackward0&gt;)|\n",
       "+---------------------------------------------------------------------------+\n",
       "</pre>\n"
      ],
      "text/plain": [
       "\u001b[3m                               Training Status                               \u001b[0m\n",
       "+---------------------------------------------------------------------------+\n",
       "|\u001b[1mEpoch\u001b[0m\u001b[1m \u001b[0m|\u001b[1m \u001b[0m\u001b[1mSteps\u001b[0m\u001b[1m \u001b[0m|\u001b[1m \u001b[0m\u001b[1m                           Loss                            \u001b[0m|\n",
       "|------+-------+------------------------------------------------------------|\n",
       "|  0   |   0   | tensor(7.5742, device='cuda:0', grad_fn=<NllLossBackward0>)|\n",
       "|  0   |  10   | tensor(3.6975, device='cuda:0', grad_fn=<NllLossBackward0>)|\n",
       "|  0   |  20   | tensor(3.5060, device='cuda:0', grad_fn=<NllLossBackward0>)|\n",
       "|  0   |  30   | tensor(3.0824, device='cuda:0', grad_fn=<NllLossBackward0>)|\n",
       "|  0   |  40   | tensor(2.2840, device='cuda:0', grad_fn=<NllLossBackward0>)|\n",
       "|  0   |  50   | tensor(2.8537, device='cuda:0', grad_fn=<NllLossBackward0>)|\n",
       "|  0   |  60   | tensor(3.2243, device='cuda:0', grad_fn=<NllLossBackward0>)|\n",
       "|  0   |  70   | tensor(2.2970, device='cuda:0', grad_fn=<NllLossBackward0>)|\n",
       "|  0   |  80   | tensor(1.8747, device='cuda:0', grad_fn=<NllLossBackward0>)|\n",
       "|  0   |  90   | tensor(1.7005, device='cuda:0', grad_fn=<NllLossBackward0>)|\n",
       "|  1   |   0   | tensor(1.9897, device='cuda:0', grad_fn=<NllLossBackward0>)|\n",
       "|  1   |  10   | tensor(1.8219, device='cuda:0', grad_fn=<NllLossBackward0>)|\n",
       "|  1   |  20   | tensor(1.4629, device='cuda:0', grad_fn=<NllLossBackward0>)|\n",
       "|  1   |  30   | tensor(1.7484, device='cuda:0', grad_fn=<NllLossBackward0>)|\n",
       "|  1   |  40   | tensor(1.7815, device='cuda:0', grad_fn=<NllLossBackward0>)|\n",
       "|  1   |  50   | tensor(1.8314, device='cuda:0', grad_fn=<NllLossBackward0>)|\n",
       "|  1   |  60   | tensor(1.9199, device='cuda:0', grad_fn=<NllLossBackward0>)|\n",
       "|  1   |  70   | tensor(1.5015, device='cuda:0', grad_fn=<NllLossBackward0>)|\n",
       "|  1   |  80   | tensor(1.8751, device='cuda:0', grad_fn=<NllLossBackward0>)|\n",
       "|  1   |  90   | tensor(1.3935, device='cuda:0', grad_fn=<NllLossBackward0>)|\n",
       "|  2   |   0   | tensor(1.7660, device='cuda:0', grad_fn=<NllLossBackward0>)|\n",
       "|  2   |  10   | tensor(0.9537, device='cuda:0', grad_fn=<NllLossBackward0>)|\n",
       "|  2   |  20   | tensor(1.6908, device='cuda:0', grad_fn=<NllLossBackward0>)|\n",
       "|  2   |  30   | tensor(1.5331, device='cuda:0', grad_fn=<NllLossBackward0>)|\n",
       "|  2   |  40   | tensor(1.2615, device='cuda:0', grad_fn=<NllLossBackward0>)|\n",
       "|  2   |  50   | tensor(1.3764, device='cuda:0', grad_fn=<NllLossBackward0>)|\n",
       "|  2   |  60   | tensor(1.3337, device='cuda:0', grad_fn=<NllLossBackward0>)|\n",
       "|  2   |  70   | tensor(1.0561, device='cuda:0', grad_fn=<NllLossBackward0>)|\n",
       "|  2   |  80   | tensor(1.4198, device='cuda:0', grad_fn=<NllLossBackward0>)|\n",
       "+---------------------------------------------------------------------------+\n"
      ]
     },
     "metadata": {},
     "output_type": "display_data"
    },
    {
     "data": {
      "text/html": [
       "<pre style=\"white-space:pre;overflow-x:auto;line-height:normal;font-family:Menlo,'DejaVu Sans Mono',consolas,'Courier New',monospace\"><span style=\"font-style: italic\">                               Training Status                               </span>\n",
       "+---------------------------------------------------------------------------+\n",
       "|<span style=\"font-weight: bold\">Epoch </span>|<span style=\"font-weight: bold\"> Steps </span>|<span style=\"font-weight: bold\">                            Loss                            </span>|\n",
       "|------+-------+------------------------------------------------------------|\n",
       "|  0   |   0   | tensor(7.5742, device='cuda:0', grad_fn=&lt;NllLossBackward0&gt;)|\n",
       "|  0   |  10   | tensor(3.6975, device='cuda:0', grad_fn=&lt;NllLossBackward0&gt;)|\n",
       "|  0   |  20   | tensor(3.5060, device='cuda:0', grad_fn=&lt;NllLossBackward0&gt;)|\n",
       "|  0   |  30   | tensor(3.0824, device='cuda:0', grad_fn=&lt;NllLossBackward0&gt;)|\n",
       "|  0   |  40   | tensor(2.2840, device='cuda:0', grad_fn=&lt;NllLossBackward0&gt;)|\n",
       "|  0   |  50   | tensor(2.8537, device='cuda:0', grad_fn=&lt;NllLossBackward0&gt;)|\n",
       "|  0   |  60   | tensor(3.2243, device='cuda:0', grad_fn=&lt;NllLossBackward0&gt;)|\n",
       "|  0   |  70   | tensor(2.2970, device='cuda:0', grad_fn=&lt;NllLossBackward0&gt;)|\n",
       "|  0   |  80   | tensor(1.8747, device='cuda:0', grad_fn=&lt;NllLossBackward0&gt;)|\n",
       "|  0   |  90   | tensor(1.7005, device='cuda:0', grad_fn=&lt;NllLossBackward0&gt;)|\n",
       "|  1   |   0   | tensor(1.9897, device='cuda:0', grad_fn=&lt;NllLossBackward0&gt;)|\n",
       "|  1   |  10   | tensor(1.8219, device='cuda:0', grad_fn=&lt;NllLossBackward0&gt;)|\n",
       "|  1   |  20   | tensor(1.4629, device='cuda:0', grad_fn=&lt;NllLossBackward0&gt;)|\n",
       "|  1   |  30   | tensor(1.7484, device='cuda:0', grad_fn=&lt;NllLossBackward0&gt;)|\n",
       "|  1   |  40   | tensor(1.7815, device='cuda:0', grad_fn=&lt;NllLossBackward0&gt;)|\n",
       "|  1   |  50   | tensor(1.8314, device='cuda:0', grad_fn=&lt;NllLossBackward0&gt;)|\n",
       "|  1   |  60   | tensor(1.9199, device='cuda:0', grad_fn=&lt;NllLossBackward0&gt;)|\n",
       "|  1   |  70   | tensor(1.5015, device='cuda:0', grad_fn=&lt;NllLossBackward0&gt;)|\n",
       "|  1   |  80   | tensor(1.8751, device='cuda:0', grad_fn=&lt;NllLossBackward0&gt;)|\n",
       "|  1   |  90   | tensor(1.3935, device='cuda:0', grad_fn=&lt;NllLossBackward0&gt;)|\n",
       "|  2   |   0   | tensor(1.7660, device='cuda:0', grad_fn=&lt;NllLossBackward0&gt;)|\n",
       "|  2   |  10   | tensor(0.9537, device='cuda:0', grad_fn=&lt;NllLossBackward0&gt;)|\n",
       "|  2   |  20   | tensor(1.6908, device='cuda:0', grad_fn=&lt;NllLossBackward0&gt;)|\n",
       "|  2   |  30   | tensor(1.5331, device='cuda:0', grad_fn=&lt;NllLossBackward0&gt;)|\n",
       "|  2   |  40   | tensor(1.2615, device='cuda:0', grad_fn=&lt;NllLossBackward0&gt;)|\n",
       "|  2   |  50   | tensor(1.3764, device='cuda:0', grad_fn=&lt;NllLossBackward0&gt;)|\n",
       "|  2   |  60   | tensor(1.3337, device='cuda:0', grad_fn=&lt;NllLossBackward0&gt;)|\n",
       "|  2   |  70   | tensor(1.0561, device='cuda:0', grad_fn=&lt;NllLossBackward0&gt;)|\n",
       "|  2   |  80   | tensor(1.4198, device='cuda:0', grad_fn=&lt;NllLossBackward0&gt;)|\n",
       "|  2   |  90   | tensor(0.8776, device='cuda:0', grad_fn=&lt;NllLossBackward0&gt;)|\n",
       "+---------------------------------------------------------------------------+\n",
       "</pre>\n"
      ],
      "text/plain": [
       "\u001b[3m                               Training Status                               \u001b[0m\n",
       "+---------------------------------------------------------------------------+\n",
       "|\u001b[1mEpoch\u001b[0m\u001b[1m \u001b[0m|\u001b[1m \u001b[0m\u001b[1mSteps\u001b[0m\u001b[1m \u001b[0m|\u001b[1m \u001b[0m\u001b[1m                           Loss                            \u001b[0m|\n",
       "|------+-------+------------------------------------------------------------|\n",
       "|  0   |   0   | tensor(7.5742, device='cuda:0', grad_fn=<NllLossBackward0>)|\n",
       "|  0   |  10   | tensor(3.6975, device='cuda:0', grad_fn=<NllLossBackward0>)|\n",
       "|  0   |  20   | tensor(3.5060, device='cuda:0', grad_fn=<NllLossBackward0>)|\n",
       "|  0   |  30   | tensor(3.0824, device='cuda:0', grad_fn=<NllLossBackward0>)|\n",
       "|  0   |  40   | tensor(2.2840, device='cuda:0', grad_fn=<NllLossBackward0>)|\n",
       "|  0   |  50   | tensor(2.8537, device='cuda:0', grad_fn=<NllLossBackward0>)|\n",
       "|  0   |  60   | tensor(3.2243, device='cuda:0', grad_fn=<NllLossBackward0>)|\n",
       "|  0   |  70   | tensor(2.2970, device='cuda:0', grad_fn=<NllLossBackward0>)|\n",
       "|  0   |  80   | tensor(1.8747, device='cuda:0', grad_fn=<NllLossBackward0>)|\n",
       "|  0   |  90   | tensor(1.7005, device='cuda:0', grad_fn=<NllLossBackward0>)|\n",
       "|  1   |   0   | tensor(1.9897, device='cuda:0', grad_fn=<NllLossBackward0>)|\n",
       "|  1   |  10   | tensor(1.8219, device='cuda:0', grad_fn=<NllLossBackward0>)|\n",
       "|  1   |  20   | tensor(1.4629, device='cuda:0', grad_fn=<NllLossBackward0>)|\n",
       "|  1   |  30   | tensor(1.7484, device='cuda:0', grad_fn=<NllLossBackward0>)|\n",
       "|  1   |  40   | tensor(1.7815, device='cuda:0', grad_fn=<NllLossBackward0>)|\n",
       "|  1   |  50   | tensor(1.8314, device='cuda:0', grad_fn=<NllLossBackward0>)|\n",
       "|  1   |  60   | tensor(1.9199, device='cuda:0', grad_fn=<NllLossBackward0>)|\n",
       "|  1   |  70   | tensor(1.5015, device='cuda:0', grad_fn=<NllLossBackward0>)|\n",
       "|  1   |  80   | tensor(1.8751, device='cuda:0', grad_fn=<NllLossBackward0>)|\n",
       "|  1   |  90   | tensor(1.3935, device='cuda:0', grad_fn=<NllLossBackward0>)|\n",
       "|  2   |   0   | tensor(1.7660, device='cuda:0', grad_fn=<NllLossBackward0>)|\n",
       "|  2   |  10   | tensor(0.9537, device='cuda:0', grad_fn=<NllLossBackward0>)|\n",
       "|  2   |  20   | tensor(1.6908, device='cuda:0', grad_fn=<NllLossBackward0>)|\n",
       "|  2   |  30   | tensor(1.5331, device='cuda:0', grad_fn=<NllLossBackward0>)|\n",
       "|  2   |  40   | tensor(1.2615, device='cuda:0', grad_fn=<NllLossBackward0>)|\n",
       "|  2   |  50   | tensor(1.3764, device='cuda:0', grad_fn=<NllLossBackward0>)|\n",
       "|  2   |  60   | tensor(1.3337, device='cuda:0', grad_fn=<NllLossBackward0>)|\n",
       "|  2   |  70   | tensor(1.0561, device='cuda:0', grad_fn=<NllLossBackward0>)|\n",
       "|  2   |  80   | tensor(1.4198, device='cuda:0', grad_fn=<NllLossBackward0>)|\n",
       "|  2   |  90   | tensor(0.8776, device='cuda:0', grad_fn=<NllLossBackward0>)|\n",
       "+---------------------------------------------------------------------------+\n"
      ]
     },
     "metadata": {},
     "output_type": "display_data"
    },
    {
     "data": {
      "text/html": [
       "<pre style=\"white-space:pre;overflow-x:auto;line-height:normal;font-family:Menlo,'DejaVu Sans Mono',consolas,'Courier New',monospace\"><span style=\"color: #7fbfbf; text-decoration-color: #7fbfbf\">[22:15:20] </span><span style=\"font-weight: bold\">[</span>Saving Model<span style=\"font-weight: bold\">]</span><span style=\"color: #808000; text-decoration-color: #808000\">...</span>                                                   <a href=\"file:///tmp/ipykernel_18/51270473.py\" target=\"_blank\"><span style=\"color: #7f7f7f; text-decoration-color: #7f7f7f\">51270473.py</span></a><span style=\"color: #7f7f7f; text-decoration-color: #7f7f7f\">:</span><a href=\"file:///tmp/ipykernel_18/51270473.py#90\" target=\"_blank\"><span style=\"color: #7f7f7f; text-decoration-color: #7f7f7f\">90</span></a>\n",
       "<span style=\"color: #7fbfbf; text-decoration-color: #7fbfbf\">           </span>                                                                    <span style=\"color: #7f7f7f; text-decoration-color: #7f7f7f\">              </span>\n",
       "</pre>\n"
      ],
      "text/plain": [
       "\u001b[2;36m[22:15:20]\u001b[0m\u001b[2;36m \u001b[0m\u001b[1m[\u001b[0mSaving Model\u001b[1m]\u001b[0m\u001b[33m...\u001b[0m                                                   \u001b]8;id=832915;file:///tmp/ipykernel_18/51270473.py\u001b\\\u001b[2m51270473.py\u001b[0m\u001b]8;;\u001b\\\u001b[2m:\u001b[0m\u001b]8;id=531739;file:///tmp/ipykernel_18/51270473.py#90\u001b\\\u001b[2m90\u001b[0m\u001b]8;;\u001b\\\n",
       "\u001b[2;36m           \u001b[0m                                                                    \u001b[2m              \u001b[0m\n"
      ]
     },
     "metadata": {},
     "output_type": "display_data"
    },
    {
     "data": {
      "text/html": [
       "<pre style=\"white-space:pre;overflow-x:auto;line-height:normal;font-family:Menlo,'DejaVu Sans Mono',consolas,'Courier New',monospace\"><span style=\"color: #7fbfbf; text-decoration-color: #7fbfbf\">[22:15:21] </span><span style=\"font-weight: bold\">[</span>Initiating Validation<span style=\"font-weight: bold\">]</span><span style=\"color: #808000; text-decoration-color: #808000\">...</span>                                          <a href=\"file:///tmp/ipykernel_18/51270473.py\" target=\"_blank\"><span style=\"color: #7f7f7f; text-decoration-color: #7f7f7f\">51270473.py</span></a><span style=\"color: #7f7f7f; text-decoration-color: #7f7f7f\">:</span><a href=\"file:///tmp/ipykernel_18/51270473.py#97\" target=\"_blank\"><span style=\"color: #7f7f7f; text-decoration-color: #7f7f7f\">97</span></a>\n",
       "<span style=\"color: #7fbfbf; text-decoration-color: #7fbfbf\">           </span>                                                                    <span style=\"color: #7f7f7f; text-decoration-color: #7f7f7f\">              </span>\n",
       "</pre>\n"
      ],
      "text/plain": [
       "\u001b[2;36m[22:15:21]\u001b[0m\u001b[2;36m \u001b[0m\u001b[1m[\u001b[0mInitiating Validation\u001b[1m]\u001b[0m\u001b[33m...\u001b[0m                                          \u001b]8;id=865507;file:///tmp/ipykernel_18/51270473.py\u001b\\\u001b[2m51270473.py\u001b[0m\u001b]8;;\u001b\\\u001b[2m:\u001b[0m\u001b]8;id=173841;file:///tmp/ipykernel_18/51270473.py#97\u001b\\\u001b[2m97\u001b[0m\u001b]8;;\u001b\\\n",
       "\u001b[2;36m           \u001b[0m                                                                    \u001b[2m              \u001b[0m\n"
      ]
     },
     "metadata": {},
     "output_type": "display_data"
    },
    {
     "data": {
      "text/html": [
       "<pre style=\"white-space:pre;overflow-x:auto;line-height:normal;font-family:Menlo,'DejaVu Sans Mono',consolas,'Courier New',monospace\">Completed <span style=\"color: #008080; text-decoration-color: #008080; font-weight: bold\">0</span>\n",
       "</pre>\n"
      ],
      "text/plain": [
       "Completed \u001b[1;36m0\u001b[0m\n"
      ]
     },
     "metadata": {},
     "output_type": "display_data"
    },
    {
     "data": {
      "text/html": [
       "<pre style=\"white-space:pre;overflow-x:auto;line-height:normal;font-family:Menlo,'DejaVu Sans Mono',consolas,'Courier New',monospace\">Completed <span style=\"color: #008080; text-decoration-color: #008080; font-weight: bold\">10</span>\n",
       "</pre>\n"
      ],
      "text/plain": [
       "Completed \u001b[1;36m10\u001b[0m\n"
      ]
     },
     "metadata": {},
     "output_type": "display_data"
    },
    {
     "data": {
      "text/html": [
       "<pre style=\"white-space:pre;overflow-x:auto;line-height:normal;font-family:Menlo,'DejaVu Sans Mono',consolas,'Courier New',monospace\">Completed <span style=\"color: #008080; text-decoration-color: #008080; font-weight: bold\">20</span>\n",
       "</pre>\n"
      ],
      "text/plain": [
       "Completed \u001b[1;36m20\u001b[0m\n"
      ]
     },
     "metadata": {},
     "output_type": "display_data"
    },
    {
     "data": {
      "text/html": [
       "<pre style=\"white-space:pre;overflow-x:auto;line-height:normal;font-family:Menlo,'DejaVu Sans Mono',consolas,'Courier New',monospace\"><span style=\"color: #7fbfbf; text-decoration-color: #7fbfbf\">[22:15:54] </span><span style=\"font-weight: bold\">[</span>Validation Completed.<span style=\"font-weight: bold\">]</span>                                            <a href=\"file:///tmp/ipykernel_18/51270473.py\" target=\"_blank\"><span style=\"color: #7f7f7f; text-decoration-color: #7f7f7f\">51270473.py</span></a><span style=\"color: #7f7f7f; text-decoration-color: #7f7f7f\">:</span><a href=\"file:///tmp/ipykernel_18/51270473.py#105\" target=\"_blank\"><span style=\"color: #7f7f7f; text-decoration-color: #7f7f7f\">105</span></a>\n",
       "<span style=\"color: #7fbfbf; text-decoration-color: #7fbfbf\">           </span>                                                                   <span style=\"color: #7f7f7f; text-decoration-color: #7f7f7f\">               </span>\n",
       "</pre>\n"
      ],
      "text/plain": [
       "\u001b[2;36m[22:15:54]\u001b[0m\u001b[2;36m \u001b[0m\u001b[1m[\u001b[0mValidation Completed.\u001b[1m]\u001b[0m                                            \u001b]8;id=807378;file:///tmp/ipykernel_18/51270473.py\u001b\\\u001b[2m51270473.py\u001b[0m\u001b]8;;\u001b\\\u001b[2m:\u001b[0m\u001b]8;id=723515;file:///tmp/ipykernel_18/51270473.py#105\u001b\\\u001b[2m105\u001b[0m\u001b]8;;\u001b\\\n",
       "\u001b[2;36m           \u001b[0m                                                                   \u001b[2m               \u001b[0m\n"
      ]
     },
     "metadata": {},
     "output_type": "display_data"
    },
    {
     "data": {
      "text/html": [
       "<pre style=\"white-space:pre;overflow-x:auto;line-height:normal;font-family:Menlo,'DejaVu Sans Mono',consolas,'Courier New',monospace\"><span style=\"font-weight: bold\">[</span>Model<span style=\"font-weight: bold\">]</span> Model saved @ outputs/model_files\n",
       "\n",
       "</pre>\n"
      ],
      "text/plain": [
       "\u001b[1m[\u001b[0mModel\u001b[1m]\u001b[0m Model saved @ outputs/model_files\n",
       "\n"
      ]
     },
     "metadata": {},
     "output_type": "display_data"
    },
    {
     "data": {
      "text/html": [
       "<pre style=\"white-space:pre;overflow-x:auto;line-height:normal;font-family:Menlo,'DejaVu Sans Mono',consolas,'Courier New',monospace\"><span style=\"font-weight: bold\">[</span>Validation<span style=\"font-weight: bold\">]</span> Generation on Validation data saved @ outputs/predictions.csv\n",
       "\n",
       "</pre>\n"
      ],
      "text/plain": [
       "\u001b[1m[\u001b[0mValidation\u001b[1m]\u001b[0m Generation on Validation data saved @ outputs/predictions.csv\n",
       "\n"
      ]
     },
     "metadata": {},
     "output_type": "display_data"
    },
    {
     "data": {
      "text/html": [
       "<pre style=\"white-space:pre;overflow-x:auto;line-height:normal;font-family:Menlo,'DejaVu Sans Mono',consolas,'Courier New',monospace\"><span style=\"font-weight: bold\">[</span>Logs<span style=\"font-weight: bold\">]</span> Logs saved @ outputs/logs.txt\n",
       "\n",
       "</pre>\n"
      ],
      "text/plain": [
       "\u001b[1m[\u001b[0mLogs\u001b[1m]\u001b[0m Logs saved @ outputs/logs.txt\n",
       "\n"
      ]
     },
     "metadata": {},
     "output_type": "display_data"
    }
   ],
   "source": [
    "# T5 accepts prefix of the task to be performed:\n",
    "# Since we are summarizing, let's add summarize to source text as a prefix\n",
    "df[\"text\"] = \"summarize: \" + df[\"text\"]\n",
    "\n",
    "T5Trainer(\n",
    "    dataframe=df[:5000],\n",
    "    source_text=\"text\",\n",
    "    target_text=\"headlines\",\n",
    "    model_params=model_params,\n",
    "    output_dir=\"outputs\",\n",
    ")"
   ]
  },
  {
   "cell_type": "markdown",
   "id": "ac50c3fb",
   "metadata": {
    "id": "0RGiEMAVBYID",
    "papermill": {
     "duration": 0.014354,
     "end_time": "2022-06-05T22:15:54.137113",
     "exception": false,
     "start_time": "2022-06-05T22:15:54.122759",
     "status": "completed"
    },
    "tags": []
   },
   "source": [
    "### Homework\n",
    "\n",
    "- Write a prediction function for the summarization task\n",
    "  - Model is already saved @ outputs/model_files\n",
    "  - Load the model\n",
    "  - Prepare the test sample accordingly to feed the model\n",
    "  - Predict on the model\n",
    "  - Collect the output and display the output"
   ]
  },
  {
   "cell_type": "code",
   "execution_count": null,
   "id": "56a5022f",
   "metadata": {
    "id": "6_cAitt0BsEZ",
    "papermill": {
     "duration": 0.016548,
     "end_time": "2022-06-05T22:15:54.168513",
     "exception": false,
     "start_time": "2022-06-05T22:15:54.151965",
     "status": "completed"
    },
    "tags": []
   },
   "outputs": [],
   "source": []
  },
  {
   "cell_type": "code",
   "execution_count": null,
   "id": "8ec10720",
   "metadata": {
    "id": "B-TRK9WKBr6O",
    "papermill": {
     "duration": 0.016796,
     "end_time": "2022-06-05T22:15:54.202300",
     "exception": false,
     "start_time": "2022-06-05T22:15:54.185504",
     "status": "completed"
    },
    "tags": []
   },
   "outputs": [],
   "source": []
  }
 ],
 "metadata": {
  "kernelspec": {
   "display_name": "Python 3 (ipykernel)",
   "language": "python",
   "name": "python3"
  },
  "language_info": {
   "codemirror_mode": {
    "name": "ipython",
    "version": 3
   },
   "file_extension": ".py",
   "mimetype": "text/x-python",
   "name": "python",
   "nbconvert_exporter": "python",
   "pygments_lexer": "ipython3",
   "version": "3.8.13"
  },
  "papermill": {
   "default_parameters": {},
   "duration": 348.33834,
   "end_time": "2022-06-05T22:15:57.515007",
   "environment_variables": {},
   "exception": null,
   "input_path": "__notebook__.ipynb",
   "output_path": "__notebook__.ipynb",
   "parameters": {},
   "start_time": "2022-06-05T22:10:09.176667",
   "version": "2.3.4"
  },
  "widgets": {
   "application/vnd.jupyter.widget-state+json": {
    "state": {
     "03a4aab41f44422896dd418fdf6c2a2c": {
      "model_module": "@jupyter-widgets/controls",
      "model_module_version": "1.5.0",
      "model_name": "HBoxModel",
      "state": {
       "_dom_classes": [],
       "_model_module": "@jupyter-widgets/controls",
       "_model_module_version": "1.5.0",
       "_model_name": "HBoxModel",
       "_view_count": null,
       "_view_module": "@jupyter-widgets/controls",
       "_view_module_version": "1.5.0",
       "_view_name": "HBoxView",
       "box_style": "",
       "children": [
        "IPY_MODEL_d6abb4edc6da4944989e58eb449375a2",
        "IPY_MODEL_d6fce6895888436c9c71d2345b79560a",
        "IPY_MODEL_ee369c4104bf4242974523430ee280f2"
       ],
       "layout": "IPY_MODEL_e5b1901a7cb24891bae1580fa0b30ac1"
      }
     },
     "12ad2f60b7004c229c491c34647466d3": {
      "model_module": "@jupyter-widgets/controls",
      "model_module_version": "1.5.0",
      "model_name": "FloatProgressModel",
      "state": {
       "_dom_classes": [],
       "_model_module": "@jupyter-widgets/controls",
       "_model_module_version": "1.5.0",
       "_model_name": "FloatProgressModel",
       "_view_count": null,
       "_view_module": "@jupyter-widgets/controls",
       "_view_module_version": "1.5.0",
       "_view_name": "ProgressView",
       "bar_style": "success",
       "description": "",
       "description_tooltip": null,
       "layout": "IPY_MODEL_54246c2409d2420989c106fda8a7a122",
       "max": 891691430,
       "min": 0,
       "orientation": "horizontal",
       "style": "IPY_MODEL_fd62fcc07aa64407980220e3ad8f4753",
       "value": 891691430
      }
     },
     "184bd4115d5f4ae1aabfa047f4630609": {
      "model_module": "@jupyter-widgets/controls",
      "model_module_version": "1.5.0",
      "model_name": "FloatProgressModel",
      "state": {
       "_dom_classes": [],
       "_model_module": "@jupyter-widgets/controls",
       "_model_module_version": "1.5.0",
       "_model_name": "FloatProgressModel",
       "_view_count": null,
       "_view_module": "@jupyter-widgets/controls",
       "_view_module_version": "1.5.0",
       "_view_name": "ProgressView",
       "bar_style": "success",
       "description": "",
       "description_tooltip": null,
       "layout": "IPY_MODEL_3f97d028d8e14996b3935d8117e4fed7",
       "max": 791656,
       "min": 0,
       "orientation": "horizontal",
       "style": "IPY_MODEL_66c539a2aa2f4c6aa64466fe78d4aa26",
       "value": 791656
      }
     },
     "1e2109d3e8f44d57b90fe9513c3118d8": {
      "model_module": "@jupyter-widgets/controls",
      "model_module_version": "1.5.0",
      "model_name": "DescriptionStyleModel",
      "state": {
       "_model_module": "@jupyter-widgets/controls",
       "_model_module_version": "1.5.0",
       "_model_name": "DescriptionStyleModel",
       "_view_count": null,
       "_view_module": "@jupyter-widgets/base",
       "_view_module_version": "1.2.0",
       "_view_name": "StyleView",
       "description_width": ""
      }
     },
     "24a5950592144c8c8fc7cd13132ef2b2": {
      "model_module": "@jupyter-widgets/base",
      "model_module_version": "1.2.0",
      "model_name": "LayoutModel",
      "state": {
       "_model_module": "@jupyter-widgets/base",
       "_model_module_version": "1.2.0",
       "_model_name": "LayoutModel",
       "_view_count": null,
       "_view_module": "@jupyter-widgets/base",
       "_view_module_version": "1.2.0",
       "_view_name": "LayoutView",
       "align_content": null,
       "align_items": null,
       "align_self": null,
       "border": null,
       "bottom": null,
       "display": null,
       "flex": null,
       "flex_flow": null,
       "grid_area": null,
       "grid_auto_columns": null,
       "grid_auto_flow": null,
       "grid_auto_rows": null,
       "grid_column": null,
       "grid_gap": null,
       "grid_row": null,
       "grid_template_areas": null,
       "grid_template_columns": null,
       "grid_template_rows": null,
       "height": null,
       "justify_content": null,
       "justify_items": null,
       "left": null,
       "margin": null,
       "max_height": null,
       "max_width": null,
       "min_height": null,
       "min_width": null,
       "object_fit": null,
       "object_position": null,
       "order": null,
       "overflow": null,
       "overflow_x": null,
       "overflow_y": null,
       "padding": null,
       "right": null,
       "top": null,
       "visibility": null,
       "width": null
      }
     },
     "3f97d028d8e14996b3935d8117e4fed7": {
      "model_module": "@jupyter-widgets/base",
      "model_module_version": "1.2.0",
      "model_name": "LayoutModel",
      "state": {
       "_model_module": "@jupyter-widgets/base",
       "_model_module_version": "1.2.0",
       "_model_name": "LayoutModel",
       "_view_count": null,
       "_view_module": "@jupyter-widgets/base",
       "_view_module_version": "1.2.0",
       "_view_name": "LayoutView",
       "align_content": null,
       "align_items": null,
       "align_self": null,
       "border": null,
       "bottom": null,
       "display": null,
       "flex": null,
       "flex_flow": null,
       "grid_area": null,
       "grid_auto_columns": null,
       "grid_auto_flow": null,
       "grid_auto_rows": null,
       "grid_column": null,
       "grid_gap": null,
       "grid_row": null,
       "grid_template_areas": null,
       "grid_template_columns": null,
       "grid_template_rows": null,
       "height": null,
       "justify_content": null,
       "justify_items": null,
       "left": null,
       "margin": null,
       "max_height": null,
       "max_width": null,
       "min_height": null,
       "min_width": null,
       "object_fit": null,
       "object_position": null,
       "order": null,
       "overflow": null,
       "overflow_x": null,
       "overflow_y": null,
       "padding": null,
       "right": null,
       "top": null,
       "visibility": null,
       "width": null
      }
     },
     "43f8e93029c647079466072cecf3350e": {
      "model_module": "@jupyter-widgets/controls",
      "model_module_version": "1.5.0",
      "model_name": "DescriptionStyleModel",
      "state": {
       "_model_module": "@jupyter-widgets/controls",
       "_model_module_version": "1.5.0",
       "_model_name": "DescriptionStyleModel",
       "_view_count": null,
       "_view_module": "@jupyter-widgets/base",
       "_view_module_version": "1.2.0",
       "_view_name": "StyleView",
       "description_width": ""
      }
     },
     "4ad333c6a73841568dab36b1c167dc39": {
      "model_module": "@jupyter-widgets/base",
      "model_module_version": "1.2.0",
      "model_name": "LayoutModel",
      "state": {
       "_model_module": "@jupyter-widgets/base",
       "_model_module_version": "1.2.0",
       "_model_name": "LayoutModel",
       "_view_count": null,
       "_view_module": "@jupyter-widgets/base",
       "_view_module_version": "1.2.0",
       "_view_name": "LayoutView",
       "align_content": null,
       "align_items": null,
       "align_self": null,
       "border": null,
       "bottom": null,
       "display": null,
       "flex": null,
       "flex_flow": null,
       "grid_area": null,
       "grid_auto_columns": null,
       "grid_auto_flow": null,
       "grid_auto_rows": null,
       "grid_column": null,
       "grid_gap": null,
       "grid_row": null,
       "grid_template_areas": null,
       "grid_template_columns": null,
       "grid_template_rows": null,
       "height": null,
       "justify_content": null,
       "justify_items": null,
       "left": null,
       "margin": null,
       "max_height": null,
       "max_width": null,
       "min_height": null,
       "min_width": null,
       "object_fit": null,
       "object_position": null,
       "order": null,
       "overflow": null,
       "overflow_x": null,
       "overflow_y": null,
       "padding": null,
       "right": null,
       "top": null,
       "visibility": null,
       "width": null
      }
     },
     "514b665ff5a14ff5997ff6368a16a7ce": {
      "model_module": "@jupyter-widgets/base",
      "model_module_version": "1.2.0",
      "model_name": "LayoutModel",
      "state": {
       "_model_module": "@jupyter-widgets/base",
       "_model_module_version": "1.2.0",
       "_model_name": "LayoutModel",
       "_view_count": null,
       "_view_module": "@jupyter-widgets/base",
       "_view_module_version": "1.2.0",
       "_view_name": "LayoutView",
       "align_content": null,
       "align_items": null,
       "align_self": null,
       "border": null,
       "bottom": null,
       "display": null,
       "flex": null,
       "flex_flow": null,
       "grid_area": null,
       "grid_auto_columns": null,
       "grid_auto_flow": null,
       "grid_auto_rows": null,
       "grid_column": null,
       "grid_gap": null,
       "grid_row": null,
       "grid_template_areas": null,
       "grid_template_columns": null,
       "grid_template_rows": null,
       "height": null,
       "justify_content": null,
       "justify_items": null,
       "left": null,
       "margin": null,
       "max_height": null,
       "max_width": null,
       "min_height": null,
       "min_width": null,
       "object_fit": null,
       "object_position": null,
       "order": null,
       "overflow": null,
       "overflow_x": null,
       "overflow_y": null,
       "padding": null,
       "right": null,
       "top": null,
       "visibility": null,
       "width": null
      }
     },
     "54246c2409d2420989c106fda8a7a122": {
      "model_module": "@jupyter-widgets/base",
      "model_module_version": "1.2.0",
      "model_name": "LayoutModel",
      "state": {
       "_model_module": "@jupyter-widgets/base",
       "_model_module_version": "1.2.0",
       "_model_name": "LayoutModel",
       "_view_count": null,
       "_view_module": "@jupyter-widgets/base",
       "_view_module_version": "1.2.0",
       "_view_name": "LayoutView",
       "align_content": null,
       "align_items": null,
       "align_self": null,
       "border": null,
       "bottom": null,
       "display": null,
       "flex": null,
       "flex_flow": null,
       "grid_area": null,
       "grid_auto_columns": null,
       "grid_auto_flow": null,
       "grid_auto_rows": null,
       "grid_column": null,
       "grid_gap": null,
       "grid_row": null,
       "grid_template_areas": null,
       "grid_template_columns": null,
       "grid_template_rows": null,
       "height": null,
       "justify_content": null,
       "justify_items": null,
       "left": null,
       "margin": null,
       "max_height": null,
       "max_width": null,
       "min_height": null,
       "min_width": null,
       "object_fit": null,
       "object_position": null,
       "order": null,
       "overflow": null,
       "overflow_x": null,
       "overflow_y": null,
       "padding": null,
       "right": null,
       "top": null,
       "visibility": null,
       "width": null
      }
     },
     "66c539a2aa2f4c6aa64466fe78d4aa26": {
      "model_module": "@jupyter-widgets/controls",
      "model_module_version": "1.5.0",
      "model_name": "ProgressStyleModel",
      "state": {
       "_model_module": "@jupyter-widgets/controls",
       "_model_module_version": "1.5.0",
       "_model_name": "ProgressStyleModel",
       "_view_count": null,
       "_view_module": "@jupyter-widgets/base",
       "_view_module_version": "1.2.0",
       "_view_name": "StyleView",
       "bar_color": null,
       "description_width": ""
      }
     },
     "6f8a5bc7a3bc41dcbfccc9289dd63f6e": {
      "model_module": "@jupyter-widgets/controls",
      "model_module_version": "1.5.0",
      "model_name": "DescriptionStyleModel",
      "state": {
       "_model_module": "@jupyter-widgets/controls",
       "_model_module_version": "1.5.0",
       "_model_name": "DescriptionStyleModel",
       "_view_count": null,
       "_view_module": "@jupyter-widgets/base",
       "_view_module_version": "1.2.0",
       "_view_name": "StyleView",
       "description_width": ""
      }
     },
     "848dda2b3eec4f4e81b25a57f6a96917": {
      "model_module": "@jupyter-widgets/base",
      "model_module_version": "1.2.0",
      "model_name": "LayoutModel",
      "state": {
       "_model_module": "@jupyter-widgets/base",
       "_model_module_version": "1.2.0",
       "_model_name": "LayoutModel",
       "_view_count": null,
       "_view_module": "@jupyter-widgets/base",
       "_view_module_version": "1.2.0",
       "_view_name": "LayoutView",
       "align_content": null,
       "align_items": null,
       "align_self": null,
       "border": null,
       "bottom": null,
       "display": null,
       "flex": null,
       "flex_flow": null,
       "grid_area": null,
       "grid_auto_columns": null,
       "grid_auto_flow": null,
       "grid_auto_rows": null,
       "grid_column": null,
       "grid_gap": null,
       "grid_row": null,
       "grid_template_areas": null,
       "grid_template_columns": null,
       "grid_template_rows": null,
       "height": null,
       "justify_content": null,
       "justify_items": null,
       "left": null,
       "margin": null,
       "max_height": null,
       "max_width": null,
       "min_height": null,
       "min_width": null,
       "object_fit": null,
       "object_position": null,
       "order": null,
       "overflow": null,
       "overflow_x": null,
       "overflow_y": null,
       "padding": null,
       "right": null,
       "top": null,
       "visibility": null,
       "width": null
      }
     },
     "8b19169cdb5e44398789fc30b024ccbb": {
      "model_module": "@jupyter-widgets/base",
      "model_module_version": "1.2.0",
      "model_name": "LayoutModel",
      "state": {
       "_model_module": "@jupyter-widgets/base",
       "_model_module_version": "1.2.0",
       "_model_name": "LayoutModel",
       "_view_count": null,
       "_view_module": "@jupyter-widgets/base",
       "_view_module_version": "1.2.0",
       "_view_name": "LayoutView",
       "align_content": null,
       "align_items": null,
       "align_self": null,
       "border": null,
       "bottom": null,
       "display": null,
       "flex": null,
       "flex_flow": null,
       "grid_area": null,
       "grid_auto_columns": null,
       "grid_auto_flow": null,
       "grid_auto_rows": null,
       "grid_column": null,
       "grid_gap": null,
       "grid_row": null,
       "grid_template_areas": null,
       "grid_template_columns": null,
       "grid_template_rows": null,
       "height": null,
       "justify_content": null,
       "justify_items": null,
       "left": null,
       "margin": null,
       "max_height": null,
       "max_width": null,
       "min_height": null,
       "min_width": null,
       "object_fit": null,
       "object_position": null,
       "order": null,
       "overflow": null,
       "overflow_x": null,
       "overflow_y": null,
       "padding": null,
       "right": null,
       "top": null,
       "visibility": null,
       "width": null
      }
     },
     "8d4a855bf70b45979e73dd8fe4f5269b": {
      "model_module": "@jupyter-widgets/base",
      "model_module_version": "1.2.0",
      "model_name": "LayoutModel",
      "state": {
       "_model_module": "@jupyter-widgets/base",
       "_model_module_version": "1.2.0",
       "_model_name": "LayoutModel",
       "_view_count": null,
       "_view_module": "@jupyter-widgets/base",
       "_view_module_version": "1.2.0",
       "_view_name": "LayoutView",
       "align_content": null,
       "align_items": null,
       "align_self": null,
       "border": null,
       "bottom": null,
       "display": null,
       "flex": null,
       "flex_flow": null,
       "grid_area": null,
       "grid_auto_columns": null,
       "grid_auto_flow": null,
       "grid_auto_rows": null,
       "grid_column": null,
       "grid_gap": null,
       "grid_row": null,
       "grid_template_areas": null,
       "grid_template_columns": null,
       "grid_template_rows": null,
       "height": null,
       "justify_content": null,
       "justify_items": null,
       "left": null,
       "margin": null,
       "max_height": null,
       "max_width": null,
       "min_height": null,
       "min_width": null,
       "object_fit": null,
       "object_position": null,
       "order": null,
       "overflow": null,
       "overflow_x": null,
       "overflow_y": null,
       "padding": null,
       "right": null,
       "top": null,
       "visibility": null,
       "width": null
      }
     },
     "9359d192920a44b69fb71531b94c4536": {
      "model_module": "@jupyter-widgets/controls",
      "model_module_version": "1.5.0",
      "model_name": "HTMLModel",
      "state": {
       "_dom_classes": [],
       "_model_module": "@jupyter-widgets/controls",
       "_model_module_version": "1.5.0",
       "_model_name": "HTMLModel",
       "_view_count": null,
       "_view_module": "@jupyter-widgets/controls",
       "_view_module_version": "1.5.0",
       "_view_name": "HTMLView",
       "description": "",
       "description_tooltip": null,
       "layout": "IPY_MODEL_514b665ff5a14ff5997ff6368a16a7ce",
       "placeholder": "​",
       "style": "IPY_MODEL_1e2109d3e8f44d57b90fe9513c3118d8",
       "value": "Downloading: 100%"
      }
     },
     "a356825abafd45898ae207c6215fec42": {
      "model_module": "@jupyter-widgets/controls",
      "model_module_version": "1.5.0",
      "model_name": "DescriptionStyleModel",
      "state": {
       "_model_module": "@jupyter-widgets/controls",
       "_model_module_version": "1.5.0",
       "_model_name": "DescriptionStyleModel",
       "_view_count": null,
       "_view_module": "@jupyter-widgets/base",
       "_view_module_version": "1.2.0",
       "_view_name": "StyleView",
       "description_width": ""
      }
     },
     "a60d7359168648db825a58a725cd22fd": {
      "model_module": "@jupyter-widgets/controls",
      "model_module_version": "1.5.0",
      "model_name": "HBoxModel",
      "state": {
       "_dom_classes": [],
       "_model_module": "@jupyter-widgets/controls",
       "_model_module_version": "1.5.0",
       "_model_name": "HBoxModel",
       "_view_count": null,
       "_view_module": "@jupyter-widgets/controls",
       "_view_module_version": "1.5.0",
       "_view_name": "HBoxView",
       "box_style": "",
       "children": [
        "IPY_MODEL_e33c6d0d8f0f488e995a12351dbf1615",
        "IPY_MODEL_12ad2f60b7004c229c491c34647466d3",
        "IPY_MODEL_ae6ce3b5196740ed85bd3b4656d6b67e"
       ],
       "layout": "IPY_MODEL_8d4a855bf70b45979e73dd8fe4f5269b"
      }
     },
     "a6a0a2e2c28246cfbb4cd8942f385c33": {
      "model_module": "@jupyter-widgets/controls",
      "model_module_version": "1.5.0",
      "model_name": "ProgressStyleModel",
      "state": {
       "_model_module": "@jupyter-widgets/controls",
       "_model_module_version": "1.5.0",
       "_model_name": "ProgressStyleModel",
       "_view_count": null,
       "_view_module": "@jupyter-widgets/base",
       "_view_module_version": "1.2.0",
       "_view_name": "StyleView",
       "bar_color": null,
       "description_width": ""
      }
     },
     "ae6ce3b5196740ed85bd3b4656d6b67e": {
      "model_module": "@jupyter-widgets/controls",
      "model_module_version": "1.5.0",
      "model_name": "HTMLModel",
      "state": {
       "_dom_classes": [],
       "_model_module": "@jupyter-widgets/controls",
       "_model_module_version": "1.5.0",
       "_model_name": "HTMLModel",
       "_view_count": null,
       "_view_module": "@jupyter-widgets/controls",
       "_view_module_version": "1.5.0",
       "_view_name": "HTMLView",
       "description": "",
       "description_tooltip": null,
       "layout": "IPY_MODEL_8b19169cdb5e44398789fc30b024ccbb",
       "placeholder": "​",
       "style": "IPY_MODEL_b7d325cb2ec94c06b2c4701c64b3d929",
       "value": " 850M/850M [01:20&lt;00:00, 11.7MB/s]"
      }
     },
     "af9bf2a487094f7d8bda5d42db933611": {
      "model_module": "@jupyter-widgets/base",
      "model_module_version": "1.2.0",
      "model_name": "LayoutModel",
      "state": {
       "_model_module": "@jupyter-widgets/base",
       "_model_module_version": "1.2.0",
       "_model_name": "LayoutModel",
       "_view_count": null,
       "_view_module": "@jupyter-widgets/base",
       "_view_module_version": "1.2.0",
       "_view_name": "LayoutView",
       "align_content": null,
       "align_items": null,
       "align_self": null,
       "border": null,
       "bottom": null,
       "display": null,
       "flex": null,
       "flex_flow": null,
       "grid_area": null,
       "grid_auto_columns": null,
       "grid_auto_flow": null,
       "grid_auto_rows": null,
       "grid_column": null,
       "grid_gap": null,
       "grid_row": null,
       "grid_template_areas": null,
       "grid_template_columns": null,
       "grid_template_rows": null,
       "height": null,
       "justify_content": null,
       "justify_items": null,
       "left": null,
       "margin": null,
       "max_height": null,
       "max_width": null,
       "min_height": null,
       "min_width": null,
       "object_fit": null,
       "object_position": null,
       "order": null,
       "overflow": null,
       "overflow_x": null,
       "overflow_y": null,
       "padding": null,
       "right": null,
       "top": null,
       "visibility": null,
       "width": null
      }
     },
     "b7d325cb2ec94c06b2c4701c64b3d929": {
      "model_module": "@jupyter-widgets/controls",
      "model_module_version": "1.5.0",
      "model_name": "DescriptionStyleModel",
      "state": {
       "_model_module": "@jupyter-widgets/controls",
       "_model_module_version": "1.5.0",
       "_model_name": "DescriptionStyleModel",
       "_view_count": null,
       "_view_module": "@jupyter-widgets/base",
       "_view_module_version": "1.2.0",
       "_view_name": "StyleView",
       "description_width": ""
      }
     },
     "c1a6dba2bb3e4aeaa022a9c9ac09c1b3": {
      "model_module": "@jupyter-widgets/controls",
      "model_module_version": "1.5.0",
      "model_name": "HBoxModel",
      "state": {
       "_dom_classes": [],
       "_model_module": "@jupyter-widgets/controls",
       "_model_module_version": "1.5.0",
       "_model_name": "HBoxModel",
       "_view_count": null,
       "_view_module": "@jupyter-widgets/controls",
       "_view_module_version": "1.5.0",
       "_view_name": "HBoxView",
       "box_style": "",
       "children": [
        "IPY_MODEL_9359d192920a44b69fb71531b94c4536",
        "IPY_MODEL_184bd4115d5f4ae1aabfa047f4630609",
        "IPY_MODEL_c68569586a0d475a8e8cea8a9c5654b0"
       ],
       "layout": "IPY_MODEL_ccd1b2b4774447119eb01ee776e2c1b9"
      }
     },
     "c68569586a0d475a8e8cea8a9c5654b0": {
      "model_module": "@jupyter-widgets/controls",
      "model_module_version": "1.5.0",
      "model_name": "HTMLModel",
      "state": {
       "_dom_classes": [],
       "_model_module": "@jupyter-widgets/controls",
       "_model_module_version": "1.5.0",
       "_model_name": "HTMLModel",
       "_view_count": null,
       "_view_module": "@jupyter-widgets/controls",
       "_view_module_version": "1.5.0",
       "_view_name": "HTMLView",
       "description": "",
       "description_tooltip": null,
       "layout": "IPY_MODEL_4ad333c6a73841568dab36b1c167dc39",
       "placeholder": "​",
       "style": "IPY_MODEL_43f8e93029c647079466072cecf3350e",
       "value": " 773k/773k [00:01&lt;00:00, 597kB/s]"
      }
     },
     "c8d54d5d716549a3a7bfd2874ab7262d": {
      "model_module": "@jupyter-widgets/base",
      "model_module_version": "1.2.0",
      "model_name": "LayoutModel",
      "state": {
       "_model_module": "@jupyter-widgets/base",
       "_model_module_version": "1.2.0",
       "_model_name": "LayoutModel",
       "_view_count": null,
       "_view_module": "@jupyter-widgets/base",
       "_view_module_version": "1.2.0",
       "_view_name": "LayoutView",
       "align_content": null,
       "align_items": null,
       "align_self": null,
       "border": null,
       "bottom": null,
       "display": null,
       "flex": null,
       "flex_flow": null,
       "grid_area": null,
       "grid_auto_columns": null,
       "grid_auto_flow": null,
       "grid_auto_rows": null,
       "grid_column": null,
       "grid_gap": null,
       "grid_row": null,
       "grid_template_areas": null,
       "grid_template_columns": null,
       "grid_template_rows": null,
       "height": null,
       "justify_content": null,
       "justify_items": null,
       "left": null,
       "margin": null,
       "max_height": null,
       "max_width": null,
       "min_height": null,
       "min_width": null,
       "object_fit": null,
       "object_position": null,
       "order": null,
       "overflow": null,
       "overflow_x": null,
       "overflow_y": null,
       "padding": null,
       "right": null,
       "top": null,
       "visibility": null,
       "width": null
      }
     },
     "ccd1b2b4774447119eb01ee776e2c1b9": {
      "model_module": "@jupyter-widgets/base",
      "model_module_version": "1.2.0",
      "model_name": "LayoutModel",
      "state": {
       "_model_module": "@jupyter-widgets/base",
       "_model_module_version": "1.2.0",
       "_model_name": "LayoutModel",
       "_view_count": null,
       "_view_module": "@jupyter-widgets/base",
       "_view_module_version": "1.2.0",
       "_view_name": "LayoutView",
       "align_content": null,
       "align_items": null,
       "align_self": null,
       "border": null,
       "bottom": null,
       "display": null,
       "flex": null,
       "flex_flow": null,
       "grid_area": null,
       "grid_auto_columns": null,
       "grid_auto_flow": null,
       "grid_auto_rows": null,
       "grid_column": null,
       "grid_gap": null,
       "grid_row": null,
       "grid_template_areas": null,
       "grid_template_columns": null,
       "grid_template_rows": null,
       "height": null,
       "justify_content": null,
       "justify_items": null,
       "left": null,
       "margin": null,
       "max_height": null,
       "max_width": null,
       "min_height": null,
       "min_width": null,
       "object_fit": null,
       "object_position": null,
       "order": null,
       "overflow": null,
       "overflow_x": null,
       "overflow_y": null,
       "padding": null,
       "right": null,
       "top": null,
       "visibility": null,
       "width": null
      }
     },
     "d432cbea035644d3956109d9be6bcce1": {
      "model_module": "@jupyter-widgets/controls",
      "model_module_version": "1.5.0",
      "model_name": "DescriptionStyleModel",
      "state": {
       "_model_module": "@jupyter-widgets/controls",
       "_model_module_version": "1.5.0",
       "_model_name": "DescriptionStyleModel",
       "_view_count": null,
       "_view_module": "@jupyter-widgets/base",
       "_view_module_version": "1.2.0",
       "_view_name": "StyleView",
       "description_width": ""
      }
     },
     "d6abb4edc6da4944989e58eb449375a2": {
      "model_module": "@jupyter-widgets/controls",
      "model_module_version": "1.5.0",
      "model_name": "HTMLModel",
      "state": {
       "_dom_classes": [],
       "_model_module": "@jupyter-widgets/controls",
       "_model_module_version": "1.5.0",
       "_model_name": "HTMLModel",
       "_view_count": null,
       "_view_module": "@jupyter-widgets/controls",
       "_view_module_version": "1.5.0",
       "_view_name": "HTMLView",
       "description": "",
       "description_tooltip": null,
       "layout": "IPY_MODEL_af9bf2a487094f7d8bda5d42db933611",
       "placeholder": "​",
       "style": "IPY_MODEL_a356825abafd45898ae207c6215fec42",
       "value": "Downloading: 100%"
      }
     },
     "d6fce6895888436c9c71d2345b79560a": {
      "model_module": "@jupyter-widgets/controls",
      "model_module_version": "1.5.0",
      "model_name": "FloatProgressModel",
      "state": {
       "_dom_classes": [],
       "_model_module": "@jupyter-widgets/controls",
       "_model_module_version": "1.5.0",
       "_model_name": "FloatProgressModel",
       "_view_count": null,
       "_view_module": "@jupyter-widgets/controls",
       "_view_module_version": "1.5.0",
       "_view_name": "ProgressView",
       "bar_style": "success",
       "description": "",
       "description_tooltip": null,
       "layout": "IPY_MODEL_c8d54d5d716549a3a7bfd2874ab7262d",
       "max": 1199,
       "min": 0,
       "orientation": "horizontal",
       "style": "IPY_MODEL_a6a0a2e2c28246cfbb4cd8942f385c33",
       "value": 1199
      }
     },
     "e33c6d0d8f0f488e995a12351dbf1615": {
      "model_module": "@jupyter-widgets/controls",
      "model_module_version": "1.5.0",
      "model_name": "HTMLModel",
      "state": {
       "_dom_classes": [],
       "_model_module": "@jupyter-widgets/controls",
       "_model_module_version": "1.5.0",
       "_model_name": "HTMLModel",
       "_view_count": null,
       "_view_module": "@jupyter-widgets/controls",
       "_view_module_version": "1.5.0",
       "_view_name": "HTMLView",
       "description": "",
       "description_tooltip": null,
       "layout": "IPY_MODEL_24a5950592144c8c8fc7cd13132ef2b2",
       "placeholder": "​",
       "style": "IPY_MODEL_6f8a5bc7a3bc41dcbfccc9289dd63f6e",
       "value": "Downloading: 100%"
      }
     },
     "e5b1901a7cb24891bae1580fa0b30ac1": {
      "model_module": "@jupyter-widgets/base",
      "model_module_version": "1.2.0",
      "model_name": "LayoutModel",
      "state": {
       "_model_module": "@jupyter-widgets/base",
       "_model_module_version": "1.2.0",
       "_model_name": "LayoutModel",
       "_view_count": null,
       "_view_module": "@jupyter-widgets/base",
       "_view_module_version": "1.2.0",
       "_view_name": "LayoutView",
       "align_content": null,
       "align_items": null,
       "align_self": null,
       "border": null,
       "bottom": null,
       "display": null,
       "flex": null,
       "flex_flow": null,
       "grid_area": null,
       "grid_auto_columns": null,
       "grid_auto_flow": null,
       "grid_auto_rows": null,
       "grid_column": null,
       "grid_gap": null,
       "grid_row": null,
       "grid_template_areas": null,
       "grid_template_columns": null,
       "grid_template_rows": null,
       "height": null,
       "justify_content": null,
       "justify_items": null,
       "left": null,
       "margin": null,
       "max_height": null,
       "max_width": null,
       "min_height": null,
       "min_width": null,
       "object_fit": null,
       "object_position": null,
       "order": null,
       "overflow": null,
       "overflow_x": null,
       "overflow_y": null,
       "padding": null,
       "right": null,
       "top": null,
       "visibility": null,
       "width": null
      }
     },
     "ee369c4104bf4242974523430ee280f2": {
      "model_module": "@jupyter-widgets/controls",
      "model_module_version": "1.5.0",
      "model_name": "HTMLModel",
      "state": {
       "_dom_classes": [],
       "_model_module": "@jupyter-widgets/controls",
       "_model_module_version": "1.5.0",
       "_model_name": "HTMLModel",
       "_view_count": null,
       "_view_module": "@jupyter-widgets/controls",
       "_view_module_version": "1.5.0",
       "_view_name": "HTMLView",
       "description": "",
       "description_tooltip": null,
       "layout": "IPY_MODEL_848dda2b3eec4f4e81b25a57f6a96917",
       "placeholder": "​",
       "style": "IPY_MODEL_d432cbea035644d3956109d9be6bcce1",
       "value": " 1.17k/1.17k [00:00&lt;00:00, 45.2kB/s]"
      }
     },
     "fd62fcc07aa64407980220e3ad8f4753": {
      "model_module": "@jupyter-widgets/controls",
      "model_module_version": "1.5.0",
      "model_name": "ProgressStyleModel",
      "state": {
       "_model_module": "@jupyter-widgets/controls",
       "_model_module_version": "1.5.0",
       "_model_name": "ProgressStyleModel",
       "_view_count": null,
       "_view_module": "@jupyter-widgets/base",
       "_view_module_version": "1.2.0",
       "_view_name": "StyleView",
       "bar_color": null,
       "description_width": ""
      }
     }
    },
    "version_major": 2,
    "version_minor": 0
   }
  }
 },
 "nbformat": 4,
 "nbformat_minor": 5
}
