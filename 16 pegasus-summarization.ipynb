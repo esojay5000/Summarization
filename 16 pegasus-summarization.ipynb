{
 "cells": [
  {
   "cell_type": "markdown",
   "id": "0b07803b",
   "metadata": {
    "id": "lhqFW_p_5GVY",
    "papermill": {
     "duration": 0.011042,
     "end_time": "2022-06-06T12:59:41.788017",
     "exception": false,
     "start_time": "2022-06-06T12:59:41.776975",
     "status": "completed"
    },
    "tags": []
   },
   "source": [
    "# Finetuning Summarization on a Pegasus model\n",
    "## This notebook outlines the Finetuning of a News Summarization dataset on a Pegasus model"
   ]
  },
  {
   "cell_type": "markdown",
   "id": "a0f0911c",
   "metadata": {
    "id": "_Gc1GpEw5rv5",
    "papermill": {
     "duration": 0.010794,
     "end_time": "2022-06-06T12:59:41.810045",
     "exception": false,
     "start_time": "2022-06-06T12:59:41.799251",
     "status": "completed"
    },
    "tags": []
   },
   "source": [
    "### Install the necessary libraries"
   ]
  },
  {
   "cell_type": "code",
   "execution_count": 1,
   "id": "44c2cf97",
   "metadata": {
    "execution": {
     "iopub.execute_input": "2022-06-06T12:59:41.835598Z",
     "iopub.status.busy": "2022-06-06T12:59:41.835118Z",
     "iopub.status.idle": "2022-06-06T12:59:52.972638Z",
     "shell.execute_reply": "2022-06-06T12:59:52.971559Z"
    },
    "papermill": {
     "duration": 11.150618,
     "end_time": "2022-06-06T12:59:52.974957",
     "exception": false,
     "start_time": "2022-06-06T12:59:41.824339",
     "status": "completed"
    },
    "tags": []
   },
   "outputs": [
    {
     "name": "stdout",
     "output_type": "stream",
     "text": [
      "\u001b[33mWARNING: Running pip as the 'root' user can result in broken permissions and conflicting behaviour with the system package manager. It is recommended to use a virtual environment instead: https://pip.pypa.io/warnings/venv\u001b[0m\u001b[33m\n",
      "\u001b[0m"
     ]
    }
   ],
   "source": [
    "!pip install -q sentencepiece rich[jupyter]"
   ]
  },
  {
   "cell_type": "code",
   "execution_count": 2,
   "id": "2203e30c",
   "metadata": {
    "execution": {
     "iopub.execute_input": "2022-06-06T12:59:52.990136Z",
     "iopub.status.busy": "2022-06-06T12:59:52.989816Z",
     "iopub.status.idle": "2022-06-06T12:59:52.993781Z",
     "shell.execute_reply": "2022-06-06T12:59:52.992925Z"
    },
    "id": "X0SH8UrJ3MIB",
    "outputId": "a58b1fc7-711a-4148-fa9d-1a035f20ade6",
    "papermill": {
     "duration": 0.013711,
     "end_time": "2022-06-06T12:59:52.995593",
     "exception": false,
     "start_time": "2022-06-06T12:59:52.981882",
     "status": "completed"
    },
    "tags": []
   },
   "outputs": [],
   "source": [
    "# !pip install -q sentencepiece transformers torch rich[jupyter]"
   ]
  },
  {
   "cell_type": "markdown",
   "id": "6efdc346",
   "metadata": {
    "id": "CZZpD11q5xtf",
    "papermill": {
     "duration": 0.00658,
     "end_time": "2022-06-06T12:59:53.008725",
     "exception": false,
     "start_time": "2022-06-06T12:59:53.002145",
     "status": "completed"
    },
    "tags": []
   },
   "source": [
    "### Import the libraries"
   ]
  },
  {
   "cell_type": "code",
   "execution_count": 3,
   "id": "df731378",
   "metadata": {
    "execution": {
     "iopub.execute_input": "2022-06-06T12:59:53.022530Z",
     "iopub.status.busy": "2022-06-06T12:59:53.022255Z",
     "iopub.status.idle": "2022-06-06T12:59:54.857349Z",
     "shell.execute_reply": "2022-06-06T12:59:54.856463Z"
    },
    "id": "K5tLIjxx3dOV",
    "papermill": {
     "duration": 1.844952,
     "end_time": "2022-06-06T12:59:54.860095",
     "exception": false,
     "start_time": "2022-06-06T12:59:53.015143",
     "status": "completed"
    },
    "tags": []
   },
   "outputs": [],
   "source": [
    "import os\n",
    "import numpy as np\n",
    "import pandas as pd\n",
    "import torch\n",
    "import torch.nn.functional as F\n",
    "from torch.utils.data import Dataset, DataLoader, RandomSampler, SequentialSampler\n",
    "import os"
   ]
  },
  {
   "cell_type": "code",
   "execution_count": 4,
   "id": "b11abdd4",
   "metadata": {
    "execution": {
     "iopub.execute_input": "2022-06-06T12:59:54.885591Z",
     "iopub.status.busy": "2022-06-06T12:59:54.884782Z",
     "iopub.status.idle": "2022-06-06T12:59:59.769830Z",
     "shell.execute_reply": "2022-06-06T12:59:59.769046Z"
    },
    "id": "S9fnSXLM3kn3",
    "papermill": {
     "duration": 4.899882,
     "end_time": "2022-06-06T12:59:59.772181",
     "exception": false,
     "start_time": "2022-06-06T12:59:54.872299",
     "status": "completed"
    },
    "tags": []
   },
   "outputs": [],
   "source": [
    "from transformers import PegasusTokenizer, PegasusForConditionalGeneration\n",
    "\n",
    "# rich: for a better display on terminal\n",
    "from rich.table import Column, Table\n",
    "from rich import box\n",
    "from rich.console import Console\n"
   ]
  },
  {
   "cell_type": "markdown",
   "id": "21b7d18b",
   "metadata": {
    "id": "MULGR4Um6YBD",
    "papermill": {
     "duration": 0.006626,
     "end_time": "2022-06-06T12:59:59.785566",
     "exception": false,
     "start_time": "2022-06-06T12:59:59.778940",
     "status": "completed"
    },
    "tags": []
   },
   "source": [
    "### Define a rich console logger"
   ]
  },
  {
   "cell_type": "code",
   "execution_count": 5,
   "id": "8f797192",
   "metadata": {
    "execution": {
     "iopub.execute_input": "2022-06-06T12:59:59.799864Z",
     "iopub.status.busy": "2022-06-06T12:59:59.799420Z",
     "iopub.status.idle": "2022-06-06T12:59:59.803262Z",
     "shell.execute_reply": "2022-06-06T12:59:59.802432Z"
    },
    "id": "nxcEU2N13oXM",
    "papermill": {
     "duration": 0.013107,
     "end_time": "2022-06-06T12:59:59.805136",
     "exception": false,
     "start_time": "2022-06-06T12:59:59.792029",
     "status": "completed"
    },
    "tags": []
   },
   "outputs": [],
   "source": [
    "console = Console(record=True)"
   ]
  },
  {
   "cell_type": "markdown",
   "id": "8063514d",
   "metadata": {
    "id": "CU9Zm9UM6b_b",
    "papermill": {
     "duration": 0.006459,
     "end_time": "2022-06-06T12:59:59.818136",
     "exception": false,
     "start_time": "2022-06-06T12:59:59.811677",
     "status": "completed"
    },
    "tags": []
   },
   "source": [
    "### To display dataframe in ASCII format"
   ]
  },
  {
   "cell_type": "code",
   "execution_count": 6,
   "id": "115dd979",
   "metadata": {
    "execution": {
     "iopub.execute_input": "2022-06-06T12:59:59.832112Z",
     "iopub.status.busy": "2022-06-06T12:59:59.831853Z",
     "iopub.status.idle": "2022-06-06T12:59:59.837433Z",
     "shell.execute_reply": "2022-06-06T12:59:59.836622Z"
    },
    "id": "NgjRMx_g3rr_",
    "papermill": {
     "duration": 0.01473,
     "end_time": "2022-06-06T12:59:59.839256",
     "exception": false,
     "start_time": "2022-06-06T12:59:59.824526",
     "status": "completed"
    },
    "tags": []
   },
   "outputs": [],
   "source": [
    "def display_df(df):\n",
    "    \"\"\"display dataframe in ASCII format\"\"\"\n",
    "\n",
    "    console = Console()\n",
    "    table = Table(\n",
    "        Column(\"source_text\", justify=\"center\"),\n",
    "        Column(\"target_text\", justify=\"center\"),\n",
    "        title=\"Sample Data\",\n",
    "        pad_edge=False,\n",
    "        box=box.ASCII,\n",
    "    )\n",
    "\n",
    "    for i, row in enumerate(df.values.tolist()):\n",
    "        table.add_row(row[0], row[1])\n",
    "\n",
    "    console.print(table)"
   ]
  },
  {
   "cell_type": "markdown",
   "id": "e82cd067",
   "metadata": {
    "id": "fFOWkCY_6fcS",
    "papermill": {
     "duration": 0.006202,
     "end_time": "2022-06-06T12:59:59.852123",
     "exception": false,
     "start_time": "2022-06-06T12:59:59.845921",
     "status": "completed"
    },
    "tags": []
   },
   "source": [
    "### Training logger to log training progress"
   ]
  },
  {
   "cell_type": "code",
   "execution_count": 7,
   "id": "3bfee757",
   "metadata": {
    "execution": {
     "iopub.execute_input": "2022-06-06T12:59:59.865997Z",
     "iopub.status.busy": "2022-06-06T12:59:59.865729Z",
     "iopub.status.idle": "2022-06-06T12:59:59.869718Z",
     "shell.execute_reply": "2022-06-06T12:59:59.869016Z"
    },
    "id": "aU4giiXw3wC_",
    "papermill": {
     "duration": 0.012871,
     "end_time": "2022-06-06T12:59:59.871356",
     "exception": false,
     "start_time": "2022-06-06T12:59:59.858485",
     "status": "completed"
    },
    "tags": []
   },
   "outputs": [],
   "source": [
    "training_logger = Table(\n",
    "    Column(\"Epoch\", justify=\"center\"),\n",
    "    Column(\"Steps\", justify=\"center\"),\n",
    "    Column(\"Loss\", justify=\"center\"),\n",
    "    title=\"Training Status\",\n",
    "    pad_edge=False,\n",
    "    box=box.ASCII,\n",
    ")"
   ]
  },
  {
   "cell_type": "markdown",
   "id": "7a54f5ab",
   "metadata": {
    "id": "DlE3YDK46EwA",
    "papermill": {
     "duration": 0.006207,
     "end_time": "2022-06-06T12:59:59.884015",
     "exception": false,
     "start_time": "2022-06-06T12:59:59.877808",
     "status": "completed"
    },
    "tags": []
   },
   "source": [
    "### Read the data"
   ]
  },
  {
   "cell_type": "code",
   "execution_count": 8,
   "id": "cfc24a7a",
   "metadata": {
    "execution": {
     "iopub.execute_input": "2022-06-06T12:59:59.898014Z",
     "iopub.status.busy": "2022-06-06T12:59:59.897766Z",
     "iopub.status.idle": "2022-06-06T13:00:00.743121Z",
     "shell.execute_reply": "2022-06-06T13:00:00.742343Z"
    },
    "id": "yUWCAshf3AEU",
    "outputId": "8c5ddca2-e1db-49c1-8ffe-37ca32e57d96",
    "papermill": {
     "duration": 0.8544,
     "end_time": "2022-06-06T13:00:00.745036",
     "exception": false,
     "start_time": "2022-06-06T12:59:59.890636",
     "status": "completed"
    },
    "tags": []
   },
   "outputs": [
    {
     "data": {
      "text/html": [
       "<div>\n",
       "<style scoped>\n",
       "    .dataframe tbody tr th:only-of-type {\n",
       "        vertical-align: middle;\n",
       "    }\n",
       "\n",
       "    .dataframe tbody tr th {\n",
       "        vertical-align: top;\n",
       "    }\n",
       "\n",
       "    .dataframe thead th {\n",
       "        text-align: right;\n",
       "    }\n",
       "</style>\n",
       "<table border=\"1\" class=\"dataframe\">\n",
       "  <thead>\n",
       "    <tr style=\"text-align: right;\">\n",
       "      <th></th>\n",
       "      <th>headlines</th>\n",
       "      <th>text</th>\n",
       "    </tr>\n",
       "  </thead>\n",
       "  <tbody>\n",
       "    <tr>\n",
       "      <th>0</th>\n",
       "      <td>upGrad learner switches to career in ML &amp; Al w...</td>\n",
       "      <td>Saurav Kant, an alumnus of upGrad and IIIT-B's...</td>\n",
       "    </tr>\n",
       "    <tr>\n",
       "      <th>1</th>\n",
       "      <td>Delhi techie wins free food from Swiggy for on...</td>\n",
       "      <td>Kunal Shah's credit card bill payment platform...</td>\n",
       "    </tr>\n",
       "    <tr>\n",
       "      <th>2</th>\n",
       "      <td>New Zealand end Rohit Sharma-led India's 12-ma...</td>\n",
       "      <td>New Zealand defeated India by 8 wickets in the...</td>\n",
       "    </tr>\n",
       "    <tr>\n",
       "      <th>3</th>\n",
       "      <td>Aegon life iTerm insurance plan helps customer...</td>\n",
       "      <td>With Aegon Life iTerm Insurance plan, customer...</td>\n",
       "    </tr>\n",
       "    <tr>\n",
       "      <th>4</th>\n",
       "      <td>Have known Hirani for yrs, what if MeToo claim...</td>\n",
       "      <td>Speaking about the sexual harassment allegatio...</td>\n",
       "    </tr>\n",
       "  </tbody>\n",
       "</table>\n",
       "</div>"
      ],
      "text/plain": [
       "                                           headlines  \\\n",
       "0  upGrad learner switches to career in ML & Al w...   \n",
       "1  Delhi techie wins free food from Swiggy for on...   \n",
       "2  New Zealand end Rohit Sharma-led India's 12-ma...   \n",
       "3  Aegon life iTerm insurance plan helps customer...   \n",
       "4  Have known Hirani for yrs, what if MeToo claim...   \n",
       "\n",
       "                                                text  \n",
       "0  Saurav Kant, an alumnus of upGrad and IIIT-B's...  \n",
       "1  Kunal Shah's credit card bill payment platform...  \n",
       "2  New Zealand defeated India by 8 wickets in the...  \n",
       "3  With Aegon Life iTerm Insurance plan, customer...  \n",
       "4  Speaking about the sexual harassment allegatio...  "
      ]
     },
     "execution_count": 8,
     "metadata": {},
     "output_type": "execute_result"
    }
   ],
   "source": [
    "path = \"https://raw.githubusercontent.com/Shivanandroy/T5-Finetuning-PyTorch/main/data/news_summary.csv\"\n",
    "df = pd.read_csv(path)\n",
    "\n",
    "df.head()"
   ]
  },
  {
   "cell_type": "markdown",
   "id": "f9a10fc6",
   "metadata": {
    "id": "JWYvvDT56QOd",
    "papermill": {
     "duration": 0.006479,
     "end_time": "2022-06-06T13:00:00.758676",
     "exception": false,
     "start_time": "2022-06-06T13:00:00.752197",
     "status": "completed"
    },
    "tags": []
   },
   "source": [
    "### Setting up the device for GPU usage"
   ]
  },
  {
   "cell_type": "code",
   "execution_count": 9,
   "id": "1760e957",
   "metadata": {
    "execution": {
     "iopub.execute_input": "2022-06-06T13:00:00.773160Z",
     "iopub.status.busy": "2022-06-06T13:00:00.772885Z",
     "iopub.status.idle": "2022-06-06T13:00:00.832146Z",
     "shell.execute_reply": "2022-06-06T13:00:00.831328Z"
    },
    "id": "nE0hH71S3zgu",
    "outputId": "8a597afe-d4ca-4352-f68a-2e5f4afdd039",
    "papermill": {
     "duration": 0.068572,
     "end_time": "2022-06-06T13:00:00.833954",
     "exception": false,
     "start_time": "2022-06-06T13:00:00.765382",
     "status": "completed"
    },
    "tags": []
   },
   "outputs": [
    {
     "data": {
      "text/plain": [
       "'cuda'"
      ]
     },
     "execution_count": 9,
     "metadata": {},
     "output_type": "execute_result"
    }
   ],
   "source": [
    "from torch import cuda\n",
    "device = 'cuda' if cuda.is_available() else 'cpu'\n",
    "device"
   ]
  },
  {
   "cell_type": "markdown",
   "id": "4ce699fe",
   "metadata": {
    "id": "bcif3De268qx",
    "papermill": {
     "duration": 0.006719,
     "end_time": "2022-06-06T13:00:00.847521",
     "exception": false,
     "start_time": "2022-06-06T13:00:00.840802",
     "status": "completed"
    },
    "tags": []
   },
   "source": [
    "### Creating a CustomDataset\n",
    "\n",
    "This class will take 6 arguments as input:\n",
    "\n",
    "- dataframe (pandas.DataFrame): Input dataframe\n",
    "- tokenizer (transformers.tokenizer): T5 tokenizer\n",
    "- source_len (int): Max length of source text\n",
    "- target_len (int): Max length of target text\n",
    "- source_text (str): column name of source text\n",
    "- target_text (str) : column name of target text\n",
    "\n",
    "This class will have 2 methods:\n",
    "\n",
    "- __len__: returns the length of the dataframe\n",
    "- __getitem__: return the input ids, attention masks and target ids"
   ]
  },
  {
   "cell_type": "code",
   "execution_count": 10,
   "id": "a1cbd08f",
   "metadata": {
    "execution": {
     "iopub.execute_input": "2022-06-06T13:00:00.862107Z",
     "iopub.status.busy": "2022-06-06T13:00:00.861839Z",
     "iopub.status.idle": "2022-06-06T13:00:00.872943Z",
     "shell.execute_reply": "2022-06-06T13:00:00.872133Z"
    },
    "id": "K-NO58gz32w-",
    "papermill": {
     "duration": 0.02055,
     "end_time": "2022-06-06T13:00:00.874719",
     "exception": false,
     "start_time": "2022-06-06T13:00:00.854169",
     "status": "completed"
    },
    "tags": []
   },
   "outputs": [],
   "source": [
    "class CustomDataset(Dataset):\n",
    "    \"\"\"\n",
    "    Creating a custom dataset for reading the dataset and\n",
    "    loading it into the dataloader to pass it to the\n",
    "    neural network for finetuning the model\n",
    "\n",
    "    \"\"\"\n",
    "\n",
    "    def __init__(\n",
    "        self, dataframe, tokenizer, source_len, target_len, source_text, target_text\n",
    "    ):\n",
    "        \"\"\"\n",
    "        Initializes a Dataset class\n",
    "\n",
    "        Args:\n",
    "            dataframe (pandas.DataFrame): Input dataframe\n",
    "            tokenizer (transformers.tokenizer): Transformers tokenizer\n",
    "            source_len (int): Max length of source text\n",
    "            target_len (int): Max length of target text\n",
    "            source_text (str): column name of source text\n",
    "            target_text (str): column name of target text\n",
    "        \"\"\"\n",
    "        self.tokenizer = tokenizer\n",
    "        self.data = dataframe\n",
    "        self.source_len = source_len\n",
    "        self.summ_len = target_len\n",
    "        self.target_text = self.data[target_text]\n",
    "        self.source_text = self.data[source_text]\n",
    "\n",
    "    def __len__(self):\n",
    "        \"\"\"returns the length of dataframe\"\"\"\n",
    "\n",
    "        return len(self.target_text)\n",
    "\n",
    "    def __getitem__(self, index):\n",
    "        \"\"\"return the input ids, attention masks and target ids\"\"\"\n",
    "\n",
    "        source_text = str(self.source_text[index])\n",
    "        target_text = str(self.target_text[index])\n",
    "\n",
    "        # cleaning data so as to ensure data is in string type\n",
    "        source_text = \" \".join(source_text.split())\n",
    "        target_text = \" \".join(target_text.split())\n",
    "\n",
    "        source = self.tokenizer.batch_encode_plus(\n",
    "            [source_text],\n",
    "            max_length=self.source_len,\n",
    "            pad_to_max_length=True,\n",
    "            truncation=True,\n",
    "            padding=\"max_length\",\n",
    "            return_tensors=\"pt\",\n",
    "        )\n",
    "        target = self.tokenizer.batch_encode_plus(\n",
    "            [target_text],\n",
    "            max_length=self.summ_len,\n",
    "            pad_to_max_length=True,\n",
    "            truncation=True,\n",
    "            padding=\"max_length\",\n",
    "            return_tensors=\"pt\",\n",
    "        )\n",
    "\n",
    "        source_ids = source[\"input_ids\"].squeeze()\n",
    "        source_mask = source[\"attention_mask\"].squeeze()\n",
    "        target_ids = target[\"input_ids\"].squeeze()\n",
    "        target_mask = target[\"attention_mask\"].squeeze()\n",
    "\n",
    "        return {\n",
    "            \"source_ids\": source_ids.to(dtype=torch.long),\n",
    "            \"source_mask\": source_mask.to(dtype=torch.long),\n",
    "            \"target_ids\": target_ids.to(dtype=torch.long),\n",
    "            \"target_ids_y\": target_ids.to(dtype=torch.long),\n",
    "        }"
   ]
  },
  {
   "cell_type": "markdown",
   "id": "226a6809",
   "metadata": {
    "id": "Ae0vg54_7Gug",
    "papermill": {
     "duration": 0.006698,
     "end_time": "2022-06-06T13:00:00.888091",
     "exception": false,
     "start_time": "2022-06-06T13:00:00.881393",
     "status": "completed"
    },
    "tags": []
   },
   "source": [
    "### Train function\n",
    "This will take 6 arguments as input:\n",
    "\n",
    "- epoch: epoch\n",
    "- tokenizer: T5 tokenizer\n",
    "- model: T5 model\n",
    "- loader: Train Dataloader\n",
    "- optimizer: Optimizer\n",
    "- device: Device (CUDA / CPU)"
   ]
  },
  {
   "cell_type": "code",
   "execution_count": 11,
   "id": "81e8ddd2",
   "metadata": {
    "execution": {
     "iopub.execute_input": "2022-06-06T13:00:00.902245Z",
     "iopub.status.busy": "2022-06-06T13:00:00.901995Z",
     "iopub.status.idle": "2022-06-06T13:00:00.906675Z",
     "shell.execute_reply": "2022-06-06T13:00:00.905998Z"
    },
    "papermill": {
     "duration": 0.013913,
     "end_time": "2022-06-06T13:00:00.908648",
     "exception": false,
     "start_time": "2022-06-06T13:00:00.894735",
     "status": "completed"
    },
    "tags": []
   },
   "outputs": [
    {
     "data": {
      "text/plain": [
       "'cuda'"
      ]
     },
     "execution_count": 11,
     "metadata": {},
     "output_type": "execute_result"
    }
   ],
   "source": [
    "device"
   ]
  },
  {
   "cell_type": "code",
   "execution_count": 12,
   "id": "4aa39608",
   "metadata": {
    "execution": {
     "iopub.execute_input": "2022-06-06T13:00:00.923597Z",
     "iopub.status.busy": "2022-06-06T13:00:00.922887Z",
     "iopub.status.idle": "2022-06-06T13:00:00.931286Z",
     "shell.execute_reply": "2022-06-06T13:00:00.930666Z"
    },
    "id": "HGlR-0uK4BB4",
    "papermill": {
     "duration": 0.017379,
     "end_time": "2022-06-06T13:00:00.932858",
     "exception": false,
     "start_time": "2022-06-06T13:00:00.915479",
     "status": "completed"
    },
    "tags": []
   },
   "outputs": [],
   "source": [
    "def train(epoch, tokenizer, model, device, loader, optimizer):\n",
    "\n",
    "    \"\"\"\n",
    "    Function to be called for training with the parameters passed from main function\n",
    "\n",
    "    \"\"\"\n",
    "\n",
    "    model.train()\n",
    "    for _, data in enumerate(loader, 0):\n",
    "        y = data[\"target_ids\"].to(device, dtype=torch.long)\n",
    "        y_ids = y[:, :-1].contiguous()\n",
    "        lm_labels = y[:, 1:].clone().detach()\n",
    "        lm_labels[y[:, 1:] == tokenizer.pad_token_id] = -100\n",
    "        ids = data[\"source_ids\"].to(device, dtype=torch.long)\n",
    "        mask = data[\"source_mask\"].to(device, dtype=torch.long)\n",
    "\n",
    "        outputs = model(\n",
    "            input_ids=ids,\n",
    "            attention_mask=mask,\n",
    "            decoder_input_ids=y_ids,\n",
    "            labels=lm_labels,\n",
    "        )\n",
    "        loss = outputs[0]\n",
    "\n",
    "        if _ % 10 == 0:\n",
    "            training_logger.add_row(str(epoch), str(_), str(loss))\n",
    "            console.print(training_logger)\n",
    "\n",
    "        optimizer.zero_grad()\n",
    "        loss.backward()\n",
    "        optimizer.step()"
   ]
  },
  {
   "cell_type": "code",
   "execution_count": 13,
   "id": "5a6d2cae",
   "metadata": {
    "execution": {
     "iopub.execute_input": "2022-06-06T13:00:00.948013Z",
     "iopub.status.busy": "2022-06-06T13:00:00.947367Z",
     "iopub.status.idle": "2022-06-06T13:00:00.955770Z",
     "shell.execute_reply": "2022-06-06T13:00:00.955140Z"
    },
    "id": "UUCPKFxC4F5i",
    "papermill": {
     "duration": 0.017807,
     "end_time": "2022-06-06T13:00:00.957378",
     "exception": false,
     "start_time": "2022-06-06T13:00:00.939571",
     "status": "completed"
    },
    "tags": []
   },
   "outputs": [],
   "source": [
    "def validate(epoch, tokenizer, model, device, loader):\n",
    "    model.eval()\n",
    "    predictions = []\n",
    "    actuals = []\n",
    "    with torch.no_grad():\n",
    "        for _, data in enumerate(loader, 0):\n",
    "            y = data['target_ids'].to(device, dtype = torch.long)\n",
    "            ids = data['source_ids'].to(device, dtype = torch.long)\n",
    "            mask = data['source_mask'].to(device, dtype = torch.long)\n",
    "\n",
    "            generated_ids = model.generate(\n",
    "              input_ids = ids,\n",
    "              attention_mask = mask, \n",
    "              max_length=150, \n",
    "              num_beams=2,\n",
    "              repetition_penalty=2.5, \n",
    "              length_penalty=1.0, \n",
    "              early_stopping=True\n",
    "              )\n",
    "            preds = [tokenizer.decode(g, skip_special_tokens=True, clean_up_tokenization_spaces=True) for g in generated_ids]\n",
    "            target = [tokenizer.decode(t, skip_special_tokens=True, clean_up_tokenization_spaces=True)for t in y]\n",
    "            if _%10==0:\n",
    "              console.print(f'Completed {_}')\n",
    "\n",
    "            predictions.extend(preds)\n",
    "            actuals.extend(target)\n",
    "    return predictions, actuals"
   ]
  },
  {
   "cell_type": "markdown",
   "id": "012a9608",
   "metadata": {
    "id": "OYYAmtSp7uzh",
    "papermill": {
     "duration": 0.006818,
     "end_time": "2022-06-06T13:00:00.971021",
     "exception": false,
     "start_time": "2022-06-06T13:00:00.964203",
     "status": "completed"
    },
    "tags": []
   },
   "source": [
    "### T5 Trainer\n",
    "\n",
    "T5Trainer will have 5 arguments:\n",
    "\n",
    "- dataframe: Input dataframe\n",
    "- source_text: Column name of the input text i.e. article content\n",
    "- target_text: Column name of the taregt text i.e. one line summary\n",
    "- model_params: T5 model parameters\n",
    "- output_dir: Output directory to save fine tuned T5 model."
   ]
  },
  {
   "cell_type": "code",
   "execution_count": 14,
   "id": "0168f06f",
   "metadata": {
    "execution": {
     "iopub.execute_input": "2022-06-06T13:00:00.985820Z",
     "iopub.status.busy": "2022-06-06T13:00:00.985204Z",
     "iopub.status.idle": "2022-06-06T13:00:00.988637Z",
     "shell.execute_reply": "2022-06-06T13:00:00.987975Z"
    },
    "papermill": {
     "duration": 0.012425,
     "end_time": "2022-06-06T13:00:00.990200",
     "exception": false,
     "start_time": "2022-06-06T13:00:00.977775",
     "status": "completed"
    },
    "tags": []
   },
   "outputs": [],
   "source": [
    "from transformers import PegasusTokenizer, PegasusForConditionalGeneration\n",
    "\n"
   ]
  },
  {
   "cell_type": "code",
   "execution_count": 15,
   "id": "1dd5c1ce",
   "metadata": {
    "execution": {
     "iopub.execute_input": "2022-06-06T13:00:01.005155Z",
     "iopub.status.busy": "2022-06-06T13:00:01.004647Z",
     "iopub.status.idle": "2022-06-06T13:00:01.021622Z",
     "shell.execute_reply": "2022-06-06T13:00:01.020994Z"
    },
    "id": "ZQCxDQgr4JBm",
    "papermill": {
     "duration": 0.026239,
     "end_time": "2022-06-06T13:00:01.023194",
     "exception": false,
     "start_time": "2022-06-06T13:00:00.996955",
     "status": "completed"
    },
    "tags": []
   },
   "outputs": [],
   "source": [
    "def T5Trainer(\n",
    "    dataframe, source_text, target_text, model_params, output_dir=\"./outputs/\"\n",
    "):\n",
    "\n",
    "    \"\"\"\n",
    "    T5 trainer\n",
    "\n",
    "    \"\"\"\n",
    "\n",
    "    # Set random seeds and deterministic pytorch for reproducibility\n",
    "    torch.manual_seed(model_params[\"SEED\"])  # pytorch random seed\n",
    "    np.random.seed(model_params[\"SEED\"])  # numpy random seed\n",
    "    torch.backends.cudnn.deterministic = True\n",
    "\n",
    "    # logging\n",
    "    console.log(f\"\"\"[Model]: Loading {model_params[\"MODEL\"]}...\\n\"\"\")\n",
    "   \n",
    "\n",
    "\n",
    "    # tokenzier for encoding the text\n",
    "    tokenizer = PegasusTokenizer.from_pretrained(model_params[\"MODEL\"])\n",
    "\n",
    "    # Defining the model. We are using t5-base model and added a Language model layer on top for generation of Summary.\n",
    "    # Further this model is sent to device (GPU/TPU) for using the hardware.\n",
    "    model = PegasusForConditionalGeneration.from_pretrained(model_params[\"MODEL\"])\n",
    "    model = model.to(device)\n",
    "\n",
    "    # logging\n",
    "    console.log(f\"[Data]: Reading data...\\n\")\n",
    "\n",
    "    # Importing the raw dataset\n",
    "    dataframe = dataframe[[source_text, target_text]]\n",
    "    display_df(dataframe.head(2))\n",
    "\n",
    "    # Creation of Dataset and Dataloader\n",
    "    # Defining the train size. So 80% of the data will be used for training and the rest for validation.\n",
    "    train_size = 0.8\n",
    "    train_dataset = dataframe.sample(frac=train_size, random_state=model_params[\"SEED\"])\n",
    "    val_dataset = dataframe.drop(train_dataset.index).reset_index(drop=True)\n",
    "    train_dataset = train_dataset.reset_index(drop=True)\n",
    "\n",
    "    console.print(f\"FULL Dataset: {dataframe.shape}\")\n",
    "    console.print(f\"TRAIN Dataset: {train_dataset.shape}\")\n",
    "    console.print(f\"TEST Dataset: {val_dataset.shape}\\n\")\n",
    "\n",
    "    # Creating the Training and Validation dataset for further creation of Dataloader\n",
    "    training_set = CustomDataset(\n",
    "        train_dataset,\n",
    "        tokenizer,\n",
    "        model_params[\"MAX_SOURCE_TEXT_LENGTH\"],\n",
    "        model_params[\"MAX_TARGET_TEXT_LENGTH\"],\n",
    "        source_text,\n",
    "        target_text,\n",
    "    )\n",
    "    val_set = CustomDataset(\n",
    "        val_dataset,\n",
    "        tokenizer,\n",
    "        model_params[\"MAX_SOURCE_TEXT_LENGTH\"],\n",
    "        model_params[\"MAX_TARGET_TEXT_LENGTH\"],\n",
    "        source_text,\n",
    "        target_text,\n",
    "    )\n",
    "\n",
    "    # Defining the parameters for creation of dataloaders\n",
    "    train_params = {\n",
    "        \"batch_size\": model_params[\"TRAIN_BATCH_SIZE\"],\n",
    "        \"shuffle\": True,\n",
    "        \"num_workers\": 0,\n",
    "    }\n",
    "\n",
    "    val_params = {\n",
    "        \"batch_size\": model_params[\"VALID_BATCH_SIZE\"],\n",
    "        \"shuffle\": False,\n",
    "        \"num_workers\": 0,\n",
    "    }\n",
    "\n",
    "    # Creation of Dataloaders for testing and validation. This will be used down for training and validation stage for the model.\n",
    "    training_loader = DataLoader(training_set, **train_params)\n",
    "    val_loader = DataLoader(val_set, **val_params)\n",
    "\n",
    "    # Defining the optimizer that will be used to tune the weights of the network in the training session.\n",
    "    optimizer = torch.optim.Adam(\n",
    "        params=model.parameters(), lr=model_params[\"LEARNING_RATE\"]\n",
    "    )\n",
    "\n",
    "    # Training loop\n",
    "    console.log(f\"[Initiating Fine Tuning]...\\n\")\n",
    "\n",
    "    for epoch in range(model_params[\"TRAIN_EPOCHS\"]):\n",
    "        train(epoch, tokenizer, model, device, training_loader, optimizer)\n",
    "\n",
    "    console.log(f\"[Saving Model]...\\n\")\n",
    "    # Saving the model after training\n",
    "    path = os.path.join(output_dir, \"model_files\")\n",
    "    model.save_pretrained(path)\n",
    "    tokenizer.save_pretrained(path)\n",
    "\n",
    "    # evaluating test dataset\n",
    "    console.log(f\"[Initiating Validation]...\\n\")\n",
    "    for epoch in range(model_params[\"VAL_EPOCHS\"]):\n",
    "        predictions, actuals = validate(epoch, tokenizer, model, device, val_loader)\n",
    "        final_df = pd.DataFrame({\"Generated Text\": predictions, \"Actual Text\": actuals})\n",
    "        final_df.to_csv(os.path.join(output_dir, \"predictions.csv\"))\n",
    "\n",
    "    console.save_text(os.path.join(output_dir, \"logs.txt\"))\n",
    "\n",
    "    console.log(f\"[Validation Completed.]\\n\")\n",
    "    console.print(\n",
    "        f\"\"\"[Model] Model saved @ {os.path.join(output_dir, \"model_files\")}\\n\"\"\"\n",
    "    )\n",
    "    console.print(\n",
    "        f\"\"\"[Validation] Generation on Validation data saved @ {os.path.join(output_dir,'predictions.csv')}\\n\"\"\"\n",
    "    )\n",
    "    console.print(f\"\"\"[Logs] Logs saved @ {os.path.join(output_dir,'logs.txt')}\\n\"\"\")"
   ]
  },
  {
   "cell_type": "markdown",
   "id": "c597dab6",
   "metadata": {
    "id": "6EV7GxTV78Fn",
    "papermill": {
     "duration": 0.006577,
     "end_time": "2022-06-06T13:00:01.037002",
     "exception": false,
     "start_time": "2022-06-06T13:00:01.030425",
     "status": "completed"
    },
    "tags": []
   },
   "source": [
    "### Model Parameters"
   ]
  },
  {
   "cell_type": "code",
   "execution_count": 16,
   "id": "95915c13",
   "metadata": {
    "execution": {
     "iopub.execute_input": "2022-06-06T13:00:01.052090Z",
     "iopub.status.busy": "2022-06-06T13:00:01.051571Z",
     "iopub.status.idle": "2022-06-06T13:00:01.055965Z",
     "shell.execute_reply": "2022-06-06T13:00:01.055225Z"
    },
    "id": "J-YI6UtV4OUW",
    "papermill": {
     "duration": 0.013762,
     "end_time": "2022-06-06T13:00:01.057649",
     "exception": false,
     "start_time": "2022-06-06T13:00:01.043887",
     "status": "completed"
    },
    "tags": []
   },
   "outputs": [],
   "source": [
    "# let's define model parameters specific to T5\n",
    "model_params = {\n",
    "    \"MODEL\": \"google/pegasus-xsum\",  # model_type: google/pegasus-xsum\n",
    "    \"TRAIN_BATCH_SIZE\": 4,  # training batch size\n",
    "    \"VALID_BATCH_SIZE\": 4,  # validation batch size\n",
    "    \"TRAIN_EPOCHS\": 1,  # number of training epochs\n",
    "    \"VAL_EPOCHS\": 1,  # number of validation epochs\n",
    "    \"LEARNING_RATE\": 1e-4,  # learning rate\n",
    "    \"MAX_SOURCE_TEXT_LENGTH\": 128,  # max length of source text\n",
    "    \"MAX_TARGET_TEXT_LENGTH\": 30,  # max length of target text\n",
    "    \"SEED\": 42,  # set seed for reproducibility\n",
    "}"
   ]
  },
  {
   "cell_type": "code",
   "execution_count": 17,
   "id": "1a350da7",
   "metadata": {
    "execution": {
     "iopub.execute_input": "2022-06-06T13:00:01.072544Z",
     "iopub.status.busy": "2022-06-06T13:00:01.072166Z",
     "iopub.status.idle": "2022-06-06T13:03:40.388811Z",
     "shell.execute_reply": "2022-06-06T13:03:40.387941Z"
    },
    "id": "1BtV8Jad4Rxf",
    "outputId": "6c0c5480-4bba-4f7c-ae37-8c7a2738c9a2",
    "papermill": {
     "duration": 219.326472,
     "end_time": "2022-06-06T13:03:40.390840",
     "exception": false,
     "start_time": "2022-06-06T13:00:01.064368",
     "status": "completed"
    },
    "tags": []
   },
   "outputs": [
    {
     "data": {
      "text/html": [
       "<pre style=\"white-space:pre;overflow-x:auto;line-height:normal;font-family:Menlo,'DejaVu Sans Mono',consolas,'Courier New',monospace\"><span style=\"color: #7fbfbf; text-decoration-color: #7fbfbf\">[13:00:01] </span><span style=\"font-weight: bold\">[</span>Model<span style=\"font-weight: bold\">]</span>: Loading google/pegasus-xsum<span style=\"color: #808000; text-decoration-color: #808000\">...</span>                           <a href=\"file:///tmp/ipykernel_24/3880980610.py\" target=\"_blank\"><span style=\"color: #7f7f7f; text-decoration-color: #7f7f7f\">3880980610.py</span></a><span style=\"color: #7f7f7f; text-decoration-color: #7f7f7f\">:</span><a href=\"file:///tmp/ipykernel_24/3880980610.py#16\" target=\"_blank\"><span style=\"color: #7f7f7f; text-decoration-color: #7f7f7f\">16</span></a>\n",
       "<span style=\"color: #7fbfbf; text-decoration-color: #7fbfbf\">           </span>                                                                  <span style=\"color: #7f7f7f; text-decoration-color: #7f7f7f\">                </span>\n",
       "</pre>\n"
      ],
      "text/plain": [
       "\u001b[2;36m[13:00:01]\u001b[0m\u001b[2;36m \u001b[0m\u001b[1m[\u001b[0mModel\u001b[1m]\u001b[0m: Loading google/pegasus-xsum\u001b[33m...\u001b[0m                           \u001b]8;id=983509;file:///tmp/ipykernel_24/3880980610.py\u001b\\\u001b[2m3880980610.py\u001b[0m\u001b]8;;\u001b\\\u001b[2m:\u001b[0m\u001b]8;id=275437;file:///tmp/ipykernel_24/3880980610.py#16\u001b\\\u001b[2m16\u001b[0m\u001b]8;;\u001b\\\n",
       "\u001b[2;36m           \u001b[0m                                                                  \u001b[2m                \u001b[0m\n"
      ]
     },
     "metadata": {},
     "output_type": "display_data"
    },
    {
     "data": {
      "application/vnd.jupyter.widget-view+json": {
       "model_id": "6843ff08a84d459d842cabc73858c212",
       "version_major": 2,
       "version_minor": 0
      },
      "text/plain": [
       "Downloading:   0%|          | 0.00/1.82M [00:00<?, ?B/s]"
      ]
     },
     "metadata": {},
     "output_type": "display_data"
    },
    {
     "data": {
      "application/vnd.jupyter.widget-view+json": {
       "model_id": "ecb7c12b23db492aadb7822dcd73a51a",
       "version_major": 2,
       "version_minor": 0
      },
      "text/plain": [
       "Downloading:   0%|          | 0.00/65.0 [00:00<?, ?B/s]"
      ]
     },
     "metadata": {},
     "output_type": "display_data"
    },
    {
     "data": {
      "application/vnd.jupyter.widget-view+json": {
       "model_id": "ee570fb0600c4ca6b1c47d260b5a5fd1",
       "version_major": 2,
       "version_minor": 0
      },
      "text/plain": [
       "Downloading:   0%|          | 0.00/87.0 [00:00<?, ?B/s]"
      ]
     },
     "metadata": {},
     "output_type": "display_data"
    },
    {
     "data": {
      "application/vnd.jupyter.widget-view+json": {
       "model_id": "43d158d38e5e401990fcb081ee773d6e",
       "version_major": 2,
       "version_minor": 0
      },
      "text/plain": [
       "Downloading:   0%|          | 0.00/1.36k [00:00<?, ?B/s]"
      ]
     },
     "metadata": {},
     "output_type": "display_data"
    },
    {
     "data": {
      "application/vnd.jupyter.widget-view+json": {
       "model_id": "0d92f9dd42674e5aad4a17ae7055ce1e",
       "version_major": 2,
       "version_minor": 0
      },
      "text/plain": [
       "Downloading:   0%|          | 0.00/2.12G [00:00<?, ?B/s]"
      ]
     },
     "metadata": {},
     "output_type": "display_data"
    },
    {
     "data": {
      "text/html": [
       "<pre style=\"white-space:pre;overflow-x:auto;line-height:normal;font-family:Menlo,'DejaVu Sans Mono',consolas,'Courier New',monospace\"><span style=\"color: #7fbfbf; text-decoration-color: #7fbfbf\">[13:02:03] </span><span style=\"font-weight: bold\">[</span>Data<span style=\"font-weight: bold\">]</span>: Reading data<span style=\"color: #808000; text-decoration-color: #808000\">...</span>                                           <a href=\"file:///tmp/ipykernel_24/3880980610.py\" target=\"_blank\"><span style=\"color: #7f7f7f; text-decoration-color: #7f7f7f\">3880980610.py</span></a><span style=\"color: #7f7f7f; text-decoration-color: #7f7f7f\">:</span><a href=\"file:///tmp/ipykernel_24/3880980610.py#29\" target=\"_blank\"><span style=\"color: #7f7f7f; text-decoration-color: #7f7f7f\">29</span></a>\n",
       "<span style=\"color: #7fbfbf; text-decoration-color: #7fbfbf\">           </span>                                                                  <span style=\"color: #7f7f7f; text-decoration-color: #7f7f7f\">                </span>\n",
       "</pre>\n"
      ],
      "text/plain": [
       "\u001b[2;36m[13:02:03]\u001b[0m\u001b[2;36m \u001b[0m\u001b[1m[\u001b[0mData\u001b[1m]\u001b[0m: Reading data\u001b[33m...\u001b[0m                                           \u001b]8;id=267705;file:///tmp/ipykernel_24/3880980610.py\u001b\\\u001b[2m3880980610.py\u001b[0m\u001b]8;;\u001b\\\u001b[2m:\u001b[0m\u001b]8;id=834361;file:///tmp/ipykernel_24/3880980610.py#29\u001b\\\u001b[2m29\u001b[0m\u001b]8;;\u001b\\\n",
       "\u001b[2;36m           \u001b[0m                                                                  \u001b[2m                \u001b[0m\n"
      ]
     },
     "metadata": {},
     "output_type": "display_data"
    },
    {
     "data": {
      "text/html": [
       "<pre style=\"white-space:pre;overflow-x:auto;line-height:normal;font-family:Menlo,'DejaVu Sans Mono',consolas,'Courier New',monospace\"><span style=\"font-style: italic\">                                         Sample Data                                         </span>\n",
       "+-------------------------------------------------------------------------------------------+\n",
       "|<span style=\"font-weight: bold\">                source_text                  </span>|<span style=\"font-weight: bold\">                 target_text                 </span>|\n",
       "|---------------------------------------------+---------------------------------------------|\n",
       "|summarize: Saurav Kant, an alumnus of upGrad | upGrad learner switches to career in ML &amp; Al|\n",
       "|and IIIT-B's PG Program in Machine learning  |             with 90% salary hike            |\n",
       "|   and Artificial Intelligence, was a Sr     |                                             |\n",
       "| Systems Engineer at Infosys with almost 5   |                                             |\n",
       "| years of work experience. The program and   |                                             |\n",
       "| upGrad's 360-degree career support helped   |                                             |\n",
       "| him transition to a Data Scientist at Tech  |                                             |\n",
       "|  Mahindra with 90% salary hike. upGrad's    |                                             |\n",
       "| Online Power Learning has powered 3 lakh+   |                                             |\n",
       "|                  careers.                   |                                             |\n",
       "|  summarize: Kunal Shah's credit card bill   | Delhi techie wins free food from Swiggy for |\n",
       "|payment platform, CRED, gave users a chance  |               one year on CRED              |\n",
       "| to win free food from Swiggy for one year.  |                                             |\n",
       "|Pranav Kaushik, a Delhi techie, bagged this  |                                             |\n",
       "|reward after spending 2000 CRED coins. Users |                                             |\n",
       "| get one CRED coin per rupee of bill paid,   |                                             |\n",
       "|  which can be used to avail rewards from    |                                             |\n",
       "|  brands like Ixigo, BookMyShow, UberEats,   |                                             |\n",
       "|             Cult.Fit and more.              |                                             |\n",
       "+-------------------------------------------------------------------------------------------+\n",
       "</pre>\n"
      ],
      "text/plain": [
       "\u001b[3m                                         Sample Data                                         \u001b[0m\n",
       "+-------------------------------------------------------------------------------------------+\n",
       "|\u001b[1m                source_text                 \u001b[0m\u001b[1m \u001b[0m|\u001b[1m \u001b[0m\u001b[1m                target_text                 \u001b[0m|\n",
       "|---------------------------------------------+---------------------------------------------|\n",
       "|summarize: Saurav Kant, an alumnus of upGrad | upGrad learner switches to career in ML & Al|\n",
       "|and IIIT-B's PG Program in Machine learning  |             with 90% salary hike            |\n",
       "|   and Artificial Intelligence, was a Sr     |                                             |\n",
       "| Systems Engineer at Infosys with almost 5   |                                             |\n",
       "| years of work experience. The program and   |                                             |\n",
       "| upGrad's 360-degree career support helped   |                                             |\n",
       "| him transition to a Data Scientist at Tech  |                                             |\n",
       "|  Mahindra with 90% salary hike. upGrad's    |                                             |\n",
       "| Online Power Learning has powered 3 lakh+   |                                             |\n",
       "|                  careers.                   |                                             |\n",
       "|  summarize: Kunal Shah's credit card bill   | Delhi techie wins free food from Swiggy for |\n",
       "|payment platform, CRED, gave users a chance  |               one year on CRED              |\n",
       "| to win free food from Swiggy for one year.  |                                             |\n",
       "|Pranav Kaushik, a Delhi techie, bagged this  |                                             |\n",
       "|reward after spending 2000 CRED coins. Users |                                             |\n",
       "| get one CRED coin per rupee of bill paid,   |                                             |\n",
       "|  which can be used to avail rewards from    |                                             |\n",
       "|  brands like Ixigo, BookMyShow, UberEats,   |                                             |\n",
       "|             Cult.Fit and more.              |                                             |\n",
       "+-------------------------------------------------------------------------------------------+\n"
      ]
     },
     "metadata": {},
     "output_type": "display_data"
    },
    {
     "data": {
      "text/html": [
       "<pre style=\"white-space:pre;overflow-x:auto;line-height:normal;font-family:Menlo,'DejaVu Sans Mono',consolas,'Courier New',monospace\">FULL Dataset: <span style=\"font-weight: bold\">(</span><span style=\"color: #008080; text-decoration-color: #008080; font-weight: bold\">1000</span>, <span style=\"color: #008080; text-decoration-color: #008080; font-weight: bold\">2</span><span style=\"font-weight: bold\">)</span>\n",
       "</pre>\n"
      ],
      "text/plain": [
       "FULL Dataset: \u001b[1m(\u001b[0m\u001b[1;36m1000\u001b[0m, \u001b[1;36m2\u001b[0m\u001b[1m)\u001b[0m\n"
      ]
     },
     "metadata": {},
     "output_type": "display_data"
    },
    {
     "data": {
      "text/html": [
       "<pre style=\"white-space:pre;overflow-x:auto;line-height:normal;font-family:Menlo,'DejaVu Sans Mono',consolas,'Courier New',monospace\">TRAIN Dataset: <span style=\"font-weight: bold\">(</span><span style=\"color: #008080; text-decoration-color: #008080; font-weight: bold\">800</span>, <span style=\"color: #008080; text-decoration-color: #008080; font-weight: bold\">2</span><span style=\"font-weight: bold\">)</span>\n",
       "</pre>\n"
      ],
      "text/plain": [
       "TRAIN Dataset: \u001b[1m(\u001b[0m\u001b[1;36m800\u001b[0m, \u001b[1;36m2\u001b[0m\u001b[1m)\u001b[0m\n"
      ]
     },
     "metadata": {},
     "output_type": "display_data"
    },
    {
     "data": {
      "text/html": [
       "<pre style=\"white-space:pre;overflow-x:auto;line-height:normal;font-family:Menlo,'DejaVu Sans Mono',consolas,'Courier New',monospace\">TEST Dataset: <span style=\"font-weight: bold\">(</span><span style=\"color: #008080; text-decoration-color: #008080; font-weight: bold\">200</span>, <span style=\"color: #008080; text-decoration-color: #008080; font-weight: bold\">2</span><span style=\"font-weight: bold\">)</span>\n",
       "\n",
       "</pre>\n"
      ],
      "text/plain": [
       "TEST Dataset: \u001b[1m(\u001b[0m\u001b[1;36m200\u001b[0m, \u001b[1;36m2\u001b[0m\u001b[1m)\u001b[0m\n",
       "\n"
      ]
     },
     "metadata": {},
     "output_type": "display_data"
    },
    {
     "data": {
      "text/html": [
       "<pre style=\"white-space:pre;overflow-x:auto;line-height:normal;font-family:Menlo,'DejaVu Sans Mono',consolas,'Courier New',monospace\"><span style=\"color: #7fbfbf; text-decoration-color: #7fbfbf\">           </span><span style=\"font-weight: bold\">[</span>Initiating Fine Tuning<span style=\"font-weight: bold\">]</span><span style=\"color: #808000; text-decoration-color: #808000\">...</span>                                       <a href=\"file:///tmp/ipykernel_24/3880980610.py\" target=\"_blank\"><span style=\"color: #7f7f7f; text-decoration-color: #7f7f7f\">3880980610.py</span></a><span style=\"color: #7f7f7f; text-decoration-color: #7f7f7f\">:</span><a href=\"file:///tmp/ipykernel_24/3880980610.py#87\" target=\"_blank\"><span style=\"color: #7f7f7f; text-decoration-color: #7f7f7f\">87</span></a>\n",
       "<span style=\"color: #7fbfbf; text-decoration-color: #7fbfbf\">           </span>                                                                  <span style=\"color: #7f7f7f; text-decoration-color: #7f7f7f\">                </span>\n",
       "</pre>\n"
      ],
      "text/plain": [
       "\u001b[2;36m          \u001b[0m\u001b[2;36m \u001b[0m\u001b[1m[\u001b[0mInitiating Fine Tuning\u001b[1m]\u001b[0m\u001b[33m...\u001b[0m                                       \u001b]8;id=753210;file:///tmp/ipykernel_24/3880980610.py\u001b\\\u001b[2m3880980610.py\u001b[0m\u001b]8;;\u001b\\\u001b[2m:\u001b[0m\u001b]8;id=50918;file:///tmp/ipykernel_24/3880980610.py#87\u001b\\\u001b[2m87\u001b[0m\u001b]8;;\u001b\\\n",
       "\u001b[2;36m           \u001b[0m                                                                  \u001b[2m                \u001b[0m\n"
      ]
     },
     "metadata": {},
     "output_type": "display_data"
    },
    {
     "data": {
      "text/html": [
       "<pre style=\"white-space:pre;overflow-x:auto;line-height:normal;font-family:Menlo,'DejaVu Sans Mono',consolas,'Courier New',monospace\"><span style=\"font-style: italic\">                               Training Status                               </span>\n",
       "+---------------------------------------------------------------------------+\n",
       "|<span style=\"font-weight: bold\">Epoch </span>|<span style=\"font-weight: bold\"> Steps </span>|<span style=\"font-weight: bold\">                            Loss                            </span>|\n",
       "|------+-------+------------------------------------------------------------|\n",
       "|  0   |   0   | tensor(8.9277, device='cuda:0', grad_fn=&lt;NllLossBackward0&gt;)|\n",
       "+---------------------------------------------------------------------------+\n",
       "</pre>\n"
      ],
      "text/plain": [
       "\u001b[3m                               Training Status                               \u001b[0m\n",
       "+---------------------------------------------------------------------------+\n",
       "|\u001b[1mEpoch\u001b[0m\u001b[1m \u001b[0m|\u001b[1m \u001b[0m\u001b[1mSteps\u001b[0m\u001b[1m \u001b[0m|\u001b[1m \u001b[0m\u001b[1m                           Loss                            \u001b[0m|\n",
       "|------+-------+------------------------------------------------------------|\n",
       "|  0   |   0   | tensor(8.9277, device='cuda:0', grad_fn=<NllLossBackward0>)|\n",
       "+---------------------------------------------------------------------------+\n"
      ]
     },
     "metadata": {},
     "output_type": "display_data"
    },
    {
     "data": {
      "text/html": [
       "<pre style=\"white-space:pre;overflow-x:auto;line-height:normal;font-family:Menlo,'DejaVu Sans Mono',consolas,'Courier New',monospace\"><span style=\"font-style: italic\">                               Training Status                               </span>\n",
       "+---------------------------------------------------------------------------+\n",
       "|<span style=\"font-weight: bold\">Epoch </span>|<span style=\"font-weight: bold\"> Steps </span>|<span style=\"font-weight: bold\">                            Loss                            </span>|\n",
       "|------+-------+------------------------------------------------------------|\n",
       "|  0   |   0   | tensor(8.9277, device='cuda:0', grad_fn=&lt;NllLossBackward0&gt;)|\n",
       "|  0   |  10   | tensor(7.4712, device='cuda:0', grad_fn=&lt;NllLossBackward0&gt;)|\n",
       "+---------------------------------------------------------------------------+\n",
       "</pre>\n"
      ],
      "text/plain": [
       "\u001b[3m                               Training Status                               \u001b[0m\n",
       "+---------------------------------------------------------------------------+\n",
       "|\u001b[1mEpoch\u001b[0m\u001b[1m \u001b[0m|\u001b[1m \u001b[0m\u001b[1mSteps\u001b[0m\u001b[1m \u001b[0m|\u001b[1m \u001b[0m\u001b[1m                           Loss                            \u001b[0m|\n",
       "|------+-------+------------------------------------------------------------|\n",
       "|  0   |   0   | tensor(8.9277, device='cuda:0', grad_fn=<NllLossBackward0>)|\n",
       "|  0   |  10   | tensor(7.4712, device='cuda:0', grad_fn=<NllLossBackward0>)|\n",
       "+---------------------------------------------------------------------------+\n"
      ]
     },
     "metadata": {},
     "output_type": "display_data"
    },
    {
     "data": {
      "text/html": [
       "<pre style=\"white-space:pre;overflow-x:auto;line-height:normal;font-family:Menlo,'DejaVu Sans Mono',consolas,'Courier New',monospace\"><span style=\"font-style: italic\">                               Training Status                               </span>\n",
       "+---------------------------------------------------------------------------+\n",
       "|<span style=\"font-weight: bold\">Epoch </span>|<span style=\"font-weight: bold\"> Steps </span>|<span style=\"font-weight: bold\">                            Loss                            </span>|\n",
       "|------+-------+------------------------------------------------------------|\n",
       "|  0   |   0   | tensor(8.9277, device='cuda:0', grad_fn=&lt;NllLossBackward0&gt;)|\n",
       "|  0   |  10   | tensor(7.4712, device='cuda:0', grad_fn=&lt;NllLossBackward0&gt;)|\n",
       "|  0   |  20   | tensor(6.1189, device='cuda:0', grad_fn=&lt;NllLossBackward0&gt;)|\n",
       "+---------------------------------------------------------------------------+\n",
       "</pre>\n"
      ],
      "text/plain": [
       "\u001b[3m                               Training Status                               \u001b[0m\n",
       "+---------------------------------------------------------------------------+\n",
       "|\u001b[1mEpoch\u001b[0m\u001b[1m \u001b[0m|\u001b[1m \u001b[0m\u001b[1mSteps\u001b[0m\u001b[1m \u001b[0m|\u001b[1m \u001b[0m\u001b[1m                           Loss                            \u001b[0m|\n",
       "|------+-------+------------------------------------------------------------|\n",
       "|  0   |   0   | tensor(8.9277, device='cuda:0', grad_fn=<NllLossBackward0>)|\n",
       "|  0   |  10   | tensor(7.4712, device='cuda:0', grad_fn=<NllLossBackward0>)|\n",
       "|  0   |  20   | tensor(6.1189, device='cuda:0', grad_fn=<NllLossBackward0>)|\n",
       "+---------------------------------------------------------------------------+\n"
      ]
     },
     "metadata": {},
     "output_type": "display_data"
    },
    {
     "data": {
      "text/html": [
       "<pre style=\"white-space:pre;overflow-x:auto;line-height:normal;font-family:Menlo,'DejaVu Sans Mono',consolas,'Courier New',monospace\"><span style=\"font-style: italic\">                               Training Status                               </span>\n",
       "+---------------------------------------------------------------------------+\n",
       "|<span style=\"font-weight: bold\">Epoch </span>|<span style=\"font-weight: bold\"> Steps </span>|<span style=\"font-weight: bold\">                            Loss                            </span>|\n",
       "|------+-------+------------------------------------------------------------|\n",
       "|  0   |   0   | tensor(8.9277, device='cuda:0', grad_fn=&lt;NllLossBackward0&gt;)|\n",
       "|  0   |  10   | tensor(7.4712, device='cuda:0', grad_fn=&lt;NllLossBackward0&gt;)|\n",
       "|  0   |  20   | tensor(6.1189, device='cuda:0', grad_fn=&lt;NllLossBackward0&gt;)|\n",
       "|  0   |  30   | tensor(4.8070, device='cuda:0', grad_fn=&lt;NllLossBackward0&gt;)|\n",
       "+---------------------------------------------------------------------------+\n",
       "</pre>\n"
      ],
      "text/plain": [
       "\u001b[3m                               Training Status                               \u001b[0m\n",
       "+---------------------------------------------------------------------------+\n",
       "|\u001b[1mEpoch\u001b[0m\u001b[1m \u001b[0m|\u001b[1m \u001b[0m\u001b[1mSteps\u001b[0m\u001b[1m \u001b[0m|\u001b[1m \u001b[0m\u001b[1m                           Loss                            \u001b[0m|\n",
       "|------+-------+------------------------------------------------------------|\n",
       "|  0   |   0   | tensor(8.9277, device='cuda:0', grad_fn=<NllLossBackward0>)|\n",
       "|  0   |  10   | tensor(7.4712, device='cuda:0', grad_fn=<NllLossBackward0>)|\n",
       "|  0   |  20   | tensor(6.1189, device='cuda:0', grad_fn=<NllLossBackward0>)|\n",
       "|  0   |  30   | tensor(4.8070, device='cuda:0', grad_fn=<NllLossBackward0>)|\n",
       "+---------------------------------------------------------------------------+\n"
      ]
     },
     "metadata": {},
     "output_type": "display_data"
    },
    {
     "data": {
      "text/html": [
       "<pre style=\"white-space:pre;overflow-x:auto;line-height:normal;font-family:Menlo,'DejaVu Sans Mono',consolas,'Courier New',monospace\"><span style=\"font-style: italic\">                               Training Status                               </span>\n",
       "+---------------------------------------------------------------------------+\n",
       "|<span style=\"font-weight: bold\">Epoch </span>|<span style=\"font-weight: bold\"> Steps </span>|<span style=\"font-weight: bold\">                            Loss                            </span>|\n",
       "|------+-------+------------------------------------------------------------|\n",
       "|  0   |   0   | tensor(8.9277, device='cuda:0', grad_fn=&lt;NllLossBackward0&gt;)|\n",
       "|  0   |  10   | tensor(7.4712, device='cuda:0', grad_fn=&lt;NllLossBackward0&gt;)|\n",
       "|  0   |  20   | tensor(6.1189, device='cuda:0', grad_fn=&lt;NllLossBackward0&gt;)|\n",
       "|  0   |  30   | tensor(4.8070, device='cuda:0', grad_fn=&lt;NllLossBackward0&gt;)|\n",
       "|  0   |  40   | tensor(4.4598, device='cuda:0', grad_fn=&lt;NllLossBackward0&gt;)|\n",
       "+---------------------------------------------------------------------------+\n",
       "</pre>\n"
      ],
      "text/plain": [
       "\u001b[3m                               Training Status                               \u001b[0m\n",
       "+---------------------------------------------------------------------------+\n",
       "|\u001b[1mEpoch\u001b[0m\u001b[1m \u001b[0m|\u001b[1m \u001b[0m\u001b[1mSteps\u001b[0m\u001b[1m \u001b[0m|\u001b[1m \u001b[0m\u001b[1m                           Loss                            \u001b[0m|\n",
       "|------+-------+------------------------------------------------------------|\n",
       "|  0   |   0   | tensor(8.9277, device='cuda:0', grad_fn=<NllLossBackward0>)|\n",
       "|  0   |  10   | tensor(7.4712, device='cuda:0', grad_fn=<NllLossBackward0>)|\n",
       "|  0   |  20   | tensor(6.1189, device='cuda:0', grad_fn=<NllLossBackward0>)|\n",
       "|  0   |  30   | tensor(4.8070, device='cuda:0', grad_fn=<NllLossBackward0>)|\n",
       "|  0   |  40   | tensor(4.4598, device='cuda:0', grad_fn=<NllLossBackward0>)|\n",
       "+---------------------------------------------------------------------------+\n"
      ]
     },
     "metadata": {},
     "output_type": "display_data"
    },
    {
     "data": {
      "text/html": [
       "<pre style=\"white-space:pre;overflow-x:auto;line-height:normal;font-family:Menlo,'DejaVu Sans Mono',consolas,'Courier New',monospace\"><span style=\"font-style: italic\">                               Training Status                               </span>\n",
       "+---------------------------------------------------------------------------+\n",
       "|<span style=\"font-weight: bold\">Epoch </span>|<span style=\"font-weight: bold\"> Steps </span>|<span style=\"font-weight: bold\">                            Loss                            </span>|\n",
       "|------+-------+------------------------------------------------------------|\n",
       "|  0   |   0   | tensor(8.9277, device='cuda:0', grad_fn=&lt;NllLossBackward0&gt;)|\n",
       "|  0   |  10   | tensor(7.4712, device='cuda:0', grad_fn=&lt;NllLossBackward0&gt;)|\n",
       "|  0   |  20   | tensor(6.1189, device='cuda:0', grad_fn=&lt;NllLossBackward0&gt;)|\n",
       "|  0   |  30   | tensor(4.8070, device='cuda:0', grad_fn=&lt;NllLossBackward0&gt;)|\n",
       "|  0   |  40   | tensor(4.4598, device='cuda:0', grad_fn=&lt;NllLossBackward0&gt;)|\n",
       "|  0   |  50   | tensor(3.5434, device='cuda:0', grad_fn=&lt;NllLossBackward0&gt;)|\n",
       "+---------------------------------------------------------------------------+\n",
       "</pre>\n"
      ],
      "text/plain": [
       "\u001b[3m                               Training Status                               \u001b[0m\n",
       "+---------------------------------------------------------------------------+\n",
       "|\u001b[1mEpoch\u001b[0m\u001b[1m \u001b[0m|\u001b[1m \u001b[0m\u001b[1mSteps\u001b[0m\u001b[1m \u001b[0m|\u001b[1m \u001b[0m\u001b[1m                           Loss                            \u001b[0m|\n",
       "|------+-------+------------------------------------------------------------|\n",
       "|  0   |   0   | tensor(8.9277, device='cuda:0', grad_fn=<NllLossBackward0>)|\n",
       "|  0   |  10   | tensor(7.4712, device='cuda:0', grad_fn=<NllLossBackward0>)|\n",
       "|  0   |  20   | tensor(6.1189, device='cuda:0', grad_fn=<NllLossBackward0>)|\n",
       "|  0   |  30   | tensor(4.8070, device='cuda:0', grad_fn=<NllLossBackward0>)|\n",
       "|  0   |  40   | tensor(4.4598, device='cuda:0', grad_fn=<NllLossBackward0>)|\n",
       "|  0   |  50   | tensor(3.5434, device='cuda:0', grad_fn=<NllLossBackward0>)|\n",
       "+---------------------------------------------------------------------------+\n"
      ]
     },
     "metadata": {},
     "output_type": "display_data"
    },
    {
     "data": {
      "text/html": [
       "<pre style=\"white-space:pre;overflow-x:auto;line-height:normal;font-family:Menlo,'DejaVu Sans Mono',consolas,'Courier New',monospace\"><span style=\"font-style: italic\">                               Training Status                               </span>\n",
       "+---------------------------------------------------------------------------+\n",
       "|<span style=\"font-weight: bold\">Epoch </span>|<span style=\"font-weight: bold\"> Steps </span>|<span style=\"font-weight: bold\">                            Loss                            </span>|\n",
       "|------+-------+------------------------------------------------------------|\n",
       "|  0   |   0   | tensor(8.9277, device='cuda:0', grad_fn=&lt;NllLossBackward0&gt;)|\n",
       "|  0   |  10   | tensor(7.4712, device='cuda:0', grad_fn=&lt;NllLossBackward0&gt;)|\n",
       "|  0   |  20   | tensor(6.1189, device='cuda:0', grad_fn=&lt;NllLossBackward0&gt;)|\n",
       "|  0   |  30   | tensor(4.8070, device='cuda:0', grad_fn=&lt;NllLossBackward0&gt;)|\n",
       "|  0   |  40   | tensor(4.4598, device='cuda:0', grad_fn=&lt;NllLossBackward0&gt;)|\n",
       "|  0   |  50   | tensor(3.5434, device='cuda:0', grad_fn=&lt;NllLossBackward0&gt;)|\n",
       "|  0   |  60   | tensor(3.6919, device='cuda:0', grad_fn=&lt;NllLossBackward0&gt;)|\n",
       "+---------------------------------------------------------------------------+\n",
       "</pre>\n"
      ],
      "text/plain": [
       "\u001b[3m                               Training Status                               \u001b[0m\n",
       "+---------------------------------------------------------------------------+\n",
       "|\u001b[1mEpoch\u001b[0m\u001b[1m \u001b[0m|\u001b[1m \u001b[0m\u001b[1mSteps\u001b[0m\u001b[1m \u001b[0m|\u001b[1m \u001b[0m\u001b[1m                           Loss                            \u001b[0m|\n",
       "|------+-------+------------------------------------------------------------|\n",
       "|  0   |   0   | tensor(8.9277, device='cuda:0', grad_fn=<NllLossBackward0>)|\n",
       "|  0   |  10   | tensor(7.4712, device='cuda:0', grad_fn=<NllLossBackward0>)|\n",
       "|  0   |  20   | tensor(6.1189, device='cuda:0', grad_fn=<NllLossBackward0>)|\n",
       "|  0   |  30   | tensor(4.8070, device='cuda:0', grad_fn=<NllLossBackward0>)|\n",
       "|  0   |  40   | tensor(4.4598, device='cuda:0', grad_fn=<NllLossBackward0>)|\n",
       "|  0   |  50   | tensor(3.5434, device='cuda:0', grad_fn=<NllLossBackward0>)|\n",
       "|  0   |  60   | tensor(3.6919, device='cuda:0', grad_fn=<NllLossBackward0>)|\n",
       "+---------------------------------------------------------------------------+\n"
      ]
     },
     "metadata": {},
     "output_type": "display_data"
    },
    {
     "data": {
      "text/html": [
       "<pre style=\"white-space:pre;overflow-x:auto;line-height:normal;font-family:Menlo,'DejaVu Sans Mono',consolas,'Courier New',monospace\"><span style=\"font-style: italic\">                               Training Status                               </span>\n",
       "+---------------------------------------------------------------------------+\n",
       "|<span style=\"font-weight: bold\">Epoch </span>|<span style=\"font-weight: bold\"> Steps </span>|<span style=\"font-weight: bold\">                            Loss                            </span>|\n",
       "|------+-------+------------------------------------------------------------|\n",
       "|  0   |   0   | tensor(8.9277, device='cuda:0', grad_fn=&lt;NllLossBackward0&gt;)|\n",
       "|  0   |  10   | tensor(7.4712, device='cuda:0', grad_fn=&lt;NllLossBackward0&gt;)|\n",
       "|  0   |  20   | tensor(6.1189, device='cuda:0', grad_fn=&lt;NllLossBackward0&gt;)|\n",
       "|  0   |  30   | tensor(4.8070, device='cuda:0', grad_fn=&lt;NllLossBackward0&gt;)|\n",
       "|  0   |  40   | tensor(4.4598, device='cuda:0', grad_fn=&lt;NllLossBackward0&gt;)|\n",
       "|  0   |  50   | tensor(3.5434, device='cuda:0', grad_fn=&lt;NllLossBackward0&gt;)|\n",
       "|  0   |  60   | tensor(3.6919, device='cuda:0', grad_fn=&lt;NllLossBackward0&gt;)|\n",
       "|  0   |  70   | tensor(3.9385, device='cuda:0', grad_fn=&lt;NllLossBackward0&gt;)|\n",
       "+---------------------------------------------------------------------------+\n",
       "</pre>\n"
      ],
      "text/plain": [
       "\u001b[3m                               Training Status                               \u001b[0m\n",
       "+---------------------------------------------------------------------------+\n",
       "|\u001b[1mEpoch\u001b[0m\u001b[1m \u001b[0m|\u001b[1m \u001b[0m\u001b[1mSteps\u001b[0m\u001b[1m \u001b[0m|\u001b[1m \u001b[0m\u001b[1m                           Loss                            \u001b[0m|\n",
       "|------+-------+------------------------------------------------------------|\n",
       "|  0   |   0   | tensor(8.9277, device='cuda:0', grad_fn=<NllLossBackward0>)|\n",
       "|  0   |  10   | tensor(7.4712, device='cuda:0', grad_fn=<NllLossBackward0>)|\n",
       "|  0   |  20   | tensor(6.1189, device='cuda:0', grad_fn=<NllLossBackward0>)|\n",
       "|  0   |  30   | tensor(4.8070, device='cuda:0', grad_fn=<NllLossBackward0>)|\n",
       "|  0   |  40   | tensor(4.4598, device='cuda:0', grad_fn=<NllLossBackward0>)|\n",
       "|  0   |  50   | tensor(3.5434, device='cuda:0', grad_fn=<NllLossBackward0>)|\n",
       "|  0   |  60   | tensor(3.6919, device='cuda:0', grad_fn=<NllLossBackward0>)|\n",
       "|  0   |  70   | tensor(3.9385, device='cuda:0', grad_fn=<NllLossBackward0>)|\n",
       "+---------------------------------------------------------------------------+\n"
      ]
     },
     "metadata": {},
     "output_type": "display_data"
    },
    {
     "data": {
      "text/html": [
       "<pre style=\"white-space:pre;overflow-x:auto;line-height:normal;font-family:Menlo,'DejaVu Sans Mono',consolas,'Courier New',monospace\"><span style=\"font-style: italic\">                               Training Status                               </span>\n",
       "+---------------------------------------------------------------------------+\n",
       "|<span style=\"font-weight: bold\">Epoch </span>|<span style=\"font-weight: bold\"> Steps </span>|<span style=\"font-weight: bold\">                            Loss                            </span>|\n",
       "|------+-------+------------------------------------------------------------|\n",
       "|  0   |   0   | tensor(8.9277, device='cuda:0', grad_fn=&lt;NllLossBackward0&gt;)|\n",
       "|  0   |  10   | tensor(7.4712, device='cuda:0', grad_fn=&lt;NllLossBackward0&gt;)|\n",
       "|  0   |  20   | tensor(6.1189, device='cuda:0', grad_fn=&lt;NllLossBackward0&gt;)|\n",
       "|  0   |  30   | tensor(4.8070, device='cuda:0', grad_fn=&lt;NllLossBackward0&gt;)|\n",
       "|  0   |  40   | tensor(4.4598, device='cuda:0', grad_fn=&lt;NllLossBackward0&gt;)|\n",
       "|  0   |  50   | tensor(3.5434, device='cuda:0', grad_fn=&lt;NllLossBackward0&gt;)|\n",
       "|  0   |  60   | tensor(3.6919, device='cuda:0', grad_fn=&lt;NllLossBackward0&gt;)|\n",
       "|  0   |  70   | tensor(3.9385, device='cuda:0', grad_fn=&lt;NllLossBackward0&gt;)|\n",
       "|  0   |  80   | tensor(3.9536, device='cuda:0', grad_fn=&lt;NllLossBackward0&gt;)|\n",
       "+---------------------------------------------------------------------------+\n",
       "</pre>\n"
      ],
      "text/plain": [
       "\u001b[3m                               Training Status                               \u001b[0m\n",
       "+---------------------------------------------------------------------------+\n",
       "|\u001b[1mEpoch\u001b[0m\u001b[1m \u001b[0m|\u001b[1m \u001b[0m\u001b[1mSteps\u001b[0m\u001b[1m \u001b[0m|\u001b[1m \u001b[0m\u001b[1m                           Loss                            \u001b[0m|\n",
       "|------+-------+------------------------------------------------------------|\n",
       "|  0   |   0   | tensor(8.9277, device='cuda:0', grad_fn=<NllLossBackward0>)|\n",
       "|  0   |  10   | tensor(7.4712, device='cuda:0', grad_fn=<NllLossBackward0>)|\n",
       "|  0   |  20   | tensor(6.1189, device='cuda:0', grad_fn=<NllLossBackward0>)|\n",
       "|  0   |  30   | tensor(4.8070, device='cuda:0', grad_fn=<NllLossBackward0>)|\n",
       "|  0   |  40   | tensor(4.4598, device='cuda:0', grad_fn=<NllLossBackward0>)|\n",
       "|  0   |  50   | tensor(3.5434, device='cuda:0', grad_fn=<NllLossBackward0>)|\n",
       "|  0   |  60   | tensor(3.6919, device='cuda:0', grad_fn=<NllLossBackward0>)|\n",
       "|  0   |  70   | tensor(3.9385, device='cuda:0', grad_fn=<NllLossBackward0>)|\n",
       "|  0   |  80   | tensor(3.9536, device='cuda:0', grad_fn=<NllLossBackward0>)|\n",
       "+---------------------------------------------------------------------------+\n"
      ]
     },
     "metadata": {},
     "output_type": "display_data"
    },
    {
     "data": {
      "text/html": [
       "<pre style=\"white-space:pre;overflow-x:auto;line-height:normal;font-family:Menlo,'DejaVu Sans Mono',consolas,'Courier New',monospace\"><span style=\"font-style: italic\">                               Training Status                               </span>\n",
       "+---------------------------------------------------------------------------+\n",
       "|<span style=\"font-weight: bold\">Epoch </span>|<span style=\"font-weight: bold\"> Steps </span>|<span style=\"font-weight: bold\">                            Loss                            </span>|\n",
       "|------+-------+------------------------------------------------------------|\n",
       "|  0   |   0   | tensor(8.9277, device='cuda:0', grad_fn=&lt;NllLossBackward0&gt;)|\n",
       "|  0   |  10   | tensor(7.4712, device='cuda:0', grad_fn=&lt;NllLossBackward0&gt;)|\n",
       "|  0   |  20   | tensor(6.1189, device='cuda:0', grad_fn=&lt;NllLossBackward0&gt;)|\n",
       "|  0   |  30   | tensor(4.8070, device='cuda:0', grad_fn=&lt;NllLossBackward0&gt;)|\n",
       "|  0   |  40   | tensor(4.4598, device='cuda:0', grad_fn=&lt;NllLossBackward0&gt;)|\n",
       "|  0   |  50   | tensor(3.5434, device='cuda:0', grad_fn=&lt;NllLossBackward0&gt;)|\n",
       "|  0   |  60   | tensor(3.6919, device='cuda:0', grad_fn=&lt;NllLossBackward0&gt;)|\n",
       "|  0   |  70   | tensor(3.9385, device='cuda:0', grad_fn=&lt;NllLossBackward0&gt;)|\n",
       "|  0   |  80   | tensor(3.9536, device='cuda:0', grad_fn=&lt;NllLossBackward0&gt;)|\n",
       "|  0   |  90   | tensor(2.2561, device='cuda:0', grad_fn=&lt;NllLossBackward0&gt;)|\n",
       "+---------------------------------------------------------------------------+\n",
       "</pre>\n"
      ],
      "text/plain": [
       "\u001b[3m                               Training Status                               \u001b[0m\n",
       "+---------------------------------------------------------------------------+\n",
       "|\u001b[1mEpoch\u001b[0m\u001b[1m \u001b[0m|\u001b[1m \u001b[0m\u001b[1mSteps\u001b[0m\u001b[1m \u001b[0m|\u001b[1m \u001b[0m\u001b[1m                           Loss                            \u001b[0m|\n",
       "|------+-------+------------------------------------------------------------|\n",
       "|  0   |   0   | tensor(8.9277, device='cuda:0', grad_fn=<NllLossBackward0>)|\n",
       "|  0   |  10   | tensor(7.4712, device='cuda:0', grad_fn=<NllLossBackward0>)|\n",
       "|  0   |  20   | tensor(6.1189, device='cuda:0', grad_fn=<NllLossBackward0>)|\n",
       "|  0   |  30   | tensor(4.8070, device='cuda:0', grad_fn=<NllLossBackward0>)|\n",
       "|  0   |  40   | tensor(4.4598, device='cuda:0', grad_fn=<NllLossBackward0>)|\n",
       "|  0   |  50   | tensor(3.5434, device='cuda:0', grad_fn=<NllLossBackward0>)|\n",
       "|  0   |  60   | tensor(3.6919, device='cuda:0', grad_fn=<NllLossBackward0>)|\n",
       "|  0   |  70   | tensor(3.9385, device='cuda:0', grad_fn=<NllLossBackward0>)|\n",
       "|  0   |  80   | tensor(3.9536, device='cuda:0', grad_fn=<NllLossBackward0>)|\n",
       "|  0   |  90   | tensor(2.2561, device='cuda:0', grad_fn=<NllLossBackward0>)|\n",
       "+---------------------------------------------------------------------------+\n"
      ]
     },
     "metadata": {},
     "output_type": "display_data"
    },
    {
     "data": {
      "text/html": [
       "<pre style=\"white-space:pre;overflow-x:auto;line-height:normal;font-family:Menlo,'DejaVu Sans Mono',consolas,'Courier New',monospace\"><span style=\"font-style: italic\">                               Training Status                               </span>\n",
       "+---------------------------------------------------------------------------+\n",
       "|<span style=\"font-weight: bold\">Epoch </span>|<span style=\"font-weight: bold\"> Steps </span>|<span style=\"font-weight: bold\">                            Loss                            </span>|\n",
       "|------+-------+------------------------------------------------------------|\n",
       "|  0   |   0   | tensor(8.9277, device='cuda:0', grad_fn=&lt;NllLossBackward0&gt;)|\n",
       "|  0   |  10   | tensor(7.4712, device='cuda:0', grad_fn=&lt;NllLossBackward0&gt;)|\n",
       "|  0   |  20   | tensor(6.1189, device='cuda:0', grad_fn=&lt;NllLossBackward0&gt;)|\n",
       "|  0   |  30   | tensor(4.8070, device='cuda:0', grad_fn=&lt;NllLossBackward0&gt;)|\n",
       "|  0   |  40   | tensor(4.4598, device='cuda:0', grad_fn=&lt;NllLossBackward0&gt;)|\n",
       "|  0   |  50   | tensor(3.5434, device='cuda:0', grad_fn=&lt;NllLossBackward0&gt;)|\n",
       "|  0   |  60   | tensor(3.6919, device='cuda:0', grad_fn=&lt;NllLossBackward0&gt;)|\n",
       "|  0   |  70   | tensor(3.9385, device='cuda:0', grad_fn=&lt;NllLossBackward0&gt;)|\n",
       "|  0   |  80   | tensor(3.9536, device='cuda:0', grad_fn=&lt;NllLossBackward0&gt;)|\n",
       "|  0   |  90   | tensor(2.2561, device='cuda:0', grad_fn=&lt;NllLossBackward0&gt;)|\n",
       "|  0   |  100  | tensor(2.4299, device='cuda:0', grad_fn=&lt;NllLossBackward0&gt;)|\n",
       "+---------------------------------------------------------------------------+\n",
       "</pre>\n"
      ],
      "text/plain": [
       "\u001b[3m                               Training Status                               \u001b[0m\n",
       "+---------------------------------------------------------------------------+\n",
       "|\u001b[1mEpoch\u001b[0m\u001b[1m \u001b[0m|\u001b[1m \u001b[0m\u001b[1mSteps\u001b[0m\u001b[1m \u001b[0m|\u001b[1m \u001b[0m\u001b[1m                           Loss                            \u001b[0m|\n",
       "|------+-------+------------------------------------------------------------|\n",
       "|  0   |   0   | tensor(8.9277, device='cuda:0', grad_fn=<NllLossBackward0>)|\n",
       "|  0   |  10   | tensor(7.4712, device='cuda:0', grad_fn=<NllLossBackward0>)|\n",
       "|  0   |  20   | tensor(6.1189, device='cuda:0', grad_fn=<NllLossBackward0>)|\n",
       "|  0   |  30   | tensor(4.8070, device='cuda:0', grad_fn=<NllLossBackward0>)|\n",
       "|  0   |  40   | tensor(4.4598, device='cuda:0', grad_fn=<NllLossBackward0>)|\n",
       "|  0   |  50   | tensor(3.5434, device='cuda:0', grad_fn=<NllLossBackward0>)|\n",
       "|  0   |  60   | tensor(3.6919, device='cuda:0', grad_fn=<NllLossBackward0>)|\n",
       "|  0   |  70   | tensor(3.9385, device='cuda:0', grad_fn=<NllLossBackward0>)|\n",
       "|  0   |  80   | tensor(3.9536, device='cuda:0', grad_fn=<NllLossBackward0>)|\n",
       "|  0   |  90   | tensor(2.2561, device='cuda:0', grad_fn=<NllLossBackward0>)|\n",
       "|  0   |  100  | tensor(2.4299, device='cuda:0', grad_fn=<NllLossBackward0>)|\n",
       "+---------------------------------------------------------------------------+\n"
      ]
     },
     "metadata": {},
     "output_type": "display_data"
    },
    {
     "data": {
      "text/html": [
       "<pre style=\"white-space:pre;overflow-x:auto;line-height:normal;font-family:Menlo,'DejaVu Sans Mono',consolas,'Courier New',monospace\"><span style=\"font-style: italic\">                               Training Status                               </span>\n",
       "+---------------------------------------------------------------------------+\n",
       "|<span style=\"font-weight: bold\">Epoch </span>|<span style=\"font-weight: bold\"> Steps </span>|<span style=\"font-weight: bold\">                            Loss                            </span>|\n",
       "|------+-------+------------------------------------------------------------|\n",
       "|  0   |   0   | tensor(8.9277, device='cuda:0', grad_fn=&lt;NllLossBackward0&gt;)|\n",
       "|  0   |  10   | tensor(7.4712, device='cuda:0', grad_fn=&lt;NllLossBackward0&gt;)|\n",
       "|  0   |  20   | tensor(6.1189, device='cuda:0', grad_fn=&lt;NllLossBackward0&gt;)|\n",
       "|  0   |  30   | tensor(4.8070, device='cuda:0', grad_fn=&lt;NllLossBackward0&gt;)|\n",
       "|  0   |  40   | tensor(4.4598, device='cuda:0', grad_fn=&lt;NllLossBackward0&gt;)|\n",
       "|  0   |  50   | tensor(3.5434, device='cuda:0', grad_fn=&lt;NllLossBackward0&gt;)|\n",
       "|  0   |  60   | tensor(3.6919, device='cuda:0', grad_fn=&lt;NllLossBackward0&gt;)|\n",
       "|  0   |  70   | tensor(3.9385, device='cuda:0', grad_fn=&lt;NllLossBackward0&gt;)|\n",
       "|  0   |  80   | tensor(3.9536, device='cuda:0', grad_fn=&lt;NllLossBackward0&gt;)|\n",
       "|  0   |  90   | tensor(2.2561, device='cuda:0', grad_fn=&lt;NllLossBackward0&gt;)|\n",
       "|  0   |  100  | tensor(2.4299, device='cuda:0', grad_fn=&lt;NllLossBackward0&gt;)|\n",
       "|  0   |  110  | tensor(2.2365, device='cuda:0', grad_fn=&lt;NllLossBackward0&gt;)|\n",
       "+---------------------------------------------------------------------------+\n",
       "</pre>\n"
      ],
      "text/plain": [
       "\u001b[3m                               Training Status                               \u001b[0m\n",
       "+---------------------------------------------------------------------------+\n",
       "|\u001b[1mEpoch\u001b[0m\u001b[1m \u001b[0m|\u001b[1m \u001b[0m\u001b[1mSteps\u001b[0m\u001b[1m \u001b[0m|\u001b[1m \u001b[0m\u001b[1m                           Loss                            \u001b[0m|\n",
       "|------+-------+------------------------------------------------------------|\n",
       "|  0   |   0   | tensor(8.9277, device='cuda:0', grad_fn=<NllLossBackward0>)|\n",
       "|  0   |  10   | tensor(7.4712, device='cuda:0', grad_fn=<NllLossBackward0>)|\n",
       "|  0   |  20   | tensor(6.1189, device='cuda:0', grad_fn=<NllLossBackward0>)|\n",
       "|  0   |  30   | tensor(4.8070, device='cuda:0', grad_fn=<NllLossBackward0>)|\n",
       "|  0   |  40   | tensor(4.4598, device='cuda:0', grad_fn=<NllLossBackward0>)|\n",
       "|  0   |  50   | tensor(3.5434, device='cuda:0', grad_fn=<NllLossBackward0>)|\n",
       "|  0   |  60   | tensor(3.6919, device='cuda:0', grad_fn=<NllLossBackward0>)|\n",
       "|  0   |  70   | tensor(3.9385, device='cuda:0', grad_fn=<NllLossBackward0>)|\n",
       "|  0   |  80   | tensor(3.9536, device='cuda:0', grad_fn=<NllLossBackward0>)|\n",
       "|  0   |  90   | tensor(2.2561, device='cuda:0', grad_fn=<NllLossBackward0>)|\n",
       "|  0   |  100  | tensor(2.4299, device='cuda:0', grad_fn=<NllLossBackward0>)|\n",
       "|  0   |  110  | tensor(2.2365, device='cuda:0', grad_fn=<NllLossBackward0>)|\n",
       "+---------------------------------------------------------------------------+\n"
      ]
     },
     "metadata": {},
     "output_type": "display_data"
    },
    {
     "data": {
      "text/html": [
       "<pre style=\"white-space:pre;overflow-x:auto;line-height:normal;font-family:Menlo,'DejaVu Sans Mono',consolas,'Courier New',monospace\"><span style=\"font-style: italic\">                               Training Status                               </span>\n",
       "+---------------------------------------------------------------------------+\n",
       "|<span style=\"font-weight: bold\">Epoch </span>|<span style=\"font-weight: bold\"> Steps </span>|<span style=\"font-weight: bold\">                            Loss                            </span>|\n",
       "|------+-------+------------------------------------------------------------|\n",
       "|  0   |   0   | tensor(8.9277, device='cuda:0', grad_fn=&lt;NllLossBackward0&gt;)|\n",
       "|  0   |  10   | tensor(7.4712, device='cuda:0', grad_fn=&lt;NllLossBackward0&gt;)|\n",
       "|  0   |  20   | tensor(6.1189, device='cuda:0', grad_fn=&lt;NllLossBackward0&gt;)|\n",
       "|  0   |  30   | tensor(4.8070, device='cuda:0', grad_fn=&lt;NllLossBackward0&gt;)|\n",
       "|  0   |  40   | tensor(4.4598, device='cuda:0', grad_fn=&lt;NllLossBackward0&gt;)|\n",
       "|  0   |  50   | tensor(3.5434, device='cuda:0', grad_fn=&lt;NllLossBackward0&gt;)|\n",
       "|  0   |  60   | tensor(3.6919, device='cuda:0', grad_fn=&lt;NllLossBackward0&gt;)|\n",
       "|  0   |  70   | tensor(3.9385, device='cuda:0', grad_fn=&lt;NllLossBackward0&gt;)|\n",
       "|  0   |  80   | tensor(3.9536, device='cuda:0', grad_fn=&lt;NllLossBackward0&gt;)|\n",
       "|  0   |  90   | tensor(2.2561, device='cuda:0', grad_fn=&lt;NllLossBackward0&gt;)|\n",
       "|  0   |  100  | tensor(2.4299, device='cuda:0', grad_fn=&lt;NllLossBackward0&gt;)|\n",
       "|  0   |  110  | tensor(2.2365, device='cuda:0', grad_fn=&lt;NllLossBackward0&gt;)|\n",
       "|  0   |  120  | tensor(2.1493, device='cuda:0', grad_fn=&lt;NllLossBackward0&gt;)|\n",
       "+---------------------------------------------------------------------------+\n",
       "</pre>\n"
      ],
      "text/plain": [
       "\u001b[3m                               Training Status                               \u001b[0m\n",
       "+---------------------------------------------------------------------------+\n",
       "|\u001b[1mEpoch\u001b[0m\u001b[1m \u001b[0m|\u001b[1m \u001b[0m\u001b[1mSteps\u001b[0m\u001b[1m \u001b[0m|\u001b[1m \u001b[0m\u001b[1m                           Loss                            \u001b[0m|\n",
       "|------+-------+------------------------------------------------------------|\n",
       "|  0   |   0   | tensor(8.9277, device='cuda:0', grad_fn=<NllLossBackward0>)|\n",
       "|  0   |  10   | tensor(7.4712, device='cuda:0', grad_fn=<NllLossBackward0>)|\n",
       "|  0   |  20   | tensor(6.1189, device='cuda:0', grad_fn=<NllLossBackward0>)|\n",
       "|  0   |  30   | tensor(4.8070, device='cuda:0', grad_fn=<NllLossBackward0>)|\n",
       "|  0   |  40   | tensor(4.4598, device='cuda:0', grad_fn=<NllLossBackward0>)|\n",
       "|  0   |  50   | tensor(3.5434, device='cuda:0', grad_fn=<NllLossBackward0>)|\n",
       "|  0   |  60   | tensor(3.6919, device='cuda:0', grad_fn=<NllLossBackward0>)|\n",
       "|  0   |  70   | tensor(3.9385, device='cuda:0', grad_fn=<NllLossBackward0>)|\n",
       "|  0   |  80   | tensor(3.9536, device='cuda:0', grad_fn=<NllLossBackward0>)|\n",
       "|  0   |  90   | tensor(2.2561, device='cuda:0', grad_fn=<NllLossBackward0>)|\n",
       "|  0   |  100  | tensor(2.4299, device='cuda:0', grad_fn=<NllLossBackward0>)|\n",
       "|  0   |  110  | tensor(2.2365, device='cuda:0', grad_fn=<NllLossBackward0>)|\n",
       "|  0   |  120  | tensor(2.1493, device='cuda:0', grad_fn=<NllLossBackward0>)|\n",
       "+---------------------------------------------------------------------------+\n"
      ]
     },
     "metadata": {},
     "output_type": "display_data"
    },
    {
     "data": {
      "text/html": [
       "<pre style=\"white-space:pre;overflow-x:auto;line-height:normal;font-family:Menlo,'DejaVu Sans Mono',consolas,'Courier New',monospace\"><span style=\"font-style: italic\">                               Training Status                               </span>\n",
       "+---------------------------------------------------------------------------+\n",
       "|<span style=\"font-weight: bold\">Epoch </span>|<span style=\"font-weight: bold\"> Steps </span>|<span style=\"font-weight: bold\">                            Loss                            </span>|\n",
       "|------+-------+------------------------------------------------------------|\n",
       "|  0   |   0   | tensor(8.9277, device='cuda:0', grad_fn=&lt;NllLossBackward0&gt;)|\n",
       "|  0   |  10   | tensor(7.4712, device='cuda:0', grad_fn=&lt;NllLossBackward0&gt;)|\n",
       "|  0   |  20   | tensor(6.1189, device='cuda:0', grad_fn=&lt;NllLossBackward0&gt;)|\n",
       "|  0   |  30   | tensor(4.8070, device='cuda:0', grad_fn=&lt;NllLossBackward0&gt;)|\n",
       "|  0   |  40   | tensor(4.4598, device='cuda:0', grad_fn=&lt;NllLossBackward0&gt;)|\n",
       "|  0   |  50   | tensor(3.5434, device='cuda:0', grad_fn=&lt;NllLossBackward0&gt;)|\n",
       "|  0   |  60   | tensor(3.6919, device='cuda:0', grad_fn=&lt;NllLossBackward0&gt;)|\n",
       "|  0   |  70   | tensor(3.9385, device='cuda:0', grad_fn=&lt;NllLossBackward0&gt;)|\n",
       "|  0   |  80   | tensor(3.9536, device='cuda:0', grad_fn=&lt;NllLossBackward0&gt;)|\n",
       "|  0   |  90   | tensor(2.2561, device='cuda:0', grad_fn=&lt;NllLossBackward0&gt;)|\n",
       "|  0   |  100  | tensor(2.4299, device='cuda:0', grad_fn=&lt;NllLossBackward0&gt;)|\n",
       "|  0   |  110  | tensor(2.2365, device='cuda:0', grad_fn=&lt;NllLossBackward0&gt;)|\n",
       "|  0   |  120  | tensor(2.1493, device='cuda:0', grad_fn=&lt;NllLossBackward0&gt;)|\n",
       "|  0   |  130  | tensor(2.2042, device='cuda:0', grad_fn=&lt;NllLossBackward0&gt;)|\n",
       "+---------------------------------------------------------------------------+\n",
       "</pre>\n"
      ],
      "text/plain": [
       "\u001b[3m                               Training Status                               \u001b[0m\n",
       "+---------------------------------------------------------------------------+\n",
       "|\u001b[1mEpoch\u001b[0m\u001b[1m \u001b[0m|\u001b[1m \u001b[0m\u001b[1mSteps\u001b[0m\u001b[1m \u001b[0m|\u001b[1m \u001b[0m\u001b[1m                           Loss                            \u001b[0m|\n",
       "|------+-------+------------------------------------------------------------|\n",
       "|  0   |   0   | tensor(8.9277, device='cuda:0', grad_fn=<NllLossBackward0>)|\n",
       "|  0   |  10   | tensor(7.4712, device='cuda:0', grad_fn=<NllLossBackward0>)|\n",
       "|  0   |  20   | tensor(6.1189, device='cuda:0', grad_fn=<NllLossBackward0>)|\n",
       "|  0   |  30   | tensor(4.8070, device='cuda:0', grad_fn=<NllLossBackward0>)|\n",
       "|  0   |  40   | tensor(4.4598, device='cuda:0', grad_fn=<NllLossBackward0>)|\n",
       "|  0   |  50   | tensor(3.5434, device='cuda:0', grad_fn=<NllLossBackward0>)|\n",
       "|  0   |  60   | tensor(3.6919, device='cuda:0', grad_fn=<NllLossBackward0>)|\n",
       "|  0   |  70   | tensor(3.9385, device='cuda:0', grad_fn=<NllLossBackward0>)|\n",
       "|  0   |  80   | tensor(3.9536, device='cuda:0', grad_fn=<NllLossBackward0>)|\n",
       "|  0   |  90   | tensor(2.2561, device='cuda:0', grad_fn=<NllLossBackward0>)|\n",
       "|  0   |  100  | tensor(2.4299, device='cuda:0', grad_fn=<NllLossBackward0>)|\n",
       "|  0   |  110  | tensor(2.2365, device='cuda:0', grad_fn=<NllLossBackward0>)|\n",
       "|  0   |  120  | tensor(2.1493, device='cuda:0', grad_fn=<NllLossBackward0>)|\n",
       "|  0   |  130  | tensor(2.2042, device='cuda:0', grad_fn=<NllLossBackward0>)|\n",
       "+---------------------------------------------------------------------------+\n"
      ]
     },
     "metadata": {},
     "output_type": "display_data"
    },
    {
     "data": {
      "text/html": [
       "<pre style=\"white-space:pre;overflow-x:auto;line-height:normal;font-family:Menlo,'DejaVu Sans Mono',consolas,'Courier New',monospace\"><span style=\"font-style: italic\">                               Training Status                               </span>\n",
       "+---------------------------------------------------------------------------+\n",
       "|<span style=\"font-weight: bold\">Epoch </span>|<span style=\"font-weight: bold\"> Steps </span>|<span style=\"font-weight: bold\">                            Loss                            </span>|\n",
       "|------+-------+------------------------------------------------------------|\n",
       "|  0   |   0   | tensor(8.9277, device='cuda:0', grad_fn=&lt;NllLossBackward0&gt;)|\n",
       "|  0   |  10   | tensor(7.4712, device='cuda:0', grad_fn=&lt;NllLossBackward0&gt;)|\n",
       "|  0   |  20   | tensor(6.1189, device='cuda:0', grad_fn=&lt;NllLossBackward0&gt;)|\n",
       "|  0   |  30   | tensor(4.8070, device='cuda:0', grad_fn=&lt;NllLossBackward0&gt;)|\n",
       "|  0   |  40   | tensor(4.4598, device='cuda:0', grad_fn=&lt;NllLossBackward0&gt;)|\n",
       "|  0   |  50   | tensor(3.5434, device='cuda:0', grad_fn=&lt;NllLossBackward0&gt;)|\n",
       "|  0   |  60   | tensor(3.6919, device='cuda:0', grad_fn=&lt;NllLossBackward0&gt;)|\n",
       "|  0   |  70   | tensor(3.9385, device='cuda:0', grad_fn=&lt;NllLossBackward0&gt;)|\n",
       "|  0   |  80   | tensor(3.9536, device='cuda:0', grad_fn=&lt;NllLossBackward0&gt;)|\n",
       "|  0   |  90   | tensor(2.2561, device='cuda:0', grad_fn=&lt;NllLossBackward0&gt;)|\n",
       "|  0   |  100  | tensor(2.4299, device='cuda:0', grad_fn=&lt;NllLossBackward0&gt;)|\n",
       "|  0   |  110  | tensor(2.2365, device='cuda:0', grad_fn=&lt;NllLossBackward0&gt;)|\n",
       "|  0   |  120  | tensor(2.1493, device='cuda:0', grad_fn=&lt;NllLossBackward0&gt;)|\n",
       "|  0   |  130  | tensor(2.2042, device='cuda:0', grad_fn=&lt;NllLossBackward0&gt;)|\n",
       "|  0   |  140  | tensor(2.1550, device='cuda:0', grad_fn=&lt;NllLossBackward0&gt;)|\n",
       "+---------------------------------------------------------------------------+\n",
       "</pre>\n"
      ],
      "text/plain": [
       "\u001b[3m                               Training Status                               \u001b[0m\n",
       "+---------------------------------------------------------------------------+\n",
       "|\u001b[1mEpoch\u001b[0m\u001b[1m \u001b[0m|\u001b[1m \u001b[0m\u001b[1mSteps\u001b[0m\u001b[1m \u001b[0m|\u001b[1m \u001b[0m\u001b[1m                           Loss                            \u001b[0m|\n",
       "|------+-------+------------------------------------------------------------|\n",
       "|  0   |   0   | tensor(8.9277, device='cuda:0', grad_fn=<NllLossBackward0>)|\n",
       "|  0   |  10   | tensor(7.4712, device='cuda:0', grad_fn=<NllLossBackward0>)|\n",
       "|  0   |  20   | tensor(6.1189, device='cuda:0', grad_fn=<NllLossBackward0>)|\n",
       "|  0   |  30   | tensor(4.8070, device='cuda:0', grad_fn=<NllLossBackward0>)|\n",
       "|  0   |  40   | tensor(4.4598, device='cuda:0', grad_fn=<NllLossBackward0>)|\n",
       "|  0   |  50   | tensor(3.5434, device='cuda:0', grad_fn=<NllLossBackward0>)|\n",
       "|  0   |  60   | tensor(3.6919, device='cuda:0', grad_fn=<NllLossBackward0>)|\n",
       "|  0   |  70   | tensor(3.9385, device='cuda:0', grad_fn=<NllLossBackward0>)|\n",
       "|  0   |  80   | tensor(3.9536, device='cuda:0', grad_fn=<NllLossBackward0>)|\n",
       "|  0   |  90   | tensor(2.2561, device='cuda:0', grad_fn=<NllLossBackward0>)|\n",
       "|  0   |  100  | tensor(2.4299, device='cuda:0', grad_fn=<NllLossBackward0>)|\n",
       "|  0   |  110  | tensor(2.2365, device='cuda:0', grad_fn=<NllLossBackward0>)|\n",
       "|  0   |  120  | tensor(2.1493, device='cuda:0', grad_fn=<NllLossBackward0>)|\n",
       "|  0   |  130  | tensor(2.2042, device='cuda:0', grad_fn=<NllLossBackward0>)|\n",
       "|  0   |  140  | tensor(2.1550, device='cuda:0', grad_fn=<NllLossBackward0>)|\n",
       "+---------------------------------------------------------------------------+\n"
      ]
     },
     "metadata": {},
     "output_type": "display_data"
    },
    {
     "data": {
      "text/html": [
       "<pre style=\"white-space:pre;overflow-x:auto;line-height:normal;font-family:Menlo,'DejaVu Sans Mono',consolas,'Courier New',monospace\"><span style=\"font-style: italic\">                               Training Status                               </span>\n",
       "+---------------------------------------------------------------------------+\n",
       "|<span style=\"font-weight: bold\">Epoch </span>|<span style=\"font-weight: bold\"> Steps </span>|<span style=\"font-weight: bold\">                            Loss                            </span>|\n",
       "|------+-------+------------------------------------------------------------|\n",
       "|  0   |   0   | tensor(8.9277, device='cuda:0', grad_fn=&lt;NllLossBackward0&gt;)|\n",
       "|  0   |  10   | tensor(7.4712, device='cuda:0', grad_fn=&lt;NllLossBackward0&gt;)|\n",
       "|  0   |  20   | tensor(6.1189, device='cuda:0', grad_fn=&lt;NllLossBackward0&gt;)|\n",
       "|  0   |  30   | tensor(4.8070, device='cuda:0', grad_fn=&lt;NllLossBackward0&gt;)|\n",
       "|  0   |  40   | tensor(4.4598, device='cuda:0', grad_fn=&lt;NllLossBackward0&gt;)|\n",
       "|  0   |  50   | tensor(3.5434, device='cuda:0', grad_fn=&lt;NllLossBackward0&gt;)|\n",
       "|  0   |  60   | tensor(3.6919, device='cuda:0', grad_fn=&lt;NllLossBackward0&gt;)|\n",
       "|  0   |  70   | tensor(3.9385, device='cuda:0', grad_fn=&lt;NllLossBackward0&gt;)|\n",
       "|  0   |  80   | tensor(3.9536, device='cuda:0', grad_fn=&lt;NllLossBackward0&gt;)|\n",
       "|  0   |  90   | tensor(2.2561, device='cuda:0', grad_fn=&lt;NllLossBackward0&gt;)|\n",
       "|  0   |  100  | tensor(2.4299, device='cuda:0', grad_fn=&lt;NllLossBackward0&gt;)|\n",
       "|  0   |  110  | tensor(2.2365, device='cuda:0', grad_fn=&lt;NllLossBackward0&gt;)|\n",
       "|  0   |  120  | tensor(2.1493, device='cuda:0', grad_fn=&lt;NllLossBackward0&gt;)|\n",
       "|  0   |  130  | tensor(2.2042, device='cuda:0', grad_fn=&lt;NllLossBackward0&gt;)|\n",
       "|  0   |  140  | tensor(2.1550, device='cuda:0', grad_fn=&lt;NllLossBackward0&gt;)|\n",
       "|  0   |  150  | tensor(2.0324, device='cuda:0', grad_fn=&lt;NllLossBackward0&gt;)|\n",
       "+---------------------------------------------------------------------------+\n",
       "</pre>\n"
      ],
      "text/plain": [
       "\u001b[3m                               Training Status                               \u001b[0m\n",
       "+---------------------------------------------------------------------------+\n",
       "|\u001b[1mEpoch\u001b[0m\u001b[1m \u001b[0m|\u001b[1m \u001b[0m\u001b[1mSteps\u001b[0m\u001b[1m \u001b[0m|\u001b[1m \u001b[0m\u001b[1m                           Loss                            \u001b[0m|\n",
       "|------+-------+------------------------------------------------------------|\n",
       "|  0   |   0   | tensor(8.9277, device='cuda:0', grad_fn=<NllLossBackward0>)|\n",
       "|  0   |  10   | tensor(7.4712, device='cuda:0', grad_fn=<NllLossBackward0>)|\n",
       "|  0   |  20   | tensor(6.1189, device='cuda:0', grad_fn=<NllLossBackward0>)|\n",
       "|  0   |  30   | tensor(4.8070, device='cuda:0', grad_fn=<NllLossBackward0>)|\n",
       "|  0   |  40   | tensor(4.4598, device='cuda:0', grad_fn=<NllLossBackward0>)|\n",
       "|  0   |  50   | tensor(3.5434, device='cuda:0', grad_fn=<NllLossBackward0>)|\n",
       "|  0   |  60   | tensor(3.6919, device='cuda:0', grad_fn=<NllLossBackward0>)|\n",
       "|  0   |  70   | tensor(3.9385, device='cuda:0', grad_fn=<NllLossBackward0>)|\n",
       "|  0   |  80   | tensor(3.9536, device='cuda:0', grad_fn=<NllLossBackward0>)|\n",
       "|  0   |  90   | tensor(2.2561, device='cuda:0', grad_fn=<NllLossBackward0>)|\n",
       "|  0   |  100  | tensor(2.4299, device='cuda:0', grad_fn=<NllLossBackward0>)|\n",
       "|  0   |  110  | tensor(2.2365, device='cuda:0', grad_fn=<NllLossBackward0>)|\n",
       "|  0   |  120  | tensor(2.1493, device='cuda:0', grad_fn=<NllLossBackward0>)|\n",
       "|  0   |  130  | tensor(2.2042, device='cuda:0', grad_fn=<NllLossBackward0>)|\n",
       "|  0   |  140  | tensor(2.1550, device='cuda:0', grad_fn=<NllLossBackward0>)|\n",
       "|  0   |  150  | tensor(2.0324, device='cuda:0', grad_fn=<NllLossBackward0>)|\n",
       "+---------------------------------------------------------------------------+\n"
      ]
     },
     "metadata": {},
     "output_type": "display_data"
    },
    {
     "data": {
      "text/html": [
       "<pre style=\"white-space:pre;overflow-x:auto;line-height:normal;font-family:Menlo,'DejaVu Sans Mono',consolas,'Courier New',monospace\"><span style=\"font-style: italic\">                               Training Status                               </span>\n",
       "+---------------------------------------------------------------------------+\n",
       "|<span style=\"font-weight: bold\">Epoch </span>|<span style=\"font-weight: bold\"> Steps </span>|<span style=\"font-weight: bold\">                            Loss                            </span>|\n",
       "|------+-------+------------------------------------------------------------|\n",
       "|  0   |   0   | tensor(8.9277, device='cuda:0', grad_fn=&lt;NllLossBackward0&gt;)|\n",
       "|  0   |  10   | tensor(7.4712, device='cuda:0', grad_fn=&lt;NllLossBackward0&gt;)|\n",
       "|  0   |  20   | tensor(6.1189, device='cuda:0', grad_fn=&lt;NllLossBackward0&gt;)|\n",
       "|  0   |  30   | tensor(4.8070, device='cuda:0', grad_fn=&lt;NllLossBackward0&gt;)|\n",
       "|  0   |  40   | tensor(4.4598, device='cuda:0', grad_fn=&lt;NllLossBackward0&gt;)|\n",
       "|  0   |  50   | tensor(3.5434, device='cuda:0', grad_fn=&lt;NllLossBackward0&gt;)|\n",
       "|  0   |  60   | tensor(3.6919, device='cuda:0', grad_fn=&lt;NllLossBackward0&gt;)|\n",
       "|  0   |  70   | tensor(3.9385, device='cuda:0', grad_fn=&lt;NllLossBackward0&gt;)|\n",
       "|  0   |  80   | tensor(3.9536, device='cuda:0', grad_fn=&lt;NllLossBackward0&gt;)|\n",
       "|  0   |  90   | tensor(2.2561, device='cuda:0', grad_fn=&lt;NllLossBackward0&gt;)|\n",
       "|  0   |  100  | tensor(2.4299, device='cuda:0', grad_fn=&lt;NllLossBackward0&gt;)|\n",
       "|  0   |  110  | tensor(2.2365, device='cuda:0', grad_fn=&lt;NllLossBackward0&gt;)|\n",
       "|  0   |  120  | tensor(2.1493, device='cuda:0', grad_fn=&lt;NllLossBackward0&gt;)|\n",
       "|  0   |  130  | tensor(2.2042, device='cuda:0', grad_fn=&lt;NllLossBackward0&gt;)|\n",
       "|  0   |  140  | tensor(2.1550, device='cuda:0', grad_fn=&lt;NllLossBackward0&gt;)|\n",
       "|  0   |  150  | tensor(2.0324, device='cuda:0', grad_fn=&lt;NllLossBackward0&gt;)|\n",
       "|  0   |  160  | tensor(3.2394, device='cuda:0', grad_fn=&lt;NllLossBackward0&gt;)|\n",
       "+---------------------------------------------------------------------------+\n",
       "</pre>\n"
      ],
      "text/plain": [
       "\u001b[3m                               Training Status                               \u001b[0m\n",
       "+---------------------------------------------------------------------------+\n",
       "|\u001b[1mEpoch\u001b[0m\u001b[1m \u001b[0m|\u001b[1m \u001b[0m\u001b[1mSteps\u001b[0m\u001b[1m \u001b[0m|\u001b[1m \u001b[0m\u001b[1m                           Loss                            \u001b[0m|\n",
       "|------+-------+------------------------------------------------------------|\n",
       "|  0   |   0   | tensor(8.9277, device='cuda:0', grad_fn=<NllLossBackward0>)|\n",
       "|  0   |  10   | tensor(7.4712, device='cuda:0', grad_fn=<NllLossBackward0>)|\n",
       "|  0   |  20   | tensor(6.1189, device='cuda:0', grad_fn=<NllLossBackward0>)|\n",
       "|  0   |  30   | tensor(4.8070, device='cuda:0', grad_fn=<NllLossBackward0>)|\n",
       "|  0   |  40   | tensor(4.4598, device='cuda:0', grad_fn=<NllLossBackward0>)|\n",
       "|  0   |  50   | tensor(3.5434, device='cuda:0', grad_fn=<NllLossBackward0>)|\n",
       "|  0   |  60   | tensor(3.6919, device='cuda:0', grad_fn=<NllLossBackward0>)|\n",
       "|  0   |  70   | tensor(3.9385, device='cuda:0', grad_fn=<NllLossBackward0>)|\n",
       "|  0   |  80   | tensor(3.9536, device='cuda:0', grad_fn=<NllLossBackward0>)|\n",
       "|  0   |  90   | tensor(2.2561, device='cuda:0', grad_fn=<NllLossBackward0>)|\n",
       "|  0   |  100  | tensor(2.4299, device='cuda:0', grad_fn=<NllLossBackward0>)|\n",
       "|  0   |  110  | tensor(2.2365, device='cuda:0', grad_fn=<NllLossBackward0>)|\n",
       "|  0   |  120  | tensor(2.1493, device='cuda:0', grad_fn=<NllLossBackward0>)|\n",
       "|  0   |  130  | tensor(2.2042, device='cuda:0', grad_fn=<NllLossBackward0>)|\n",
       "|  0   |  140  | tensor(2.1550, device='cuda:0', grad_fn=<NllLossBackward0>)|\n",
       "|  0   |  150  | tensor(2.0324, device='cuda:0', grad_fn=<NllLossBackward0>)|\n",
       "|  0   |  160  | tensor(3.2394, device='cuda:0', grad_fn=<NllLossBackward0>)|\n",
       "+---------------------------------------------------------------------------+\n"
      ]
     },
     "metadata": {},
     "output_type": "display_data"
    },
    {
     "data": {
      "text/html": [
       "<pre style=\"white-space:pre;overflow-x:auto;line-height:normal;font-family:Menlo,'DejaVu Sans Mono',consolas,'Courier New',monospace\"><span style=\"font-style: italic\">                               Training Status                               </span>\n",
       "+---------------------------------------------------------------------------+\n",
       "|<span style=\"font-weight: bold\">Epoch </span>|<span style=\"font-weight: bold\"> Steps </span>|<span style=\"font-weight: bold\">                            Loss                            </span>|\n",
       "|------+-------+------------------------------------------------------------|\n",
       "|  0   |   0   | tensor(8.9277, device='cuda:0', grad_fn=&lt;NllLossBackward0&gt;)|\n",
       "|  0   |  10   | tensor(7.4712, device='cuda:0', grad_fn=&lt;NllLossBackward0&gt;)|\n",
       "|  0   |  20   | tensor(6.1189, device='cuda:0', grad_fn=&lt;NllLossBackward0&gt;)|\n",
       "|  0   |  30   | tensor(4.8070, device='cuda:0', grad_fn=&lt;NllLossBackward0&gt;)|\n",
       "|  0   |  40   | tensor(4.4598, device='cuda:0', grad_fn=&lt;NllLossBackward0&gt;)|\n",
       "|  0   |  50   | tensor(3.5434, device='cuda:0', grad_fn=&lt;NllLossBackward0&gt;)|\n",
       "|  0   |  60   | tensor(3.6919, device='cuda:0', grad_fn=&lt;NllLossBackward0&gt;)|\n",
       "|  0   |  70   | tensor(3.9385, device='cuda:0', grad_fn=&lt;NllLossBackward0&gt;)|\n",
       "|  0   |  80   | tensor(3.9536, device='cuda:0', grad_fn=&lt;NllLossBackward0&gt;)|\n",
       "|  0   |  90   | tensor(2.2561, device='cuda:0', grad_fn=&lt;NllLossBackward0&gt;)|\n",
       "|  0   |  100  | tensor(2.4299, device='cuda:0', grad_fn=&lt;NllLossBackward0&gt;)|\n",
       "|  0   |  110  | tensor(2.2365, device='cuda:0', grad_fn=&lt;NllLossBackward0&gt;)|\n",
       "|  0   |  120  | tensor(2.1493, device='cuda:0', grad_fn=&lt;NllLossBackward0&gt;)|\n",
       "|  0   |  130  | tensor(2.2042, device='cuda:0', grad_fn=&lt;NllLossBackward0&gt;)|\n",
       "|  0   |  140  | tensor(2.1550, device='cuda:0', grad_fn=&lt;NllLossBackward0&gt;)|\n",
       "|  0   |  150  | tensor(2.0324, device='cuda:0', grad_fn=&lt;NllLossBackward0&gt;)|\n",
       "|  0   |  160  | tensor(3.2394, device='cuda:0', grad_fn=&lt;NllLossBackward0&gt;)|\n",
       "|  0   |  170  | tensor(2.6114, device='cuda:0', grad_fn=&lt;NllLossBackward0&gt;)|\n",
       "+---------------------------------------------------------------------------+\n",
       "</pre>\n"
      ],
      "text/plain": [
       "\u001b[3m                               Training Status                               \u001b[0m\n",
       "+---------------------------------------------------------------------------+\n",
       "|\u001b[1mEpoch\u001b[0m\u001b[1m \u001b[0m|\u001b[1m \u001b[0m\u001b[1mSteps\u001b[0m\u001b[1m \u001b[0m|\u001b[1m \u001b[0m\u001b[1m                           Loss                            \u001b[0m|\n",
       "|------+-------+------------------------------------------------------------|\n",
       "|  0   |   0   | tensor(8.9277, device='cuda:0', grad_fn=<NllLossBackward0>)|\n",
       "|  0   |  10   | tensor(7.4712, device='cuda:0', grad_fn=<NllLossBackward0>)|\n",
       "|  0   |  20   | tensor(6.1189, device='cuda:0', grad_fn=<NllLossBackward0>)|\n",
       "|  0   |  30   | tensor(4.8070, device='cuda:0', grad_fn=<NllLossBackward0>)|\n",
       "|  0   |  40   | tensor(4.4598, device='cuda:0', grad_fn=<NllLossBackward0>)|\n",
       "|  0   |  50   | tensor(3.5434, device='cuda:0', grad_fn=<NllLossBackward0>)|\n",
       "|  0   |  60   | tensor(3.6919, device='cuda:0', grad_fn=<NllLossBackward0>)|\n",
       "|  0   |  70   | tensor(3.9385, device='cuda:0', grad_fn=<NllLossBackward0>)|\n",
       "|  0   |  80   | tensor(3.9536, device='cuda:0', grad_fn=<NllLossBackward0>)|\n",
       "|  0   |  90   | tensor(2.2561, device='cuda:0', grad_fn=<NllLossBackward0>)|\n",
       "|  0   |  100  | tensor(2.4299, device='cuda:0', grad_fn=<NllLossBackward0>)|\n",
       "|  0   |  110  | tensor(2.2365, device='cuda:0', grad_fn=<NllLossBackward0>)|\n",
       "|  0   |  120  | tensor(2.1493, device='cuda:0', grad_fn=<NllLossBackward0>)|\n",
       "|  0   |  130  | tensor(2.2042, device='cuda:0', grad_fn=<NllLossBackward0>)|\n",
       "|  0   |  140  | tensor(2.1550, device='cuda:0', grad_fn=<NllLossBackward0>)|\n",
       "|  0   |  150  | tensor(2.0324, device='cuda:0', grad_fn=<NllLossBackward0>)|\n",
       "|  0   |  160  | tensor(3.2394, device='cuda:0', grad_fn=<NllLossBackward0>)|\n",
       "|  0   |  170  | tensor(2.6114, device='cuda:0', grad_fn=<NllLossBackward0>)|\n",
       "+---------------------------------------------------------------------------+\n"
      ]
     },
     "metadata": {},
     "output_type": "display_data"
    },
    {
     "data": {
      "text/html": [
       "<pre style=\"white-space:pre;overflow-x:auto;line-height:normal;font-family:Menlo,'DejaVu Sans Mono',consolas,'Courier New',monospace\"><span style=\"font-style: italic\">                               Training Status                               </span>\n",
       "+---------------------------------------------------------------------------+\n",
       "|<span style=\"font-weight: bold\">Epoch </span>|<span style=\"font-weight: bold\"> Steps </span>|<span style=\"font-weight: bold\">                            Loss                            </span>|\n",
       "|------+-------+------------------------------------------------------------|\n",
       "|  0   |   0   | tensor(8.9277, device='cuda:0', grad_fn=&lt;NllLossBackward0&gt;)|\n",
       "|  0   |  10   | tensor(7.4712, device='cuda:0', grad_fn=&lt;NllLossBackward0&gt;)|\n",
       "|  0   |  20   | tensor(6.1189, device='cuda:0', grad_fn=&lt;NllLossBackward0&gt;)|\n",
       "|  0   |  30   | tensor(4.8070, device='cuda:0', grad_fn=&lt;NllLossBackward0&gt;)|\n",
       "|  0   |  40   | tensor(4.4598, device='cuda:0', grad_fn=&lt;NllLossBackward0&gt;)|\n",
       "|  0   |  50   | tensor(3.5434, device='cuda:0', grad_fn=&lt;NllLossBackward0&gt;)|\n",
       "|  0   |  60   | tensor(3.6919, device='cuda:0', grad_fn=&lt;NllLossBackward0&gt;)|\n",
       "|  0   |  70   | tensor(3.9385, device='cuda:0', grad_fn=&lt;NllLossBackward0&gt;)|\n",
       "|  0   |  80   | tensor(3.9536, device='cuda:0', grad_fn=&lt;NllLossBackward0&gt;)|\n",
       "|  0   |  90   | tensor(2.2561, device='cuda:0', grad_fn=&lt;NllLossBackward0&gt;)|\n",
       "|  0   |  100  | tensor(2.4299, device='cuda:0', grad_fn=&lt;NllLossBackward0&gt;)|\n",
       "|  0   |  110  | tensor(2.2365, device='cuda:0', grad_fn=&lt;NllLossBackward0&gt;)|\n",
       "|  0   |  120  | tensor(2.1493, device='cuda:0', grad_fn=&lt;NllLossBackward0&gt;)|\n",
       "|  0   |  130  | tensor(2.2042, device='cuda:0', grad_fn=&lt;NllLossBackward0&gt;)|\n",
       "|  0   |  140  | tensor(2.1550, device='cuda:0', grad_fn=&lt;NllLossBackward0&gt;)|\n",
       "|  0   |  150  | tensor(2.0324, device='cuda:0', grad_fn=&lt;NllLossBackward0&gt;)|\n",
       "|  0   |  160  | tensor(3.2394, device='cuda:0', grad_fn=&lt;NllLossBackward0&gt;)|\n",
       "|  0   |  170  | tensor(2.6114, device='cuda:0', grad_fn=&lt;NllLossBackward0&gt;)|\n",
       "|  0   |  180  | tensor(2.0182, device='cuda:0', grad_fn=&lt;NllLossBackward0&gt;)|\n",
       "+---------------------------------------------------------------------------+\n",
       "</pre>\n"
      ],
      "text/plain": [
       "\u001b[3m                               Training Status                               \u001b[0m\n",
       "+---------------------------------------------------------------------------+\n",
       "|\u001b[1mEpoch\u001b[0m\u001b[1m \u001b[0m|\u001b[1m \u001b[0m\u001b[1mSteps\u001b[0m\u001b[1m \u001b[0m|\u001b[1m \u001b[0m\u001b[1m                           Loss                            \u001b[0m|\n",
       "|------+-------+------------------------------------------------------------|\n",
       "|  0   |   0   | tensor(8.9277, device='cuda:0', grad_fn=<NllLossBackward0>)|\n",
       "|  0   |  10   | tensor(7.4712, device='cuda:0', grad_fn=<NllLossBackward0>)|\n",
       "|  0   |  20   | tensor(6.1189, device='cuda:0', grad_fn=<NllLossBackward0>)|\n",
       "|  0   |  30   | tensor(4.8070, device='cuda:0', grad_fn=<NllLossBackward0>)|\n",
       "|  0   |  40   | tensor(4.4598, device='cuda:0', grad_fn=<NllLossBackward0>)|\n",
       "|  0   |  50   | tensor(3.5434, device='cuda:0', grad_fn=<NllLossBackward0>)|\n",
       "|  0   |  60   | tensor(3.6919, device='cuda:0', grad_fn=<NllLossBackward0>)|\n",
       "|  0   |  70   | tensor(3.9385, device='cuda:0', grad_fn=<NllLossBackward0>)|\n",
       "|  0   |  80   | tensor(3.9536, device='cuda:0', grad_fn=<NllLossBackward0>)|\n",
       "|  0   |  90   | tensor(2.2561, device='cuda:0', grad_fn=<NllLossBackward0>)|\n",
       "|  0   |  100  | tensor(2.4299, device='cuda:0', grad_fn=<NllLossBackward0>)|\n",
       "|  0   |  110  | tensor(2.2365, device='cuda:0', grad_fn=<NllLossBackward0>)|\n",
       "|  0   |  120  | tensor(2.1493, device='cuda:0', grad_fn=<NllLossBackward0>)|\n",
       "|  0   |  130  | tensor(2.2042, device='cuda:0', grad_fn=<NllLossBackward0>)|\n",
       "|  0   |  140  | tensor(2.1550, device='cuda:0', grad_fn=<NllLossBackward0>)|\n",
       "|  0   |  150  | tensor(2.0324, device='cuda:0', grad_fn=<NllLossBackward0>)|\n",
       "|  0   |  160  | tensor(3.2394, device='cuda:0', grad_fn=<NllLossBackward0>)|\n",
       "|  0   |  170  | tensor(2.6114, device='cuda:0', grad_fn=<NllLossBackward0>)|\n",
       "|  0   |  180  | tensor(2.0182, device='cuda:0', grad_fn=<NllLossBackward0>)|\n",
       "+---------------------------------------------------------------------------+\n"
      ]
     },
     "metadata": {},
     "output_type": "display_data"
    },
    {
     "data": {
      "text/html": [
       "<pre style=\"white-space:pre;overflow-x:auto;line-height:normal;font-family:Menlo,'DejaVu Sans Mono',consolas,'Courier New',monospace\"><span style=\"font-style: italic\">                               Training Status                               </span>\n",
       "+---------------------------------------------------------------------------+\n",
       "|<span style=\"font-weight: bold\">Epoch </span>|<span style=\"font-weight: bold\"> Steps </span>|<span style=\"font-weight: bold\">                            Loss                            </span>|\n",
       "|------+-------+------------------------------------------------------------|\n",
       "|  0   |   0   | tensor(8.9277, device='cuda:0', grad_fn=&lt;NllLossBackward0&gt;)|\n",
       "|  0   |  10   | tensor(7.4712, device='cuda:0', grad_fn=&lt;NllLossBackward0&gt;)|\n",
       "|  0   |  20   | tensor(6.1189, device='cuda:0', grad_fn=&lt;NllLossBackward0&gt;)|\n",
       "|  0   |  30   | tensor(4.8070, device='cuda:0', grad_fn=&lt;NllLossBackward0&gt;)|\n",
       "|  0   |  40   | tensor(4.4598, device='cuda:0', grad_fn=&lt;NllLossBackward0&gt;)|\n",
       "|  0   |  50   | tensor(3.5434, device='cuda:0', grad_fn=&lt;NllLossBackward0&gt;)|\n",
       "|  0   |  60   | tensor(3.6919, device='cuda:0', grad_fn=&lt;NllLossBackward0&gt;)|\n",
       "|  0   |  70   | tensor(3.9385, device='cuda:0', grad_fn=&lt;NllLossBackward0&gt;)|\n",
       "|  0   |  80   | tensor(3.9536, device='cuda:0', grad_fn=&lt;NllLossBackward0&gt;)|\n",
       "|  0   |  90   | tensor(2.2561, device='cuda:0', grad_fn=&lt;NllLossBackward0&gt;)|\n",
       "|  0   |  100  | tensor(2.4299, device='cuda:0', grad_fn=&lt;NllLossBackward0&gt;)|\n",
       "|  0   |  110  | tensor(2.2365, device='cuda:0', grad_fn=&lt;NllLossBackward0&gt;)|\n",
       "|  0   |  120  | tensor(2.1493, device='cuda:0', grad_fn=&lt;NllLossBackward0&gt;)|\n",
       "|  0   |  130  | tensor(2.2042, device='cuda:0', grad_fn=&lt;NllLossBackward0&gt;)|\n",
       "|  0   |  140  | tensor(2.1550, device='cuda:0', grad_fn=&lt;NllLossBackward0&gt;)|\n",
       "|  0   |  150  | tensor(2.0324, device='cuda:0', grad_fn=&lt;NllLossBackward0&gt;)|\n",
       "|  0   |  160  | tensor(3.2394, device='cuda:0', grad_fn=&lt;NllLossBackward0&gt;)|\n",
       "|  0   |  170  | tensor(2.6114, device='cuda:0', grad_fn=&lt;NllLossBackward0&gt;)|\n",
       "|  0   |  180  | tensor(2.0182, device='cuda:0', grad_fn=&lt;NllLossBackward0&gt;)|\n",
       "|  0   |  190  | tensor(1.9720, device='cuda:0', grad_fn=&lt;NllLossBackward0&gt;)|\n",
       "+---------------------------------------------------------------------------+\n",
       "</pre>\n"
      ],
      "text/plain": [
       "\u001b[3m                               Training Status                               \u001b[0m\n",
       "+---------------------------------------------------------------------------+\n",
       "|\u001b[1mEpoch\u001b[0m\u001b[1m \u001b[0m|\u001b[1m \u001b[0m\u001b[1mSteps\u001b[0m\u001b[1m \u001b[0m|\u001b[1m \u001b[0m\u001b[1m                           Loss                            \u001b[0m|\n",
       "|------+-------+------------------------------------------------------------|\n",
       "|  0   |   0   | tensor(8.9277, device='cuda:0', grad_fn=<NllLossBackward0>)|\n",
       "|  0   |  10   | tensor(7.4712, device='cuda:0', grad_fn=<NllLossBackward0>)|\n",
       "|  0   |  20   | tensor(6.1189, device='cuda:0', grad_fn=<NllLossBackward0>)|\n",
       "|  0   |  30   | tensor(4.8070, device='cuda:0', grad_fn=<NllLossBackward0>)|\n",
       "|  0   |  40   | tensor(4.4598, device='cuda:0', grad_fn=<NllLossBackward0>)|\n",
       "|  0   |  50   | tensor(3.5434, device='cuda:0', grad_fn=<NllLossBackward0>)|\n",
       "|  0   |  60   | tensor(3.6919, device='cuda:0', grad_fn=<NllLossBackward0>)|\n",
       "|  0   |  70   | tensor(3.9385, device='cuda:0', grad_fn=<NllLossBackward0>)|\n",
       "|  0   |  80   | tensor(3.9536, device='cuda:0', grad_fn=<NllLossBackward0>)|\n",
       "|  0   |  90   | tensor(2.2561, device='cuda:0', grad_fn=<NllLossBackward0>)|\n",
       "|  0   |  100  | tensor(2.4299, device='cuda:0', grad_fn=<NllLossBackward0>)|\n",
       "|  0   |  110  | tensor(2.2365, device='cuda:0', grad_fn=<NllLossBackward0>)|\n",
       "|  0   |  120  | tensor(2.1493, device='cuda:0', grad_fn=<NllLossBackward0>)|\n",
       "|  0   |  130  | tensor(2.2042, device='cuda:0', grad_fn=<NllLossBackward0>)|\n",
       "|  0   |  140  | tensor(2.1550, device='cuda:0', grad_fn=<NllLossBackward0>)|\n",
       "|  0   |  150  | tensor(2.0324, device='cuda:0', grad_fn=<NllLossBackward0>)|\n",
       "|  0   |  160  | tensor(3.2394, device='cuda:0', grad_fn=<NllLossBackward0>)|\n",
       "|  0   |  170  | tensor(2.6114, device='cuda:0', grad_fn=<NllLossBackward0>)|\n",
       "|  0   |  180  | tensor(2.0182, device='cuda:0', grad_fn=<NllLossBackward0>)|\n",
       "|  0   |  190  | tensor(1.9720, device='cuda:0', grad_fn=<NllLossBackward0>)|\n",
       "+---------------------------------------------------------------------------+\n"
      ]
     },
     "metadata": {},
     "output_type": "display_data"
    },
    {
     "data": {
      "text/html": [
       "<pre style=\"white-space:pre;overflow-x:auto;line-height:normal;font-family:Menlo,'DejaVu Sans Mono',consolas,'Courier New',monospace\"><span style=\"color: #7fbfbf; text-decoration-color: #7fbfbf\">[13:03:06] </span><span style=\"font-weight: bold\">[</span>Saving Model<span style=\"font-weight: bold\">]</span><span style=\"color: #808000; text-decoration-color: #808000\">...</span>                                                 <a href=\"file:///tmp/ipykernel_24/3880980610.py\" target=\"_blank\"><span style=\"color: #7f7f7f; text-decoration-color: #7f7f7f\">3880980610.py</span></a><span style=\"color: #7f7f7f; text-decoration-color: #7f7f7f\">:</span><a href=\"file:///tmp/ipykernel_24/3880980610.py#92\" target=\"_blank\"><span style=\"color: #7f7f7f; text-decoration-color: #7f7f7f\">92</span></a>\n",
       "<span style=\"color: #7fbfbf; text-decoration-color: #7fbfbf\">           </span>                                                                  <span style=\"color: #7f7f7f; text-decoration-color: #7f7f7f\">                </span>\n",
       "</pre>\n"
      ],
      "text/plain": [
       "\u001b[2;36m[13:03:06]\u001b[0m\u001b[2;36m \u001b[0m\u001b[1m[\u001b[0mSaving Model\u001b[1m]\u001b[0m\u001b[33m...\u001b[0m                                                 \u001b]8;id=662625;file:///tmp/ipykernel_24/3880980610.py\u001b\\\u001b[2m3880980610.py\u001b[0m\u001b]8;;\u001b\\\u001b[2m:\u001b[0m\u001b]8;id=565199;file:///tmp/ipykernel_24/3880980610.py#92\u001b\\\u001b[2m92\u001b[0m\u001b]8;;\u001b\\\n",
       "\u001b[2;36m           \u001b[0m                                                                  \u001b[2m                \u001b[0m\n"
      ]
     },
     "metadata": {},
     "output_type": "display_data"
    },
    {
     "data": {
      "text/html": [
       "<pre style=\"white-space:pre;overflow-x:auto;line-height:normal;font-family:Menlo,'DejaVu Sans Mono',consolas,'Courier New',monospace\"><span style=\"color: #7fbfbf; text-decoration-color: #7fbfbf\">[13:03:12] </span><span style=\"font-weight: bold\">[</span>Initiating Validation<span style=\"font-weight: bold\">]</span><span style=\"color: #808000; text-decoration-color: #808000\">...</span>                                        <a href=\"file:///tmp/ipykernel_24/3880980610.py\" target=\"_blank\"><span style=\"color: #7f7f7f; text-decoration-color: #7f7f7f\">3880980610.py</span></a><span style=\"color: #7f7f7f; text-decoration-color: #7f7f7f\">:</span><a href=\"file:///tmp/ipykernel_24/3880980610.py#99\" target=\"_blank\"><span style=\"color: #7f7f7f; text-decoration-color: #7f7f7f\">99</span></a>\n",
       "<span style=\"color: #7fbfbf; text-decoration-color: #7fbfbf\">           </span>                                                                  <span style=\"color: #7f7f7f; text-decoration-color: #7f7f7f\">                </span>\n",
       "</pre>\n"
      ],
      "text/plain": [
       "\u001b[2;36m[13:03:12]\u001b[0m\u001b[2;36m \u001b[0m\u001b[1m[\u001b[0mInitiating Validation\u001b[1m]\u001b[0m\u001b[33m...\u001b[0m                                        \u001b]8;id=235456;file:///tmp/ipykernel_24/3880980610.py\u001b\\\u001b[2m3880980610.py\u001b[0m\u001b]8;;\u001b\\\u001b[2m:\u001b[0m\u001b]8;id=705048;file:///tmp/ipykernel_24/3880980610.py#99\u001b\\\u001b[2m99\u001b[0m\u001b]8;;\u001b\\\n",
       "\u001b[2;36m           \u001b[0m                                                                  \u001b[2m                \u001b[0m\n"
      ]
     },
     "metadata": {},
     "output_type": "display_data"
    },
    {
     "data": {
      "text/html": [
       "<pre style=\"white-space:pre;overflow-x:auto;line-height:normal;font-family:Menlo,'DejaVu Sans Mono',consolas,'Courier New',monospace\">Completed <span style=\"color: #008080; text-decoration-color: #008080; font-weight: bold\">0</span>\n",
       "</pre>\n"
      ],
      "text/plain": [
       "Completed \u001b[1;36m0\u001b[0m\n"
      ]
     },
     "metadata": {},
     "output_type": "display_data"
    },
    {
     "data": {
      "text/html": [
       "<pre style=\"white-space:pre;overflow-x:auto;line-height:normal;font-family:Menlo,'DejaVu Sans Mono',consolas,'Courier New',monospace\">Completed <span style=\"color: #008080; text-decoration-color: #008080; font-weight: bold\">10</span>\n",
       "</pre>\n"
      ],
      "text/plain": [
       "Completed \u001b[1;36m10\u001b[0m\n"
      ]
     },
     "metadata": {},
     "output_type": "display_data"
    },
    {
     "data": {
      "text/html": [
       "<pre style=\"white-space:pre;overflow-x:auto;line-height:normal;font-family:Menlo,'DejaVu Sans Mono',consolas,'Courier New',monospace\">Completed <span style=\"color: #008080; text-decoration-color: #008080; font-weight: bold\">20</span>\n",
       "</pre>\n"
      ],
      "text/plain": [
       "Completed \u001b[1;36m20\u001b[0m\n"
      ]
     },
     "metadata": {},
     "output_type": "display_data"
    },
    {
     "data": {
      "text/html": [
       "<pre style=\"white-space:pre;overflow-x:auto;line-height:normal;font-family:Menlo,'DejaVu Sans Mono',consolas,'Courier New',monospace\">Completed <span style=\"color: #008080; text-decoration-color: #008080; font-weight: bold\">30</span>\n",
       "</pre>\n"
      ],
      "text/plain": [
       "Completed \u001b[1;36m30\u001b[0m\n"
      ]
     },
     "metadata": {},
     "output_type": "display_data"
    },
    {
     "data": {
      "text/html": [
       "<pre style=\"white-space:pre;overflow-x:auto;line-height:normal;font-family:Menlo,'DejaVu Sans Mono',consolas,'Courier New',monospace\">Completed <span style=\"color: #008080; text-decoration-color: #008080; font-weight: bold\">40</span>\n",
       "</pre>\n"
      ],
      "text/plain": [
       "Completed \u001b[1;36m40\u001b[0m\n"
      ]
     },
     "metadata": {},
     "output_type": "display_data"
    },
    {
     "data": {
      "text/html": [
       "<pre style=\"white-space:pre;overflow-x:auto;line-height:normal;font-family:Menlo,'DejaVu Sans Mono',consolas,'Courier New',monospace\"><span style=\"color: #7fbfbf; text-decoration-color: #7fbfbf\">[13:03:40] </span><span style=\"font-weight: bold\">[</span>Validation Completed.<span style=\"font-weight: bold\">]</span>                                          <a href=\"file:///tmp/ipykernel_24/3880980610.py\" target=\"_blank\"><span style=\"color: #7f7f7f; text-decoration-color: #7f7f7f\">3880980610.py</span></a><span style=\"color: #7f7f7f; text-decoration-color: #7f7f7f\">:</span><a href=\"file:///tmp/ipykernel_24/3880980610.py#107\" target=\"_blank\"><span style=\"color: #7f7f7f; text-decoration-color: #7f7f7f\">107</span></a>\n",
       "<span style=\"color: #7fbfbf; text-decoration-color: #7fbfbf\">           </span>                                                                 <span style=\"color: #7f7f7f; text-decoration-color: #7f7f7f\">                 </span>\n",
       "</pre>\n"
      ],
      "text/plain": [
       "\u001b[2;36m[13:03:40]\u001b[0m\u001b[2;36m \u001b[0m\u001b[1m[\u001b[0mValidation Completed.\u001b[1m]\u001b[0m                                          \u001b]8;id=548852;file:///tmp/ipykernel_24/3880980610.py\u001b\\\u001b[2m3880980610.py\u001b[0m\u001b]8;;\u001b\\\u001b[2m:\u001b[0m\u001b]8;id=816956;file:///tmp/ipykernel_24/3880980610.py#107\u001b\\\u001b[2m107\u001b[0m\u001b]8;;\u001b\\\n",
       "\u001b[2;36m           \u001b[0m                                                                 \u001b[2m                 \u001b[0m\n"
      ]
     },
     "metadata": {},
     "output_type": "display_data"
    },
    {
     "data": {
      "text/html": [
       "<pre style=\"white-space:pre;overflow-x:auto;line-height:normal;font-family:Menlo,'DejaVu Sans Mono',consolas,'Courier New',monospace\"><span style=\"font-weight: bold\">[</span>Model<span style=\"font-weight: bold\">]</span> Model saved @ outputs/model_files\n",
       "\n",
       "</pre>\n"
      ],
      "text/plain": [
       "\u001b[1m[\u001b[0mModel\u001b[1m]\u001b[0m Model saved @ outputs/model_files\n",
       "\n"
      ]
     },
     "metadata": {},
     "output_type": "display_data"
    },
    {
     "data": {
      "text/html": [
       "<pre style=\"white-space:pre;overflow-x:auto;line-height:normal;font-family:Menlo,'DejaVu Sans Mono',consolas,'Courier New',monospace\"><span style=\"font-weight: bold\">[</span>Validation<span style=\"font-weight: bold\">]</span> Generation on Validation data saved @ outputs/predictions.csv\n",
       "\n",
       "</pre>\n"
      ],
      "text/plain": [
       "\u001b[1m[\u001b[0mValidation\u001b[1m]\u001b[0m Generation on Validation data saved @ outputs/predictions.csv\n",
       "\n"
      ]
     },
     "metadata": {},
     "output_type": "display_data"
    },
    {
     "data": {
      "text/html": [
       "<pre style=\"white-space:pre;overflow-x:auto;line-height:normal;font-family:Menlo,'DejaVu Sans Mono',consolas,'Courier New',monospace\"><span style=\"font-weight: bold\">[</span>Logs<span style=\"font-weight: bold\">]</span> Logs saved @ outputs/logs.txt\n",
       "\n",
       "</pre>\n"
      ],
      "text/plain": [
       "\u001b[1m[\u001b[0mLogs\u001b[1m]\u001b[0m Logs saved @ outputs/logs.txt\n",
       "\n"
      ]
     },
     "metadata": {},
     "output_type": "display_data"
    }
   ],
   "source": [
    "# T5 accepts prefix of the task to be performed:\n",
    "# Since we are summarizing, let's add summarize to source text as a prefix\n",
    "df[\"text\"] = \"summarize: \" + df[\"text\"]\n",
    "\n",
    "T5Trainer(\n",
    "    dataframe=df[:1000],\n",
    "    source_text=\"text\",\n",
    "    target_text=\"headlines\",\n",
    "    model_params=model_params,\n",
    "    output_dir=\"outputs\",\n",
    ")"
   ]
  },
  {
   "cell_type": "code",
   "execution_count": null,
   "id": "f3c200eb",
   "metadata": {
    "id": "6_cAitt0BsEZ",
    "papermill": {
     "duration": 0.014418,
     "end_time": "2022-06-06T13:03:40.420138",
     "exception": false,
     "start_time": "2022-06-06T13:03:40.405720",
     "status": "completed"
    },
    "tags": []
   },
   "outputs": [],
   "source": []
  },
  {
   "cell_type": "code",
   "execution_count": null,
   "id": "c982d746",
   "metadata": {
    "id": "B-TRK9WKBr6O",
    "papermill": {
     "duration": 0.014402,
     "end_time": "2022-06-06T13:03:40.449046",
     "exception": false,
     "start_time": "2022-06-06T13:03:40.434644",
     "status": "completed"
    },
    "tags": []
   },
   "outputs": [],
   "source": []
  }
 ],
 "metadata": {
  "kernelspec": {
   "display_name": "Python 3 (ipykernel)",
   "language": "python",
   "name": "python3"
  },
  "language_info": {
   "codemirror_mode": {
    "name": "ipython",
    "version": 3
   },
   "file_extension": ".py",
   "mimetype": "text/x-python",
   "name": "python",
   "nbconvert_exporter": "python",
   "pygments_lexer": "ipython3",
   "version": "3.8.13"
  },
  "papermill": {
   "default_parameters": {},
   "duration": 249.385126,
   "end_time": "2022-06-06T13:03:43.370539",
   "environment_variables": {},
   "exception": null,
   "input_path": "__notebook__.ipynb",
   "output_path": "__notebook__.ipynb",
   "parameters": {},
   "start_time": "2022-06-06T12:59:33.985413",
   "version": "2.3.4"
  },
  "widgets": {
   "application/vnd.jupyter.widget-state+json": {
    "state": {
     "04a9ff78ca40495c97e2ee1e5dc9dc08": {
      "model_module": "@jupyter-widgets/base",
      "model_module_version": "1.2.0",
      "model_name": "LayoutModel",
      "state": {
       "_model_module": "@jupyter-widgets/base",
       "_model_module_version": "1.2.0",
       "_model_name": "LayoutModel",
       "_view_count": null,
       "_view_module": "@jupyter-widgets/base",
       "_view_module_version": "1.2.0",
       "_view_name": "LayoutView",
       "align_content": null,
       "align_items": null,
       "align_self": null,
       "border": null,
       "bottom": null,
       "display": null,
       "flex": null,
       "flex_flow": null,
       "grid_area": null,
       "grid_auto_columns": null,
       "grid_auto_flow": null,
       "grid_auto_rows": null,
       "grid_column": null,
       "grid_gap": null,
       "grid_row": null,
       "grid_template_areas": null,
       "grid_template_columns": null,
       "grid_template_rows": null,
       "height": null,
       "justify_content": null,
       "justify_items": null,
       "left": null,
       "margin": null,
       "max_height": null,
       "max_width": null,
       "min_height": null,
       "min_width": null,
       "object_fit": null,
       "object_position": null,
       "order": null,
       "overflow": null,
       "overflow_x": null,
       "overflow_y": null,
       "padding": null,
       "right": null,
       "top": null,
       "visibility": null,
       "width": null
      }
     },
     "06bd16c0194044448f6d825d3e1cc881": {
      "model_module": "@jupyter-widgets/base",
      "model_module_version": "1.2.0",
      "model_name": "LayoutModel",
      "state": {
       "_model_module": "@jupyter-widgets/base",
       "_model_module_version": "1.2.0",
       "_model_name": "LayoutModel",
       "_view_count": null,
       "_view_module": "@jupyter-widgets/base",
       "_view_module_version": "1.2.0",
       "_view_name": "LayoutView",
       "align_content": null,
       "align_items": null,
       "align_self": null,
       "border": null,
       "bottom": null,
       "display": null,
       "flex": null,
       "flex_flow": null,
       "grid_area": null,
       "grid_auto_columns": null,
       "grid_auto_flow": null,
       "grid_auto_rows": null,
       "grid_column": null,
       "grid_gap": null,
       "grid_row": null,
       "grid_template_areas": null,
       "grid_template_columns": null,
       "grid_template_rows": null,
       "height": null,
       "justify_content": null,
       "justify_items": null,
       "left": null,
       "margin": null,
       "max_height": null,
       "max_width": null,
       "min_height": null,
       "min_width": null,
       "object_fit": null,
       "object_position": null,
       "order": null,
       "overflow": null,
       "overflow_x": null,
       "overflow_y": null,
       "padding": null,
       "right": null,
       "top": null,
       "visibility": null,
       "width": null
      }
     },
     "0a4ba8c441ae4308995fce0f7a85c64a": {
      "model_module": "@jupyter-widgets/controls",
      "model_module_version": "1.5.0",
      "model_name": "ProgressStyleModel",
      "state": {
       "_model_module": "@jupyter-widgets/controls",
       "_model_module_version": "1.5.0",
       "_model_name": "ProgressStyleModel",
       "_view_count": null,
       "_view_module": "@jupyter-widgets/base",
       "_view_module_version": "1.2.0",
       "_view_name": "StyleView",
       "bar_color": null,
       "description_width": ""
      }
     },
     "0d92f9dd42674e5aad4a17ae7055ce1e": {
      "model_module": "@jupyter-widgets/controls",
      "model_module_version": "1.5.0",
      "model_name": "HBoxModel",
      "state": {
       "_dom_classes": [],
       "_model_module": "@jupyter-widgets/controls",
       "_model_module_version": "1.5.0",
       "_model_name": "HBoxModel",
       "_view_count": null,
       "_view_module": "@jupyter-widgets/controls",
       "_view_module_version": "1.5.0",
       "_view_name": "HBoxView",
       "box_style": "",
       "children": [
        "IPY_MODEL_7da961df403c4d06994b59eea148d971",
        "IPY_MODEL_cf9fbb52767a46959212cdf80fbaa0ec",
        "IPY_MODEL_5c6849c34f614958bcbdfb1fdce5a0d5"
       ],
       "layout": "IPY_MODEL_b64530b56e7d46e3a24bf51e3c0f9a53"
      }
     },
     "184cf4cc0e944eec9d16d4d99f3e4147": {
      "model_module": "@jupyter-widgets/controls",
      "model_module_version": "1.5.0",
      "model_name": "HTMLModel",
      "state": {
       "_dom_classes": [],
       "_model_module": "@jupyter-widgets/controls",
       "_model_module_version": "1.5.0",
       "_model_name": "HTMLModel",
       "_view_count": null,
       "_view_module": "@jupyter-widgets/controls",
       "_view_module_version": "1.5.0",
       "_view_name": "HTMLView",
       "description": "",
       "description_tooltip": null,
       "layout": "IPY_MODEL_c24016d77e4b4877a627f258a7b1084f",
       "placeholder": "​",
       "style": "IPY_MODEL_e60e47c1ef8248cebe3f9b1beee8828e",
       "value": "Downloading: 100%"
      }
     },
     "1a858413078c47c19b6c3e2fbb24b1bc": {
      "model_module": "@jupyter-widgets/base",
      "model_module_version": "1.2.0",
      "model_name": "LayoutModel",
      "state": {
       "_model_module": "@jupyter-widgets/base",
       "_model_module_version": "1.2.0",
       "_model_name": "LayoutModel",
       "_view_count": null,
       "_view_module": "@jupyter-widgets/base",
       "_view_module_version": "1.2.0",
       "_view_name": "LayoutView",
       "align_content": null,
       "align_items": null,
       "align_self": null,
       "border": null,
       "bottom": null,
       "display": null,
       "flex": null,
       "flex_flow": null,
       "grid_area": null,
       "grid_auto_columns": null,
       "grid_auto_flow": null,
       "grid_auto_rows": null,
       "grid_column": null,
       "grid_gap": null,
       "grid_row": null,
       "grid_template_areas": null,
       "grid_template_columns": null,
       "grid_template_rows": null,
       "height": null,
       "justify_content": null,
       "justify_items": null,
       "left": null,
       "margin": null,
       "max_height": null,
       "max_width": null,
       "min_height": null,
       "min_width": null,
       "object_fit": null,
       "object_position": null,
       "order": null,
       "overflow": null,
       "overflow_x": null,
       "overflow_y": null,
       "padding": null,
       "right": null,
       "top": null,
       "visibility": null,
       "width": null
      }
     },
     "1b20d838a3714fb2bc397c4517fce8e7": {
      "model_module": "@jupyter-widgets/base",
      "model_module_version": "1.2.0",
      "model_name": "LayoutModel",
      "state": {
       "_model_module": "@jupyter-widgets/base",
       "_model_module_version": "1.2.0",
       "_model_name": "LayoutModel",
       "_view_count": null,
       "_view_module": "@jupyter-widgets/base",
       "_view_module_version": "1.2.0",
       "_view_name": "LayoutView",
       "align_content": null,
       "align_items": null,
       "align_self": null,
       "border": null,
       "bottom": null,
       "display": null,
       "flex": null,
       "flex_flow": null,
       "grid_area": null,
       "grid_auto_columns": null,
       "grid_auto_flow": null,
       "grid_auto_rows": null,
       "grid_column": null,
       "grid_gap": null,
       "grid_row": null,
       "grid_template_areas": null,
       "grid_template_columns": null,
       "grid_template_rows": null,
       "height": null,
       "justify_content": null,
       "justify_items": null,
       "left": null,
       "margin": null,
       "max_height": null,
       "max_width": null,
       "min_height": null,
       "min_width": null,
       "object_fit": null,
       "object_position": null,
       "order": null,
       "overflow": null,
       "overflow_x": null,
       "overflow_y": null,
       "padding": null,
       "right": null,
       "top": null,
       "visibility": null,
       "width": null
      }
     },
     "1d104cca916046f99745a9bb25b0c911": {
      "model_module": "@jupyter-widgets/controls",
      "model_module_version": "1.5.0",
      "model_name": "ProgressStyleModel",
      "state": {
       "_model_module": "@jupyter-widgets/controls",
       "_model_module_version": "1.5.0",
       "_model_name": "ProgressStyleModel",
       "_view_count": null,
       "_view_module": "@jupyter-widgets/base",
       "_view_module_version": "1.2.0",
       "_view_name": "StyleView",
       "bar_color": null,
       "description_width": ""
      }
     },
     "27a8918eb5bc4460a700563afc5f1723": {
      "model_module": "@jupyter-widgets/controls",
      "model_module_version": "1.5.0",
      "model_name": "DescriptionStyleModel",
      "state": {
       "_model_module": "@jupyter-widgets/controls",
       "_model_module_version": "1.5.0",
       "_model_name": "DescriptionStyleModel",
       "_view_count": null,
       "_view_module": "@jupyter-widgets/base",
       "_view_module_version": "1.2.0",
       "_view_name": "StyleView",
       "description_width": ""
      }
     },
     "295f423ae8ef442cad9b48bb9bafe1d5": {
      "model_module": "@jupyter-widgets/base",
      "model_module_version": "1.2.0",
      "model_name": "LayoutModel",
      "state": {
       "_model_module": "@jupyter-widgets/base",
       "_model_module_version": "1.2.0",
       "_model_name": "LayoutModel",
       "_view_count": null,
       "_view_module": "@jupyter-widgets/base",
       "_view_module_version": "1.2.0",
       "_view_name": "LayoutView",
       "align_content": null,
       "align_items": null,
       "align_self": null,
       "border": null,
       "bottom": null,
       "display": null,
       "flex": null,
       "flex_flow": null,
       "grid_area": null,
       "grid_auto_columns": null,
       "grid_auto_flow": null,
       "grid_auto_rows": null,
       "grid_column": null,
       "grid_gap": null,
       "grid_row": null,
       "grid_template_areas": null,
       "grid_template_columns": null,
       "grid_template_rows": null,
       "height": null,
       "justify_content": null,
       "justify_items": null,
       "left": null,
       "margin": null,
       "max_height": null,
       "max_width": null,
       "min_height": null,
       "min_width": null,
       "object_fit": null,
       "object_position": null,
       "order": null,
       "overflow": null,
       "overflow_x": null,
       "overflow_y": null,
       "padding": null,
       "right": null,
       "top": null,
       "visibility": null,
       "width": null
      }
     },
     "2bc8ce0996e94374a383ad8571716ab8": {
      "model_module": "@jupyter-widgets/controls",
      "model_module_version": "1.5.0",
      "model_name": "DescriptionStyleModel",
      "state": {
       "_model_module": "@jupyter-widgets/controls",
       "_model_module_version": "1.5.0",
       "_model_name": "DescriptionStyleModel",
       "_view_count": null,
       "_view_module": "@jupyter-widgets/base",
       "_view_module_version": "1.2.0",
       "_view_name": "StyleView",
       "description_width": ""
      }
     },
     "2c5372e590e6432ca65de861f6cb3490": {
      "model_module": "@jupyter-widgets/controls",
      "model_module_version": "1.5.0",
      "model_name": "ProgressStyleModel",
      "state": {
       "_model_module": "@jupyter-widgets/controls",
       "_model_module_version": "1.5.0",
       "_model_name": "ProgressStyleModel",
       "_view_count": null,
       "_view_module": "@jupyter-widgets/base",
       "_view_module_version": "1.2.0",
       "_view_name": "StyleView",
       "bar_color": null,
       "description_width": ""
      }
     },
     "357e3bb6d7b343c89b9a0f757247fcc3": {
      "model_module": "@jupyter-widgets/controls",
      "model_module_version": "1.5.0",
      "model_name": "HTMLModel",
      "state": {
       "_dom_classes": [],
       "_model_module": "@jupyter-widgets/controls",
       "_model_module_version": "1.5.0",
       "_model_name": "HTMLModel",
       "_view_count": null,
       "_view_module": "@jupyter-widgets/controls",
       "_view_module_version": "1.5.0",
       "_view_name": "HTMLView",
       "description": "",
       "description_tooltip": null,
       "layout": "IPY_MODEL_bd6afc186b0b42339b60167ad732881d",
       "placeholder": "​",
       "style": "IPY_MODEL_8190cce788d94be1b0d9719e713c2108",
       "value": "Downloading: 100%"
      }
     },
     "3d10302a9bdf4e47a2c16427b4abc147": {
      "model_module": "@jupyter-widgets/base",
      "model_module_version": "1.2.0",
      "model_name": "LayoutModel",
      "state": {
       "_model_module": "@jupyter-widgets/base",
       "_model_module_version": "1.2.0",
       "_model_name": "LayoutModel",
       "_view_count": null,
       "_view_module": "@jupyter-widgets/base",
       "_view_module_version": "1.2.0",
       "_view_name": "LayoutView",
       "align_content": null,
       "align_items": null,
       "align_self": null,
       "border": null,
       "bottom": null,
       "display": null,
       "flex": null,
       "flex_flow": null,
       "grid_area": null,
       "grid_auto_columns": null,
       "grid_auto_flow": null,
       "grid_auto_rows": null,
       "grid_column": null,
       "grid_gap": null,
       "grid_row": null,
       "grid_template_areas": null,
       "grid_template_columns": null,
       "grid_template_rows": null,
       "height": null,
       "justify_content": null,
       "justify_items": null,
       "left": null,
       "margin": null,
       "max_height": null,
       "max_width": null,
       "min_height": null,
       "min_width": null,
       "object_fit": null,
       "object_position": null,
       "order": null,
       "overflow": null,
       "overflow_x": null,
       "overflow_y": null,
       "padding": null,
       "right": null,
       "top": null,
       "visibility": null,
       "width": null
      }
     },
     "4044b66afbf846e38be1e8cb98d1b481": {
      "model_module": "@jupyter-widgets/controls",
      "model_module_version": "1.5.0",
      "model_name": "FloatProgressModel",
      "state": {
       "_dom_classes": [],
       "_model_module": "@jupyter-widgets/controls",
       "_model_module_version": "1.5.0",
       "_model_name": "FloatProgressModel",
       "_view_count": null,
       "_view_module": "@jupyter-widgets/controls",
       "_view_module_version": "1.5.0",
       "_view_name": "ProgressView",
       "bar_style": "success",
       "description": "",
       "description_tooltip": null,
       "layout": "IPY_MODEL_06bd16c0194044448f6d825d3e1cc881",
       "max": 1392,
       "min": 0,
       "orientation": "horizontal",
       "style": "IPY_MODEL_0a4ba8c441ae4308995fce0f7a85c64a",
       "value": 1392
      }
     },
     "43d158d38e5e401990fcb081ee773d6e": {
      "model_module": "@jupyter-widgets/controls",
      "model_module_version": "1.5.0",
      "model_name": "HBoxModel",
      "state": {
       "_dom_classes": [],
       "_model_module": "@jupyter-widgets/controls",
       "_model_module_version": "1.5.0",
       "_model_name": "HBoxModel",
       "_view_count": null,
       "_view_module": "@jupyter-widgets/controls",
       "_view_module_version": "1.5.0",
       "_view_name": "HBoxView",
       "box_style": "",
       "children": [
        "IPY_MODEL_357e3bb6d7b343c89b9a0f757247fcc3",
        "IPY_MODEL_4044b66afbf846e38be1e8cb98d1b481",
        "IPY_MODEL_48790596530841dda3486e74147adca3"
       ],
       "layout": "IPY_MODEL_1b20d838a3714fb2bc397c4517fce8e7"
      }
     },
     "48190291ad34485f8d5f2929cf68e014": {
      "model_module": "@jupyter-widgets/controls",
      "model_module_version": "1.5.0",
      "model_name": "DescriptionStyleModel",
      "state": {
       "_model_module": "@jupyter-widgets/controls",
       "_model_module_version": "1.5.0",
       "_model_name": "DescriptionStyleModel",
       "_view_count": null,
       "_view_module": "@jupyter-widgets/base",
       "_view_module_version": "1.2.0",
       "_view_name": "StyleView",
       "description_width": ""
      }
     },
     "48790596530841dda3486e74147adca3": {
      "model_module": "@jupyter-widgets/controls",
      "model_module_version": "1.5.0",
      "model_name": "HTMLModel",
      "state": {
       "_dom_classes": [],
       "_model_module": "@jupyter-widgets/controls",
       "_model_module_version": "1.5.0",
       "_model_name": "HTMLModel",
       "_view_count": null,
       "_view_module": "@jupyter-widgets/controls",
       "_view_module_version": "1.5.0",
       "_view_name": "HTMLView",
       "description": "",
       "description_tooltip": null,
       "layout": "IPY_MODEL_d6d7f391f4ba447d8f82227647540a4b",
       "placeholder": "​",
       "style": "IPY_MODEL_b7bfd5e2fb86433aac055b90f0da7d17",
       "value": " 1.36k/1.36k [00:00&lt;00:00, 55.4kB/s]"
      }
     },
     "555216c133c74232ab78d93a67e27fa5": {
      "model_module": "@jupyter-widgets/controls",
      "model_module_version": "1.5.0",
      "model_name": "HTMLModel",
      "state": {
       "_dom_classes": [],
       "_model_module": "@jupyter-widgets/controls",
       "_model_module_version": "1.5.0",
       "_model_name": "HTMLModel",
       "_view_count": null,
       "_view_module": "@jupyter-widgets/controls",
       "_view_module_version": "1.5.0",
       "_view_name": "HTMLView",
       "description": "",
       "description_tooltip": null,
       "layout": "IPY_MODEL_afe5d978ee9f486b8a455cc0a08f33b8",
       "placeholder": "​",
       "style": "IPY_MODEL_b1f7322313034cb3b4b7b526f6161f19",
       "value": "Downloading: 100%"
      }
     },
     "5c48691ecf264030b383e899c482afd2": {
      "model_module": "@jupyter-widgets/controls",
      "model_module_version": "1.5.0",
      "model_name": "DescriptionStyleModel",
      "state": {
       "_model_module": "@jupyter-widgets/controls",
       "_model_module_version": "1.5.0",
       "_model_name": "DescriptionStyleModel",
       "_view_count": null,
       "_view_module": "@jupyter-widgets/base",
       "_view_module_version": "1.2.0",
       "_view_name": "StyleView",
       "description_width": ""
      }
     },
     "5c6849c34f614958bcbdfb1fdce5a0d5": {
      "model_module": "@jupyter-widgets/controls",
      "model_module_version": "1.5.0",
      "model_name": "HTMLModel",
      "state": {
       "_dom_classes": [],
       "_model_module": "@jupyter-widgets/controls",
       "_model_module_version": "1.5.0",
       "_model_name": "HTMLModel",
       "_view_count": null,
       "_view_module": "@jupyter-widgets/controls",
       "_view_module_version": "1.5.0",
       "_view_name": "HTMLView",
       "description": "",
       "description_tooltip": null,
       "layout": "IPY_MODEL_85ee89865f614fa690cf65f5d67247dd",
       "placeholder": "​",
       "style": "IPY_MODEL_48190291ad34485f8d5f2929cf68e014",
       "value": " 2.12G/2.12G [01:40&lt;00:00, 23.6MB/s]"
      }
     },
     "5e92f14aa45a45a683886c960aaf22a0": {
      "model_module": "@jupyter-widgets/base",
      "model_module_version": "1.2.0",
      "model_name": "LayoutModel",
      "state": {
       "_model_module": "@jupyter-widgets/base",
       "_model_module_version": "1.2.0",
       "_model_name": "LayoutModel",
       "_view_count": null,
       "_view_module": "@jupyter-widgets/base",
       "_view_module_version": "1.2.0",
       "_view_name": "LayoutView",
       "align_content": null,
       "align_items": null,
       "align_self": null,
       "border": null,
       "bottom": null,
       "display": null,
       "flex": null,
       "flex_flow": null,
       "grid_area": null,
       "grid_auto_columns": null,
       "grid_auto_flow": null,
       "grid_auto_rows": null,
       "grid_column": null,
       "grid_gap": null,
       "grid_row": null,
       "grid_template_areas": null,
       "grid_template_columns": null,
       "grid_template_rows": null,
       "height": null,
       "justify_content": null,
       "justify_items": null,
       "left": null,
       "margin": null,
       "max_height": null,
       "max_width": null,
       "min_height": null,
       "min_width": null,
       "object_fit": null,
       "object_position": null,
       "order": null,
       "overflow": null,
       "overflow_x": null,
       "overflow_y": null,
       "padding": null,
       "right": null,
       "top": null,
       "visibility": null,
       "width": null
      }
     },
     "5f8805f9d8ff423d8ed30ce191cc74fa": {
      "model_module": "@jupyter-widgets/base",
      "model_module_version": "1.2.0",
      "model_name": "LayoutModel",
      "state": {
       "_model_module": "@jupyter-widgets/base",
       "_model_module_version": "1.2.0",
       "_model_name": "LayoutModel",
       "_view_count": null,
       "_view_module": "@jupyter-widgets/base",
       "_view_module_version": "1.2.0",
       "_view_name": "LayoutView",
       "align_content": null,
       "align_items": null,
       "align_self": null,
       "border": null,
       "bottom": null,
       "display": null,
       "flex": null,
       "flex_flow": null,
       "grid_area": null,
       "grid_auto_columns": null,
       "grid_auto_flow": null,
       "grid_auto_rows": null,
       "grid_column": null,
       "grid_gap": null,
       "grid_row": null,
       "grid_template_areas": null,
       "grid_template_columns": null,
       "grid_template_rows": null,
       "height": null,
       "justify_content": null,
       "justify_items": null,
       "left": null,
       "margin": null,
       "max_height": null,
       "max_width": null,
       "min_height": null,
       "min_width": null,
       "object_fit": null,
       "object_position": null,
       "order": null,
       "overflow": null,
       "overflow_x": null,
       "overflow_y": null,
       "padding": null,
       "right": null,
       "top": null,
       "visibility": null,
       "width": null
      }
     },
     "681735e109d44c68bc7c5809ce2d976e": {
      "model_module": "@jupyter-widgets/base",
      "model_module_version": "1.2.0",
      "model_name": "LayoutModel",
      "state": {
       "_model_module": "@jupyter-widgets/base",
       "_model_module_version": "1.2.0",
       "_model_name": "LayoutModel",
       "_view_count": null,
       "_view_module": "@jupyter-widgets/base",
       "_view_module_version": "1.2.0",
       "_view_name": "LayoutView",
       "align_content": null,
       "align_items": null,
       "align_self": null,
       "border": null,
       "bottom": null,
       "display": null,
       "flex": null,
       "flex_flow": null,
       "grid_area": null,
       "grid_auto_columns": null,
       "grid_auto_flow": null,
       "grid_auto_rows": null,
       "grid_column": null,
       "grid_gap": null,
       "grid_row": null,
       "grid_template_areas": null,
       "grid_template_columns": null,
       "grid_template_rows": null,
       "height": null,
       "justify_content": null,
       "justify_items": null,
       "left": null,
       "margin": null,
       "max_height": null,
       "max_width": null,
       "min_height": null,
       "min_width": null,
       "object_fit": null,
       "object_position": null,
       "order": null,
       "overflow": null,
       "overflow_x": null,
       "overflow_y": null,
       "padding": null,
       "right": null,
       "top": null,
       "visibility": null,
       "width": null
      }
     },
     "6843ff08a84d459d842cabc73858c212": {
      "model_module": "@jupyter-widgets/controls",
      "model_module_version": "1.5.0",
      "model_name": "HBoxModel",
      "state": {
       "_dom_classes": [],
       "_model_module": "@jupyter-widgets/controls",
       "_model_module_version": "1.5.0",
       "_model_name": "HBoxModel",
       "_view_count": null,
       "_view_module": "@jupyter-widgets/controls",
       "_view_module_version": "1.5.0",
       "_view_name": "HBoxView",
       "box_style": "",
       "children": [
        "IPY_MODEL_8d35e8993a58438b98906c4248cffd0c",
        "IPY_MODEL_c52773ab82c14bdf9ab214362952a1ee",
        "IPY_MODEL_825c0dfdf88e4d678fbb94273d17ebb0"
       ],
       "layout": "IPY_MODEL_5f8805f9d8ff423d8ed30ce191cc74fa"
      }
     },
     "7da961df403c4d06994b59eea148d971": {
      "model_module": "@jupyter-widgets/controls",
      "model_module_version": "1.5.0",
      "model_name": "HTMLModel",
      "state": {
       "_dom_classes": [],
       "_model_module": "@jupyter-widgets/controls",
       "_model_module_version": "1.5.0",
       "_model_name": "HTMLModel",
       "_view_count": null,
       "_view_module": "@jupyter-widgets/controls",
       "_view_module_version": "1.5.0",
       "_view_name": "HTMLView",
       "description": "",
       "description_tooltip": null,
       "layout": "IPY_MODEL_5e92f14aa45a45a683886c960aaf22a0",
       "placeholder": "​",
       "style": "IPY_MODEL_f97c7eee4eee4e16a9372979be41ee70",
       "value": "Downloading: 100%"
      }
     },
     "801f750a5fd94552b3808c6465ffd524": {
      "model_module": "@jupyter-widgets/controls",
      "model_module_version": "1.5.0",
      "model_name": "HTMLModel",
      "state": {
       "_dom_classes": [],
       "_model_module": "@jupyter-widgets/controls",
       "_model_module_version": "1.5.0",
       "_model_name": "HTMLModel",
       "_view_count": null,
       "_view_module": "@jupyter-widgets/controls",
       "_view_module_version": "1.5.0",
       "_view_name": "HTMLView",
       "description": "",
       "description_tooltip": null,
       "layout": "IPY_MODEL_681735e109d44c68bc7c5809ce2d976e",
       "placeholder": "​",
       "style": "IPY_MODEL_5c48691ecf264030b383e899c482afd2",
       "value": " 87.0/87.0 [00:00&lt;00:00, 3.02kB/s]"
      }
     },
     "8190cce788d94be1b0d9719e713c2108": {
      "model_module": "@jupyter-widgets/controls",
      "model_module_version": "1.5.0",
      "model_name": "DescriptionStyleModel",
      "state": {
       "_model_module": "@jupyter-widgets/controls",
       "_model_module_version": "1.5.0",
       "_model_name": "DescriptionStyleModel",
       "_view_count": null,
       "_view_module": "@jupyter-widgets/base",
       "_view_module_version": "1.2.0",
       "_view_name": "StyleView",
       "description_width": ""
      }
     },
     "825c0dfdf88e4d678fbb94273d17ebb0": {
      "model_module": "@jupyter-widgets/controls",
      "model_module_version": "1.5.0",
      "model_name": "HTMLModel",
      "state": {
       "_dom_classes": [],
       "_model_module": "@jupyter-widgets/controls",
       "_model_module_version": "1.5.0",
       "_model_name": "HTMLModel",
       "_view_count": null,
       "_view_module": "@jupyter-widgets/controls",
       "_view_module_version": "1.5.0",
       "_view_name": "HTMLView",
       "description": "",
       "description_tooltip": null,
       "layout": "IPY_MODEL_900485c7a8364f73aab09bec7616e783",
       "placeholder": "​",
       "style": "IPY_MODEL_27a8918eb5bc4460a700563afc5f1723",
       "value": " 1.82M/1.82M [00:00&lt;00:00, 2.60MB/s]"
      }
     },
     "85ee89865f614fa690cf65f5d67247dd": {
      "model_module": "@jupyter-widgets/base",
      "model_module_version": "1.2.0",
      "model_name": "LayoutModel",
      "state": {
       "_model_module": "@jupyter-widgets/base",
       "_model_module_version": "1.2.0",
       "_model_name": "LayoutModel",
       "_view_count": null,
       "_view_module": "@jupyter-widgets/base",
       "_view_module_version": "1.2.0",
       "_view_name": "LayoutView",
       "align_content": null,
       "align_items": null,
       "align_self": null,
       "border": null,
       "bottom": null,
       "display": null,
       "flex": null,
       "flex_flow": null,
       "grid_area": null,
       "grid_auto_columns": null,
       "grid_auto_flow": null,
       "grid_auto_rows": null,
       "grid_column": null,
       "grid_gap": null,
       "grid_row": null,
       "grid_template_areas": null,
       "grid_template_columns": null,
       "grid_template_rows": null,
       "height": null,
       "justify_content": null,
       "justify_items": null,
       "left": null,
       "margin": null,
       "max_height": null,
       "max_width": null,
       "min_height": null,
       "min_width": null,
       "object_fit": null,
       "object_position": null,
       "order": null,
       "overflow": null,
       "overflow_x": null,
       "overflow_y": null,
       "padding": null,
       "right": null,
       "top": null,
       "visibility": null,
       "width": null
      }
     },
     "8d35e8993a58438b98906c4248cffd0c": {
      "model_module": "@jupyter-widgets/controls",
      "model_module_version": "1.5.0",
      "model_name": "HTMLModel",
      "state": {
       "_dom_classes": [],
       "_model_module": "@jupyter-widgets/controls",
       "_model_module_version": "1.5.0",
       "_model_name": "HTMLModel",
       "_view_count": null,
       "_view_module": "@jupyter-widgets/controls",
       "_view_module_version": "1.5.0",
       "_view_name": "HTMLView",
       "description": "",
       "description_tooltip": null,
       "layout": "IPY_MODEL_295f423ae8ef442cad9b48bb9bafe1d5",
       "placeholder": "​",
       "style": "IPY_MODEL_2bc8ce0996e94374a383ad8571716ab8",
       "value": "Downloading: 100%"
      }
     },
     "900485c7a8364f73aab09bec7616e783": {
      "model_module": "@jupyter-widgets/base",
      "model_module_version": "1.2.0",
      "model_name": "LayoutModel",
      "state": {
       "_model_module": "@jupyter-widgets/base",
       "_model_module_version": "1.2.0",
       "_model_name": "LayoutModel",
       "_view_count": null,
       "_view_module": "@jupyter-widgets/base",
       "_view_module_version": "1.2.0",
       "_view_name": "LayoutView",
       "align_content": null,
       "align_items": null,
       "align_self": null,
       "border": null,
       "bottom": null,
       "display": null,
       "flex": null,
       "flex_flow": null,
       "grid_area": null,
       "grid_auto_columns": null,
       "grid_auto_flow": null,
       "grid_auto_rows": null,
       "grid_column": null,
       "grid_gap": null,
       "grid_row": null,
       "grid_template_areas": null,
       "grid_template_columns": null,
       "grid_template_rows": null,
       "height": null,
       "justify_content": null,
       "justify_items": null,
       "left": null,
       "margin": null,
       "max_height": null,
       "max_width": null,
       "min_height": null,
       "min_width": null,
       "object_fit": null,
       "object_position": null,
       "order": null,
       "overflow": null,
       "overflow_x": null,
       "overflow_y": null,
       "padding": null,
       "right": null,
       "top": null,
       "visibility": null,
       "width": null
      }
     },
     "a1a3d2cc2bfa4f48bebd6faaee80d44c": {
      "model_module": "@jupyter-widgets/controls",
      "model_module_version": "1.5.0",
      "model_name": "FloatProgressModel",
      "state": {
       "_dom_classes": [],
       "_model_module": "@jupyter-widgets/controls",
       "_model_module_version": "1.5.0",
       "_model_name": "FloatProgressModel",
       "_view_count": null,
       "_view_module": "@jupyter-widgets/controls",
       "_view_module_version": "1.5.0",
       "_view_name": "ProgressView",
       "bar_style": "success",
       "description": "",
       "description_tooltip": null,
       "layout": "IPY_MODEL_04a9ff78ca40495c97e2ee1e5dc9dc08",
       "max": 65,
       "min": 0,
       "orientation": "horizontal",
       "style": "IPY_MODEL_f6d291e64e15455d9cb89da5296db687",
       "value": 65
      }
     },
     "adc61e4048244078a59bb5b128c7ed6a": {
      "model_module": "@jupyter-widgets/controls",
      "model_module_version": "1.5.0",
      "model_name": "ProgressStyleModel",
      "state": {
       "_model_module": "@jupyter-widgets/controls",
       "_model_module_version": "1.5.0",
       "_model_name": "ProgressStyleModel",
       "_view_count": null,
       "_view_module": "@jupyter-widgets/base",
       "_view_module_version": "1.2.0",
       "_view_name": "StyleView",
       "bar_color": null,
       "description_width": ""
      }
     },
     "ae4de26c8e4747ecbaf4c8a5d18a1290": {
      "model_module": "@jupyter-widgets/controls",
      "model_module_version": "1.5.0",
      "model_name": "HTMLModel",
      "state": {
       "_dom_classes": [],
       "_model_module": "@jupyter-widgets/controls",
       "_model_module_version": "1.5.0",
       "_model_name": "HTMLModel",
       "_view_count": null,
       "_view_module": "@jupyter-widgets/controls",
       "_view_module_version": "1.5.0",
       "_view_name": "HTMLView",
       "description": "",
       "description_tooltip": null,
       "layout": "IPY_MODEL_bf1fa1d0c9e74133b56247c812dae5d8",
       "placeholder": "​",
       "style": "IPY_MODEL_eb2bd645a85c4bc593cbc94638686ef5",
       "value": " 65.0/65.0 [00:00&lt;00:00, 2.59kB/s]"
      }
     },
     "afe5d978ee9f486b8a455cc0a08f33b8": {
      "model_module": "@jupyter-widgets/base",
      "model_module_version": "1.2.0",
      "model_name": "LayoutModel",
      "state": {
       "_model_module": "@jupyter-widgets/base",
       "_model_module_version": "1.2.0",
       "_model_name": "LayoutModel",
       "_view_count": null,
       "_view_module": "@jupyter-widgets/base",
       "_view_module_version": "1.2.0",
       "_view_name": "LayoutView",
       "align_content": null,
       "align_items": null,
       "align_self": null,
       "border": null,
       "bottom": null,
       "display": null,
       "flex": null,
       "flex_flow": null,
       "grid_area": null,
       "grid_auto_columns": null,
       "grid_auto_flow": null,
       "grid_auto_rows": null,
       "grid_column": null,
       "grid_gap": null,
       "grid_row": null,
       "grid_template_areas": null,
       "grid_template_columns": null,
       "grid_template_rows": null,
       "height": null,
       "justify_content": null,
       "justify_items": null,
       "left": null,
       "margin": null,
       "max_height": null,
       "max_width": null,
       "min_height": null,
       "min_width": null,
       "object_fit": null,
       "object_position": null,
       "order": null,
       "overflow": null,
       "overflow_x": null,
       "overflow_y": null,
       "padding": null,
       "right": null,
       "top": null,
       "visibility": null,
       "width": null
      }
     },
     "b1f7322313034cb3b4b7b526f6161f19": {
      "model_module": "@jupyter-widgets/controls",
      "model_module_version": "1.5.0",
      "model_name": "DescriptionStyleModel",
      "state": {
       "_model_module": "@jupyter-widgets/controls",
       "_model_module_version": "1.5.0",
       "_model_name": "DescriptionStyleModel",
       "_view_count": null,
       "_view_module": "@jupyter-widgets/base",
       "_view_module_version": "1.2.0",
       "_view_name": "StyleView",
       "description_width": ""
      }
     },
     "b64530b56e7d46e3a24bf51e3c0f9a53": {
      "model_module": "@jupyter-widgets/base",
      "model_module_version": "1.2.0",
      "model_name": "LayoutModel",
      "state": {
       "_model_module": "@jupyter-widgets/base",
       "_model_module_version": "1.2.0",
       "_model_name": "LayoutModel",
       "_view_count": null,
       "_view_module": "@jupyter-widgets/base",
       "_view_module_version": "1.2.0",
       "_view_name": "LayoutView",
       "align_content": null,
       "align_items": null,
       "align_self": null,
       "border": null,
       "bottom": null,
       "display": null,
       "flex": null,
       "flex_flow": null,
       "grid_area": null,
       "grid_auto_columns": null,
       "grid_auto_flow": null,
       "grid_auto_rows": null,
       "grid_column": null,
       "grid_gap": null,
       "grid_row": null,
       "grid_template_areas": null,
       "grid_template_columns": null,
       "grid_template_rows": null,
       "height": null,
       "justify_content": null,
       "justify_items": null,
       "left": null,
       "margin": null,
       "max_height": null,
       "max_width": null,
       "min_height": null,
       "min_width": null,
       "object_fit": null,
       "object_position": null,
       "order": null,
       "overflow": null,
       "overflow_x": null,
       "overflow_y": null,
       "padding": null,
       "right": null,
       "top": null,
       "visibility": null,
       "width": null
      }
     },
     "b7bfd5e2fb86433aac055b90f0da7d17": {
      "model_module": "@jupyter-widgets/controls",
      "model_module_version": "1.5.0",
      "model_name": "DescriptionStyleModel",
      "state": {
       "_model_module": "@jupyter-widgets/controls",
       "_model_module_version": "1.5.0",
       "_model_name": "DescriptionStyleModel",
       "_view_count": null,
       "_view_module": "@jupyter-widgets/base",
       "_view_module_version": "1.2.0",
       "_view_name": "StyleView",
       "description_width": ""
      }
     },
     "bd6afc186b0b42339b60167ad732881d": {
      "model_module": "@jupyter-widgets/base",
      "model_module_version": "1.2.0",
      "model_name": "LayoutModel",
      "state": {
       "_model_module": "@jupyter-widgets/base",
       "_model_module_version": "1.2.0",
       "_model_name": "LayoutModel",
       "_view_count": null,
       "_view_module": "@jupyter-widgets/base",
       "_view_module_version": "1.2.0",
       "_view_name": "LayoutView",
       "align_content": null,
       "align_items": null,
       "align_self": null,
       "border": null,
       "bottom": null,
       "display": null,
       "flex": null,
       "flex_flow": null,
       "grid_area": null,
       "grid_auto_columns": null,
       "grid_auto_flow": null,
       "grid_auto_rows": null,
       "grid_column": null,
       "grid_gap": null,
       "grid_row": null,
       "grid_template_areas": null,
       "grid_template_columns": null,
       "grid_template_rows": null,
       "height": null,
       "justify_content": null,
       "justify_items": null,
       "left": null,
       "margin": null,
       "max_height": null,
       "max_width": null,
       "min_height": null,
       "min_width": null,
       "object_fit": null,
       "object_position": null,
       "order": null,
       "overflow": null,
       "overflow_x": null,
       "overflow_y": null,
       "padding": null,
       "right": null,
       "top": null,
       "visibility": null,
       "width": null
      }
     },
     "bf1fa1d0c9e74133b56247c812dae5d8": {
      "model_module": "@jupyter-widgets/base",
      "model_module_version": "1.2.0",
      "model_name": "LayoutModel",
      "state": {
       "_model_module": "@jupyter-widgets/base",
       "_model_module_version": "1.2.0",
       "_model_name": "LayoutModel",
       "_view_count": null,
       "_view_module": "@jupyter-widgets/base",
       "_view_module_version": "1.2.0",
       "_view_name": "LayoutView",
       "align_content": null,
       "align_items": null,
       "align_self": null,
       "border": null,
       "bottom": null,
       "display": null,
       "flex": null,
       "flex_flow": null,
       "grid_area": null,
       "grid_auto_columns": null,
       "grid_auto_flow": null,
       "grid_auto_rows": null,
       "grid_column": null,
       "grid_gap": null,
       "grid_row": null,
       "grid_template_areas": null,
       "grid_template_columns": null,
       "grid_template_rows": null,
       "height": null,
       "justify_content": null,
       "justify_items": null,
       "left": null,
       "margin": null,
       "max_height": null,
       "max_width": null,
       "min_height": null,
       "min_width": null,
       "object_fit": null,
       "object_position": null,
       "order": null,
       "overflow": null,
       "overflow_x": null,
       "overflow_y": null,
       "padding": null,
       "right": null,
       "top": null,
       "visibility": null,
       "width": null
      }
     },
     "c24016d77e4b4877a627f258a7b1084f": {
      "model_module": "@jupyter-widgets/base",
      "model_module_version": "1.2.0",
      "model_name": "LayoutModel",
      "state": {
       "_model_module": "@jupyter-widgets/base",
       "_model_module_version": "1.2.0",
       "_model_name": "LayoutModel",
       "_view_count": null,
       "_view_module": "@jupyter-widgets/base",
       "_view_module_version": "1.2.0",
       "_view_name": "LayoutView",
       "align_content": null,
       "align_items": null,
       "align_self": null,
       "border": null,
       "bottom": null,
       "display": null,
       "flex": null,
       "flex_flow": null,
       "grid_area": null,
       "grid_auto_columns": null,
       "grid_auto_flow": null,
       "grid_auto_rows": null,
       "grid_column": null,
       "grid_gap": null,
       "grid_row": null,
       "grid_template_areas": null,
       "grid_template_columns": null,
       "grid_template_rows": null,
       "height": null,
       "justify_content": null,
       "justify_items": null,
       "left": null,
       "margin": null,
       "max_height": null,
       "max_width": null,
       "min_height": null,
       "min_width": null,
       "object_fit": null,
       "object_position": null,
       "order": null,
       "overflow": null,
       "overflow_x": null,
       "overflow_y": null,
       "padding": null,
       "right": null,
       "top": null,
       "visibility": null,
       "width": null
      }
     },
     "c52773ab82c14bdf9ab214362952a1ee": {
      "model_module": "@jupyter-widgets/controls",
      "model_module_version": "1.5.0",
      "model_name": "FloatProgressModel",
      "state": {
       "_dom_classes": [],
       "_model_module": "@jupyter-widgets/controls",
       "_model_module_version": "1.5.0",
       "_model_name": "FloatProgressModel",
       "_view_count": null,
       "_view_module": "@jupyter-widgets/controls",
       "_view_module_version": "1.5.0",
       "_view_name": "ProgressView",
       "bar_style": "success",
       "description": "",
       "description_tooltip": null,
       "layout": "IPY_MODEL_1a858413078c47c19b6c3e2fbb24b1bc",
       "max": 1912529,
       "min": 0,
       "orientation": "horizontal",
       "style": "IPY_MODEL_2c5372e590e6432ca65de861f6cb3490",
       "value": 1912529
      }
     },
     "cf9fbb52767a46959212cdf80fbaa0ec": {
      "model_module": "@jupyter-widgets/controls",
      "model_module_version": "1.5.0",
      "model_name": "FloatProgressModel",
      "state": {
       "_dom_classes": [],
       "_model_module": "@jupyter-widgets/controls",
       "_model_module_version": "1.5.0",
       "_model_name": "FloatProgressModel",
       "_view_count": null,
       "_view_module": "@jupyter-widgets/controls",
       "_view_module_version": "1.5.0",
       "_view_name": "ProgressView",
       "bar_style": "success",
       "description": "",
       "description_tooltip": null,
       "layout": "IPY_MODEL_ef09627b7b194f439fc96af8ed9cc85f",
       "max": 2275329241,
       "min": 0,
       "orientation": "horizontal",
       "style": "IPY_MODEL_1d104cca916046f99745a9bb25b0c911",
       "value": 2275329241
      }
     },
     "d073f6dbf8e844f3898f3ff79158be7f": {
      "model_module": "@jupyter-widgets/base",
      "model_module_version": "1.2.0",
      "model_name": "LayoutModel",
      "state": {
       "_model_module": "@jupyter-widgets/base",
       "_model_module_version": "1.2.0",
       "_model_name": "LayoutModel",
       "_view_count": null,
       "_view_module": "@jupyter-widgets/base",
       "_view_module_version": "1.2.0",
       "_view_name": "LayoutView",
       "align_content": null,
       "align_items": null,
       "align_self": null,
       "border": null,
       "bottom": null,
       "display": null,
       "flex": null,
       "flex_flow": null,
       "grid_area": null,
       "grid_auto_columns": null,
       "grid_auto_flow": null,
       "grid_auto_rows": null,
       "grid_column": null,
       "grid_gap": null,
       "grid_row": null,
       "grid_template_areas": null,
       "grid_template_columns": null,
       "grid_template_rows": null,
       "height": null,
       "justify_content": null,
       "justify_items": null,
       "left": null,
       "margin": null,
       "max_height": null,
       "max_width": null,
       "min_height": null,
       "min_width": null,
       "object_fit": null,
       "object_position": null,
       "order": null,
       "overflow": null,
       "overflow_x": null,
       "overflow_y": null,
       "padding": null,
       "right": null,
       "top": null,
       "visibility": null,
       "width": null
      }
     },
     "d6d7f391f4ba447d8f82227647540a4b": {
      "model_module": "@jupyter-widgets/base",
      "model_module_version": "1.2.0",
      "model_name": "LayoutModel",
      "state": {
       "_model_module": "@jupyter-widgets/base",
       "_model_module_version": "1.2.0",
       "_model_name": "LayoutModel",
       "_view_count": null,
       "_view_module": "@jupyter-widgets/base",
       "_view_module_version": "1.2.0",
       "_view_name": "LayoutView",
       "align_content": null,
       "align_items": null,
       "align_self": null,
       "border": null,
       "bottom": null,
       "display": null,
       "flex": null,
       "flex_flow": null,
       "grid_area": null,
       "grid_auto_columns": null,
       "grid_auto_flow": null,
       "grid_auto_rows": null,
       "grid_column": null,
       "grid_gap": null,
       "grid_row": null,
       "grid_template_areas": null,
       "grid_template_columns": null,
       "grid_template_rows": null,
       "height": null,
       "justify_content": null,
       "justify_items": null,
       "left": null,
       "margin": null,
       "max_height": null,
       "max_width": null,
       "min_height": null,
       "min_width": null,
       "object_fit": null,
       "object_position": null,
       "order": null,
       "overflow": null,
       "overflow_x": null,
       "overflow_y": null,
       "padding": null,
       "right": null,
       "top": null,
       "visibility": null,
       "width": null
      }
     },
     "e60e47c1ef8248cebe3f9b1beee8828e": {
      "model_module": "@jupyter-widgets/controls",
      "model_module_version": "1.5.0",
      "model_name": "DescriptionStyleModel",
      "state": {
       "_model_module": "@jupyter-widgets/controls",
       "_model_module_version": "1.5.0",
       "_model_name": "DescriptionStyleModel",
       "_view_count": null,
       "_view_module": "@jupyter-widgets/base",
       "_view_module_version": "1.2.0",
       "_view_name": "StyleView",
       "description_width": ""
      }
     },
     "eb2bd645a85c4bc593cbc94638686ef5": {
      "model_module": "@jupyter-widgets/controls",
      "model_module_version": "1.5.0",
      "model_name": "DescriptionStyleModel",
      "state": {
       "_model_module": "@jupyter-widgets/controls",
       "_model_module_version": "1.5.0",
       "_model_name": "DescriptionStyleModel",
       "_view_count": null,
       "_view_module": "@jupyter-widgets/base",
       "_view_module_version": "1.2.0",
       "_view_name": "StyleView",
       "description_width": ""
      }
     },
     "ecb7c12b23db492aadb7822dcd73a51a": {
      "model_module": "@jupyter-widgets/controls",
      "model_module_version": "1.5.0",
      "model_name": "HBoxModel",
      "state": {
       "_dom_classes": [],
       "_model_module": "@jupyter-widgets/controls",
       "_model_module_version": "1.5.0",
       "_model_name": "HBoxModel",
       "_view_count": null,
       "_view_module": "@jupyter-widgets/controls",
       "_view_module_version": "1.5.0",
       "_view_name": "HBoxView",
       "box_style": "",
       "children": [
        "IPY_MODEL_184cf4cc0e944eec9d16d4d99f3e4147",
        "IPY_MODEL_a1a3d2cc2bfa4f48bebd6faaee80d44c",
        "IPY_MODEL_ae4de26c8e4747ecbaf4c8a5d18a1290"
       ],
       "layout": "IPY_MODEL_d073f6dbf8e844f3898f3ff79158be7f"
      }
     },
     "ee570fb0600c4ca6b1c47d260b5a5fd1": {
      "model_module": "@jupyter-widgets/controls",
      "model_module_version": "1.5.0",
      "model_name": "HBoxModel",
      "state": {
       "_dom_classes": [],
       "_model_module": "@jupyter-widgets/controls",
       "_model_module_version": "1.5.0",
       "_model_name": "HBoxModel",
       "_view_count": null,
       "_view_module": "@jupyter-widgets/controls",
       "_view_module_version": "1.5.0",
       "_view_name": "HBoxView",
       "box_style": "",
       "children": [
        "IPY_MODEL_555216c133c74232ab78d93a67e27fa5",
        "IPY_MODEL_fb3dc17f89a144c0bddd712f8ab16599",
        "IPY_MODEL_801f750a5fd94552b3808c6465ffd524"
       ],
       "layout": "IPY_MODEL_3d10302a9bdf4e47a2c16427b4abc147"
      }
     },
     "ef09627b7b194f439fc96af8ed9cc85f": {
      "model_module": "@jupyter-widgets/base",
      "model_module_version": "1.2.0",
      "model_name": "LayoutModel",
      "state": {
       "_model_module": "@jupyter-widgets/base",
       "_model_module_version": "1.2.0",
       "_model_name": "LayoutModel",
       "_view_count": null,
       "_view_module": "@jupyter-widgets/base",
       "_view_module_version": "1.2.0",
       "_view_name": "LayoutView",
       "align_content": null,
       "align_items": null,
       "align_self": null,
       "border": null,
       "bottom": null,
       "display": null,
       "flex": null,
       "flex_flow": null,
       "grid_area": null,
       "grid_auto_columns": null,
       "grid_auto_flow": null,
       "grid_auto_rows": null,
       "grid_column": null,
       "grid_gap": null,
       "grid_row": null,
       "grid_template_areas": null,
       "grid_template_columns": null,
       "grid_template_rows": null,
       "height": null,
       "justify_content": null,
       "justify_items": null,
       "left": null,
       "margin": null,
       "max_height": null,
       "max_width": null,
       "min_height": null,
       "min_width": null,
       "object_fit": null,
       "object_position": null,
       "order": null,
       "overflow": null,
       "overflow_x": null,
       "overflow_y": null,
       "padding": null,
       "right": null,
       "top": null,
       "visibility": null,
       "width": null
      }
     },
     "efd6074887b94a08960e3d04596736b1": {
      "model_module": "@jupyter-widgets/base",
      "model_module_version": "1.2.0",
      "model_name": "LayoutModel",
      "state": {
       "_model_module": "@jupyter-widgets/base",
       "_model_module_version": "1.2.0",
       "_model_name": "LayoutModel",
       "_view_count": null,
       "_view_module": "@jupyter-widgets/base",
       "_view_module_version": "1.2.0",
       "_view_name": "LayoutView",
       "align_content": null,
       "align_items": null,
       "align_self": null,
       "border": null,
       "bottom": null,
       "display": null,
       "flex": null,
       "flex_flow": null,
       "grid_area": null,
       "grid_auto_columns": null,
       "grid_auto_flow": null,
       "grid_auto_rows": null,
       "grid_column": null,
       "grid_gap": null,
       "grid_row": null,
       "grid_template_areas": null,
       "grid_template_columns": null,
       "grid_template_rows": null,
       "height": null,
       "justify_content": null,
       "justify_items": null,
       "left": null,
       "margin": null,
       "max_height": null,
       "max_width": null,
       "min_height": null,
       "min_width": null,
       "object_fit": null,
       "object_position": null,
       "order": null,
       "overflow": null,
       "overflow_x": null,
       "overflow_y": null,
       "padding": null,
       "right": null,
       "top": null,
       "visibility": null,
       "width": null
      }
     },
     "f6d291e64e15455d9cb89da5296db687": {
      "model_module": "@jupyter-widgets/controls",
      "model_module_version": "1.5.0",
      "model_name": "ProgressStyleModel",
      "state": {
       "_model_module": "@jupyter-widgets/controls",
       "_model_module_version": "1.5.0",
       "_model_name": "ProgressStyleModel",
       "_view_count": null,
       "_view_module": "@jupyter-widgets/base",
       "_view_module_version": "1.2.0",
       "_view_name": "StyleView",
       "bar_color": null,
       "description_width": ""
      }
     },
     "f97c7eee4eee4e16a9372979be41ee70": {
      "model_module": "@jupyter-widgets/controls",
      "model_module_version": "1.5.0",
      "model_name": "DescriptionStyleModel",
      "state": {
       "_model_module": "@jupyter-widgets/controls",
       "_model_module_version": "1.5.0",
       "_model_name": "DescriptionStyleModel",
       "_view_count": null,
       "_view_module": "@jupyter-widgets/base",
       "_view_module_version": "1.2.0",
       "_view_name": "StyleView",
       "description_width": ""
      }
     },
     "fb3dc17f89a144c0bddd712f8ab16599": {
      "model_module": "@jupyter-widgets/controls",
      "model_module_version": "1.5.0",
      "model_name": "FloatProgressModel",
      "state": {
       "_dom_classes": [],
       "_model_module": "@jupyter-widgets/controls",
       "_model_module_version": "1.5.0",
       "_model_name": "FloatProgressModel",
       "_view_count": null,
       "_view_module": "@jupyter-widgets/controls",
       "_view_module_version": "1.5.0",
       "_view_name": "ProgressView",
       "bar_style": "success",
       "description": "",
       "description_tooltip": null,
       "layout": "IPY_MODEL_efd6074887b94a08960e3d04596736b1",
       "max": 87,
       "min": 0,
       "orientation": "horizontal",
       "style": "IPY_MODEL_adc61e4048244078a59bb5b128c7ed6a",
       "value": 87
      }
     }
    },
    "version_major": 2,
    "version_minor": 0
   }
  }
 },
 "nbformat": 4,
 "nbformat_minor": 5
}
